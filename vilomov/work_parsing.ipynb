{
 "cells": [
  {
   "cell_type": "code",
   "execution_count": 12,
   "outputs": [],
   "source": [
    "# загружаем необходимые модули и библиотеки\n",
    "import requests\n",
    "import pandas as pd\n",
    "from bs4 import BeautifulSoup\n",
    "\n",
    "#проверяем доступность сайта\n",
    "link = 'https://odds.ru/football/match/borussia-dortmund-vs-1-fsv-mainz-05/251-481/'\n",
    "filename = link.split('/')[5]\n",
    "website_url = requests.get(link).text\n",
    "if requests.get(link).status_code == 200:\n",
    "    file_maker()\n",
    "else:\n",
    "    break"
   ],
   "metadata": {
    "collapsed": false,
    "pycharm": {
     "name": "#%%\n"
    }
   }
  },
  {
   "cell_type": "code",
   "execution_count": 10,
   "outputs": [],
   "source": [
    "def file_maker():\n",
    "    soup = BeautifulSoup(website_url, 'lxml')\n",
    "    match = soup.find_all('div', class_='rlRGoA7qYO3NXvmrc4tr')\n",
    "    ratio = []\n",
    "    bookmaker = []\n",
    "\n",
    "    # датафреймы с коэффициентами и сайтом букмекера\n",
    "    for item in match:\n",
    "        ratio.append([text for text in item.stripped_strings])\n",
    "    df_ratio = pd. DataFrame(ratio)\n",
    "\n",
    "    for item in match:\n",
    "        bookmaker.append({0 : item.find('div').find_next(target = '_blank').get('href')})\n",
    "    df_bookmaker = pd. DataFrame(bookmaker)\n",
    "\n",
    "    # создаем результирующий датафрейм\n",
    "    df_result = pd.concat([df_bookmaker[0].str.split(\"/\").str[5], df_ratio[[1,2,3]]], axis=1, join='inner')\n",
    "    df_result.columns =['bookmaker', 'p1', 'x', 'p2']\n",
    "    # Создаем файл с результатом работы программы\n",
    "    df_result.to_csv(filename+'.csv')"
   ],
   "metadata": {
    "collapsed": false,
    "pycharm": {
     "name": "#%%\n"
    }
   }
  }
 ],
 "metadata": {
  "kernelspec": {
   "display_name": "Python 3 (ipykernel)",
   "language": "python",
   "name": "python3"
  },
  "language_info": {
   "codemirror_mode": {
    "name": "ipython",
    "version": 3
   },
   "file_extension": ".py",
   "mimetype": "text/x-python",
   "name": "python",
   "nbconvert_exporter": "python",
   "pygments_lexer": "ipython3",
   "version": "3.9.12"
  }
 },
 "nbformat": 4,
 "nbformat_minor": 5
}