{
 "cells": [
  {
   "cell_type": "code",
   "execution_count": 1,
   "outputs": [
    {
     "name": "stdout",
     "output_type": "stream",
     "text": [
      "200\n"
     ]
    }
   ],
   "source": [
    "# загружаем необходимые модули и библиотеки\n",
    "import requests\n",
    "import pandas as pd\n",
    "from bs4 import BeautifulSoup\n",
    "\n",
    "#проверяем доступность сайта\n",
    "link = 'https://dzen.ru/news/rubric/sport'\n",
    "website_url = requests.get(link).text\n",
    "print(requests.get(link).status_code)"
   ],
   "metadata": {
    "collapsed": false,
    "pycharm": {
     "name": "#%%\n"
    }
   }
  },
  {
   "cell_type": "code",
   "execution_count": null,
   "outputs": [],
   "source": [
    "soup = BeautifulSoup(website_url, 'lxml')\n",
    "match = soup.find_all('div', class_='rlRGoA7qYO3NXvmrc4tr')"
   ],
   "metadata": {
    "collapsed": false,
    "pycharm": {
     "name": "#%%\n"
    }
   }
  },
  {
   "cell_type": "code",
   "execution_count": 39,
   "outputs": [
    {
     "name": "stdout",
     "output_type": "stream",
     "text": [
      "      bookmaker    p1     x    p2\n",
      "0        fonbet  2.80  3.80  2.30\n",
      "1   tennisi-bet  3.08  3.60  2.27\n",
      "2      1xstavka  3.06  3.80  2.29\n",
      "3         olimp  3.04  3.69  2.30\n",
      "4       betcity  3.10  3.70  2.26\n",
      "5          leon  2.97  3.72  2.25\n",
      "6   marathonbet  2.98  3.72  2.23\n",
      "7        melbet  2.98  3.70  2.23\n",
      "8       winline  3.00  3.65  2.29\n",
      "9    ligastavok  3.00  3.60  2.33\n",
      "10      paribet  2.95  3.80  2.30\n",
      "11     pinnacle  3.13  3.75  2.29\n"
     ]
    }
   ],
   "source": [
    "soup = BeautifulSoup(website_url, 'lxml')\n",
    "match = soup.find_all('div', class_='rlRGoA7qYO3NXvmrc4tr')\n",
    "ratio = []\n",
    "bookmaker = []\n",
    "\n",
    "# если есть датафрейм с коэффициентами\n",
    "for item in match:\n",
    "    ratio.append([text for text in item.stripped_strings])\n",
    "df_ratio = pd.DataFrame(ratio)\n",
    "if df_ratio.shape[1] == 4:\n",
    "    # то создаем датафрейм с\n",
    "    for item in match:\n",
    "        bookmaker.append({0 : item.find('div').find_next(target = '_blank').get('href')})\n",
    "    df_bookmaker = pd.DataFrame(bookmaker)\n",
    "\n",
    "    # создаем результирующий датафрейм\n",
    "    df_result = pd.concat([df_bookmaker[0].str.split(\"/\").str[5], df_ratio[[1,2,3]]], axis=1, join='inner')\n",
    "    df_result.columns =['bookmaker', 'p1', 'x', 'p2']\n",
    "    # Создаем файл с результатом работы программы\n",
    "    print(df_result)"
   ],
   "metadata": {
    "collapsed": false,
    "pycharm": {
     "name": "#%%\n"
    }
   }
  },
  {
   "cell_type": "code",
   "execution_count": 28,
   "outputs": [
    {
     "name": "stdout",
     "output_type": "stream",
     "text": [
      "60\n",
      "54\n",
      "59\n",
      "52\n",
      "57\n",
      "49\n",
      "49\n",
      "63\n",
      "54\n",
      "58\n",
      "57\n",
      "49\n",
      "60\n",
      "62\n",
      "78\n",
      "63\n",
      "70\n",
      "63\n",
      "60\n",
      "73\n",
      "59\n",
      "55\n",
      "67\n",
      "49\n",
      "49\n",
      "51\n",
      "55\n",
      "64\n",
      "55\n",
      "64\n",
      "54\n",
      "51\n",
      "61\n",
      "59\n",
      "82\n",
      "63\n",
      "68\n",
      "62\n",
      "61\n",
      "61\n",
      "67\n",
      "67\n",
      "68\n",
      "63\n",
      "68\n",
      "50\n",
      "57\n",
      "57\n",
      "60\n",
      "65\n",
      "63\n",
      "60\n",
      "52\n",
      "54\n",
      "55\n",
      "55\n",
      "56\n",
      "58\n",
      "61\n",
      "62\n",
      "63\n",
      "55\n",
      "61\n",
      "60\n",
      "57\n",
      "52\n",
      "49\n",
      "62\n",
      "63\n",
      "43\n",
      "44\n",
      "52\n",
      "91\n",
      "66\n",
      "58\n",
      "59\n",
      "59\n",
      "65\n",
      "57\n",
      "58\n"
     ]
    }
   ],
   "source": [
    "for row in df_football_site[0]:\n",
    "    print (len(row))"
   ],
   "metadata": {
    "collapsed": false,
    "pycharm": {
     "name": "#%%\n"
    }
   }
  },
  {
   "cell_type": "code",
   "execution_count": null,
   "outputs": [],
   "source": [],
   "metadata": {
    "collapsed": false,
    "pycharm": {
     "name": "#%%\n"
    }
   }
  }
 ],
 "metadata": {
  "kernelspec": {
   "display_name": "Python 3 (ipykernel)",
   "language": "python",
   "name": "python3"
  },
  "language_info": {
   "codemirror_mode": {
    "name": "ipython",
    "version": 3
   },
   "file_extension": ".py",
   "mimetype": "text/x-python",
   "name": "python",
   "nbconvert_exporter": "python",
   "pygments_lexer": "ipython3",
   "version": "3.9.12"
  }
 },
 "nbformat": 4,
 "nbformat_minor": 5
}