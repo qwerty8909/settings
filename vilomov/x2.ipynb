{
 "cells": [
  {
   "cell_type": "code",
   "execution_count": 2,
   "outputs": [
    {
     "data": {
      "text/plain": "                                                    link  \\\n0      https://www.championat.com/bets/news-5013547-k...   \n1      https://www.championat.com/bets/news-5013531-t...   \n2      https://www.championat.com/bets/news-5013565-k...   \n3      https://www.championat.com/bets/news-5013521-k...   \n4      https://www.championat.com/bets/news-5013517-y...   \n...                                                  ...   \n10335  https://bookmaker-ratings.ru/tips/avangard-sib...   \n10336  https://bookmaker-ratings.ru/tips/avtomobilist...   \n10340  https://bookmaker-ratings.ru/tips/tsska-severs...   \n10341  https://bookmaker-ratings.ru/tips/torpedo-dina...   \n10351  https://bookmaker-ratings.ru/tips/fiorentina-m...   \n\n                                                    text  \n0      «Краснодар» – ЦСКА: прогноз Егора Титова на вс...  \n1      «Тампа-Бэй» — «Флорида»: прогноз Павла Лысенко...  \n2      «Краснодар» – ЦСКА: смотреть онлайн матч Кубка...  \n3      «Краснодар» – ЦСКА: прогноз Павла Погребняка н...  \n4      «Ювентус» — «Торино»: ставка Александра Мостов...  \n...                                                  ...  \n10335  Авангард - Сибирь (2-й матч): прогноз и ставка...  \n10336  Автомобилист - Металлург (2-й матч): прогноз и...  \n10340  ЦСКА – Северсталь (2-й матч): прогноз и ставка...  \n10341  Торпедо - Динамо Москва (2-й матч): прогноз и ...  \n10351  Фиорентина - Милан: прогноз и ставка Алексея Г...  \n\n[2386 rows x 2 columns]",
      "text/html": "<div>\n<style scoped>\n    .dataframe tbody tr th:only-of-type {\n        vertical-align: middle;\n    }\n\n    .dataframe tbody tr th {\n        vertical-align: top;\n    }\n\n    .dataframe thead th {\n        text-align: right;\n    }\n</style>\n<table border=\"1\" class=\"dataframe\">\n  <thead>\n    <tr style=\"text-align: right;\">\n      <th></th>\n      <th>link</th>\n      <th>text</th>\n    </tr>\n  </thead>\n  <tbody>\n    <tr>\n      <th>0</th>\n      <td>https://www.championat.com/bets/news-5013547-k...</td>\n      <td>«Краснодар» – ЦСКА: прогноз Егора Титова на вс...</td>\n    </tr>\n    <tr>\n      <th>1</th>\n      <td>https://www.championat.com/bets/news-5013531-t...</td>\n      <td>«Тампа-Бэй» — «Флорида»: прогноз Павла Лысенко...</td>\n    </tr>\n    <tr>\n      <th>2</th>\n      <td>https://www.championat.com/bets/news-5013565-k...</td>\n      <td>«Краснодар» – ЦСКА: смотреть онлайн матч Кубка...</td>\n    </tr>\n    <tr>\n      <th>3</th>\n      <td>https://www.championat.com/bets/news-5013521-k...</td>\n      <td>«Краснодар» – ЦСКА: прогноз Павла Погребняка н...</td>\n    </tr>\n    <tr>\n      <th>4</th>\n      <td>https://www.championat.com/bets/news-5013517-y...</td>\n      <td>«Ювентус» — «Торино»: ставка Александра Мостов...</td>\n    </tr>\n    <tr>\n      <th>...</th>\n      <td>...</td>\n      <td>...</td>\n    </tr>\n    <tr>\n      <th>10335</th>\n      <td>https://bookmaker-ratings.ru/tips/avangard-sib...</td>\n      <td>Авангард - Сибирь (2-й матч): прогноз и ставка...</td>\n    </tr>\n    <tr>\n      <th>10336</th>\n      <td>https://bookmaker-ratings.ru/tips/avtomobilist...</td>\n      <td>Автомобилист - Металлург (2-й матч): прогноз и...</td>\n    </tr>\n    <tr>\n      <th>10340</th>\n      <td>https://bookmaker-ratings.ru/tips/tsska-severs...</td>\n      <td>ЦСКА – Северсталь (2-й матч): прогноз и ставка...</td>\n    </tr>\n    <tr>\n      <th>10341</th>\n      <td>https://bookmaker-ratings.ru/tips/torpedo-dina...</td>\n      <td>Торпедо - Динамо Москва (2-й матч): прогноз и ...</td>\n    </tr>\n    <tr>\n      <th>10351</th>\n      <td>https://bookmaker-ratings.ru/tips/fiorentina-m...</td>\n      <td>Фиорентина - Милан: прогноз и ставка Алексея Г...</td>\n    </tr>\n  </tbody>\n</table>\n<p>2386 rows × 2 columns</p>\n</div>"
     },
     "execution_count": 2,
     "metadata": {},
     "output_type": "execute_result"
    }
   ],
   "source": [
    "import pandas as pd\n",
    "import os\n",
    "import glob\n",
    "\n",
    "path = r\"C:\\Users\\vitalii\\IdeaProjects\\settings\\parser\\test\\data\"  #os.getcwd()\n",
    "csv_files = glob.glob(os.path.join(path, \"*.csv\"))\n",
    "df1 = pd.DataFrame()\n",
    "df2 = pd.DataFrame()\n",
    "for f in csv_files:\n",
    "    df = pd.read_csv(f, sep=';')\n",
    "    df1 = pd.concat([df1, df], ignore_index=True)\n",
    "df1.drop_duplicates(inplace = True)\n",
    "df1"
   ],
   "metadata": {
    "collapsed": false,
    "pycharm": {
     "name": "#%%\n"
    }
   }
  },
  {
   "cell_type": "code",
   "execution_count": 168,
   "outputs": [
    {
     "data": {
      "text/plain": "                                                   link  \\\n0     https://www.championat.com/bets/news-5013575-p...   \n2     https://www.championat.com/bets/news-5013157-k...   \n99    https://www.liveresult.ru/tips/football/Russia...   \n100   https://www.liveresult.ru/tips/football/Russia...   \n101   https://www.liveresult.ru/tips/football/Russia...   \n2352  https://www.liveresult.ru/tips/football/Russia...   \n163   https://stavkiprognozy.ru/prognozy/football/ku...   \n731   https://bookmaker-ratings.ru/tips/krasnodar-ts...   \n732   https://bookmaker-ratings.ru/tips/krasnodar-ts...   \n399   https://metaratings.ru/prognozy/futbol/krasnod...   \n666   https://www.sports.ru/football/1114936897-kras...   \n679   https://www.sports.ru/football/1114934043-fonb...   \n709                    https://soccer365.ru/news/16815/   \n730   https://bookmaker-ratings.ru/tips/krasnodar-ts...   \n733   https://bookmaker-ratings.ru/tips/krasnodar-ts...   \n734   https://bookmaker-ratings.ru/tips/krasnodar-ts...   \n2257  https://www.championat.com/bets/news-5013495-k...   \n2259  https://www.championat.com/bets/news-5013487-k...   \n2941  https://www.sports.ru/football/1114937551-cher...   \n\n                                                   text  \n0     прогноз на матч кубка россии «краснодар» — цск...  \n2     «краснодар» — цска: прогноз константина генича...  \n99                              краснодар - цска москва  \n100                             краснодар - цска москва  \n101                             краснодар - цска москва  \n2352                            краснодар - цска москва  \n163                                    краснодар - цска  \n731   краснодар - цска: прогноз и ставка павла погре...  \n732   краснодар - цска: прогноз и ставка олеси серег...  \n399   прогноз на матч краснодар – цска. краснодарцам...  \n666   «краснодар» – цска. онлайн-трансляция начнется...  \n679   фонбет кубок россии. 1/4 финала. путь рпл. цск...  \n709                            краснодар — цска: превью  \n730   краснодар – цска: прогноз и ставка константина...  \n733     краснодар – цска: прогноз и ставка егора титова  \n734   краснодар – цска: прогноз и ставка. забьют обе...  \n2257  «краснодар» — цска: прогноз алексея андронова ...  \n2259  «краснодар» — цска: прогноз олеси серёгиной на...  \n2941  черников о матче с цска: «у «краснодара» есть ...  ",
      "text/html": "<div>\n<style scoped>\n    .dataframe tbody tr th:only-of-type {\n        vertical-align: middle;\n    }\n\n    .dataframe tbody tr th {\n        vertical-align: top;\n    }\n\n    .dataframe thead th {\n        text-align: right;\n    }\n</style>\n<table border=\"1\" class=\"dataframe\">\n  <thead>\n    <tr style=\"text-align: right;\">\n      <th></th>\n      <th>link</th>\n      <th>text</th>\n    </tr>\n  </thead>\n  <tbody>\n    <tr>\n      <th>0</th>\n      <td>https://www.championat.com/bets/news-5013575-p...</td>\n      <td>прогноз на матч кубка россии «краснодар» — цск...</td>\n    </tr>\n    <tr>\n      <th>2</th>\n      <td>https://www.championat.com/bets/news-5013157-k...</td>\n      <td>«краснодар» — цска: прогноз константина генича...</td>\n    </tr>\n    <tr>\n      <th>99</th>\n      <td>https://www.liveresult.ru/tips/football/Russia...</td>\n      <td>краснодар - цска москва</td>\n    </tr>\n    <tr>\n      <th>100</th>\n      <td>https://www.liveresult.ru/tips/football/Russia...</td>\n      <td>краснодар - цска москва</td>\n    </tr>\n    <tr>\n      <th>101</th>\n      <td>https://www.liveresult.ru/tips/football/Russia...</td>\n      <td>краснодар - цска москва</td>\n    </tr>\n    <tr>\n      <th>2352</th>\n      <td>https://www.liveresult.ru/tips/football/Russia...</td>\n      <td>краснодар - цска москва</td>\n    </tr>\n    <tr>\n      <th>163</th>\n      <td>https://stavkiprognozy.ru/prognozy/football/ku...</td>\n      <td>краснодар - цска</td>\n    </tr>\n    <tr>\n      <th>731</th>\n      <td>https://bookmaker-ratings.ru/tips/krasnodar-ts...</td>\n      <td>краснодар - цска: прогноз и ставка павла погре...</td>\n    </tr>\n    <tr>\n      <th>732</th>\n      <td>https://bookmaker-ratings.ru/tips/krasnodar-ts...</td>\n      <td>краснодар - цска: прогноз и ставка олеси серег...</td>\n    </tr>\n    <tr>\n      <th>399</th>\n      <td>https://metaratings.ru/prognozy/futbol/krasnod...</td>\n      <td>прогноз на матч краснодар – цска. краснодарцам...</td>\n    </tr>\n    <tr>\n      <th>666</th>\n      <td>https://www.sports.ru/football/1114936897-kras...</td>\n      <td>«краснодар» – цска. онлайн-трансляция начнется...</td>\n    </tr>\n    <tr>\n      <th>679</th>\n      <td>https://www.sports.ru/football/1114934043-fonb...</td>\n      <td>фонбет кубок россии. 1/4 финала. путь рпл. цск...</td>\n    </tr>\n    <tr>\n      <th>709</th>\n      <td>https://soccer365.ru/news/16815/</td>\n      <td>краснодар — цска: превью</td>\n    </tr>\n    <tr>\n      <th>730</th>\n      <td>https://bookmaker-ratings.ru/tips/krasnodar-ts...</td>\n      <td>краснодар – цска: прогноз и ставка константина...</td>\n    </tr>\n    <tr>\n      <th>733</th>\n      <td>https://bookmaker-ratings.ru/tips/krasnodar-ts...</td>\n      <td>краснодар – цска: прогноз и ставка егора титова</td>\n    </tr>\n    <tr>\n      <th>734</th>\n      <td>https://bookmaker-ratings.ru/tips/krasnodar-ts...</td>\n      <td>краснодар – цска: прогноз и ставка. забьют обе...</td>\n    </tr>\n    <tr>\n      <th>2257</th>\n      <td>https://www.championat.com/bets/news-5013495-k...</td>\n      <td>«краснодар» — цска: прогноз алексея андронова ...</td>\n    </tr>\n    <tr>\n      <th>2259</th>\n      <td>https://www.championat.com/bets/news-5013487-k...</td>\n      <td>«краснодар» — цска: прогноз олеси серёгиной на...</td>\n    </tr>\n    <tr>\n      <th>2941</th>\n      <td>https://www.sports.ru/football/1114937551-cher...</td>\n      <td>черников о матче с цска: «у «краснодара» есть ...</td>\n    </tr>\n  </tbody>\n</table>\n</div>"
     },
     "execution_count": 168,
     "metadata": {},
     "output_type": "execute_result"
    }
   ],
   "source": [
    "df2 = pd.DataFrame()\n",
    "key_words = ['краснодар', 'цска']\n",
    "key_words = [item.lower() for item in key_words]\n",
    "df1.text = [item.lower() for item in df1.text]\n",
    "for line in df1.text:\n",
    "    if all(word in line for word in key_words):\n",
    "        df0 = df1[df1.text.str.contains(line)]\n",
    "        df2 = pd.concat([df2, df0], axis=0).drop_duplicates()\n",
    "df2"
   ],
   "metadata": {
    "collapsed": false,
    "pycharm": {
     "name": "#%%\n"
    }
   }
  },
  {
   "cell_type": "code",
   "execution_count": null,
   "outputs": [],
   "source": [
    "\n",
    "df1 = pd.read_csv(r\"C:\\Users\\vitalii\\IdeaProjects\\settings\\parser\\test\\data\\1677573942.csv\", sep=';')\n",
    "df2 = pd.read_csv(r\"C:\\Users\\vitalii\\IdeaProjects\\settings\\parser\\test\\data\\1677574063.csv\", sep=';')\n"
   ],
   "metadata": {
    "collapsed": false,
    "pycharm": {
     "name": "#%%\n"
    }
   }
  },
  {
   "cell_type": "code",
   "execution_count": null,
   "outputs": [],
   "source": [
    "df_base = pd.concat([df1, df2], ignore_index=True)\n",
    "df_base"
   ],
   "metadata": {
    "collapsed": false,
    "pycharm": {
     "name": "#%%\n"
    }
   }
  },
  {
   "cell_type": "code",
   "execution_count": null,
   "outputs": [],
   "source": [
    "df_base.drop_duplicates(inplace = True)"
   ],
   "metadata": {
    "collapsed": false,
    "pycharm": {
     "name": "#%%\n"
    }
   }
  },
  {
   "cell_type": "code",
   "execution_count": null,
   "outputs": [],
   "source": [
    "df_base"
   ],
   "metadata": {
    "collapsed": false,
    "pycharm": {
     "name": "#%%\n"
    }
   }
  },
  {
   "cell_type": "code",
   "execution_count": 3,
   "outputs": [
    {
     "data": {
      "text/plain": "10"
     },
     "execution_count": 3,
     "metadata": {},
     "output_type": "execute_result"
    }
   ],
   "source": [
    "x = 0\n",
    "while x < 10:\n",
    "    x = x + 1\n",
    "x"
   ],
   "metadata": {
    "collapsed": false,
    "pycharm": {
     "name": "#%%\n"
    }
   }
  },
  {
   "cell_type": "code",
   "execution_count": 8,
   "outputs": [
    {
     "data": {
      "text/plain": "[[2, 2], [2, 2], [2, 2]]"
     },
     "execution_count": 8,
     "metadata": {},
     "output_type": "execute_result"
    }
   ],
   "source": [
    "def button_5:\n",
    "    output = user_input - 10"
   ],
   "metadata": {
    "collapsed": false,
    "pycharm": {
     "name": "#%%\n"
    }
   }
  },
  {
   "cell_type": "code",
   "execution_count": null,
   "outputs": [],
   "source": [],
   "metadata": {
    "collapsed": false,
    "pycharm": {
     "name": "#%%\n"
    }
   }
  }
 ],
 "metadata": {
  "kernelspec": {
   "display_name": "Python 3 (ipykernel)",
   "language": "python",
   "name": "python3"
  },
  "language_info": {
   "codemirror_mode": {
    "name": "ipython",
    "version": 3
   },
   "file_extension": ".py",
   "mimetype": "text/x-python",
   "name": "python",
   "nbconvert_exporter": "python",
   "pygments_lexer": "ipython3",
   "version": "3.9.12"
  }
 },
 "nbformat": 4,
 "nbformat_minor": 5
}