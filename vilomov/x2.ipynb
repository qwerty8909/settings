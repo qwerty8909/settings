{
 "cells": [
  {
   "cell_type": "code",
   "execution_count": 85,
   "id": "f3567941",
   "metadata": {
    "pycharm": {
     "name": "#%%\n"
    }
   },
   "outputs": [
    {
     "name": "stdout",
     "output_type": "stream",
     "text": [
      "Today on Sky Sports Racing: Paul Nicholls hoping expensive purchase Pleasant Man can get off the mark at Hereford. Pleasant Man takes on two Milton Harris juveniles in the feature handicap hurdle (3.00) at Hereford on Wednesday; Last-time winners Rooster Cogburn and Family Pot meet in a competitive contest (4.10); watch every race live on Sky Sports Racing. Hereford is the place to be on Wednesday for Sky Sports Racing viewers with champion trainer Paul Nicholls sending one with a good chance in the feature contest. The feature Hereford Motor Group Handicap Hurdle (3.00) looks like a cracker, although Nicholls will hope he has found a good opportunity to get Pleasant Man a first victory over hurdles. Previously a winner of some valuable handicaps on the flat for Roger Charlton, connections went to 175,000 gns to purchase him, but things have taken a little while to click over obstacles. Having finished as runner-up at Exeter at the start of the month, he again found just one too good at Taunton six days later and is now given a third start in 15 days, with Freddie Gingell back in the saddle. Milton Harris sends two members of his impressive juvenile squad here, the leading chance appearing to come from Newcastle winner Cabrakan, as stablemate Highland Frolic has to bounce back from a poor run at Wetherby last time. Ben Case's Bashers Reflection followed up a first career victory at Warwick on New Year's Eve with a good effort at Fakenham 13 days ago. The Jackson Property Novices' Handicap Chase (2.30) looks a wide-open affair on paper with Dynamite Kentucky topping a field of eight for Dr Richard Newland and Sean Bowen. He is yet to win in three starts over fences but has dropped in class for this and brings a decent standard of form from his days over hurdles. Lightonthewing was less prolific over hurdles yet made a winning start when sent chasing at the start of the year before being far from disgraced in third last time at Ffos Las. Born At Midnight struggled in better company at Fontwell on Boxing Day but put in a far better effort at Huntingdon last month and a repeat of that would put him in the mix. The Black Mountain Botanicals Handicap Chase (4.10) may have only attracted a field of six but it features an intriguing battle between last-time winners Rooster Cogburn and Family Pot. The former, now a 10-year-old, bounced back to form when winning comfortably over two miles here 10 days ago and Sean Bowen rides for his father, Peter. A winner on the same card last time, eight-year-old Family Pot could carry on improving for Sheila Lewis as he steps down in distance. Wavecrest has just one win to his name from 15 career starts, but that did come at this track back in November 2021, and he is interesting, returning from a lengthy absence (206 days) and on stable debut for Evan Williams. \n"
     ]
    }
   ],
   "source": [
    "import requests\n",
    "from bs4 import BeautifulSoup\n",
    "\n",
    "url = \"https://www.skysports.com/racing/news/12426/12810787/today-on-sky-sports-racing-paul-nicholls-hoping-expensive-purchase-pleasant-man-can-get-off-the-mark-at-hereford\"\n",
    "\n",
    "# Make a GET request to the URL\n",
    "response = requests.get(url)\n",
    "\n",
    "# Parse the HTML content using BeautifulSoup\n",
    "soup = BeautifulSoup(response.content, \"html.parser\")\n",
    "\n",
    "# Extract the title of the article\n",
    "title = soup.find(\"h1\", class_=\"sdc-article-header__title sdc-site-component-header--h1\").text.strip() + \". \"\n",
    "sub_title = soup.find(\"p\", class_=\"sdc-article-header__sub-title sdc-site-component-header--h2\").text.strip() + \". \"\n",
    "\n",
    "# Extract the text of the article\n",
    "article_text = \"\"\n",
    "article_body = soup.find(\"div\", class_=\"sdc-article-body sdc-article-body--lead\")\n",
    "\n",
    "# Check the last p tags for the presence of a tags\n",
    "for p in article_body.find_all(\"p\")[-3:]:\n",
    "    if p.find(\"a\"):\n",
    "        p.extract()\n",
    "\n",
    "# Concatenate the text content of the remaining p tags\n",
    "for p in article_body.find_all(\"p\"):\n",
    "    classes = p.get(\"class\", [])\n",
    "    if \"article__header-date-time\" not in classes and \"sdc-site-video__accessibility-message\" not in classes and \"sdc-article-strapline__text\" not in classes and \"sdc-article-related-stories__link-text\" not in classes:\n",
    "        article_text += p.text.strip() + \" \"\n",
    "\n",
    "text = title + sub_title + article_text\n",
    "print(text)"
   ]
  }
 ],
 "metadata": {
  "kernelspec": {
   "display_name": "Python 3 (ipykernel)",
   "language": "python",
   "name": "python3"
  },
  "language_info": {
   "codemirror_mode": {
    "name": "ipython",
    "version": 3
   },
   "file_extension": ".py",
   "mimetype": "text/x-python",
   "name": "python",
   "nbconvert_exporter": "python",
   "pygments_lexer": "ipython3",
   "version": "3.9.12"
  }
 },
 "nbformat": 4,
 "nbformat_minor": 5
}