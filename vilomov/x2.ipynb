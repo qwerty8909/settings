{
 "cells": [
  {
   "cell_type": "code",
   "execution_count": 16,
   "outputs": [
    {
     "name": "stdout",
     "output_type": "stream",
     "text": [
      "{'detail': [{'loc': ['body'], 'msg': 'value is not a valid list', 'type': 'type_error.list'}]}\n"
     ]
    }
   ],
   "source": [
    "import requests\n",
    "\n",
    "string = \"Hello, world!\"\n",
    "response = requests.post(\"http://localhost:8000/send-string\", data=string)\n",
    "print(response.json())"
   ],
   "metadata": {
    "collapsed": false,
    "pycharm": {
     "name": "#%%\n"
    }
   }
  },
  {
   "cell_type": "code",
   "execution_count": null,
   "outputs": [],
   "source": [
    "import requests\n",
    "import json\n",
    "\n",
    "# Define the input list\n",
    "words = ['hi', 'world']\n",
    "\n",
    "# Define the API endpoint URL\n",
    "url = 'http://localhost:8000/change_list'\n",
    "\n",
    "# Create a dictionary with the input list\n",
    "payload = {'words': words}\n",
    "\n",
    "# Convert the dictionary to a JSON string\n",
    "data = json.dumps(payload)\n",
    "\n",
    "# Set the Content-Type header to application/json\n",
    "headers = {'Content-Type': 'application/json'}\n",
    "\n",
    "# Send the POST request\n",
    "response = requests.post(url, data=data, headers=headers)\n",
    "\n",
    "# Print the response\n",
    "print(response.json())\n"
   ],
   "metadata": {
    "collapsed": false,
    "pycharm": {
     "name": "#%%\n"
    }
   }
  },
  {
   "cell_type": "code",
   "execution_count": 14,
   "outputs": [],
   "source": [
    "words = input()\n",
    "words = ' '.join(words)\n",
    "with open('word.txt', 'w', encoding=\"utf-8\") as file:\n",
    "    file.write(words)"
   ],
   "metadata": {
    "collapsed": false,
    "pycharm": {
     "name": "#%%\n"
    }
   }
  },
  {
   "cell_type": "code",
   "execution_count": 18,
   "outputs": [
    {
     "name": "stdout",
     "output_type": "stream",
     "text": [
      "erge dh  rg\n"
     ]
    }
   ],
   "source": [
    "words = str\n",
    "print(words)"
   ],
   "metadata": {
    "collapsed": false,
    "pycharm": {
     "name": "#%%\n"
    }
   }
  },
  {
   "cell_type": "code",
   "execution_count": null,
   "outputs": [],
   "source": [],
   "metadata": {
    "collapsed": false,
    "pycharm": {
     "name": "#%%\n"
    }
   }
  }
 ],
 "metadata": {
  "kernelspec": {
   "display_name": "Python 3 (ipykernel)",
   "language": "python",
   "name": "python3"
  },
  "language_info": {
   "codemirror_mode": {
    "name": "ipython",
    "version": 3
   },
   "file_extension": ".py",
   "mimetype": "text/x-python",
   "name": "python",
   "nbconvert_exporter": "python",
   "pygments_lexer": "ipython3",
   "version": "3.9.12"
  }
 },
 "nbformat": 4,
 "nbformat_minor": 5
}