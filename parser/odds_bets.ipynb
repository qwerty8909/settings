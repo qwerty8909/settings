{
 "cells": [
  {
   "cell_type": "code",
   "execution_count": 5,
   "metadata": {
    "collapsed": true,
    "pycharm": {
     "name": "#%%\n"
    }
   },
   "outputs": [
    {
     "data": {
      "text/plain": "                                                 link  \\\n0   https://odds.ru/football/forecasts/elche-espan...   \n1   https://odds.ru/football/forecasts/prognoz-bay...   \n2   https://odds.ru/football/forecasts/borussiya-d...   \n3   https://odds.ru/football/forecasts/prevyu-unio...   \n4   https://odds.ru/football/forecasts/osasuna-rea...   \n5   https://odds.ru/football/forecasts/manchester-...   \n6   https://odds.ru/football/forecasts/adelaida-yu...   \n7   https://odds.ru/football/forecasts/malorka-vil...   \n8   https://odds.ru/football/forecasts/prognoz-ben...   \n9   https://odds.ru/football/forecasts/betis-valya...   \n10  https://odds.ru/football/forecasts/21-y-tur-ch...   \n11  https://odds.ru/football/forecasts/kasa-pia-vi...   \n12  https://odds.ru/football/forecasts/prognoz-bra...   \n13  https://odds.ru/football/forecasts/21-y-tur-ch...   \n14  https://odds.ru/football/forecasts/tottenhem-v...   \n15  https://odds.ru/football/forecasts/prevyu-spec...   \n16  https://odds.ru/football/forecasts/fiorentina-...   \n17  https://odds.ru/football/forecasts/salernitana...   \n18  https://odds.ru/football/forecasts/prevyu-atal...   \n19  https://odds.ru/football/forecasts/prognoz-rom...   \n20  https://odds.ru/football/forecasts/modena-dzhe...   \n21  https://odds.ru/football/forecasts/renn-klermo...   \n22  https://odds.ru/football/forecasts/brest-monak...   \n23  https://odds.ru/football/forecasts/pszh-lill-p...   \n\n                                                 text  \n0   «Эльче» - «Эспаньол» - прогноз на матч 22-го т...  \n1         Прогноз «Байер» - «Майнц» - матч Бундеслиги  \n2   «Боруссия» Дортмунд - «Герта»: прогноз и превь...  \n3   Превью «Унион Берлин» - «Шальке» - матч Бундес...  \n4   «Осасуна» - «Реал Мадрид» - прогноз на матч 22...  \n5   «Манчестер Юнайтед» - «Лестер Сити»: прогноз н...  \n6   «Аделаида Юнайтед» - «Вестерн Сидней Уондерерс...  \n7   «Мальорка» - «Вильярреал» - прогноз на матч 22...  \n8   Прогноз «Бенфика» - «Боавишта»: матч 21-го тур...  \n9   «Бетис» - «Вальядолид» - прогноз на матч 22-го...  \n10  21-й тур чемпионата Португалии «Шавиш» - «Спор...  \n11  «Каса Пиа» - «Витория Гимарайнш»: прогноз на м...  \n12  Прогноз «Брага» – «Арока»: матч 21-го тура чем...  \n13  21-й тур чемпионата Португалии «Санта-Клара» -...  \n14  «Тоттенхэм» - «Вест Хэм»: прогноз на матч 24-г...  \n15  Превью «Специя» - «Ювентус»: матч 23-го тура С...  \n16  «Фиорентина» - «Эмполи»: превью и прогноз на м...  \n17  «Салернитана» - «Лацио»: прогноз на матч 23-го...  \n18  Превью «Аталанта» - «Лечче»: матч 23-го тура С...  \n19  Прогноз «Рома» - «Верона»: матч 23-го тура Сер...  \n20  «Модена» - «Дженоа»: превью и прогноз на матч ...  \n21  «Ренн» – «Клермон»: прогноз на игру 24-го тура...  \n22  «Брест» – «Монако»: прогноз на игру 24-го тура...  \n23  «ПСЖ» – «Лилль»: прогноз на матч 24-го тура Ли...  ",
      "text/html": "<div>\n<style scoped>\n    .dataframe tbody tr th:only-of-type {\n        vertical-align: middle;\n    }\n\n    .dataframe tbody tr th {\n        vertical-align: top;\n    }\n\n    .dataframe thead th {\n        text-align: right;\n    }\n</style>\n<table border=\"1\" class=\"dataframe\">\n  <thead>\n    <tr style=\"text-align: right;\">\n      <th></th>\n      <th>link</th>\n      <th>text</th>\n    </tr>\n  </thead>\n  <tbody>\n    <tr>\n      <th>0</th>\n      <td>https://odds.ru/football/forecasts/elche-espan...</td>\n      <td>«Эльче» - «Эспаньол» - прогноз на матч 22-го т...</td>\n    </tr>\n    <tr>\n      <th>1</th>\n      <td>https://odds.ru/football/forecasts/prognoz-bay...</td>\n      <td>Прогноз «Байер» - «Майнц» - матч Бундеслиги</td>\n    </tr>\n    <tr>\n      <th>2</th>\n      <td>https://odds.ru/football/forecasts/borussiya-d...</td>\n      <td>«Боруссия» Дортмунд - «Герта»: прогноз и превь...</td>\n    </tr>\n    <tr>\n      <th>3</th>\n      <td>https://odds.ru/football/forecasts/prevyu-unio...</td>\n      <td>Превью «Унион Берлин» - «Шальке» - матч Бундес...</td>\n    </tr>\n    <tr>\n      <th>4</th>\n      <td>https://odds.ru/football/forecasts/osasuna-rea...</td>\n      <td>«Осасуна» - «Реал Мадрид» - прогноз на матч 22...</td>\n    </tr>\n    <tr>\n      <th>5</th>\n      <td>https://odds.ru/football/forecasts/manchester-...</td>\n      <td>«Манчестер Юнайтед» - «Лестер Сити»: прогноз н...</td>\n    </tr>\n    <tr>\n      <th>6</th>\n      <td>https://odds.ru/football/forecasts/adelaida-yu...</td>\n      <td>«Аделаида Юнайтед» - «Вестерн Сидней Уондерерс...</td>\n    </tr>\n    <tr>\n      <th>7</th>\n      <td>https://odds.ru/football/forecasts/malorka-vil...</td>\n      <td>«Мальорка» - «Вильярреал» - прогноз на матч 22...</td>\n    </tr>\n    <tr>\n      <th>8</th>\n      <td>https://odds.ru/football/forecasts/prognoz-ben...</td>\n      <td>Прогноз «Бенфика» - «Боавишта»: матч 21-го тур...</td>\n    </tr>\n    <tr>\n      <th>9</th>\n      <td>https://odds.ru/football/forecasts/betis-valya...</td>\n      <td>«Бетис» - «Вальядолид» - прогноз на матч 22-го...</td>\n    </tr>\n    <tr>\n      <th>10</th>\n      <td>https://odds.ru/football/forecasts/21-y-tur-ch...</td>\n      <td>21-й тур чемпионата Португалии «Шавиш» - «Спор...</td>\n    </tr>\n    <tr>\n      <th>11</th>\n      <td>https://odds.ru/football/forecasts/kasa-pia-vi...</td>\n      <td>«Каса Пиа» - «Витория Гимарайнш»: прогноз на м...</td>\n    </tr>\n    <tr>\n      <th>12</th>\n      <td>https://odds.ru/football/forecasts/prognoz-bra...</td>\n      <td>Прогноз «Брага» – «Арока»: матч 21-го тура чем...</td>\n    </tr>\n    <tr>\n      <th>13</th>\n      <td>https://odds.ru/football/forecasts/21-y-tur-ch...</td>\n      <td>21-й тур чемпионата Португалии «Санта-Клара» -...</td>\n    </tr>\n    <tr>\n      <th>14</th>\n      <td>https://odds.ru/football/forecasts/tottenhem-v...</td>\n      <td>«Тоттенхэм» - «Вест Хэм»: прогноз на матч 24-г...</td>\n    </tr>\n    <tr>\n      <th>15</th>\n      <td>https://odds.ru/football/forecasts/prevyu-spec...</td>\n      <td>Превью «Специя» - «Ювентус»: матч 23-го тура С...</td>\n    </tr>\n    <tr>\n      <th>16</th>\n      <td>https://odds.ru/football/forecasts/fiorentina-...</td>\n      <td>«Фиорентина» - «Эмполи»: превью и прогноз на м...</td>\n    </tr>\n    <tr>\n      <th>17</th>\n      <td>https://odds.ru/football/forecasts/salernitana...</td>\n      <td>«Салернитана» - «Лацио»: прогноз на матч 23-го...</td>\n    </tr>\n    <tr>\n      <th>18</th>\n      <td>https://odds.ru/football/forecasts/prevyu-atal...</td>\n      <td>Превью «Аталанта» - «Лечче»: матч 23-го тура С...</td>\n    </tr>\n    <tr>\n      <th>19</th>\n      <td>https://odds.ru/football/forecasts/prognoz-rom...</td>\n      <td>Прогноз «Рома» - «Верона»: матч 23-го тура Сер...</td>\n    </tr>\n    <tr>\n      <th>20</th>\n      <td>https://odds.ru/football/forecasts/modena-dzhe...</td>\n      <td>«Модена» - «Дженоа»: превью и прогноз на матч ...</td>\n    </tr>\n    <tr>\n      <th>21</th>\n      <td>https://odds.ru/football/forecasts/renn-klermo...</td>\n      <td>«Ренн» – «Клермон»: прогноз на игру 24-го тура...</td>\n    </tr>\n    <tr>\n      <th>22</th>\n      <td>https://odds.ru/football/forecasts/brest-monak...</td>\n      <td>«Брест» – «Монако»: прогноз на игру 24-го тура...</td>\n    </tr>\n    <tr>\n      <th>23</th>\n      <td>https://odds.ru/football/forecasts/pszh-lill-p...</td>\n      <td>«ПСЖ» – «Лилль»: прогноз на матч 24-го тура Ли...</td>\n    </tr>\n  </tbody>\n</table>\n</div>"
     },
     "execution_count": 5,
     "metadata": {},
     "output_type": "execute_result"
    }
   ],
   "source": [
    "import random\n",
    "import pandas as pd\n",
    "from bs4 import BeautifulSoup\n",
    "from urllib.request import Request, urlopen\n",
    "from deep_translator import GoogleTranslator\n",
    "\n",
    "#проверяем доступность сайта\n",
    "req = Request(\n",
    "    url='https://odds.ru/football/forecasts/',\n",
    "    headers={'User-Agent': 'Mozilla/5.0'}\n",
    ")\n",
    "website_url = urlopen(req).read()\n",
    "soup = BeautifulSoup(website_url, 'lxml')\n",
    "\n",
    "links = []\n",
    "news_link = soup.find_all('div', class_='forecasts-post__title')\n",
    "for news in news_link:\n",
    "    links.append(\n",
    "        {\n",
    "            'link': 'https://odds.ru' + news.find('a').get('href'),\n",
    "            'text': news.find('a').get_text()#.lower().replace('«', '').replace('»', '').replace('— ', '')\n",
    "        })\n",
    "df1 = pd.DataFrame(links)\n",
    "df1"
   ]
  },
  {
   "cell_type": "code",
   "execution_count": 6,
   "outputs": [
    {
     "data": {
      "text/plain": "                                                 link  \\\n15  https://odds.ru/football/forecasts/prevyu-spec...   \n\n                                                 text  \n15  превью «специя» - «ювентус»: матч 23-го тура с...  ",
      "text/html": "<div>\n<style scoped>\n    .dataframe tbody tr th:only-of-type {\n        vertical-align: middle;\n    }\n\n    .dataframe tbody tr th {\n        vertical-align: top;\n    }\n\n    .dataframe thead th {\n        text-align: right;\n    }\n</style>\n<table border=\"1\" class=\"dataframe\">\n  <thead>\n    <tr style=\"text-align: right;\">\n      <th></th>\n      <th>link</th>\n      <th>text</th>\n    </tr>\n  </thead>\n  <tbody>\n    <tr>\n      <th>15</th>\n      <td>https://odds.ru/football/forecasts/prevyu-spec...</td>\n      <td>превью «специя» - «ювентус»: матч 23-го тура с...</td>\n    </tr>\n  </tbody>\n</table>\n</div>"
     },
     "execution_count": 6,
     "metadata": {},
     "output_type": "execute_result"
    }
   ],
   "source": [
    "df2 = pd.DataFrame()\n",
    "key_words = ['Специя', 'Ювентус']\n",
    "key_words = [item.lower() for item in key_words]\n",
    "df1.text = [item.lower() for item in df1.text]\n",
    "for line in df1.text:\n",
    "    if all(word in line for word in key_words):\n",
    "        df0 = df1[df1.text.str.contains(line)]\n",
    "        df2 = pd.concat([df2, df0], axis= 0 )\n",
    "df2"
   ],
   "metadata": {
    "collapsed": false,
    "pycharm": {
     "name": "#%%\n"
    }
   }
  },
  {
   "cell_type": "code",
   "execution_count": 3,
   "outputs": [
    {
     "name": "stdout",
     "output_type": "stream",
     "text": [
      " 19 февраля состоится матч 21-го тура чемпионата Португалии «Каса Пиа» - «Витория Гимарайнш». Согласно представлениям букмекеров, немного выше шансы хозяев поля. Давайте попробуем разобраться в предматчевых раскладах. В 20 турах элитного португальского дивизиона «Каса Пиа» добилась весьма впечатляющих следующих результатов: девять побед, четыре ничьих и семь поражений при общей разнице голов 18-20. Такое выступление привело команду на шестую позицию чемпионата. Этот коллектив увереннее чувствует себя за периметром домашнего стадиона: пять побед, две ничьих и три поражения. Забито 10, пропущено 12. Это четвертый показатель Примейры. И вот так «Каса Пиа» выступает при поддержке своих трибун: четыре победы, две ничьих и четыре поражения при общей разнице голов 8-8. Можно отметить, что в трех последних домашних играх этой команды сыграла ставка «обе забьют и ТБ (2,5)». В преддверии этого противостояния «Гимарайнш» пришвартовался к пятому месту турнирной таблицы Примейры с 33 очками на счету: 10 побед, три ничьих и семь поражений. Соотношение голов рассыпалось цифрами 19-20. Львиную долю очков «Гимарайнш» употребил на домашнем стадионе: семь побед, две ничьих и два поражения. Забито 12, пропущено семь. За пределами родных пенатов коллектив развернул такого масштаба вступление: три победы, одна ничья и пять поражений при общей разнице голов 7-13. Я б заострил внимание на том, что в трех из крайних четырех противостояний этой команды не был пробит тотал (1,5) гола. Согласно представлениям букмекеров, немного выше шансы хозяев поля. Вероятность их победы оценивается в 2,5, в то время как выигрыш гостей котируется в 3,0. На ничью можно устроиться за 3,15. «Гимарайнш» набрал ход. В трех последних турах команда взяла максимум очков, пропустив лишь один мяч. «Каса Пиа» же победила только в одной из последних шести игр при четырех поражениях. Резюмируя, я бы посоветовал здесь обратиться к ставке «Ф2 (0,25)». Коэффициент на проход этого события балансирует в пределах 1,75. \n"
     ]
    }
   ],
   "source": [
    "#проверяем доступность сайта\n",
    "news = ''\n",
    "for link in sorted(df2.link,key=lambda _: random.random()):\n",
    "    if len(news) < 4000:\n",
    "        req = Request(\n",
    "            url=link,\n",
    "            headers={'User-Agent': 'Mozilla/5.0'}\n",
    "        )\n",
    "        website_url = urlopen(req).read()\n",
    "        soup = BeautifulSoup(website_url, 'lxml')\n",
    "\n",
    "        # Extract the text of the article\n",
    "        article_inherit = soup.find(\"div\", class_=\"post-inherit__description\").get_text()\n",
    "        article_body = soup.find(\"div\", class_=\"forecast-text\")\n",
    "\n",
    "        # Check the last p tags for the presence of a tags\n",
    "        for p in article_body.find_all(\"b\")[-3:]:\n",
    "            if p.find(\"a\"):\n",
    "                p.extract()\n",
    "\n",
    "        for td in article_body.find_all('p', class_=None):\n",
    "            news += str(td.text) + ' '\n",
    "        news = article_inherit+news+'\\n'\n",
    "        news = news.replace('\\n', ' ').replace('\\t', ' ').replace('   ', ' ').replace('  ', ' ')\n",
    "print (news)"
   ],
   "metadata": {
    "collapsed": false,
    "pycharm": {
     "name": "#%%\n"
    }
   }
  },
  {
   "cell_type": "code",
   "execution_count": null,
   "outputs": [],
   "source": [],
   "metadata": {
    "collapsed": false,
    "pycharm": {
     "name": "#%%\n"
    }
   }
  }
 ],
 "metadata": {
  "kernelspec": {
   "display_name": "Python 3",
   "language": "python",
   "name": "python3"
  },
  "language_info": {
   "codemirror_mode": {
    "name": "ipython",
    "version": 2
   },
   "file_extension": ".py",
   "mimetype": "text/x-python",
   "name": "python",
   "nbconvert_exporter": "python",
   "pygments_lexer": "ipython2",
   "version": "2.7.6"
  }
 },
 "nbformat": 4,
 "nbformat_minor": 0
}