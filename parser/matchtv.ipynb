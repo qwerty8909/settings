{
 "cells": [
  {
   "cell_type": "code",
   "execution_count": 1,
   "outputs": [
    {
     "data": {
      "text/plain": "                                                 link  \\\n0   https://matchtv.ru/football/matchtvnews_NI1795...   \n1   https://matchtv.ru/football/matchtvnews_NI1795...   \n2   https://matchtv.ru/hockey/matchtvnews_NI179559...   \n3   https://matchtv.ru/football/matchtvnews_NI1795...   \n4   https://matchtv.ru/football/matchtvnews_NI1795...   \n5   https://matchtv.ru/skiing/matchtvnews_NI179558...   \n6   https://matchtv.ru/hockey/matchtvnews_NI179558...   \n7   https://matchtv.ru/football/matchtvnews_NI1795...   \n8   https://matchtv.ru/football/matchtvnews_NI1795...   \n9   https://matchtv.ru/football/matchtvnews_NI1795...   \n10  https://matchtv.ru/skiing/matchtvnews_NI179558...   \n11  https://matchtv.ru/football/matchtvnews_NI1795...   \n12  https://matchtv.ru/hockey/matchtvnews_NI179557...   \n13  https://matchtv.ru/tennis/matchtvnews_NI179557...   \n14  https://matchtv.ru/basketball/matchtvnews_NI17...   \n15  https://matchtv.ru/football/matchtvnews_NI1795...   \n16  https://matchtv.ru/football/matchtvnews_NI1795...   \n17  https://matchtv.ru/football/matchtvnews_NI1795...   \n18  https://matchtv.ru/football/matchtvnews_NI1795...   \n19  https://matchtv.ru/football/matchtvnews_NI1795...   \n20  https://matchtv.ru/boxing/matchtvnews_NI179556...   \n21  https://matchtv.ru/artistic-gymnastics/matchtv...   \n22  https://matchtv.ru/football/matchtvnews_NI1795...   \n23  https://matchtv.ru/football/matchtvnews_NI1795...   \n24  https://matchtv.ru/figure-skating/matchtvnews_...   \n25  https://matchtv.ru/football/matchtvnews_NI1795...   \n26  https://matchtv.ru/football/matchtvnews_NI1795...   \n27  https://matchtv.ru/football/matchtvnews_NI1795...   \n28  https://matchtv.ru/hockey/matchtvnews_NI179554...   \n29  https://matchtv.ru/hockey/matchtvnews_NI179554...   \n30  https://matchtv.ru/boxing/matchtvnews_NI179554...   \n31  https://matchtv.ru/biathlon/matchtvnews_NI1795...   \n32  https://matchtv.ru/alpine-skiing/matchtvnews_N...   \n33  https://matchtv.ru/football/matchtvnews_NI1795...   \n34  https://matchtv.ru/football/matchtvnews_NI1795...   \n35  https://matchtv.ru/hockey/matchtvnews_NI179551...   \n36  https://matchtv.ru/football/matchtvnews_NI1795...   \n37  https://matchtv.ru/olimpijskije_igry/matchtvne...   \n38  https://matchtv.ru/football/matchtvnews_NI1795...   \n39  https://matchtv.ru/football/matchtvnews_NI1795...   \n40  https://matchtv.ru/olimpijskije_igry/matchtvne...   \n41  https://matchtv.ru/boxing/matchtvnews_NI179550...   \n42  https://matchtv.ru/hockey/matchtvnews_NI179549...   \n43  https://matchtv.ru/football/matchtvnews_NI1795...   \n44  https://matchtv.ru/football/matchtvnews_NI1795...   \n45  https://matchtv.ru/football/matchtvnews_NI1795...   \n46  https://matchtv.ru/football/matchtvnews_NI1795...   \n47  https://matchtv.ru/football/matchtvnews_NI1795...   \n48  https://matchtv.ru/hockey/matchtvnews_NI179548...   \n49  https://matchtv.ru/football/matchtvnews_NI1795...   \n\n                                                 text  \n0   Вратарь «ПАРИ НН» Гойло не исключил возвращени...  \n1   Тренер «ПАРИ НН» после победы над «Звездой» в ...  \n2   Якушев считает частые перестановки в тренерско...  \n3   Новосельцев: «Слышал лестные слова о Горлове о...  \n4   «ПАРИ НН» останется в Санкт-Петербурге до игры...  \n5   Призер ОИ-2018 Ларьков объяснил, почему ему не...  \n6   «Я опроверг скептиков, которые говорили, что м...  \n7   Жоаозиньо признался, что рад получению российс...  \n8   Карпин объяснил, почему Комличенко вновь не по...  \n9   «Впервые играли с командой РПЛ. Видимо, немног...  \n10  Призер ОИ Ларьков: «Если честно, не стремлюсь ...  \n11  Форвард «ПАРИ НН» Сулейманов передал защитнику...  \n12  В финале Западной конференции сыграют ЦСКА и «...  \n13  Джокович поблагодарил болельщиков после того, ...  \n14  В баскетбольном «Реале» хотят, чтобы главный т...  \n15  «Красич говорил, что никогда бы не уехал из Мо...  \n16  «ПАРИ НН» одержал победу над «Звездой» в матче...  \n17          Бывший футболист ЦСКА Жо завершил карьеру  \n18  Тимур Сулейманов признан лучшим игроком матча ...  \n19  «Настолько требовательных тренеров, как Талала...  \n20  Вячеслав Дацик проведет бой с Мондрагоном 25 м...  \n21  «У нас как была длинная скамейка запасных, так...  \n22  «Урал» и «Ростов» объявили стартовые составы н...  \n23  «Возвращение Кухты в «Локомотив»? Пока слишком...  \n24  Фигурист Автушенко из академии Евгения Плющенк...  \n25  «Звезда» — «ПАРИ НН» — 0:2: Корнюшин забил вто...  \n26  В руководстве «Монако» произошли перестановки,...  \n27  Глушаков дебютировал за «ПАРИ НН» в матче Кубк...  \n28  Горбенко: «Мы с Квартальновым провели честную ...  \n29  «Три клуба НХЛ особенно активно претендуют на ...  \n30  «Кого дадут, того размажем». Чимаев заявил о г...  \n31  Белорусская команда сама отказалась от участия...  \n32  Представитель Башкортостана Кильдюшкин выиграл...  \n33  Форвард «Барселоны» Левандовский не сыграет с ...  \n34  «ПАРИ НН» обыгрывает «Звезду» со счетом 1:0 по...  \n35  Нападающий «Спартака» Хохлачев назвал этот сез...  \n36  Экс-тренер сборной Германии Клинсманн возглави...  \n37  «Там, где нет нас, нет Олимпийских игр и ЧМ. Э...  \n38  «Звезда» — «ПАРИ НН» — 0:1: защитник нижегород...  \n39  «Посмотрим, останется ли Азмун в «Байере» еще ...  \n40  «Согласен с Большуновым, подписывать документы...  \n41  Боец ММА Евлоев готов провести следующий бой ч...  \n42  Заварухин: «Мои мысли насчет причин провала «С...  \n43  «Сегодня 90 минут не будет дружбы — исключител...  \n44  Горлов объяснил выбор состава на матч со «Звез...  \n45  Защитник «Торпедо» Журавлев признался, что сна...  \n46  «Жду Дзюбу в стартовом составе на матч со «Спа...  \n47  Ибрагимович не собирается завершать карьеру в ...  \n48  Защитник СКА Никишин не знал, что стал лучшим ...  \n49  «Ахмат» в последние годы находит систему, они ...  ",
      "text/html": "<div>\n<style scoped>\n    .dataframe tbody tr th:only-of-type {\n        vertical-align: middle;\n    }\n\n    .dataframe tbody tr th {\n        vertical-align: top;\n    }\n\n    .dataframe thead th {\n        text-align: right;\n    }\n</style>\n<table border=\"1\" class=\"dataframe\">\n  <thead>\n    <tr style=\"text-align: right;\">\n      <th></th>\n      <th>link</th>\n      <th>text</th>\n    </tr>\n  </thead>\n  <tbody>\n    <tr>\n      <th>0</th>\n      <td>https://matchtv.ru/football/matchtvnews_NI1795...</td>\n      <td>Вратарь «ПАРИ НН» Гойло не исключил возвращени...</td>\n    </tr>\n    <tr>\n      <th>1</th>\n      <td>https://matchtv.ru/football/matchtvnews_NI1795...</td>\n      <td>Тренер «ПАРИ НН» после победы над «Звездой» в ...</td>\n    </tr>\n    <tr>\n      <th>2</th>\n      <td>https://matchtv.ru/hockey/matchtvnews_NI179559...</td>\n      <td>Якушев считает частые перестановки в тренерско...</td>\n    </tr>\n    <tr>\n      <th>3</th>\n      <td>https://matchtv.ru/football/matchtvnews_NI1795...</td>\n      <td>Новосельцев: «Слышал лестные слова о Горлове о...</td>\n    </tr>\n    <tr>\n      <th>4</th>\n      <td>https://matchtv.ru/football/matchtvnews_NI1795...</td>\n      <td>«ПАРИ НН» останется в Санкт-Петербурге до игры...</td>\n    </tr>\n    <tr>\n      <th>5</th>\n      <td>https://matchtv.ru/skiing/matchtvnews_NI179558...</td>\n      <td>Призер ОИ-2018 Ларьков объяснил, почему ему не...</td>\n    </tr>\n    <tr>\n      <th>6</th>\n      <td>https://matchtv.ru/hockey/matchtvnews_NI179558...</td>\n      <td>«Я опроверг скептиков, которые говорили, что м...</td>\n    </tr>\n    <tr>\n      <th>7</th>\n      <td>https://matchtv.ru/football/matchtvnews_NI1795...</td>\n      <td>Жоаозиньо признался, что рад получению российс...</td>\n    </tr>\n    <tr>\n      <th>8</th>\n      <td>https://matchtv.ru/football/matchtvnews_NI1795...</td>\n      <td>Карпин объяснил, почему Комличенко вновь не по...</td>\n    </tr>\n    <tr>\n      <th>9</th>\n      <td>https://matchtv.ru/football/matchtvnews_NI1795...</td>\n      <td>«Впервые играли с командой РПЛ. Видимо, немног...</td>\n    </tr>\n    <tr>\n      <th>10</th>\n      <td>https://matchtv.ru/skiing/matchtvnews_NI179558...</td>\n      <td>Призер ОИ Ларьков: «Если честно, не стремлюсь ...</td>\n    </tr>\n    <tr>\n      <th>11</th>\n      <td>https://matchtv.ru/football/matchtvnews_NI1795...</td>\n      <td>Форвард «ПАРИ НН» Сулейманов передал защитнику...</td>\n    </tr>\n    <tr>\n      <th>12</th>\n      <td>https://matchtv.ru/hockey/matchtvnews_NI179557...</td>\n      <td>В финале Западной конференции сыграют ЦСКА и «...</td>\n    </tr>\n    <tr>\n      <th>13</th>\n      <td>https://matchtv.ru/tennis/matchtvnews_NI179557...</td>\n      <td>Джокович поблагодарил болельщиков после того, ...</td>\n    </tr>\n    <tr>\n      <th>14</th>\n      <td>https://matchtv.ru/basketball/matchtvnews_NI17...</td>\n      <td>В баскетбольном «Реале» хотят, чтобы главный т...</td>\n    </tr>\n    <tr>\n      <th>15</th>\n      <td>https://matchtv.ru/football/matchtvnews_NI1795...</td>\n      <td>«Красич говорил, что никогда бы не уехал из Мо...</td>\n    </tr>\n    <tr>\n      <th>16</th>\n      <td>https://matchtv.ru/football/matchtvnews_NI1795...</td>\n      <td>«ПАРИ НН» одержал победу над «Звездой» в матче...</td>\n    </tr>\n    <tr>\n      <th>17</th>\n      <td>https://matchtv.ru/football/matchtvnews_NI1795...</td>\n      <td>Бывший футболист ЦСКА Жо завершил карьеру</td>\n    </tr>\n    <tr>\n      <th>18</th>\n      <td>https://matchtv.ru/football/matchtvnews_NI1795...</td>\n      <td>Тимур Сулейманов признан лучшим игроком матча ...</td>\n    </tr>\n    <tr>\n      <th>19</th>\n      <td>https://matchtv.ru/football/matchtvnews_NI1795...</td>\n      <td>«Настолько требовательных тренеров, как Талала...</td>\n    </tr>\n    <tr>\n      <th>20</th>\n      <td>https://matchtv.ru/boxing/matchtvnews_NI179556...</td>\n      <td>Вячеслав Дацик проведет бой с Мондрагоном 25 м...</td>\n    </tr>\n    <tr>\n      <th>21</th>\n      <td>https://matchtv.ru/artistic-gymnastics/matchtv...</td>\n      <td>«У нас как была длинная скамейка запасных, так...</td>\n    </tr>\n    <tr>\n      <th>22</th>\n      <td>https://matchtv.ru/football/matchtvnews_NI1795...</td>\n      <td>«Урал» и «Ростов» объявили стартовые составы н...</td>\n    </tr>\n    <tr>\n      <th>23</th>\n      <td>https://matchtv.ru/football/matchtvnews_NI1795...</td>\n      <td>«Возвращение Кухты в «Локомотив»? Пока слишком...</td>\n    </tr>\n    <tr>\n      <th>24</th>\n      <td>https://matchtv.ru/figure-skating/matchtvnews_...</td>\n      <td>Фигурист Автушенко из академии Евгения Плющенк...</td>\n    </tr>\n    <tr>\n      <th>25</th>\n      <td>https://matchtv.ru/football/matchtvnews_NI1795...</td>\n      <td>«Звезда» — «ПАРИ НН» — 0:2: Корнюшин забил вто...</td>\n    </tr>\n    <tr>\n      <th>26</th>\n      <td>https://matchtv.ru/football/matchtvnews_NI1795...</td>\n      <td>В руководстве «Монако» произошли перестановки,...</td>\n    </tr>\n    <tr>\n      <th>27</th>\n      <td>https://matchtv.ru/football/matchtvnews_NI1795...</td>\n      <td>Глушаков дебютировал за «ПАРИ НН» в матче Кубк...</td>\n    </tr>\n    <tr>\n      <th>28</th>\n      <td>https://matchtv.ru/hockey/matchtvnews_NI179554...</td>\n      <td>Горбенко: «Мы с Квартальновым провели честную ...</td>\n    </tr>\n    <tr>\n      <th>29</th>\n      <td>https://matchtv.ru/hockey/matchtvnews_NI179554...</td>\n      <td>«Три клуба НХЛ особенно активно претендуют на ...</td>\n    </tr>\n    <tr>\n      <th>30</th>\n      <td>https://matchtv.ru/boxing/matchtvnews_NI179554...</td>\n      <td>«Кого дадут, того размажем». Чимаев заявил о г...</td>\n    </tr>\n    <tr>\n      <th>31</th>\n      <td>https://matchtv.ru/biathlon/matchtvnews_NI1795...</td>\n      <td>Белорусская команда сама отказалась от участия...</td>\n    </tr>\n    <tr>\n      <th>32</th>\n      <td>https://matchtv.ru/alpine-skiing/matchtvnews_N...</td>\n      <td>Представитель Башкортостана Кильдюшкин выиграл...</td>\n    </tr>\n    <tr>\n      <th>33</th>\n      <td>https://matchtv.ru/football/matchtvnews_NI1795...</td>\n      <td>Форвард «Барселоны» Левандовский не сыграет с ...</td>\n    </tr>\n    <tr>\n      <th>34</th>\n      <td>https://matchtv.ru/football/matchtvnews_NI1795...</td>\n      <td>«ПАРИ НН» обыгрывает «Звезду» со счетом 1:0 по...</td>\n    </tr>\n    <tr>\n      <th>35</th>\n      <td>https://matchtv.ru/hockey/matchtvnews_NI179551...</td>\n      <td>Нападающий «Спартака» Хохлачев назвал этот сез...</td>\n    </tr>\n    <tr>\n      <th>36</th>\n      <td>https://matchtv.ru/football/matchtvnews_NI1795...</td>\n      <td>Экс-тренер сборной Германии Клинсманн возглави...</td>\n    </tr>\n    <tr>\n      <th>37</th>\n      <td>https://matchtv.ru/olimpijskije_igry/matchtvne...</td>\n      <td>«Там, где нет нас, нет Олимпийских игр и ЧМ. Э...</td>\n    </tr>\n    <tr>\n      <th>38</th>\n      <td>https://matchtv.ru/football/matchtvnews_NI1795...</td>\n      <td>«Звезда» — «ПАРИ НН» — 0:1: защитник нижегород...</td>\n    </tr>\n    <tr>\n      <th>39</th>\n      <td>https://matchtv.ru/football/matchtvnews_NI1795...</td>\n      <td>«Посмотрим, останется ли Азмун в «Байере» еще ...</td>\n    </tr>\n    <tr>\n      <th>40</th>\n      <td>https://matchtv.ru/olimpijskije_igry/matchtvne...</td>\n      <td>«Согласен с Большуновым, подписывать документы...</td>\n    </tr>\n    <tr>\n      <th>41</th>\n      <td>https://matchtv.ru/boxing/matchtvnews_NI179550...</td>\n      <td>Боец ММА Евлоев готов провести следующий бой ч...</td>\n    </tr>\n    <tr>\n      <th>42</th>\n      <td>https://matchtv.ru/hockey/matchtvnews_NI179549...</td>\n      <td>Заварухин: «Мои мысли насчет причин провала «С...</td>\n    </tr>\n    <tr>\n      <th>43</th>\n      <td>https://matchtv.ru/football/matchtvnews_NI1795...</td>\n      <td>«Сегодня 90 минут не будет дружбы — исключител...</td>\n    </tr>\n    <tr>\n      <th>44</th>\n      <td>https://matchtv.ru/football/matchtvnews_NI1795...</td>\n      <td>Горлов объяснил выбор состава на матч со «Звез...</td>\n    </tr>\n    <tr>\n      <th>45</th>\n      <td>https://matchtv.ru/football/matchtvnews_NI1795...</td>\n      <td>Защитник «Торпедо» Журавлев признался, что сна...</td>\n    </tr>\n    <tr>\n      <th>46</th>\n      <td>https://matchtv.ru/football/matchtvnews_NI1795...</td>\n      <td>«Жду Дзюбу в стартовом составе на матч со «Спа...</td>\n    </tr>\n    <tr>\n      <th>47</th>\n      <td>https://matchtv.ru/football/matchtvnews_NI1795...</td>\n      <td>Ибрагимович не собирается завершать карьеру в ...</td>\n    </tr>\n    <tr>\n      <th>48</th>\n      <td>https://matchtv.ru/hockey/matchtvnews_NI179548...</td>\n      <td>Защитник СКА Никишин не знал, что стал лучшим ...</td>\n    </tr>\n    <tr>\n      <th>49</th>\n      <td>https://matchtv.ru/football/matchtvnews_NI1795...</td>\n      <td>«Ахмат» в последние годы находит систему, они ...</td>\n    </tr>\n  </tbody>\n</table>\n</div>"
     },
     "execution_count": 1,
     "metadata": {},
     "output_type": "execute_result"
    }
   ],
   "source": [
    "# загружаем необходимые модули и библиотеки\n",
    "import re\n",
    "import requests\n",
    "import pandas as pd\n",
    "from bs4 import BeautifulSoup\n",
    "from urllib.request import Request, urlopen\n",
    "\n",
    "#проверяем доступность сайта\n",
    "req = Request(\n",
    "    url='https://matchtv.ru/news',\n",
    "    headers={'User-Agent': 'Mozilla/5.0'}\n",
    ")\n",
    "website_url = urlopen(req).read()\n",
    "soup = BeautifulSoup(website_url, 'lxml')\n",
    "\n",
    "links = []\n",
    "news_link = soup.find_all('a', class_='node-news-list__item')\n",
    "for news in news_link:\n",
    "    links.append(\n",
    "        {\n",
    "            'link': 'https://matchtv.ru' + news.get('href'),\n",
    "            'text': news.get('title')#.lower().replace('«', '').replace('»', '').replace('— ', '')\n",
    "        })\n",
    "df1 = pd.DataFrame(links)\n",
    "df1"
   ],
   "metadata": {
    "collapsed": false,
    "pycharm": {
     "name": "#%%\n"
    }
   }
  },
  {
   "cell_type": "code",
   "execution_count": 6,
   "outputs": [
    {
     "data": {
      "text/plain": "Empty DataFrame\nColumns: []\nIndex: []",
      "text/html": "<div>\n<style scoped>\n    .dataframe tbody tr th:only-of-type {\n        vertical-align: middle;\n    }\n\n    .dataframe tbody tr th {\n        vertical-align: top;\n    }\n\n    .dataframe thead th {\n        text-align: right;\n    }\n</style>\n<table border=\"1\" class=\"dataframe\">\n  <thead>\n    <tr style=\"text-align: right;\">\n      <th></th>\n    </tr>\n  </thead>\n  <tbody>\n  </tbody>\n</table>\n</div>"
     },
     "execution_count": 6,
     "metadata": {},
     "output_type": "execute_result"
    }
   ],
   "source": [
    "df2 = pd.DataFrame()\n",
    "key_words = ['Манчестер', 'Лестер']\n",
    "key_words = [item.lower() for item in key_words]\n",
    "df1.text = [item.lower() for item in df1.text]\n",
    "for line in df1.text:\n",
    "    if all(word in line for word in key_words):\n",
    "        df0 = df1[df1.text.str.contains(line)]\n",
    "        df2 = pd.concat([df2, df0], axis= 0 )\n",
    "df2"
   ],
   "metadata": {
    "collapsed": false,
    "pycharm": {
     "name": "#%%\n"
    }
   }
  },
  {
   "cell_type": "code",
   "execution_count": 15,
   "outputs": [
    {
     "name": "stdout",
     "output_type": "stream",
     "text": [
      "Президент Союза биатлонистов России (СБР) Виктор Майгуров заявил «Матч ТВ», что российские спортсмены должны выступать на международных соревнованиях с флагом и гимном страны, юридических причин препятствовать этому нет. В феврале 2022 года Международный олимпийский комитет (МОК) рекомендовал не допускать россиян до участия в международных соревнованиях. В январе 2023‑го МОК объявил, что рассмотрит возможность допуска до мировых стартов в нейтральном статусе российских и белорусских спортсменов, которые не выступали с активной поддержкой СВО. — Думаю, у нас будет общая позиция ОКР по всем видам спорта, потому что нужно понимать: почему мы в нейтральном статусе, где это прописано? Если мы ничего не нарушили, давайте будем выступать на равных со всеми, — сказал Майгуров корреспонденту «Матч ТВ». — Должны быть и флаг, и гимн? — Да. Я не вижу юридических причин, за что нас можно допускать в нейтральном статусе. \n",
      "Биатлонистка Екатерина Носкова в разговоре с «Матч ТВ» заявила, что очень расстроена тем, что допустила несколько промахов во время спринта на финальном этапе PARI Кубка России по биатлону в Чайковском. Наталья Гербулова одержала победу в гонке, пройдя дистанцию в 7,5 км за 21 минуту 9,4 секунды и не допустив ни одного промаха на огневых рубежах. Второе место заняла Ирина Казакевич с одним промахом, она отстала от Гербуловой на 20,4 секунды. Третьей стала Анастасия Гореева (+27,7, один промах). Носкова заняла итоговое 11‑е место (+1 минута, 24,4 секунды; три промаха).  — Недовольна стрельбой, хоть и было неплохое самочувствие. Очень расстроена, что сегодня не удалось справиться сна стрельбище. Завтра поборемся, для того, чтобы приблизиться к лидерам, нужно будет стрелять лучше. — Что помешало во время стрельбы, вроде ветер несильный? — Будем говорить с тренерами, искать причины, посмотреть, куда были промахи. — В такую морозную погоду бегать дискомфортно? — Кажется, вчера было холоднее. Сегодня достаточно комфортно, — 10 градусов — это нормальная температура. \n"
     ]
    }
   ],
   "source": [
    "#проверяем доступность сайта\n",
    "news = ''\n",
    "text = ''\n",
    "for link in df2.link:\n",
    "    req = Request(\n",
    "        url=link,\n",
    "        headers={'User-Agent': 'Mozilla/5.0'}\n",
    "    )\n",
    "    website_url = urlopen(req).read()\n",
    "    soup = BeautifulSoup(website_url, 'lxml')\n",
    "\n",
    "    # Extract the title of the article\n",
    "    title = soup.find(\"h1\", itemprop=\"headline name\").text.strip() + \". \"\n",
    "\n",
    "    # Extract the text of the article\n",
    "    article_body = soup.find(\"div\", class_=\"article__content js-mediator-article\")\n",
    "\n",
    "    # Check the last p tags for the presence of a tags\n",
    "    for p in article_body.find_all(\"p\")[-3:]:\n",
    "        if p.find(\"i\"):\n",
    "            p.extract()\n",
    "    #\n",
    "    #     # Concatenate the text content of the remaining p tags\n",
    "    #     for p in article_body.find_all(\"p\"):\n",
    "    #         article_text += p.text.strip() + \" \"\n",
    "    #         text = title + article_text\n",
    "    #     text += '\\n'\n",
    "    # # for item in text.split('\\n'):\n",
    "    # #     if len(item.split(' ')) > 10:\n",
    "    # #         print (item)\n",
    "    #     print(text)\n",
    "\n",
    "\n",
    "    for td in article_body.find_all('p', class_=None):\n",
    "        news += str(td.text) + ' '\n",
    "    news += '\\n'\n",
    "for item in news.split('\\n'):\n",
    "    if len(item.split(' ')) > 100:\n",
    "        print (item)"
   ],
   "metadata": {
    "collapsed": false,
    "pycharm": {
     "name": "#%%\n"
    }
   }
  },
  {
   "cell_type": "code",
   "execution_count": null,
   "outputs": [],
   "source": [],
   "metadata": {
    "collapsed": false,
    "pycharm": {
     "name": "#%%\n"
    }
   }
  }
 ],
 "metadata": {
  "kernelspec": {
   "display_name": "Python 3",
   "language": "python",
   "name": "python3"
  },
  "language_info": {
   "codemirror_mode": {
    "name": "ipython",
    "version": 2
   },
   "file_extension": ".py",
   "mimetype": "text/x-python",
   "name": "python",
   "nbconvert_exporter": "python",
   "pygments_lexer": "ipython2",
   "version": "2.7.6"
  }
 },
 "nbformat": 4,
 "nbformat_minor": 0
}