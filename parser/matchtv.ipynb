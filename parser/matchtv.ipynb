{
 "cells": [
  {
   "cell_type": "code",
   "execution_count": 5,
   "outputs": [
    {
     "data": {
      "text/plain": "                                                 link  \\\n0   https://matchtv.ru/biathlon/matchtvnews_NI1780...   \n1   https://matchtv.ru/hockey/matchtvnews_NI178091...   \n2   https://matchtv.ru/biathlon/matchtvnews_NI1780...   \n3   https://matchtv.ru/biathlon/matchtvnews_NI1780...   \n4   https://matchtv.ru/biathlon/matchtvnews_NI1780...   \n5   https://matchtv.ru/biathlon/matchtvnews_NI1780...   \n6   https://matchtv.ru/football/matchtvnews_NI1780...   \n7   https://matchtv.ru/skiing/matchtvnews_NI178089...   \n8   https://matchtv.ru/biathlon/matchtvnews_NI1780...   \n9   https://matchtv.ru/biathlon/matchtvnews_NI1780...   \n10  https://matchtv.ru/football/matchtvnews_NI1780...   \n11  https://matchtv.ru/biathlon/matchtvnews_NI1780...   \n12  https://matchtv.ru/football/matchtvnews_NI1780...   \n13  https://matchtv.ru/football/matchtvnews_NI1780...   \n14  https://matchtv.ru/football/matchtvnews_NI1780...   \n15  https://matchtv.ru/biathlon/matchtvnews_NI1780...   \n16  https://matchtv.ru/football/matchtvnews_NI1780...   \n17  https://matchtv.ru/biathlon/matchtvnews_NI1780...   \n18  https://matchtv.ru/football/matchtvnews_NI1780...   \n19  https://matchtv.ru/football/matchtvnews_NI1780...   \n20  https://matchtv.ru/football/matchtvnews_NI1780...   \n21  https://matchtv.ru/biathlon/matchtvnews_NI1780...   \n22  https://matchtv.ru/football/matchtvnews_NI1780...   \n23  https://matchtv.ru/football/matchtvnews_NI1780...   \n24  https://matchtv.ru/biathlon/matchtvnews_NI1780...   \n25  https://matchtv.ru/biathlon/matchtvnews_NI1780...   \n26  https://matchtv.ru/biathlon/matchtvnews_NI1780...   \n27  https://matchtv.ru/biathlon/matchtvnews_NI1780...   \n28  https://matchtv.ru/biathlon/matchtvnews_NI1780...   \n29  https://matchtv.ru/biathlon/matchtvnews_NI1780...   \n30  https://matchtv.ru/football/matchtvnews_NI1780...   \n31  https://matchtv.ru/biathlon/matchtvnews_NI1780...   \n32  https://matchtv.ru/biathlon/matchtvnews_NI1780...   \n33  https://matchtv.ru/football/matchtvnews_NI1780...   \n34  https://matchtv.ru/football/matchtvnews_NI1780...   \n35  https://matchtv.ru/biathlon/matchtvnews_NI1780...   \n36  https://matchtv.ru/football/matchtvnews_NI1780...   \n37  https://matchtv.ru/biathlon/matchtvnews_NI1780...   \n38  https://matchtv.ru/hockey/matchtvnews_NI178085...   \n39  https://matchtv.ru/hockey/matchtvnews_NI177876...   \n40  https://matchtv.ru/figure-skating/matchtvnews_...   \n41  https://matchtv.ru/hockey/matchtvnews_NI178083...   \n42  https://matchtv.ru/hockey/matchtvnews_NI178084...   \n43  https://matchtv.ru/hockey/matchtvnews_NI178084...   \n44  https://matchtv.ru/biathlon/matchtvnews_NI1780...   \n45  https://matchtv.ru/football/matchtvnews_NI1780...   \n46  https://matchtv.ru/hockey/matchtvnews_NI178083...   \n47  https://matchtv.ru/basketball/matchtvnews_NI17...   \n48  https://matchtv.ru/biathlon/matchtvnews_NI1780...   \n49  https://matchtv.ru/football/matchtvnews_NI1780...   \n\n                                                 text  \n0   «Личное — не публичное» — биатлонисты Халили и...  \n1   Хоккейный клуб ЦСКА опроверг интерес к голкипе...  \n2   Экс-биатлонистка сборной России Подчуфарова пр...  \n3   Тренер биатлонистов Истомин заявил, что Халили...  \n4   Халили — о борьбе за победу в общем зачете КР:...  \n5   «У Бабикова получилась самая удачная гонка за ...  \n6   «Краснодар» пока не вел переговоры о новых кон...  \n7   В Москве состоялась первая любительская лыжная...  \n8   Бабиков рассказал, что выиграл большой масс-ст...  \n9   Карим Халили выиграл общий зачет Кубка России ...  \n10  Тренер «Оренбурга» заявил, что Обухова можно и...  \n11  Бабиков одержал победу в большом масс-старте н...  \n12  Снявшийся с чемпионата Турции «Хатайспор» отпр...  \n13  Форвард «Крыльев» Сычевой: «Я говорил, что не ...  \n14  «Редко увидишь Карпина серьезным. Он приятный ...  \n15  Биатлонист Латыпов однозначно боролся бы за пр...  \n16  Сычевой назвал главную причину перехода из «Ор...  \n17  Латыпов рассказал о дружбе с иностранными биат...  \n18  Сычевой рассчитывает поменять паспорт до начал...  \n19  «Семак — абсолютно лучший тренер в России» — К...  \n20  «Галицкий мечтал, чтобы в «Краснодаре» играли ...  \n21  «Я второй победитель. У Гореевой глобус, но бу...  \n22  Главный тренер «Факела» исключил возможность у...  \n23  Футбольный тренер Сергей Кирьяков сравнил жизн...  \n24  Миронова — о первом старте на Кубке России: «Р...  \n25  Биатлонистка Гореева посвятила победу в общем ...  \n26  «Если человек приболел, лучше поберечься. У на...  \n27  Биатлонистка Гербулова: «Безумно рада, что в э...  \n28  «Казакевич подбадривала меня своей уходящей сп...  \n29  Биатлонистка Сливко: «Очки по ходу масс-старта...  \n30  Футболист Мозес: «И без меня «Спартак» выгляди...  \n31  Биатлонистка Гореева рассказала, что в масс-ст...  \n32  Биатлонистка Казакевич о масс-старте на этапе ...  \n33  «Локомотив» не получит преимущества в матче Ку...  \n34  «В российском футболе многое решается на уровн...  \n35  Биатлонистка Анастасия Гореева выиграла общий ...  \n36  Футболист «Спартака» Мозес рассказал, что в Ро...  \n37  Дербушева выиграла большой масс-старт на заклю...  \n38  Очки Кучерова, Сергачева и Наместникова не пом...  \n39  Форвард «Сент‑Луиса» Бучневич пропустит следую...  \n40  Фигуристка Константинова рассказала, что у нее...  \n41  Защитник «Адмирала» Уильямс попытался объяснит...  \n42  Два клуба КХЛ интересуются голкипером сборной ...  \n43  Защитник «Амура» Ли сломал ключицу в матче КХЛ...  \n44  Биатлонистка Гореева о состоянии перед масс-ст...  \n45  «Фримпонг говорил, что мы не даем ему играть и...  \n46  Шайба Кузьменко помогла «Ванкуверу» обыграть «...  \n47  «Матч звезд Единой лиги ВТБ — это игра по кайф...  \n48  Занимающая второе место в общем зачете Кубка Р...  \n49  «Абаскалю по фигу, кто чей игрок — он берет лу...  ",
      "text/html": "<div>\n<style scoped>\n    .dataframe tbody tr th:only-of-type {\n        vertical-align: middle;\n    }\n\n    .dataframe tbody tr th {\n        vertical-align: top;\n    }\n\n    .dataframe thead th {\n        text-align: right;\n    }\n</style>\n<table border=\"1\" class=\"dataframe\">\n  <thead>\n    <tr style=\"text-align: right;\">\n      <th></th>\n      <th>link</th>\n      <th>text</th>\n    </tr>\n  </thead>\n  <tbody>\n    <tr>\n      <th>0</th>\n      <td>https://matchtv.ru/biathlon/matchtvnews_NI1780...</td>\n      <td>«Личное — не публичное» — биатлонисты Халили и...</td>\n    </tr>\n    <tr>\n      <th>1</th>\n      <td>https://matchtv.ru/hockey/matchtvnews_NI178091...</td>\n      <td>Хоккейный клуб ЦСКА опроверг интерес к голкипе...</td>\n    </tr>\n    <tr>\n      <th>2</th>\n      <td>https://matchtv.ru/biathlon/matchtvnews_NI1780...</td>\n      <td>Экс-биатлонистка сборной России Подчуфарова пр...</td>\n    </tr>\n    <tr>\n      <th>3</th>\n      <td>https://matchtv.ru/biathlon/matchtvnews_NI1780...</td>\n      <td>Тренер биатлонистов Истомин заявил, что Халили...</td>\n    </tr>\n    <tr>\n      <th>4</th>\n      <td>https://matchtv.ru/biathlon/matchtvnews_NI1780...</td>\n      <td>Халили — о борьбе за победу в общем зачете КР:...</td>\n    </tr>\n    <tr>\n      <th>5</th>\n      <td>https://matchtv.ru/biathlon/matchtvnews_NI1780...</td>\n      <td>«У Бабикова получилась самая удачная гонка за ...</td>\n    </tr>\n    <tr>\n      <th>6</th>\n      <td>https://matchtv.ru/football/matchtvnews_NI1780...</td>\n      <td>«Краснодар» пока не вел переговоры о новых кон...</td>\n    </tr>\n    <tr>\n      <th>7</th>\n      <td>https://matchtv.ru/skiing/matchtvnews_NI178089...</td>\n      <td>В Москве состоялась первая любительская лыжная...</td>\n    </tr>\n    <tr>\n      <th>8</th>\n      <td>https://matchtv.ru/biathlon/matchtvnews_NI1780...</td>\n      <td>Бабиков рассказал, что выиграл большой масс-ст...</td>\n    </tr>\n    <tr>\n      <th>9</th>\n      <td>https://matchtv.ru/biathlon/matchtvnews_NI1780...</td>\n      <td>Карим Халили выиграл общий зачет Кубка России ...</td>\n    </tr>\n    <tr>\n      <th>10</th>\n      <td>https://matchtv.ru/football/matchtvnews_NI1780...</td>\n      <td>Тренер «Оренбурга» заявил, что Обухова можно и...</td>\n    </tr>\n    <tr>\n      <th>11</th>\n      <td>https://matchtv.ru/biathlon/matchtvnews_NI1780...</td>\n      <td>Бабиков одержал победу в большом масс-старте н...</td>\n    </tr>\n    <tr>\n      <th>12</th>\n      <td>https://matchtv.ru/football/matchtvnews_NI1780...</td>\n      <td>Снявшийся с чемпионата Турции «Хатайспор» отпр...</td>\n    </tr>\n    <tr>\n      <th>13</th>\n      <td>https://matchtv.ru/football/matchtvnews_NI1780...</td>\n      <td>Форвард «Крыльев» Сычевой: «Я говорил, что не ...</td>\n    </tr>\n    <tr>\n      <th>14</th>\n      <td>https://matchtv.ru/football/matchtvnews_NI1780...</td>\n      <td>«Редко увидишь Карпина серьезным. Он приятный ...</td>\n    </tr>\n    <tr>\n      <th>15</th>\n      <td>https://matchtv.ru/biathlon/matchtvnews_NI1780...</td>\n      <td>Биатлонист Латыпов однозначно боролся бы за пр...</td>\n    </tr>\n    <tr>\n      <th>16</th>\n      <td>https://matchtv.ru/football/matchtvnews_NI1780...</td>\n      <td>Сычевой назвал главную причину перехода из «Ор...</td>\n    </tr>\n    <tr>\n      <th>17</th>\n      <td>https://matchtv.ru/biathlon/matchtvnews_NI1780...</td>\n      <td>Латыпов рассказал о дружбе с иностранными биат...</td>\n    </tr>\n    <tr>\n      <th>18</th>\n      <td>https://matchtv.ru/football/matchtvnews_NI1780...</td>\n      <td>Сычевой рассчитывает поменять паспорт до начал...</td>\n    </tr>\n    <tr>\n      <th>19</th>\n      <td>https://matchtv.ru/football/matchtvnews_NI1780...</td>\n      <td>«Семак — абсолютно лучший тренер в России» — К...</td>\n    </tr>\n    <tr>\n      <th>20</th>\n      <td>https://matchtv.ru/football/matchtvnews_NI1780...</td>\n      <td>«Галицкий мечтал, чтобы в «Краснодаре» играли ...</td>\n    </tr>\n    <tr>\n      <th>21</th>\n      <td>https://matchtv.ru/biathlon/matchtvnews_NI1780...</td>\n      <td>«Я второй победитель. У Гореевой глобус, но бу...</td>\n    </tr>\n    <tr>\n      <th>22</th>\n      <td>https://matchtv.ru/football/matchtvnews_NI1780...</td>\n      <td>Главный тренер «Факела» исключил возможность у...</td>\n    </tr>\n    <tr>\n      <th>23</th>\n      <td>https://matchtv.ru/football/matchtvnews_NI1780...</td>\n      <td>Футбольный тренер Сергей Кирьяков сравнил жизн...</td>\n    </tr>\n    <tr>\n      <th>24</th>\n      <td>https://matchtv.ru/biathlon/matchtvnews_NI1780...</td>\n      <td>Миронова — о первом старте на Кубке России: «Р...</td>\n    </tr>\n    <tr>\n      <th>25</th>\n      <td>https://matchtv.ru/biathlon/matchtvnews_NI1780...</td>\n      <td>Биатлонистка Гореева посвятила победу в общем ...</td>\n    </tr>\n    <tr>\n      <th>26</th>\n      <td>https://matchtv.ru/biathlon/matchtvnews_NI1780...</td>\n      <td>«Если человек приболел, лучше поберечься. У на...</td>\n    </tr>\n    <tr>\n      <th>27</th>\n      <td>https://matchtv.ru/biathlon/matchtvnews_NI1780...</td>\n      <td>Биатлонистка Гербулова: «Безумно рада, что в э...</td>\n    </tr>\n    <tr>\n      <th>28</th>\n      <td>https://matchtv.ru/biathlon/matchtvnews_NI1780...</td>\n      <td>«Казакевич подбадривала меня своей уходящей сп...</td>\n    </tr>\n    <tr>\n      <th>29</th>\n      <td>https://matchtv.ru/biathlon/matchtvnews_NI1780...</td>\n      <td>Биатлонистка Сливко: «Очки по ходу масс-старта...</td>\n    </tr>\n    <tr>\n      <th>30</th>\n      <td>https://matchtv.ru/football/matchtvnews_NI1780...</td>\n      <td>Футболист Мозес: «И без меня «Спартак» выгляди...</td>\n    </tr>\n    <tr>\n      <th>31</th>\n      <td>https://matchtv.ru/biathlon/matchtvnews_NI1780...</td>\n      <td>Биатлонистка Гореева рассказала, что в масс-ст...</td>\n    </tr>\n    <tr>\n      <th>32</th>\n      <td>https://matchtv.ru/biathlon/matchtvnews_NI1780...</td>\n      <td>Биатлонистка Казакевич о масс-старте на этапе ...</td>\n    </tr>\n    <tr>\n      <th>33</th>\n      <td>https://matchtv.ru/football/matchtvnews_NI1780...</td>\n      <td>«Локомотив» не получит преимущества в матче Ку...</td>\n    </tr>\n    <tr>\n      <th>34</th>\n      <td>https://matchtv.ru/football/matchtvnews_NI1780...</td>\n      <td>«В российском футболе многое решается на уровн...</td>\n    </tr>\n    <tr>\n      <th>35</th>\n      <td>https://matchtv.ru/biathlon/matchtvnews_NI1780...</td>\n      <td>Биатлонистка Анастасия Гореева выиграла общий ...</td>\n    </tr>\n    <tr>\n      <th>36</th>\n      <td>https://matchtv.ru/football/matchtvnews_NI1780...</td>\n      <td>Футболист «Спартака» Мозес рассказал, что в Ро...</td>\n    </tr>\n    <tr>\n      <th>37</th>\n      <td>https://matchtv.ru/biathlon/matchtvnews_NI1780...</td>\n      <td>Дербушева выиграла большой масс-старт на заклю...</td>\n    </tr>\n    <tr>\n      <th>38</th>\n      <td>https://matchtv.ru/hockey/matchtvnews_NI178085...</td>\n      <td>Очки Кучерова, Сергачева и Наместникова не пом...</td>\n    </tr>\n    <tr>\n      <th>39</th>\n      <td>https://matchtv.ru/hockey/matchtvnews_NI177876...</td>\n      <td>Форвард «Сент‑Луиса» Бучневич пропустит следую...</td>\n    </tr>\n    <tr>\n      <th>40</th>\n      <td>https://matchtv.ru/figure-skating/matchtvnews_...</td>\n      <td>Фигуристка Константинова рассказала, что у нее...</td>\n    </tr>\n    <tr>\n      <th>41</th>\n      <td>https://matchtv.ru/hockey/matchtvnews_NI178083...</td>\n      <td>Защитник «Адмирала» Уильямс попытался объяснит...</td>\n    </tr>\n    <tr>\n      <th>42</th>\n      <td>https://matchtv.ru/hockey/matchtvnews_NI178084...</td>\n      <td>Два клуба КХЛ интересуются голкипером сборной ...</td>\n    </tr>\n    <tr>\n      <th>43</th>\n      <td>https://matchtv.ru/hockey/matchtvnews_NI178084...</td>\n      <td>Защитник «Амура» Ли сломал ключицу в матче КХЛ...</td>\n    </tr>\n    <tr>\n      <th>44</th>\n      <td>https://matchtv.ru/biathlon/matchtvnews_NI1780...</td>\n      <td>Биатлонистка Гореева о состоянии перед масс-ст...</td>\n    </tr>\n    <tr>\n      <th>45</th>\n      <td>https://matchtv.ru/football/matchtvnews_NI1780...</td>\n      <td>«Фримпонг говорил, что мы не даем ему играть и...</td>\n    </tr>\n    <tr>\n      <th>46</th>\n      <td>https://matchtv.ru/hockey/matchtvnews_NI178083...</td>\n      <td>Шайба Кузьменко помогла «Ванкуверу» обыграть «...</td>\n    </tr>\n    <tr>\n      <th>47</th>\n      <td>https://matchtv.ru/basketball/matchtvnews_NI17...</td>\n      <td>«Матч звезд Единой лиги ВТБ — это игра по кайф...</td>\n    </tr>\n    <tr>\n      <th>48</th>\n      <td>https://matchtv.ru/biathlon/matchtvnews_NI1780...</td>\n      <td>Занимающая второе место в общем зачете Кубка Р...</td>\n    </tr>\n    <tr>\n      <th>49</th>\n      <td>https://matchtv.ru/football/matchtvnews_NI1780...</td>\n      <td>«Абаскалю по фигу, кто чей игрок — он берет лу...</td>\n    </tr>\n  </tbody>\n</table>\n</div>"
     },
     "execution_count": 5,
     "metadata": {},
     "output_type": "execute_result"
    }
   ],
   "source": [
    "# загружаем необходимые модули и библиотеки\n",
    "import re\n",
    "import requests\n",
    "import pandas as pd\n",
    "from bs4 import BeautifulSoup\n",
    "from urllib.request import Request, urlopen\n",
    "\n",
    "#проверяем доступность сайта\n",
    "req = Request(\n",
    "    url='https://matchtv.ru/news',\n",
    "    headers={'User-Agent': 'Mozilla/5.0'}\n",
    ")\n",
    "website_url = urlopen(req).read()\n",
    "soup = BeautifulSoup(website_url, 'lxml')\n",
    "\n",
    "links = []\n",
    "news_link = soup.find_all('a', class_='node-news-list__item')\n",
    "for news in news_link:\n",
    "    links.append(\n",
    "        {\n",
    "            'link': 'https://matchtv.ru' + news.get('href'),\n",
    "            'text': news.get('title')#.lower().replace('«', '').replace('»', '').replace('— ', '')\n",
    "        })\n",
    "df1 = pd.DataFrame(links)\n",
    "df1"
   ],
   "metadata": {
    "collapsed": false,
    "pycharm": {
     "name": "#%%\n"
    }
   }
  },
  {
   "cell_type": "code",
   "execution_count": 6,
   "outputs": [
    {
     "data": {
      "text/plain": "Empty DataFrame\nColumns: []\nIndex: []",
      "text/html": "<div>\n<style scoped>\n    .dataframe tbody tr th:only-of-type {\n        vertical-align: middle;\n    }\n\n    .dataframe tbody tr th {\n        vertical-align: top;\n    }\n\n    .dataframe thead th {\n        text-align: right;\n    }\n</style>\n<table border=\"1\" class=\"dataframe\">\n  <thead>\n    <tr style=\"text-align: right;\">\n      <th></th>\n    </tr>\n  </thead>\n  <tbody>\n  </tbody>\n</table>\n</div>"
     },
     "execution_count": 6,
     "metadata": {},
     "output_type": "execute_result"
    }
   ],
   "source": [
    "df2 = pd.DataFrame()\n",
    "key_words = ['Манчестер', 'Лестер']\n",
    "key_words = [item.lower() for item in key_words]\n",
    "df1.text = [item.lower() for item in df1.text]\n",
    "for line in df1.text:\n",
    "    if all(word in line for word in key_words):\n",
    "        df0 = df1[df1.text.str.contains(line)]\n",
    "        df2 = pd.concat([df2, df0], axis= 0 )\n",
    "df2"
   ],
   "metadata": {
    "collapsed": false,
    "pycharm": {
     "name": "#%%\n"
    }
   }
  },
  {
   "cell_type": "code",
   "execution_count": 15,
   "outputs": [
    {
     "name": "stdout",
     "output_type": "stream",
     "text": [
      "Президент Союза биатлонистов России (СБР) Виктор Майгуров заявил «Матч ТВ», что российские спортсмены должны выступать на международных соревнованиях с флагом и гимном страны, юридических причин препятствовать этому нет. В феврале 2022 года Международный олимпийский комитет (МОК) рекомендовал не допускать россиян до участия в международных соревнованиях. В январе 2023‑го МОК объявил, что рассмотрит возможность допуска до мировых стартов в нейтральном статусе российских и белорусских спортсменов, которые не выступали с активной поддержкой СВО. — Думаю, у нас будет общая позиция ОКР по всем видам спорта, потому что нужно понимать: почему мы в нейтральном статусе, где это прописано? Если мы ничего не нарушили, давайте будем выступать на равных со всеми, — сказал Майгуров корреспонденту «Матч ТВ». — Должны быть и флаг, и гимн? — Да. Я не вижу юридических причин, за что нас можно допускать в нейтральном статусе. \n",
      "Биатлонистка Екатерина Носкова в разговоре с «Матч ТВ» заявила, что очень расстроена тем, что допустила несколько промахов во время спринта на финальном этапе PARI Кубка России по биатлону в Чайковском. Наталья Гербулова одержала победу в гонке, пройдя дистанцию в 7,5 км за 21 минуту 9,4 секунды и не допустив ни одного промаха на огневых рубежах. Второе место заняла Ирина Казакевич с одним промахом, она отстала от Гербуловой на 20,4 секунды. Третьей стала Анастасия Гореева (+27,7, один промах). Носкова заняла итоговое 11‑е место (+1 минута, 24,4 секунды; три промаха).  — Недовольна стрельбой, хоть и было неплохое самочувствие. Очень расстроена, что сегодня не удалось справиться сна стрельбище. Завтра поборемся, для того, чтобы приблизиться к лидерам, нужно будет стрелять лучше. — Что помешало во время стрельбы, вроде ветер несильный? — Будем говорить с тренерами, искать причины, посмотреть, куда были промахи. — В такую морозную погоду бегать дискомфортно? — Кажется, вчера было холоднее. Сегодня достаточно комфортно, — 10 градусов — это нормальная температура. \n"
     ]
    }
   ],
   "source": [
    "#проверяем доступность сайта\n",
    "news = ''\n",
    "text = ''\n",
    "for link in df2.link:\n",
    "    req = Request(\n",
    "        url=link,\n",
    "        headers={'User-Agent': 'Mozilla/5.0'}\n",
    "    )\n",
    "    website_url = urlopen(req).read()\n",
    "    soup = BeautifulSoup(website_url, 'lxml')\n",
    "\n",
    "    # Extract the title of the article\n",
    "    title = soup.find(\"h1\", itemprop=\"headline name\").text.strip() + \". \"\n",
    "\n",
    "    # Extract the text of the article\n",
    "    article_body = soup.find(\"div\", class_=\"article__content js-mediator-article\")\n",
    "\n",
    "    # Check the last p tags for the presence of a tags\n",
    "    for p in article_body.find_all(\"p\")[-3:]:\n",
    "        if p.find(\"i\"):\n",
    "            p.extract()\n",
    "    #\n",
    "    #     # Concatenate the text content of the remaining p tags\n",
    "    #     for p in article_body.find_all(\"p\"):\n",
    "    #         article_text += p.text.strip() + \" \"\n",
    "    #         text = title + article_text\n",
    "    #     text += '\\n'\n",
    "    # # for item in text.split('\\n'):\n",
    "    # #     if len(item.split(' ')) > 10:\n",
    "    # #         print (item)\n",
    "    #     print(text)\n",
    "\n",
    "\n",
    "    for td in article_body.find_all('p', class_=None):\n",
    "        news += str(td.text) + ' '\n",
    "    news += '\\n'\n",
    "for item in news.split('\\n'):\n",
    "    if len(item.split(' ')) > 100:\n",
    "        print (item)"
   ],
   "metadata": {
    "collapsed": false,
    "pycharm": {
     "name": "#%%\n"
    }
   }
  },
  {
   "cell_type": "code",
   "execution_count": null,
   "outputs": [],
   "source": [],
   "metadata": {
    "collapsed": false,
    "pycharm": {
     "name": "#%%\n"
    }
   }
  }
 ],
 "metadata": {
  "kernelspec": {
   "display_name": "Python 3",
   "language": "python",
   "name": "python3"
  },
  "language_info": {
   "codemirror_mode": {
    "name": "ipython",
    "version": 2
   },
   "file_extension": ".py",
   "mimetype": "text/x-python",
   "name": "python",
   "nbconvert_exporter": "python",
   "pygments_lexer": "ipython2",
   "version": "2.7.6"
  }
 },
 "nbformat": 4,
 "nbformat_minor": 0
}