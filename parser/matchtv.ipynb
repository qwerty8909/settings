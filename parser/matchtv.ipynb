{
 "cells": [
  {
   "cell_type": "code",
   "execution_count": 2,
   "outputs": [
    {
     "data": {
      "text/plain": "                                                 link  \\\n0   https://matchtv.ru/football/matchtvnews_NI1779...   \n1   https://matchtv.ru/football/matchtvnews_NI1779...   \n2   https://matchtv.ru/boxing/matchtvnews_NI177940...   \n3   https://matchtv.ru/football/matchtvnews_NI1779...   \n4   https://matchtv.ru/football/matchtvnews_NI1779...   \n5   https://matchtv.ru/football/matchtvnews_NI1779...   \n6   https://matchtv.ru/football/matchtvnews_NI1779...   \n7   https://matchtv.ru/football/matchtvnews_NI1779...   \n8   https://matchtv.ru/football/matchtvnews_NI1779...   \n9   https://matchtv.ru/football/matchtvnews_NI1779...   \n10  https://matchtv.ru/football/matchtvnews_NI1779...   \n11  https://matchtv.ru/football/matchtvnews_NI1779...   \n12  https://matchtv.ru/biathlon/matchtvnews_NI1779...   \n13  https://matchtv.ru/boxing/matchtvnews_NI177939...   \n14  https://matchtv.ru/football/matchtvnews_NI1779...   \n15  https://matchtv.ru/football/matchtvnews_NI1779...   \n16  https://matchtv.ru/biathlon/matchtvnews_NI1779...   \n17  https://matchtv.ru/boxing/matchtvnews_NI177938...   \n18  https://matchtv.ru/football/matchtvnews_NI1779...   \n19  https://matchtv.ru/biathlon/matchtvnews_NI1779...   \n20  https://matchtv.ru/biathlon/matchtvnews_NI1779...   \n21  https://matchtv.ru/figure-skating/matchtvnews_...   \n22  https://matchtv.ru/football/matchtvnews_NI1779...   \n23  https://matchtv.ru/football/matchtvnews_NI1779...   \n24  https://matchtv.ru/biathlon/matchtvnews_NI1779...   \n25  https://matchtv.ru/hockey/matchtvnews_NI177938...   \n26  https://matchtv.ru/biathlon/matchtvnews_NI1779...   \n27  https://matchtv.ru/basketball/matchtvnews_NI17...   \n28  https://matchtv.ru/football/matchtvnews_NI1779...   \n29  https://matchtv.ru/football/matchtvnews_NI1779...   \n30  https://matchtv.ru/football/matchtvnews_NI1779...   \n31  https://matchtv.ru/football/matchtvnews_NI1779...   \n32  https://matchtv.ru/hockey/matchtvnews_NI177936...   \n33  https://matchtv.ru/football/matchtvnews_NI1779...   \n34  https://matchtv.ru/figure-skating/matchtvnews_...   \n35  https://matchtv.ru/football/matchtvnews_NI1779...   \n36  https://matchtv.ru/biathlon/matchtvnews_NI1779...   \n37  https://matchtv.ru/football/matchtvnews_NI1779...   \n38  https://matchtv.ru/football/matchtvnews_NI1779...   \n39  https://matchtv.ru/figure-skating/matchtvnews_...   \n40  https://matchtv.ru/biathlon/matchtvnews_NI1779...   \n41  https://matchtv.ru/biathlon/matchtvnews_NI1779...   \n42  https://matchtv.ru/biathlon/matchtvnews_NI1779...   \n43  https://matchtv.ru/football/matchtvnews_NI1778...   \n44  https://matchtv.ru/football/matchtvnews_NI1778...   \n45  https://matchtv.ru/football/matchtvnews_NI1778...   \n46  https://matchtv.ru/biathlon/matchtvnews_NI1779...   \n47  https://matchtv.ru/biathlon/matchtvnews_NI1779...   \n48  https://matchtv.ru/football/matchtvnews_NI1779...   \n49  https://matchtv.ru/football/matchtvnews_NI1779...   \n\n                                                 text  \n0   Россия — хоккейная страна, а не футбольная, сч...  \n1   «Давно шли перепалки Нобоа и его девушки, не д...  \n2   Менеджер Сергея Павловича подтвердил информаци...  \n3   «Спортивным журналистам порой не хватает профе...  \n4   Чалов прокомментировал информацию об интересе ...  \n5   Нападающий «Торпедо» Лебеденко заявил, что уро...  \n6   Представитель Оздоева уверен, что Кузяев может...  \n7   «Сам факт того, что на нее подняли руку, это у...  \n8   «Все здоровы, это самое важное» — Семак о заве...  \n9   РФС запретил «Рубину» регистрировать новых фут...  \n10  «Наверное, Дзюба за 13 туров сможет забить пят...  \n11  «Накачали губки, подкачали попку, и жизнь удал...  \n12  Президент СБР высказался о возможном переходе ...  \n13  Исмаилов и Штырков проведут 6-раундовый бой по...  \n14  Призер КМ по кикбоксингу Семенова не верит в п...  \n15  Абаскаль заслужил продление контракта со «Спар...  \n16  «СБР не станет оспаривать решение CAS по отстр...  \n17  Во Всемирной федерации тхэквондо заявили о гот...  \n18  Абидаль: «Горжусь такими футболистами, как Арш...  \n19  Президент Союза биатлонистов России: «Ставим п...  \n20  Глава СБР Майгуров считает, что юридически нев...  \n21  Тарасова считает, что Авербух и Ягудин из-за г...  \n22  «РФС предоставил в суд документы о том, что Ма...  \n23  Чалов назвал партнера по ЦСКА, с которым ему в...  \n24  «Девушки с тренерами лучше оценивают свои возм...  \n25  Майоров не верит, что «Спартак» попадет в плей...  \n26  «Бальзам на душу, когда Гербулова выигрывает ф...  \n27  Фридзон заменит травмированного Эртеля на Матч...  \n28  «РФС ценит свою репутацию больше, чем репутаци...  \n29  Глава судейского комитета РФС Каманцев рассказ...  \n30  «Барселона» — «Манчестер Юнайтед»: где смотрет...  \n31  «Арбитры заинтересованы в том, чтобы ни у кого...  \n32  Российский нападающий «Нью-Йорк Рейнджерс» Арт...  \n33  Сборная Узбекистана по футболу готова провести...  \n34  Танцоры Миронова и Устенко подадут заявку на у...  \n35  Каманцев считает, что РПЛ не стоит тратить дес...  \n36  Гербулова рассказала, что помогло ей выиграть ...  \n37  Судья Матюнин отказался от иска к «РБ Спорт» п...  \n38  Сборная России по футболу в марте проведет тов...  \n39  Фигуристы группы Рослякова не примут участие в...  \n40  «Неплохо, но стрельбой, конечно, недовольна» —...  \n41  Биатлонистка Носкова осталась недовольна тем, ...  \n42  Елизавета Каплина выиграла малый глобус в спри...  \n43  Каманцев считает, что российские арбитры лучше...  \n44  «Не представляю, чтобы Карасев отказался от ра...  \n45  «РФС считает нецелесообразным дальнейшее сотру...  \n46  Биатлонистка Каюмова рассказала, что в первой ...  \n47  Гербулова победила в спринтерской гонке в фина...  \n48  «Спартак» вынудил «Зенит» усиливать состав это...  \n49  «Специя», за которую выступает Шомуродов, увол...  ",
      "text/html": "<div>\n<style scoped>\n    .dataframe tbody tr th:only-of-type {\n        vertical-align: middle;\n    }\n\n    .dataframe tbody tr th {\n        vertical-align: top;\n    }\n\n    .dataframe thead th {\n        text-align: right;\n    }\n</style>\n<table border=\"1\" class=\"dataframe\">\n  <thead>\n    <tr style=\"text-align: right;\">\n      <th></th>\n      <th>link</th>\n      <th>text</th>\n    </tr>\n  </thead>\n  <tbody>\n    <tr>\n      <th>0</th>\n      <td>https://matchtv.ru/football/matchtvnews_NI1779...</td>\n      <td>Россия — хоккейная страна, а не футбольная, сч...</td>\n    </tr>\n    <tr>\n      <th>1</th>\n      <td>https://matchtv.ru/football/matchtvnews_NI1779...</td>\n      <td>«Давно шли перепалки Нобоа и его девушки, не д...</td>\n    </tr>\n    <tr>\n      <th>2</th>\n      <td>https://matchtv.ru/boxing/matchtvnews_NI177940...</td>\n      <td>Менеджер Сергея Павловича подтвердил информаци...</td>\n    </tr>\n    <tr>\n      <th>3</th>\n      <td>https://matchtv.ru/football/matchtvnews_NI1779...</td>\n      <td>«Спортивным журналистам порой не хватает профе...</td>\n    </tr>\n    <tr>\n      <th>4</th>\n      <td>https://matchtv.ru/football/matchtvnews_NI1779...</td>\n      <td>Чалов прокомментировал информацию об интересе ...</td>\n    </tr>\n    <tr>\n      <th>5</th>\n      <td>https://matchtv.ru/football/matchtvnews_NI1779...</td>\n      <td>Нападающий «Торпедо» Лебеденко заявил, что уро...</td>\n    </tr>\n    <tr>\n      <th>6</th>\n      <td>https://matchtv.ru/football/matchtvnews_NI1779...</td>\n      <td>Представитель Оздоева уверен, что Кузяев может...</td>\n    </tr>\n    <tr>\n      <th>7</th>\n      <td>https://matchtv.ru/football/matchtvnews_NI1779...</td>\n      <td>«Сам факт того, что на нее подняли руку, это у...</td>\n    </tr>\n    <tr>\n      <th>8</th>\n      <td>https://matchtv.ru/football/matchtvnews_NI1779...</td>\n      <td>«Все здоровы, это самое важное» — Семак о заве...</td>\n    </tr>\n    <tr>\n      <th>9</th>\n      <td>https://matchtv.ru/football/matchtvnews_NI1779...</td>\n      <td>РФС запретил «Рубину» регистрировать новых фут...</td>\n    </tr>\n    <tr>\n      <th>10</th>\n      <td>https://matchtv.ru/football/matchtvnews_NI1779...</td>\n      <td>«Наверное, Дзюба за 13 туров сможет забить пят...</td>\n    </tr>\n    <tr>\n      <th>11</th>\n      <td>https://matchtv.ru/football/matchtvnews_NI1779...</td>\n      <td>«Накачали губки, подкачали попку, и жизнь удал...</td>\n    </tr>\n    <tr>\n      <th>12</th>\n      <td>https://matchtv.ru/biathlon/matchtvnews_NI1779...</td>\n      <td>Президент СБР высказался о возможном переходе ...</td>\n    </tr>\n    <tr>\n      <th>13</th>\n      <td>https://matchtv.ru/boxing/matchtvnews_NI177939...</td>\n      <td>Исмаилов и Штырков проведут 6-раундовый бой по...</td>\n    </tr>\n    <tr>\n      <th>14</th>\n      <td>https://matchtv.ru/football/matchtvnews_NI1779...</td>\n      <td>Призер КМ по кикбоксингу Семенова не верит в п...</td>\n    </tr>\n    <tr>\n      <th>15</th>\n      <td>https://matchtv.ru/football/matchtvnews_NI1779...</td>\n      <td>Абаскаль заслужил продление контракта со «Спар...</td>\n    </tr>\n    <tr>\n      <th>16</th>\n      <td>https://matchtv.ru/biathlon/matchtvnews_NI1779...</td>\n      <td>«СБР не станет оспаривать решение CAS по отстр...</td>\n    </tr>\n    <tr>\n      <th>17</th>\n      <td>https://matchtv.ru/boxing/matchtvnews_NI177938...</td>\n      <td>Во Всемирной федерации тхэквондо заявили о гот...</td>\n    </tr>\n    <tr>\n      <th>18</th>\n      <td>https://matchtv.ru/football/matchtvnews_NI1779...</td>\n      <td>Абидаль: «Горжусь такими футболистами, как Арш...</td>\n    </tr>\n    <tr>\n      <th>19</th>\n      <td>https://matchtv.ru/biathlon/matchtvnews_NI1779...</td>\n      <td>Президент Союза биатлонистов России: «Ставим п...</td>\n    </tr>\n    <tr>\n      <th>20</th>\n      <td>https://matchtv.ru/biathlon/matchtvnews_NI1779...</td>\n      <td>Глава СБР Майгуров считает, что юридически нев...</td>\n    </tr>\n    <tr>\n      <th>21</th>\n      <td>https://matchtv.ru/figure-skating/matchtvnews_...</td>\n      <td>Тарасова считает, что Авербух и Ягудин из-за г...</td>\n    </tr>\n    <tr>\n      <th>22</th>\n      <td>https://matchtv.ru/football/matchtvnews_NI1779...</td>\n      <td>«РФС предоставил в суд документы о том, что Ма...</td>\n    </tr>\n    <tr>\n      <th>23</th>\n      <td>https://matchtv.ru/football/matchtvnews_NI1779...</td>\n      <td>Чалов назвал партнера по ЦСКА, с которым ему в...</td>\n    </tr>\n    <tr>\n      <th>24</th>\n      <td>https://matchtv.ru/biathlon/matchtvnews_NI1779...</td>\n      <td>«Девушки с тренерами лучше оценивают свои возм...</td>\n    </tr>\n    <tr>\n      <th>25</th>\n      <td>https://matchtv.ru/hockey/matchtvnews_NI177938...</td>\n      <td>Майоров не верит, что «Спартак» попадет в плей...</td>\n    </tr>\n    <tr>\n      <th>26</th>\n      <td>https://matchtv.ru/biathlon/matchtvnews_NI1779...</td>\n      <td>«Бальзам на душу, когда Гербулова выигрывает ф...</td>\n    </tr>\n    <tr>\n      <th>27</th>\n      <td>https://matchtv.ru/basketball/matchtvnews_NI17...</td>\n      <td>Фридзон заменит травмированного Эртеля на Матч...</td>\n    </tr>\n    <tr>\n      <th>28</th>\n      <td>https://matchtv.ru/football/matchtvnews_NI1779...</td>\n      <td>«РФС ценит свою репутацию больше, чем репутаци...</td>\n    </tr>\n    <tr>\n      <th>29</th>\n      <td>https://matchtv.ru/football/matchtvnews_NI1779...</td>\n      <td>Глава судейского комитета РФС Каманцев рассказ...</td>\n    </tr>\n    <tr>\n      <th>30</th>\n      <td>https://matchtv.ru/football/matchtvnews_NI1779...</td>\n      <td>«Барселона» — «Манчестер Юнайтед»: где смотрет...</td>\n    </tr>\n    <tr>\n      <th>31</th>\n      <td>https://matchtv.ru/football/matchtvnews_NI1779...</td>\n      <td>«Арбитры заинтересованы в том, чтобы ни у кого...</td>\n    </tr>\n    <tr>\n      <th>32</th>\n      <td>https://matchtv.ru/hockey/matchtvnews_NI177936...</td>\n      <td>Российский нападающий «Нью-Йорк Рейнджерс» Арт...</td>\n    </tr>\n    <tr>\n      <th>33</th>\n      <td>https://matchtv.ru/football/matchtvnews_NI1779...</td>\n      <td>Сборная Узбекистана по футболу готова провести...</td>\n    </tr>\n    <tr>\n      <th>34</th>\n      <td>https://matchtv.ru/figure-skating/matchtvnews_...</td>\n      <td>Танцоры Миронова и Устенко подадут заявку на у...</td>\n    </tr>\n    <tr>\n      <th>35</th>\n      <td>https://matchtv.ru/football/matchtvnews_NI1779...</td>\n      <td>Каманцев считает, что РПЛ не стоит тратить дес...</td>\n    </tr>\n    <tr>\n      <th>36</th>\n      <td>https://matchtv.ru/biathlon/matchtvnews_NI1779...</td>\n      <td>Гербулова рассказала, что помогло ей выиграть ...</td>\n    </tr>\n    <tr>\n      <th>37</th>\n      <td>https://matchtv.ru/football/matchtvnews_NI1779...</td>\n      <td>Судья Матюнин отказался от иска к «РБ Спорт» п...</td>\n    </tr>\n    <tr>\n      <th>38</th>\n      <td>https://matchtv.ru/football/matchtvnews_NI1779...</td>\n      <td>Сборная России по футболу в марте проведет тов...</td>\n    </tr>\n    <tr>\n      <th>39</th>\n      <td>https://matchtv.ru/figure-skating/matchtvnews_...</td>\n      <td>Фигуристы группы Рослякова не примут участие в...</td>\n    </tr>\n    <tr>\n      <th>40</th>\n      <td>https://matchtv.ru/biathlon/matchtvnews_NI1779...</td>\n      <td>«Неплохо, но стрельбой, конечно, недовольна» —...</td>\n    </tr>\n    <tr>\n      <th>41</th>\n      <td>https://matchtv.ru/biathlon/matchtvnews_NI1779...</td>\n      <td>Биатлонистка Носкова осталась недовольна тем, ...</td>\n    </tr>\n    <tr>\n      <th>42</th>\n      <td>https://matchtv.ru/biathlon/matchtvnews_NI1779...</td>\n      <td>Елизавета Каплина выиграла малый глобус в спри...</td>\n    </tr>\n    <tr>\n      <th>43</th>\n      <td>https://matchtv.ru/football/matchtvnews_NI1778...</td>\n      <td>Каманцев считает, что российские арбитры лучше...</td>\n    </tr>\n    <tr>\n      <th>44</th>\n      <td>https://matchtv.ru/football/matchtvnews_NI1778...</td>\n      <td>«Не представляю, чтобы Карасев отказался от ра...</td>\n    </tr>\n    <tr>\n      <th>45</th>\n      <td>https://matchtv.ru/football/matchtvnews_NI1778...</td>\n      <td>«РФС считает нецелесообразным дальнейшее сотру...</td>\n    </tr>\n    <tr>\n      <th>46</th>\n      <td>https://matchtv.ru/biathlon/matchtvnews_NI1779...</td>\n      <td>Биатлонистка Каюмова рассказала, что в первой ...</td>\n    </tr>\n    <tr>\n      <th>47</th>\n      <td>https://matchtv.ru/biathlon/matchtvnews_NI1779...</td>\n      <td>Гербулова победила в спринтерской гонке в фина...</td>\n    </tr>\n    <tr>\n      <th>48</th>\n      <td>https://matchtv.ru/football/matchtvnews_NI1779...</td>\n      <td>«Спартак» вынудил «Зенит» усиливать состав это...</td>\n    </tr>\n    <tr>\n      <th>49</th>\n      <td>https://matchtv.ru/football/matchtvnews_NI1779...</td>\n      <td>«Специя», за которую выступает Шомуродов, увол...</td>\n    </tr>\n  </tbody>\n</table>\n</div>"
     },
     "execution_count": 2,
     "metadata": {},
     "output_type": "execute_result"
    }
   ],
   "source": [
    "# загружаем необходимые модули и библиотеки\n",
    "import re\n",
    "import requests\n",
    "import pandas as pd\n",
    "from bs4 import BeautifulSoup\n",
    "from urllib.request import Request, urlopen\n",
    "\n",
    "#проверяем доступность сайта\n",
    "req = Request(\n",
    "    url='https://matchtv.ru/news',\n",
    "    headers={'User-Agent': 'Mozilla/5.0'}\n",
    ")\n",
    "website_url = urlopen(req).read()\n",
    "soup = BeautifulSoup(website_url, 'lxml')\n",
    "\n",
    "links = []\n",
    "news_link = soup.find_all('a', class_='node-news-list__item')\n",
    "for news in news_link:\n",
    "    links.append(\n",
    "        {\n",
    "            'link': 'https://matchtv.ru' + news.get('href'),\n",
    "            'text': news.get('title')#.lower().replace('«', '').replace('»', '').replace('— ', '')\n",
    "        })\n",
    "df1 = pd.DataFrame(links)\n",
    "df1"
   ],
   "metadata": {
    "collapsed": false,
    "pycharm": {
     "name": "#%%\n"
    }
   }
  },
  {
   "cell_type": "code",
   "execution_count": 13,
   "outputs": [
    {
     "data": {
      "text/plain": "                                                 link  \\\n20  https://matchtv.ru/biathlon/matchtvnews_NI1779...   \n41  https://matchtv.ru/biathlon/matchtvnews_NI1779...   \n\n                                                 text  \n20  глава сбр майгуров считает, что юридически нев...  \n41  биатлонистка носкова осталась недовольна тем, ...  ",
      "text/html": "<div>\n<style scoped>\n    .dataframe tbody tr th:only-of-type {\n        vertical-align: middle;\n    }\n\n    .dataframe tbody tr th {\n        vertical-align: top;\n    }\n\n    .dataframe thead th {\n        text-align: right;\n    }\n</style>\n<table border=\"1\" class=\"dataframe\">\n  <thead>\n    <tr style=\"text-align: right;\">\n      <th></th>\n      <th>link</th>\n      <th>text</th>\n    </tr>\n  </thead>\n  <tbody>\n    <tr>\n      <th>20</th>\n      <td>https://matchtv.ru/biathlon/matchtvnews_NI1779...</td>\n      <td>глава сбр майгуров считает, что юридически нев...</td>\n    </tr>\n    <tr>\n      <th>41</th>\n      <td>https://matchtv.ru/biathlon/matchtvnews_NI1779...</td>\n      <td>биатлонистка носкова осталась недовольна тем, ...</td>\n    </tr>\n  </tbody>\n</table>\n</div>"
     },
     "execution_count": 13,
     "metadata": {},
     "output_type": "execute_result"
    }
   ],
   "source": [
    "df2 = pd.DataFrame()\n",
    "key_words = ['росс', 'что', 'не']\n",
    "key_words = [item.lower() for item in key_words]\n",
    "df1.text = [item.lower() for item in df1.text]\n",
    "for line in df1.text:\n",
    "    if all(word in line for word in key_words):\n",
    "        df0 = df1[df1.text.str.contains(line)]\n",
    "        df2 = pd.concat([df2, df0], axis= 0 )\n",
    "df2"
   ],
   "metadata": {
    "collapsed": false,
    "pycharm": {
     "name": "#%%\n"
    }
   }
  },
  {
   "cell_type": "code",
   "execution_count": 15,
   "outputs": [
    {
     "name": "stdout",
     "output_type": "stream",
     "text": [
      "Президент Союза биатлонистов России (СБР) Виктор Майгуров заявил «Матч ТВ», что российские спортсмены должны выступать на международных соревнованиях с флагом и гимном страны, юридических причин препятствовать этому нет. В феврале 2022 года Международный олимпийский комитет (МОК) рекомендовал не допускать россиян до участия в международных соревнованиях. В январе 2023‑го МОК объявил, что рассмотрит возможность допуска до мировых стартов в нейтральном статусе российских и белорусских спортсменов, которые не выступали с активной поддержкой СВО. — Думаю, у нас будет общая позиция ОКР по всем видам спорта, потому что нужно понимать: почему мы в нейтральном статусе, где это прописано? Если мы ничего не нарушили, давайте будем выступать на равных со всеми, — сказал Майгуров корреспонденту «Матч ТВ». — Должны быть и флаг, и гимн? — Да. Я не вижу юридических причин, за что нас можно допускать в нейтральном статусе. \n",
      "Биатлонистка Екатерина Носкова в разговоре с «Матч ТВ» заявила, что очень расстроена тем, что допустила несколько промахов во время спринта на финальном этапе PARI Кубка России по биатлону в Чайковском. Наталья Гербулова одержала победу в гонке, пройдя дистанцию в 7,5 км за 21 минуту 9,4 секунды и не допустив ни одного промаха на огневых рубежах. Второе место заняла Ирина Казакевич с одним промахом, она отстала от Гербуловой на 20,4 секунды. Третьей стала Анастасия Гореева (+27,7, один промах). Носкова заняла итоговое 11‑е место (+1 минута, 24,4 секунды; три промаха).  — Недовольна стрельбой, хоть и было неплохое самочувствие. Очень расстроена, что сегодня не удалось справиться сна стрельбище. Завтра поборемся, для того, чтобы приблизиться к лидерам, нужно будет стрелять лучше. — Что помешало во время стрельбы, вроде ветер несильный? — Будем говорить с тренерами, искать причины, посмотреть, куда были промахи. — В такую морозную погоду бегать дискомфортно? — Кажется, вчера было холоднее. Сегодня достаточно комфортно, — 10 градусов — это нормальная температура. \n"
     ]
    }
   ],
   "source": [
    "#проверяем доступность сайта\n",
    "news = ''\n",
    "text = ''\n",
    "for link in df2.link:\n",
    "    req = Request(\n",
    "        url=link,\n",
    "        headers={'User-Agent': 'Mozilla/5.0'}\n",
    "    )\n",
    "    website_url = urlopen(req).read()\n",
    "    soup = BeautifulSoup(website_url, 'lxml')\n",
    "\n",
    "    # Extract the title of the article\n",
    "    title = soup.find(\"h1\", itemprop=\"headline name\").text.strip() + \". \"\n",
    "\n",
    "    # Extract the text of the article\n",
    "    article_body = soup.find(\"div\", class_=\"article__content js-mediator-article\")\n",
    "\n",
    "    # Check the last p tags for the presence of a tags\n",
    "    for p in article_body.find_all(\"p\")[-3:]:\n",
    "        if p.find(\"i\"):\n",
    "            p.extract()\n",
    "    #\n",
    "    #     # Concatenate the text content of the remaining p tags\n",
    "    #     for p in article_body.find_all(\"p\"):\n",
    "    #         article_text += p.text.strip() + \" \"\n",
    "    #         text = title + article_text\n",
    "    #     text += '\\n'\n",
    "    # # for item in text.split('\\n'):\n",
    "    # #     if len(item.split(' ')) > 10:\n",
    "    # #         print (item)\n",
    "    #     print(text)\n",
    "\n",
    "\n",
    "    for td in article_body.find_all('p', class_=None):\n",
    "        news += str(td.text) + ' '\n",
    "    news += '\\n'\n",
    "for item in news.split('\\n'):\n",
    "    if len(item.split(' ')) > 100:\n",
    "        print (item)"
   ],
   "metadata": {
    "collapsed": false,
    "pycharm": {
     "name": "#%%\n"
    }
   }
  },
  {
   "cell_type": "code",
   "execution_count": null,
   "outputs": [],
   "source": [],
   "metadata": {
    "collapsed": false,
    "pycharm": {
     "name": "#%%\n"
    }
   }
  }
 ],
 "metadata": {
  "kernelspec": {
   "display_name": "Python 3",
   "language": "python",
   "name": "python3"
  },
  "language_info": {
   "codemirror_mode": {
    "name": "ipython",
    "version": 2
   },
   "file_extension": ".py",
   "mimetype": "text/x-python",
   "name": "python",
   "nbconvert_exporter": "python",
   "pygments_lexer": "ipython2",
   "version": "2.7.6"
  }
 },
 "nbformat": 4,
 "nbformat_minor": 0
}