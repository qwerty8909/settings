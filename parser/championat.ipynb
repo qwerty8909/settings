{
 "cells": [
  {
   "cell_type": "code",
   "execution_count": 18,
   "metadata": {
    "collapsed": true,
    "pycharm": {
     "name": "#%%\n"
    }
   },
   "outputs": [
    {
     "data": {
      "text/plain": "                                                 link  \\\n0   https://www.championat.com/biathlon/news-49988...   \n1   https://www.championat.com/football/news-49988...   \n2   https://www.championat.com/basketball/news-499...   \n3   https://www.championat.com/figureskating/news-...   \n4   https://www.championat.com/auto/news-4998883-d...   \n5   https://www.championat.com/cybersport/news-499...   \n6   https://www.championat.com/bets/news-4998775-p...   \n7   https://www.championat.com/auto/news-4998871-h...   \n8   https://www.championat.com/biathlon/news-49988...   \n9   https://www.championat.com/hockey/news-4998859...   \n10  https://www.championat.com/football/news-49988...   \n11  https://www.championat.com/basketball/news-499...   \n12  https://www.championat.com/football/news-49988...   \n13  https://www.championat.com/other/news-4998863-...   \n14  https://www.championat.com/bets/news-4998847-a...   \n15  https://www.championat.com/football/news-49988...   \n16  https://www.championat.com/football/news-49988...   \n17  https://www.championat.com/boxing/news-4998861...   \n18  https://www.championat.com/football/news-49988...   \n19  https://www.championat.com/tennis/news-4998851...   \n20  https://www.championat.com/football/news-49988...   \n21  https://www.championat.com/bets/news-4998815-p...   \n22  https://www.championat.com/football/news-49988...   \n23  https://www.championat.com/hockey/news-4998845...   \n24  https://www.championat.com/football/news-49988...   \n25  https://www.championat.com/boxing/news-4998843...   \n26  https://www.championat.com/cybersport/news-499...   \n27  https://www.championat.com/football/news-49987...   \n28  https://www.championat.com/football/news-49988...   \n29  https://www.championat.com/bets/news-4998817-a...   \n30  https://www.championat.com/football/news-49988...   \n31  https://www.championat.com/biathlon/news-49988...   \n32  https://www.championat.com/football/news-49988...   \n33  https://www.championat.com/tennis/news-4998759...   \n34  https://www.championat.com/football/news-49988...   \n35  https://www.championat.com/biathlon/news-49988...   \n36  https://www.championat.com/football/news-49987...   \n37  https://www.championat.com/basketball/news-499...   \n38  https://www.championat.com/football/news-49987...   \n39  https://www.championat.com/football/news-49987...   \n40  https://www.championat.com/bets/news-4997663-b...   \n41  https://www.championat.com/auto/news-4998821-p...   \n42  https://www.championat.com/biathlon/news-49987...   \n43  https://www.championat.com/hockey/news-4998791...   \n44  https://www.championat.com/basketball/news-499...   \n45  https://www.championat.com/football/news-49987...   \n46  https://www.championat.com/basketball/news-499...   \n47  https://www.championat.com/boxing/news-4998787...   \n48  https://www.championat.com/biathlon/news-49987...   \n49  https://www.championat.com/figureskating/news-...   \n\n                                                 text  \n0   Гореева — о бронзе в спринте на Кубке России: ...  \n1   Глава судейства РФС: про нас могут сказать пло...  \n2   Эмбиид набрал 10 000 очков за карьеру. Он сдел...  \n3   Восемь фигуристок заявили ультра-си в ПП в рам...  \n4   Даниил Квят заявлен на тесты IMSA в экипаже с ...  \n5   «Ариэль умерла». Новый тизер ремейка «Русалочк...  \n6   Прогноз на матч «Барселона» — «Манчестер Юнайт...  \n7   Хэмилтон высказался о потенциальном восьмом че...  \n8   Наталья Гербулова рассказала, что помогло ей о...  \n9   Георгиев о встрече с «Миннесотой»: эта игра бы...  \n10  «Лучшие условия на рынке». Каманцев — о постав...  \n11  Кевин Лав находится на финальной стадии выкупа...  \n12  «Перевесило желание вернуться в европейский фу...  \n13  Американского гроссмейстера обвинили в сексуал...  \n14  «Аякс» — «Унион»: прогноз Константина Генича н...  \n15  Глава судейского департамента ответил, осталас...  \n16  У вице-президента Украинской ассоциации футбол...  \n17  Мухаммад планирует получить титульный поединок...  \n18  Каманцев: судей спокойно можно полоскать. Писа...  \n19  «Это прекрасное чувство». Карлос Алькарас эмоц...  \n20  «Пиво, кто-нибудь?» Де Брёйне ответил фанатам ...  \n21  Прогноз Виктора Гусева на матч «Барселона» — «...  \n22  Конти оценил совместную работу в «Бенфике» с э...  \n23  Цуккарелло — о поражении от «Колорадо»: очки д...  \n24  Глава судей РФС: работа арбитром за 400 тыс. р...  \n25  Соннен объяснил, что нужно сделать Волкановски...  \n26  В Нью-Йорке на Таймс-сквер появилась реклама A...  \n27  «Какие же вы жалкие». «Минай» отреагировал на ...  \n28  Каманцев допустил, что Карасёв возобновит межд...  \n29  «Амур» — «Автомобилист»: прогноз Максима Лебед...  \n30  Защитник «Локомотива» Конти рассказал о сорвав...  \n31  Елизавета Каплина завоевала «Малый хрустальный...  \n32  В РФС рассказали, почему ФИФА и УЕФА не объясн...  \n33  Ига Свёнтек — о стиле своей игры: я не Рыбакин...  \n34  Каманцев ответил на вопрос об уголовной ответс...  \n35  «Люди думают, что норвежцы считают меня глупым...  \n36  Глава судейства РФС — о VAR: не будет видно вс...  \n37  Киселёв объяснил поражение команды в матче с «...  \n38  Глава департамента судейства рассказал, как в ...  \n39  Глава судей РФС заявил, что российские судьи л...  \n40  «Барселона» — «Манчестер Юнайтед»: фрибет 2000...  \n41  Пиастри: гоняться с такими героями детства, ка...  \n42  Казакевич — о серебре в спринте: какое-то не о...  \n43  Форвард «Рейнджерс»: у Панарина сумасшедшая сп...  \n44  Базаревич: после большого перерыва вышли так, ...  \n45  В Бразилии введут наказание за расизм на футбо...  \n46  Рэндл: было бы здорово сыграть с Леброном, пок...  \n47  Потенциальный соперник Махачева увидел полезны...  \n48  Наталья Гербулова выиграла спринт на шестом эт...  \n49  Оксана Домнина опровергла информацию о том, чт...  ",
      "text/html": "<div>\n<style scoped>\n    .dataframe tbody tr th:only-of-type {\n        vertical-align: middle;\n    }\n\n    .dataframe tbody tr th {\n        vertical-align: top;\n    }\n\n    .dataframe thead th {\n        text-align: right;\n    }\n</style>\n<table border=\"1\" class=\"dataframe\">\n  <thead>\n    <tr style=\"text-align: right;\">\n      <th></th>\n      <th>link</th>\n      <th>text</th>\n    </tr>\n  </thead>\n  <tbody>\n    <tr>\n      <th>0</th>\n      <td>https://www.championat.com/biathlon/news-49988...</td>\n      <td>Гореева — о бронзе в спринте на Кубке России: ...</td>\n    </tr>\n    <tr>\n      <th>1</th>\n      <td>https://www.championat.com/football/news-49988...</td>\n      <td>Глава судейства РФС: про нас могут сказать пло...</td>\n    </tr>\n    <tr>\n      <th>2</th>\n      <td>https://www.championat.com/basketball/news-499...</td>\n      <td>Эмбиид набрал 10 000 очков за карьеру. Он сдел...</td>\n    </tr>\n    <tr>\n      <th>3</th>\n      <td>https://www.championat.com/figureskating/news-...</td>\n      <td>Восемь фигуристок заявили ультра-си в ПП в рам...</td>\n    </tr>\n    <tr>\n      <th>4</th>\n      <td>https://www.championat.com/auto/news-4998883-d...</td>\n      <td>Даниил Квят заявлен на тесты IMSA в экипаже с ...</td>\n    </tr>\n    <tr>\n      <th>5</th>\n      <td>https://www.championat.com/cybersport/news-499...</td>\n      <td>«Ариэль умерла». Новый тизер ремейка «Русалочк...</td>\n    </tr>\n    <tr>\n      <th>6</th>\n      <td>https://www.championat.com/bets/news-4998775-p...</td>\n      <td>Прогноз на матч «Барселона» — «Манчестер Юнайт...</td>\n    </tr>\n    <tr>\n      <th>7</th>\n      <td>https://www.championat.com/auto/news-4998871-h...</td>\n      <td>Хэмилтон высказался о потенциальном восьмом че...</td>\n    </tr>\n    <tr>\n      <th>8</th>\n      <td>https://www.championat.com/biathlon/news-49988...</td>\n      <td>Наталья Гербулова рассказала, что помогло ей о...</td>\n    </tr>\n    <tr>\n      <th>9</th>\n      <td>https://www.championat.com/hockey/news-4998859...</td>\n      <td>Георгиев о встрече с «Миннесотой»: эта игра бы...</td>\n    </tr>\n    <tr>\n      <th>10</th>\n      <td>https://www.championat.com/football/news-49988...</td>\n      <td>«Лучшие условия на рынке». Каманцев — о постав...</td>\n    </tr>\n    <tr>\n      <th>11</th>\n      <td>https://www.championat.com/basketball/news-499...</td>\n      <td>Кевин Лав находится на финальной стадии выкупа...</td>\n    </tr>\n    <tr>\n      <th>12</th>\n      <td>https://www.championat.com/football/news-49988...</td>\n      <td>«Перевесило желание вернуться в европейский фу...</td>\n    </tr>\n    <tr>\n      <th>13</th>\n      <td>https://www.championat.com/other/news-4998863-...</td>\n      <td>Американского гроссмейстера обвинили в сексуал...</td>\n    </tr>\n    <tr>\n      <th>14</th>\n      <td>https://www.championat.com/bets/news-4998847-a...</td>\n      <td>«Аякс» — «Унион»: прогноз Константина Генича н...</td>\n    </tr>\n    <tr>\n      <th>15</th>\n      <td>https://www.championat.com/football/news-49988...</td>\n      <td>Глава судейского департамента ответил, осталас...</td>\n    </tr>\n    <tr>\n      <th>16</th>\n      <td>https://www.championat.com/football/news-49988...</td>\n      <td>У вице-президента Украинской ассоциации футбол...</td>\n    </tr>\n    <tr>\n      <th>17</th>\n      <td>https://www.championat.com/boxing/news-4998861...</td>\n      <td>Мухаммад планирует получить титульный поединок...</td>\n    </tr>\n    <tr>\n      <th>18</th>\n      <td>https://www.championat.com/football/news-49988...</td>\n      <td>Каманцев: судей спокойно можно полоскать. Писа...</td>\n    </tr>\n    <tr>\n      <th>19</th>\n      <td>https://www.championat.com/tennis/news-4998851...</td>\n      <td>«Это прекрасное чувство». Карлос Алькарас эмоц...</td>\n    </tr>\n    <tr>\n      <th>20</th>\n      <td>https://www.championat.com/football/news-49988...</td>\n      <td>«Пиво, кто-нибудь?» Де Брёйне ответил фанатам ...</td>\n    </tr>\n    <tr>\n      <th>21</th>\n      <td>https://www.championat.com/bets/news-4998815-p...</td>\n      <td>Прогноз Виктора Гусева на матч «Барселона» — «...</td>\n    </tr>\n    <tr>\n      <th>22</th>\n      <td>https://www.championat.com/football/news-49988...</td>\n      <td>Конти оценил совместную работу в «Бенфике» с э...</td>\n    </tr>\n    <tr>\n      <th>23</th>\n      <td>https://www.championat.com/hockey/news-4998845...</td>\n      <td>Цуккарелло — о поражении от «Колорадо»: очки д...</td>\n    </tr>\n    <tr>\n      <th>24</th>\n      <td>https://www.championat.com/football/news-49988...</td>\n      <td>Глава судей РФС: работа арбитром за 400 тыс. р...</td>\n    </tr>\n    <tr>\n      <th>25</th>\n      <td>https://www.championat.com/boxing/news-4998843...</td>\n      <td>Соннен объяснил, что нужно сделать Волкановски...</td>\n    </tr>\n    <tr>\n      <th>26</th>\n      <td>https://www.championat.com/cybersport/news-499...</td>\n      <td>В Нью-Йорке на Таймс-сквер появилась реклама A...</td>\n    </tr>\n    <tr>\n      <th>27</th>\n      <td>https://www.championat.com/football/news-49987...</td>\n      <td>«Какие же вы жалкие». «Минай» отреагировал на ...</td>\n    </tr>\n    <tr>\n      <th>28</th>\n      <td>https://www.championat.com/football/news-49988...</td>\n      <td>Каманцев допустил, что Карасёв возобновит межд...</td>\n    </tr>\n    <tr>\n      <th>29</th>\n      <td>https://www.championat.com/bets/news-4998817-a...</td>\n      <td>«Амур» — «Автомобилист»: прогноз Максима Лебед...</td>\n    </tr>\n    <tr>\n      <th>30</th>\n      <td>https://www.championat.com/football/news-49988...</td>\n      <td>Защитник «Локомотива» Конти рассказал о сорвав...</td>\n    </tr>\n    <tr>\n      <th>31</th>\n      <td>https://www.championat.com/biathlon/news-49988...</td>\n      <td>Елизавета Каплина завоевала «Малый хрустальный...</td>\n    </tr>\n    <tr>\n      <th>32</th>\n      <td>https://www.championat.com/football/news-49988...</td>\n      <td>В РФС рассказали, почему ФИФА и УЕФА не объясн...</td>\n    </tr>\n    <tr>\n      <th>33</th>\n      <td>https://www.championat.com/tennis/news-4998759...</td>\n      <td>Ига Свёнтек — о стиле своей игры: я не Рыбакин...</td>\n    </tr>\n    <tr>\n      <th>34</th>\n      <td>https://www.championat.com/football/news-49988...</td>\n      <td>Каманцев ответил на вопрос об уголовной ответс...</td>\n    </tr>\n    <tr>\n      <th>35</th>\n      <td>https://www.championat.com/biathlon/news-49988...</td>\n      <td>«Люди думают, что норвежцы считают меня глупым...</td>\n    </tr>\n    <tr>\n      <th>36</th>\n      <td>https://www.championat.com/football/news-49987...</td>\n      <td>Глава судейства РФС — о VAR: не будет видно вс...</td>\n    </tr>\n    <tr>\n      <th>37</th>\n      <td>https://www.championat.com/basketball/news-499...</td>\n      <td>Киселёв объяснил поражение команды в матче с «...</td>\n    </tr>\n    <tr>\n      <th>38</th>\n      <td>https://www.championat.com/football/news-49987...</td>\n      <td>Глава департамента судейства рассказал, как в ...</td>\n    </tr>\n    <tr>\n      <th>39</th>\n      <td>https://www.championat.com/football/news-49987...</td>\n      <td>Глава судей РФС заявил, что российские судьи л...</td>\n    </tr>\n    <tr>\n      <th>40</th>\n      <td>https://www.championat.com/bets/news-4997663-b...</td>\n      <td>«Барселона» — «Манчестер Юнайтед»: фрибет 2000...</td>\n    </tr>\n    <tr>\n      <th>41</th>\n      <td>https://www.championat.com/auto/news-4998821-p...</td>\n      <td>Пиастри: гоняться с такими героями детства, ка...</td>\n    </tr>\n    <tr>\n      <th>42</th>\n      <td>https://www.championat.com/biathlon/news-49987...</td>\n      <td>Казакевич — о серебре в спринте: какое-то не о...</td>\n    </tr>\n    <tr>\n      <th>43</th>\n      <td>https://www.championat.com/hockey/news-4998791...</td>\n      <td>Форвард «Рейнджерс»: у Панарина сумасшедшая сп...</td>\n    </tr>\n    <tr>\n      <th>44</th>\n      <td>https://www.championat.com/basketball/news-499...</td>\n      <td>Базаревич: после большого перерыва вышли так, ...</td>\n    </tr>\n    <tr>\n      <th>45</th>\n      <td>https://www.championat.com/football/news-49987...</td>\n      <td>В Бразилии введут наказание за расизм на футбо...</td>\n    </tr>\n    <tr>\n      <th>46</th>\n      <td>https://www.championat.com/basketball/news-499...</td>\n      <td>Рэндл: было бы здорово сыграть с Леброном, пок...</td>\n    </tr>\n    <tr>\n      <th>47</th>\n      <td>https://www.championat.com/boxing/news-4998787...</td>\n      <td>Потенциальный соперник Махачева увидел полезны...</td>\n    </tr>\n    <tr>\n      <th>48</th>\n      <td>https://www.championat.com/biathlon/news-49987...</td>\n      <td>Наталья Гербулова выиграла спринт на шестом эт...</td>\n    </tr>\n    <tr>\n      <th>49</th>\n      <td>https://www.championat.com/figureskating/news-...</td>\n      <td>Оксана Домнина опровергла информацию о том, чт...</td>\n    </tr>\n  </tbody>\n</table>\n</div>"
     },
     "execution_count": 18,
     "metadata": {},
     "output_type": "execute_result"
    }
   ],
   "source": [
    "# загружаем необходимые модули и библиотеки\n",
    "import re\n",
    "import requests\n",
    "import pandas as pd\n",
    "from bs4 import BeautifulSoup\n",
    "from urllib.request import Request, urlopen\n",
    "\n",
    "#проверяем доступность сайта\n",
    "req = Request(\n",
    "    url='https://www.championat.com/news/1.html?utm_source=button&utm_medium=news',\n",
    "    headers={'User-Agent': 'Mozilla/5.0'}\n",
    ")\n",
    "website_url = urlopen(req).read()\n",
    "soup = BeautifulSoup(website_url, 'lxml')\n",
    "\n",
    "links = []\n",
    "news_link = soup.find_all('div', class_='news-item')\n",
    "for news in news_link:\n",
    "    links.append(\n",
    "        {\n",
    "            'link': 'https://www.championat.com' + news.find('a').get('href'),\n",
    "            'text': news.find('a').get_text()#.lower().replace('«', '').replace('»', '').replace('— ', '')\n",
    "        })\n",
    "df1 = pd.DataFrame(links)\n",
    "df1"
   ]
  },
  {
   "cell_type": "code",
   "execution_count": 57,
   "outputs": [
    {
     "data": {
      "text/plain": "                                                 link  \\\n36  https://www.championat.com/football/news-49987...   \n38  https://www.championat.com/football/news-49987...   \n\n                                                 text  \n36  глава судейства рфс — о var: не будет видно вс...  \n38  глава департамента судейства рассказал, как в ...  ",
      "text/html": "<div>\n<style scoped>\n    .dataframe tbody tr th:only-of-type {\n        vertical-align: middle;\n    }\n\n    .dataframe tbody tr th {\n        vertical-align: top;\n    }\n\n    .dataframe thead th {\n        text-align: right;\n    }\n</style>\n<table border=\"1\" class=\"dataframe\">\n  <thead>\n    <tr style=\"text-align: right;\">\n      <th></th>\n      <th>link</th>\n      <th>text</th>\n    </tr>\n  </thead>\n  <tbody>\n    <tr>\n      <th>36</th>\n      <td>https://www.championat.com/football/news-49987...</td>\n      <td>глава судейства рфс — о var: не будет видно вс...</td>\n    </tr>\n    <tr>\n      <th>38</th>\n      <td>https://www.championat.com/football/news-49987...</td>\n      <td>глава департамента судейства рассказал, как в ...</td>\n    </tr>\n  </tbody>\n</table>\n</div>"
     },
     "execution_count": 57,
     "metadata": {},
     "output_type": "execute_result"
    }
   ],
   "source": [
    "df2 = pd.DataFrame()\n",
    "key_words = ['глава', 'суд', 'буд']\n",
    "key_words = [item.lower() for item in key_words]\n",
    "df1.text = [item.lower() for item in df1.text]\n",
    "for line in df1.text:\n",
    "    if all(word in line for word in key_words):\n",
    "        df0 = df1[df1.text.str.contains(line)]\n",
    "        df2 = pd.concat([df2, df0], axis= 0 )\n",
    "df2"
   ],
   "metadata": {
    "collapsed": false,
    "pycharm": {
     "name": "#%%\n"
    }
   }
  },
  {
   "cell_type": "code",
   "execution_count": 77,
   "outputs": [
    {
     "name": "stdout",
     "output_type": "stream",
     "text": [
      "«Незасчитанный гол в матче «Крылья» – «Краснодар»? Не будет такого, что видно всё и всегда. Я на эту тему не загоняюсь. Мне кажется, предельной стерильности не будет никогда. Если мы хотим двигаться в сторону бухгалтерского подхода, то давайте развивать лигу так, чтобы она зарабатывала фантастические деньги и мы могли себе позволить технологию фиксации гола. Мы должны оставаться адекватными. Лига зарабатывает определённые деньги. Что-то можем себе позволить, что-то нет. На этом я для себя разговор закрываю. Вот хотел бы я ездить на кроссовере Lamborghini за 40 миллионов? Конечно. Могу ли я себе это позволить? Если отказаться от многого, продать всё, что есть, то, наверное, могу. Но есть ли в этом смысл? Нет. Так и здесь. Это излишество по нашим экономическим возможностям. Спорная ситуация, о которой вы рассказали, была один раз. Насколько лиге необходимо тратить на это десятки миллионов рублей? Я думаю, что можно направить средства на что-то другое», — передаёт слова Каманцева корреспондент «Чемпионата» Григорий Телингатер. \n",
      "Глава департамента судейства РФС Павел Каманцев рассказал, как в Российской Премьер-Лиге теперь будут работать офсайдные линии. «Для зрителей ничего не изменится. Будут такие же линии, как и прежде. Для судей почти всё останется без изменений. Практически все провайдеры делают одинаковый интерфейс, чтобы можно было менять арбитров, не переучивая их тотально. Наши судьи уже работали на международных матчах на оборудовании других поставщиков VAR. А вот если говорить о самих технологиях, то отличия есть. Hawk-Eye брал каждый кадр с поворотных камер и анализировал его, накладывал на математически просчитанный макет поля. Мы же будем использовать статические камеры без зума и каких-либо передвижений. Об этом подходе сейчас задумываются и в ФИФА. Такие камеры дают более надёжный результат. Есть свои вопросы по стадионам – сейчас идут обследования и могут понадобиться дополнительные работы под размещение камер. Мы протестировали систему на матче ЦСКА. Там линии работали в офлайн-режиме, и нас более чем устроил результат. Их весьма устроила наша обратная связь. Опыт команды, которая работала с Hawk-Eye, уникален для китайцев. Нам предоставили отличные финансовые условия, и мы совместно двигаемся по продукту», — передаёт слова Каманцева корреспондент «Чемпионата» Григорий Телингатер. \n"
     ]
    }
   ],
   "source": [
    "#проверяем доступность сайта\n",
    "news = ''\n",
    "text = ''\n",
    "for link in df2.link:\n",
    "    req = Request(\n",
    "        url=link,\n",
    "        headers={'User-Agent': 'Mozilla/5.0'}\n",
    "    )\n",
    "    website_url = urlopen(req).read()\n",
    "    soup = BeautifulSoup(website_url, 'lxml')\n",
    "\n",
    "    # Extract the title of the article\n",
    "    title = soup.find(\"div\", class_=\"article-head__title\").text.strip() + \". \"\n",
    "\n",
    "    # Extract the text of the article\n",
    "    article_body = soup.find(\"div\", class_=\"article-content js-content-banners-wrapper js-copyright-content js-loyalty-article-content\")\n",
    "\n",
    "    # Check the last p tags for the presence of a tags\n",
    "    for p in article_body.find_all(\"p\")[-11:]:\n",
    "        if p.find(\"b\") and p.find(\"a\"):\n",
    "            p.extract()\n",
    "#\n",
    "#     # Concatenate the text content of the remaining p tags\n",
    "#     for p in article_body.find_all(\"p\"):\n",
    "#         article_text += p.text.strip() + \" \"\n",
    "#         text = title + article_text\n",
    "#     text += '\\n'\n",
    "# # for item in text.split('\\n'):\n",
    "# #     if len(item.split(' ')) > 10:\n",
    "# #         print (item)\n",
    "#     print(text)\n",
    "\n",
    "\n",
    "    for td in article_body.find_all('p', class_=None):\n",
    "        news += str(td.text) + ' '\n",
    "    news += '\\n'\n",
    "for item in news.split('\\n'):\n",
    "    if len(item.split(' ')) > 100:\n",
    "        print (item)"
   ],
   "metadata": {
    "collapsed": false,
    "pycharm": {
     "name": "#%%\n"
    }
   }
  },
  {
   "cell_type": "code",
   "execution_count": null,
   "outputs": [],
   "source": [],
   "metadata": {
    "collapsed": false,
    "pycharm": {
     "name": "#%%\n"
    }
   }
  }
 ],
 "metadata": {
  "kernelspec": {
   "display_name": "Python 3",
   "language": "python",
   "name": "python3"
  },
  "language_info": {
   "codemirror_mode": {
    "name": "ipython",
    "version": 2
   },
   "file_extension": ".py",
   "mimetype": "text/x-python",
   "name": "python",
   "nbconvert_exporter": "python",
   "pygments_lexer": "ipython2",
   "version": "2.7.6"
  }
 },
 "nbformat": 4,
 "nbformat_minor": 0
}