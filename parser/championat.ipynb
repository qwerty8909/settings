{
 "cells": [
  {
   "cell_type": "code",
   "execution_count": 5,
   "metadata": {
    "collapsed": true,
    "pycharm": {
     "name": "#%%\n"
    }
   },
   "outputs": [
    {
     "data": {
      "text/plain": "                                                 link  \\\n0   https://www.championat.com/skiing/news-5002635...   \n1   https://www.championat.com/hockey/news-5002631...   \n2   https://www.championat.com/hockey/news-5002609...   \n3   https://www.championat.com/football/news-50026...   \n4   https://www.championat.com/football/news-50026...   \n5   https://www.championat.com/football/news-50026...   \n6   https://www.championat.com/biathlon/news-50026...   \n7   https://www.championat.com/bets/news-5002529-a...   \n8   https://www.championat.com/basketball/news-500...   \n9   https://www.championat.com/boxing/news-5002625...   \n10  https://www.championat.com/skiing/news-5002607...   \n11  https://www.championat.com/biathlon/news-50026...   \n12  https://www.championat.com/hockey/news-5002599...   \n13  https://www.championat.com/football/news-50025...   \n14  https://www.championat.com/football/news-50025...   \n15  https://www.championat.com/boxing/news-5002601...   \n16  https://www.championat.com/skiing/news-5002597...   \n17  https://www.championat.com/football/news-50025...   \n18  https://www.championat.com/biathlon/news-50025...   \n19  https://www.championat.com/bets/news-5002535-b...   \n20  https://www.championat.com/football/news-50025...   \n21  https://www.championat.com/basketball/news-500...   \n22  https://www.championat.com/biathlon/news-50025...   \n23  https://www.championat.com/biathlon/news-50025...   \n24  https://www.championat.com/biathlon/news-50025...   \n25  https://www.championat.com/hockey/news-5002555...   \n26  https://www.championat.com/boxing/news-5002559...   \n27  https://www.championat.com/football/news-50025...   \n28  https://www.championat.com/figureskating/news-...   \n29  https://www.championat.com/bets/news-5002521-p...   \n30  https://www.championat.com/basketball/news-500...   \n31  https://www.championat.com/hockey/news-5002525...   \n32  https://www.championat.com/football/news-50025...   \n33  https://www.championat.com/auto/news-5002527-f...   \n34  https://www.championat.com/tennis/news-5002539...   \n35  https://www.championat.com/football/news-50025...   \n36  https://www.championat.com/football/news-50025...   \n37  https://www.championat.com/basketball/news-500...   \n38  https://www.championat.com/bets/news-5002413-i...   \n39  https://www.championat.com/skiing/news-5002517...   \n40  https://www.championat.com/hockey/news-5002509...   \n41  https://www.championat.com/hockey/news-5002047...   \n42  https://www.championat.com/boxing/news-5002507...   \n43  https://www.championat.com/hockey/news-5002489...   \n44  https://www.championat.com/biathlon/news-50025...   \n45  https://www.championat.com/football/news-50025...   \n46  https://www.championat.com/football/news-50024...   \n47  https://www.championat.com/football/news-50025...   \n48  https://www.championat.com/biathlon/news-50024...   \n49  https://www.championat.com/football/news-50024...   \n\n                                                 text  \n0   «Всё ещё делаю упражнения». Йоханнес Клебо – о...  \n1   Дубль Макеева помог «Автомобилисту» обыграть «...  \n2   «Ак Барс» повторно обыграл «Амур», завершив да...  \n3   Руслан Нигматуллин: € 12 млн за Алексея Миранч...  \n4   Киммих: «Бавария» была в меньшинстве, но мы не...  \n5   Винисиус отреагировал на оскорбление со сторон...  \n6   Гореева: не ожидала выиграть общий зачёт КР. Х...  \n7   «Атлетико» – «Атлетик»: прогноз Егора Титова н...  \n8   «Говорят, это лучшая конференция». Кайри Ирвин...  \n9   Деметриус Джонсон дал совет Махачеву перед воз...  \n10  «Конечно, я нервничаю». Клебо высказался о воз...  \n11  «Чуть-чуть обидно». Биатлонистка Сливко — об у...  \n12  Коваленко: в руководстве «Спартака» нужно иска...  \n13  Руслан Нигматуллин: сроков возвращения России ...  \n14  Плеа — о фоле Юпамекано: для чего мне было ныр...  \n15  Ломаченко объяснил, почему его бой с Хэйни до ...  \n16  Норвежский эксперт: раз Большунов вне игры на ...  \n17  Ондуа — о Кристиане Атсу: говорили, что он был...  \n18  Антон Бабиков стал лучшим в зачёте масс-старто...  \n19  «Барселона» – «Кадис»: прогноз Константина Генича  \n20  Гранат: одобрение гражданства РФ Малкому и Кла...  \n21  Мэк Маккланг: мне нравится Винс Картер. Всегда...  \n22  Карим Халили выиграл общий зачёт Кубка России ...  \n23  Йоханнес Бё опубликовал забавные фото с пресс-...  \n24  Антон Бабиков стал победителем масс-старта на ...  \n25  ЦСКА не проявлял интереса в отношении голкипер...  \n26  «Нравится вам или нет». Махачев отреагировал н...  \n27  Кавазашвили: Промес не пьёт, по-русски он не у...  \n28  «Молодец, что не молчишь!» Плющенко – о том, ч...  \n29  Прогноз на матч Лиги 1 «ПСЖ» — «Лилль» с коэфф...  \n30  Джулиус Рэндл: выбрал бы Луку Дончича в свою к...  \n31  Тарасенко — об игре за «Рейнджерс»: я узнал ре...  \n32  «Горжусь вами». Евсеев — о футболистах «Шинник...  \n33  Финиш гонки NASCAR в Дайтоне с переворотом одн...  \n34  Серена Уильямс опубликовала фото в теннисном п...  \n35  Анхель Ди Мария сравнил Диего Марадону и Лионе...  \n36  Goal: Маркиньос недоволен действиями Кимпембе ...  \n37  «Я воодушевлён – это самое главное». Лука Донч...  \n38  Иран – Россия: дата товарищеского матча, кто ф...  \n39  Шиффрин: Сен-Жермен и вся канадская команда за...  \n40  Грецкий получил матч-штраф за удар Юдина локте...  \n41  «Когда я только забил 700 голов, уже начали го...  \n42  Фьюри: цыганский король остаётся народным чемп...  \n43  О’Райлли поделился эмоциями от дебюта за «Торо...  \n44  «Кто это?» Йоханнес Бё иронично отреагировал н...  \n45  Даниил Аленичев: не скажу, что сильно скучаю п...  \n46  Казарцев — о флеш-интервью судей: все хотят го...  \n47  Араз Озбилиз назвал самый запоминающийся эпизо...  \n48  «Самая умная вещь, которая приходила ему в гол...  \n49  Полузащитник «Спартака» Мозес: команда выгляди...  ",
      "text/html": "<div>\n<style scoped>\n    .dataframe tbody tr th:only-of-type {\n        vertical-align: middle;\n    }\n\n    .dataframe tbody tr th {\n        vertical-align: top;\n    }\n\n    .dataframe thead th {\n        text-align: right;\n    }\n</style>\n<table border=\"1\" class=\"dataframe\">\n  <thead>\n    <tr style=\"text-align: right;\">\n      <th></th>\n      <th>link</th>\n      <th>text</th>\n    </tr>\n  </thead>\n  <tbody>\n    <tr>\n      <th>0</th>\n      <td>https://www.championat.com/skiing/news-5002635...</td>\n      <td>«Всё ещё делаю упражнения». Йоханнес Клебо – о...</td>\n    </tr>\n    <tr>\n      <th>1</th>\n      <td>https://www.championat.com/hockey/news-5002631...</td>\n      <td>Дубль Макеева помог «Автомобилисту» обыграть «...</td>\n    </tr>\n    <tr>\n      <th>2</th>\n      <td>https://www.championat.com/hockey/news-5002609...</td>\n      <td>«Ак Барс» повторно обыграл «Амур», завершив да...</td>\n    </tr>\n    <tr>\n      <th>3</th>\n      <td>https://www.championat.com/football/news-50026...</td>\n      <td>Руслан Нигматуллин: € 12 млн за Алексея Миранч...</td>\n    </tr>\n    <tr>\n      <th>4</th>\n      <td>https://www.championat.com/football/news-50026...</td>\n      <td>Киммих: «Бавария» была в меньшинстве, но мы не...</td>\n    </tr>\n    <tr>\n      <th>5</th>\n      <td>https://www.championat.com/football/news-50026...</td>\n      <td>Винисиус отреагировал на оскорбление со сторон...</td>\n    </tr>\n    <tr>\n      <th>6</th>\n      <td>https://www.championat.com/biathlon/news-50026...</td>\n      <td>Гореева: не ожидала выиграть общий зачёт КР. Х...</td>\n    </tr>\n    <tr>\n      <th>7</th>\n      <td>https://www.championat.com/bets/news-5002529-a...</td>\n      <td>«Атлетико» – «Атлетик»: прогноз Егора Титова н...</td>\n    </tr>\n    <tr>\n      <th>8</th>\n      <td>https://www.championat.com/basketball/news-500...</td>\n      <td>«Говорят, это лучшая конференция». Кайри Ирвин...</td>\n    </tr>\n    <tr>\n      <th>9</th>\n      <td>https://www.championat.com/boxing/news-5002625...</td>\n      <td>Деметриус Джонсон дал совет Махачеву перед воз...</td>\n    </tr>\n    <tr>\n      <th>10</th>\n      <td>https://www.championat.com/skiing/news-5002607...</td>\n      <td>«Конечно, я нервничаю». Клебо высказался о воз...</td>\n    </tr>\n    <tr>\n      <th>11</th>\n      <td>https://www.championat.com/biathlon/news-50026...</td>\n      <td>«Чуть-чуть обидно». Биатлонистка Сливко — об у...</td>\n    </tr>\n    <tr>\n      <th>12</th>\n      <td>https://www.championat.com/hockey/news-5002599...</td>\n      <td>Коваленко: в руководстве «Спартака» нужно иска...</td>\n    </tr>\n    <tr>\n      <th>13</th>\n      <td>https://www.championat.com/football/news-50025...</td>\n      <td>Руслан Нигматуллин: сроков возвращения России ...</td>\n    </tr>\n    <tr>\n      <th>14</th>\n      <td>https://www.championat.com/football/news-50025...</td>\n      <td>Плеа — о фоле Юпамекано: для чего мне было ныр...</td>\n    </tr>\n    <tr>\n      <th>15</th>\n      <td>https://www.championat.com/boxing/news-5002601...</td>\n      <td>Ломаченко объяснил, почему его бой с Хэйни до ...</td>\n    </tr>\n    <tr>\n      <th>16</th>\n      <td>https://www.championat.com/skiing/news-5002597...</td>\n      <td>Норвежский эксперт: раз Большунов вне игры на ...</td>\n    </tr>\n    <tr>\n      <th>17</th>\n      <td>https://www.championat.com/football/news-50025...</td>\n      <td>Ондуа — о Кристиане Атсу: говорили, что он был...</td>\n    </tr>\n    <tr>\n      <th>18</th>\n      <td>https://www.championat.com/biathlon/news-50025...</td>\n      <td>Антон Бабиков стал лучшим в зачёте масс-старто...</td>\n    </tr>\n    <tr>\n      <th>19</th>\n      <td>https://www.championat.com/bets/news-5002535-b...</td>\n      <td>«Барселона» – «Кадис»: прогноз Константина Генича</td>\n    </tr>\n    <tr>\n      <th>20</th>\n      <td>https://www.championat.com/football/news-50025...</td>\n      <td>Гранат: одобрение гражданства РФ Малкому и Кла...</td>\n    </tr>\n    <tr>\n      <th>21</th>\n      <td>https://www.championat.com/basketball/news-500...</td>\n      <td>Мэк Маккланг: мне нравится Винс Картер. Всегда...</td>\n    </tr>\n    <tr>\n      <th>22</th>\n      <td>https://www.championat.com/biathlon/news-50025...</td>\n      <td>Карим Халили выиграл общий зачёт Кубка России ...</td>\n    </tr>\n    <tr>\n      <th>23</th>\n      <td>https://www.championat.com/biathlon/news-50025...</td>\n      <td>Йоханнес Бё опубликовал забавные фото с пресс-...</td>\n    </tr>\n    <tr>\n      <th>24</th>\n      <td>https://www.championat.com/biathlon/news-50025...</td>\n      <td>Антон Бабиков стал победителем масс-старта на ...</td>\n    </tr>\n    <tr>\n      <th>25</th>\n      <td>https://www.championat.com/hockey/news-5002555...</td>\n      <td>ЦСКА не проявлял интереса в отношении голкипер...</td>\n    </tr>\n    <tr>\n      <th>26</th>\n      <td>https://www.championat.com/boxing/news-5002559...</td>\n      <td>«Нравится вам или нет». Махачев отреагировал н...</td>\n    </tr>\n    <tr>\n      <th>27</th>\n      <td>https://www.championat.com/football/news-50025...</td>\n      <td>Кавазашвили: Промес не пьёт, по-русски он не у...</td>\n    </tr>\n    <tr>\n      <th>28</th>\n      <td>https://www.championat.com/figureskating/news-...</td>\n      <td>«Молодец, что не молчишь!» Плющенко – о том, ч...</td>\n    </tr>\n    <tr>\n      <th>29</th>\n      <td>https://www.championat.com/bets/news-5002521-p...</td>\n      <td>Прогноз на матч Лиги 1 «ПСЖ» — «Лилль» с коэфф...</td>\n    </tr>\n    <tr>\n      <th>30</th>\n      <td>https://www.championat.com/basketball/news-500...</td>\n      <td>Джулиус Рэндл: выбрал бы Луку Дончича в свою к...</td>\n    </tr>\n    <tr>\n      <th>31</th>\n      <td>https://www.championat.com/hockey/news-5002525...</td>\n      <td>Тарасенко — об игре за «Рейнджерс»: я узнал ре...</td>\n    </tr>\n    <tr>\n      <th>32</th>\n      <td>https://www.championat.com/football/news-50025...</td>\n      <td>«Горжусь вами». Евсеев — о футболистах «Шинник...</td>\n    </tr>\n    <tr>\n      <th>33</th>\n      <td>https://www.championat.com/auto/news-5002527-f...</td>\n      <td>Финиш гонки NASCAR в Дайтоне с переворотом одн...</td>\n    </tr>\n    <tr>\n      <th>34</th>\n      <td>https://www.championat.com/tennis/news-5002539...</td>\n      <td>Серена Уильямс опубликовала фото в теннисном п...</td>\n    </tr>\n    <tr>\n      <th>35</th>\n      <td>https://www.championat.com/football/news-50025...</td>\n      <td>Анхель Ди Мария сравнил Диего Марадону и Лионе...</td>\n    </tr>\n    <tr>\n      <th>36</th>\n      <td>https://www.championat.com/football/news-50025...</td>\n      <td>Goal: Маркиньос недоволен действиями Кимпембе ...</td>\n    </tr>\n    <tr>\n      <th>37</th>\n      <td>https://www.championat.com/basketball/news-500...</td>\n      <td>«Я воодушевлён – это самое главное». Лука Донч...</td>\n    </tr>\n    <tr>\n      <th>38</th>\n      <td>https://www.championat.com/bets/news-5002413-i...</td>\n      <td>Иран – Россия: дата товарищеского матча, кто ф...</td>\n    </tr>\n    <tr>\n      <th>39</th>\n      <td>https://www.championat.com/skiing/news-5002517...</td>\n      <td>Шиффрин: Сен-Жермен и вся канадская команда за...</td>\n    </tr>\n    <tr>\n      <th>40</th>\n      <td>https://www.championat.com/hockey/news-5002509...</td>\n      <td>Грецкий получил матч-штраф за удар Юдина локте...</td>\n    </tr>\n    <tr>\n      <th>41</th>\n      <td>https://www.championat.com/hockey/news-5002047...</td>\n      <td>«Когда я только забил 700 голов, уже начали го...</td>\n    </tr>\n    <tr>\n      <th>42</th>\n      <td>https://www.championat.com/boxing/news-5002507...</td>\n      <td>Фьюри: цыганский король остаётся народным чемп...</td>\n    </tr>\n    <tr>\n      <th>43</th>\n      <td>https://www.championat.com/hockey/news-5002489...</td>\n      <td>О’Райлли поделился эмоциями от дебюта за «Торо...</td>\n    </tr>\n    <tr>\n      <th>44</th>\n      <td>https://www.championat.com/biathlon/news-50025...</td>\n      <td>«Кто это?» Йоханнес Бё иронично отреагировал н...</td>\n    </tr>\n    <tr>\n      <th>45</th>\n      <td>https://www.championat.com/football/news-50025...</td>\n      <td>Даниил Аленичев: не скажу, что сильно скучаю п...</td>\n    </tr>\n    <tr>\n      <th>46</th>\n      <td>https://www.championat.com/football/news-50024...</td>\n      <td>Казарцев — о флеш-интервью судей: все хотят го...</td>\n    </tr>\n    <tr>\n      <th>47</th>\n      <td>https://www.championat.com/football/news-50025...</td>\n      <td>Араз Озбилиз назвал самый запоминающийся эпизо...</td>\n    </tr>\n    <tr>\n      <th>48</th>\n      <td>https://www.championat.com/biathlon/news-50024...</td>\n      <td>«Самая умная вещь, которая приходила ему в гол...</td>\n    </tr>\n    <tr>\n      <th>49</th>\n      <td>https://www.championat.com/football/news-50024...</td>\n      <td>Полузащитник «Спартака» Мозес: команда выгляди...</td>\n    </tr>\n  </tbody>\n</table>\n</div>"
     },
     "execution_count": 5,
     "metadata": {},
     "output_type": "execute_result"
    }
   ],
   "source": [
    "# загружаем необходимые модули и библиотеки\n",
    "import re\n",
    "import requests\n",
    "import pandas as pd\n",
    "from bs4 import BeautifulSoup\n",
    "from urllib.request import Request, urlopen\n",
    "\n",
    "#проверяем доступность сайта\n",
    "req = Request(\n",
    "    url='https://www.championat.com/news/1.html?utm_source=button&utm_medium=news',\n",
    "    headers={'User-Agent': 'Mozilla/5.0'}\n",
    ")\n",
    "website_url = urlopen(req).read()\n",
    "soup = BeautifulSoup(website_url, 'lxml')\n",
    "\n",
    "links = []\n",
    "news_link = soup.find_all('div', class_='news-item')\n",
    "for news in news_link:\n",
    "    links.append(\n",
    "        {\n",
    "            'link': 'https://www.championat.com' + news.find('a').get('href'),\n",
    "            'text': news.find('a').get_text()#.lower().replace('«', '').replace('»', '').replace('— ', '')\n",
    "        })\n",
    "df1 = pd.DataFrame(links)\n",
    "df1"
   ]
  },
  {
   "cell_type": "code",
   "execution_count": 6,
   "outputs": [
    {
     "data": {
      "text/plain": "Empty DataFrame\nColumns: []\nIndex: []",
      "text/html": "<div>\n<style scoped>\n    .dataframe tbody tr th:only-of-type {\n        vertical-align: middle;\n    }\n\n    .dataframe tbody tr th {\n        vertical-align: top;\n    }\n\n    .dataframe thead th {\n        text-align: right;\n    }\n</style>\n<table border=\"1\" class=\"dataframe\">\n  <thead>\n    <tr style=\"text-align: right;\">\n      <th></th>\n    </tr>\n  </thead>\n  <tbody>\n  </tbody>\n</table>\n</div>"
     },
     "execution_count": 6,
     "metadata": {},
     "output_type": "execute_result"
    }
   ],
   "source": [
    "df2 = pd.DataFrame()\n",
    "key_words = ['Манчестер', 'Лестер']\n",
    "key_words = [item.lower() for item in key_words]\n",
    "df1.text = [item.lower() for item in df1.text]\n",
    "for line in df1.text:\n",
    "    if all(word in line for word in key_words):\n",
    "        df0 = df1[df1.text.str.contains(line)]\n",
    "        df2 = pd.concat([df2, df0], axis= 0 )\n",
    "df2"
   ],
   "metadata": {
    "collapsed": false,
    "pycharm": {
     "name": "#%%\n"
    }
   }
  },
  {
   "cell_type": "code",
   "execution_count": 77,
   "outputs": [
    {
     "name": "stdout",
     "output_type": "stream",
     "text": [
      "«Незасчитанный гол в матче «Крылья» – «Краснодар»? Не будет такого, что видно всё и всегда. Я на эту тему не загоняюсь. Мне кажется, предельной стерильности не будет никогда. Если мы хотим двигаться в сторону бухгалтерского подхода, то давайте развивать лигу так, чтобы она зарабатывала фантастические деньги и мы могли себе позволить технологию фиксации гола. Мы должны оставаться адекватными. Лига зарабатывает определённые деньги. Что-то можем себе позволить, что-то нет. На этом я для себя разговор закрываю. Вот хотел бы я ездить на кроссовере Lamborghini за 40 миллионов? Конечно. Могу ли я себе это позволить? Если отказаться от многого, продать всё, что есть, то, наверное, могу. Но есть ли в этом смысл? Нет. Так и здесь. Это излишество по нашим экономическим возможностям. Спорная ситуация, о которой вы рассказали, была один раз. Насколько лиге необходимо тратить на это десятки миллионов рублей? Я думаю, что можно направить средства на что-то другое», — передаёт слова Каманцева корреспондент «Чемпионата» Григорий Телингатер. \n",
      "Глава департамента судейства РФС Павел Каманцев рассказал, как в Российской Премьер-Лиге теперь будут работать офсайдные линии. «Для зрителей ничего не изменится. Будут такие же линии, как и прежде. Для судей почти всё останется без изменений. Практически все провайдеры делают одинаковый интерфейс, чтобы можно было менять арбитров, не переучивая их тотально. Наши судьи уже работали на международных матчах на оборудовании других поставщиков VAR. А вот если говорить о самих технологиях, то отличия есть. Hawk-Eye брал каждый кадр с поворотных камер и анализировал его, накладывал на математически просчитанный макет поля. Мы же будем использовать статические камеры без зума и каких-либо передвижений. Об этом подходе сейчас задумываются и в ФИФА. Такие камеры дают более надёжный результат. Есть свои вопросы по стадионам – сейчас идут обследования и могут понадобиться дополнительные работы под размещение камер. Мы протестировали систему на матче ЦСКА. Там линии работали в офлайн-режиме, и нас более чем устроил результат. Их весьма устроила наша обратная связь. Опыт команды, которая работала с Hawk-Eye, уникален для китайцев. Нам предоставили отличные финансовые условия, и мы совместно двигаемся по продукту», — передаёт слова Каманцева корреспондент «Чемпионата» Григорий Телингатер. \n"
     ]
    }
   ],
   "source": [
    "#проверяем доступность сайта\n",
    "news = ''\n",
    "text = ''\n",
    "for link in df2.link:\n",
    "    req = Request(\n",
    "        url=link,\n",
    "        headers={'User-Agent': 'Mozilla/5.0'}\n",
    "    )\n",
    "    website_url = urlopen(req).read()\n",
    "    soup = BeautifulSoup(website_url, 'lxml')\n",
    "\n",
    "    # Extract the title of the article\n",
    "    title = soup.find(\"div\", class_=\"article-head__title\").text.strip() + \". \"\n",
    "\n",
    "    # Extract the text of the article\n",
    "    article_body = soup.find(\"div\", class_=\"article-content js-content-banners-wrapper js-copyright-content js-loyalty-article-content\")\n",
    "\n",
    "    # Check the last p tags for the presence of a tags\n",
    "    for p in article_body.find_all(\"p\")[-11:]:\n",
    "        if p.find(\"b\") and p.find(\"a\"):\n",
    "            p.extract()\n",
    "#\n",
    "#     # Concatenate the text content of the remaining p tags\n",
    "#     for p in article_body.find_all(\"p\"):\n",
    "#         article_text += p.text.strip() + \" \"\n",
    "#         text = title + article_text\n",
    "#     text += '\\n'\n",
    "# # for item in text.split('\\n'):\n",
    "# #     if len(item.split(' ')) > 10:\n",
    "# #         print (item)\n",
    "#     print(text)\n",
    "\n",
    "\n",
    "    for td in article_body.find_all('p', class_=None):\n",
    "        news += str(td.text) + ' '\n",
    "    news += '\\n'\n",
    "for item in news.split('\\n'):\n",
    "    if len(item.split(' ')) > 100:\n",
    "        print (item)"
   ],
   "metadata": {
    "collapsed": false,
    "pycharm": {
     "name": "#%%\n"
    }
   }
  },
  {
   "cell_type": "code",
   "execution_count": null,
   "outputs": [],
   "source": [],
   "metadata": {
    "collapsed": false,
    "pycharm": {
     "name": "#%%\n"
    }
   }
  }
 ],
 "metadata": {
  "kernelspec": {
   "display_name": "Python 3",
   "language": "python",
   "name": "python3"
  },
  "language_info": {
   "codemirror_mode": {
    "name": "ipython",
    "version": 2
   },
   "file_extension": ".py",
   "mimetype": "text/x-python",
   "name": "python",
   "nbconvert_exporter": "python",
   "pygments_lexer": "ipython2",
   "version": "2.7.6"
  }
 },
 "nbformat": 4,
 "nbformat_minor": 0
}