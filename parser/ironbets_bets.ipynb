{
 "cells": [
  {
   "cell_type": "code",
   "execution_count": 10,
   "outputs": [
    {
     "data": {
      "text/plain": "                                                 link  \\\n0   https://ironbets.ru/prognozy/football/cska-kra...   \n1   https://ironbets.ru/prognozy/football/lokomoti...   \n2   https://ironbets.ru/prognozy/boxing/tszyu-harr...   \n3   https://ironbets.ru/prognozy/mma/ufc/shevchenk...   \n4   https://ironbets.ru/prognozy/hockey/cska-torpedo/   \n5   https://ironbets.ru/prognozy/football/roma-sal...   \n6   https://ironbets.ru/prognozy/football/rennais-...   \n7   https://ironbets.ru/prognozy/football/psv-sevi...   \n8   https://ironbets.ru/prognozy/football/nantes-j...   \n9   https://ironbets.ru/prognozy/football/chelsea-...   \n10  https://ironbets.ru/prognozy/football/tottenha...   \n11  https://ironbets.ru/prognozy/football/monaco-b...   \n12  https://ironbets.ru/prognozy/football/manchest...   \n13  https://ironbets.ru/prognozy/hockey/lokomotiv-...   \n14   https://ironbets.ru/prognozy/mma/ufc/jones-gane/   \n15  https://ironbets.ru/prognozy/football/barcelon...   \n16  https://ironbets.ru/prognozy/football/rayo-val...   \n17  https://ironbets.ru/prognozy/football/mallorca...   \n18  https://ironbets.ru/prognozy/football/brestois...   \n19  https://ironbets.ru/prognozy/football/toulouse...   \n20  https://ironbets.ru/prognozy/football/atalanta...   \n21  https://ironbets.ru/prognozy/football/chelsea-...   \n22  https://ironbets.ru/prognozy/football/tottenha...   \n23  https://ironbets.ru/prognozy/football/wolfsbur...   \n24  https://ironbets.ru/prognozy/football/borussia...   \n25  https://ironbets.ru/prognozy/football/sassuolo...   \n26  https://ironbets.ru/prognozy/hockey/ska-sibir-...   \n27  https://ironbets.ru/prognozy/football/borussia...   \n28  https://ironbets.ru/prognozy/football/aston-vi...   \n29  https://ironbets.ru/prognozy/basketball/vtb-le...   \n\n                                                 text  \n0   ЦСКА – Краснодар. Продолжат ли москвичи победн...  \n1   Локомотив – Спартак. Кто будет сильнее в столи...  \n2              Прогноз на бой Тим Цзю – Тони Харрисон  \n3   Прогноз на бой Валентина Шевченко – Алекса Грассо  \n4      ЦСКА – Торпедо. Борьба за серебро продолжается  \n5        Рома – Зальцбург. Возьмут ли римляне реванш?  \n6   Ренн – Шахтер Донецк. Возьмут ли французы реванш?  \n7     ПСВ – Севилья. Ждать ли реванша от хозяев поля?  \n8   Нант – Ювентус. Сотворят ли «канарейки» сенсацию?  \n9   Челси – Боруссия Д. Возьмут ли Синие реванш за...  \n10  Тоттенхэм – Милан. Смогут ли лондонцы сделать ...  \n11  Монако – Байер. Продолжат ли монегаски побеждать?  \n12  Манчестер Юнайтед – Барселона. Какая команда п...  \n13  Локомотив – ЦСКА. Кто победит в битве конкурен...  \n14              Прогноз на бой Джон Джонс – Сирил Ган  \n15  Барселона – Кадис. Продолжат ли каталонцы побе...  \n16  Райо Вальекано – Севилья. Продолжат ли мадридц...  \n17  Мальорка – Вильярреал. Прервут ли гости череду...  \n18  Брест – Монако. Продолжат ли монегаски беспрои...  \n19  Тулуза – Марсель. Продолжат ли хозяева серию у...  \n20  Аталанта – Лечче. Продолжат ли бергамаски побе...  \n21  Челси – Саутгемтпон. Сумеют ли Синие наконец-т...  \n22  Тоттенхэм – Вест Хэм. Какая команда победит в ...  \n23  Вольфсбург – РБ Лейпциг. Какая команда вернетс...  \n24  Боруссия М – Бавария. Случится ли сенсация в т...  \n25  Сассуоло – Наполи. Продолжат ли неаполитанцы п...  \n26  СКА – Сибирь. Каким получится визит сибиряков ...  \n27  Боруссия Д – Герта. Возьмут ли Шмели очередные...  \n28  Астон Вилла – Арсенал. Смогут ли Канониры прер...  \n29                    УНИКС – ЦСКА. Репетиция финала?  ",
      "text/html": "<div>\n<style scoped>\n    .dataframe tbody tr th:only-of-type {\n        vertical-align: middle;\n    }\n\n    .dataframe tbody tr th {\n        vertical-align: top;\n    }\n\n    .dataframe thead th {\n        text-align: right;\n    }\n</style>\n<table border=\"1\" class=\"dataframe\">\n  <thead>\n    <tr style=\"text-align: right;\">\n      <th></th>\n      <th>link</th>\n      <th>text</th>\n    </tr>\n  </thead>\n  <tbody>\n    <tr>\n      <th>0</th>\n      <td>https://ironbets.ru/prognozy/football/cska-kra...</td>\n      <td>ЦСКА – Краснодар. Продолжат ли москвичи победн...</td>\n    </tr>\n    <tr>\n      <th>1</th>\n      <td>https://ironbets.ru/prognozy/football/lokomoti...</td>\n      <td>Локомотив – Спартак. Кто будет сильнее в столи...</td>\n    </tr>\n    <tr>\n      <th>2</th>\n      <td>https://ironbets.ru/prognozy/boxing/tszyu-harr...</td>\n      <td>Прогноз на бой Тим Цзю – Тони Харрисон</td>\n    </tr>\n    <tr>\n      <th>3</th>\n      <td>https://ironbets.ru/prognozy/mma/ufc/shevchenk...</td>\n      <td>Прогноз на бой Валентина Шевченко – Алекса Грассо</td>\n    </tr>\n    <tr>\n      <th>4</th>\n      <td>https://ironbets.ru/prognozy/hockey/cska-torpedo/</td>\n      <td>ЦСКА – Торпедо. Борьба за серебро продолжается</td>\n    </tr>\n    <tr>\n      <th>5</th>\n      <td>https://ironbets.ru/prognozy/football/roma-sal...</td>\n      <td>Рома – Зальцбург. Возьмут ли римляне реванш?</td>\n    </tr>\n    <tr>\n      <th>6</th>\n      <td>https://ironbets.ru/prognozy/football/rennais-...</td>\n      <td>Ренн – Шахтер Донецк. Возьмут ли французы реванш?</td>\n    </tr>\n    <tr>\n      <th>7</th>\n      <td>https://ironbets.ru/prognozy/football/psv-sevi...</td>\n      <td>ПСВ – Севилья. Ждать ли реванша от хозяев поля?</td>\n    </tr>\n    <tr>\n      <th>8</th>\n      <td>https://ironbets.ru/prognozy/football/nantes-j...</td>\n      <td>Нант – Ювентус. Сотворят ли «канарейки» сенсацию?</td>\n    </tr>\n    <tr>\n      <th>9</th>\n      <td>https://ironbets.ru/prognozy/football/chelsea-...</td>\n      <td>Челси – Боруссия Д. Возьмут ли Синие реванш за...</td>\n    </tr>\n    <tr>\n      <th>10</th>\n      <td>https://ironbets.ru/prognozy/football/tottenha...</td>\n      <td>Тоттенхэм – Милан. Смогут ли лондонцы сделать ...</td>\n    </tr>\n    <tr>\n      <th>11</th>\n      <td>https://ironbets.ru/prognozy/football/monaco-b...</td>\n      <td>Монако – Байер. Продолжат ли монегаски побеждать?</td>\n    </tr>\n    <tr>\n      <th>12</th>\n      <td>https://ironbets.ru/prognozy/football/manchest...</td>\n      <td>Манчестер Юнайтед – Барселона. Какая команда п...</td>\n    </tr>\n    <tr>\n      <th>13</th>\n      <td>https://ironbets.ru/prognozy/hockey/lokomotiv-...</td>\n      <td>Локомотив – ЦСКА. Кто победит в битве конкурен...</td>\n    </tr>\n    <tr>\n      <th>14</th>\n      <td>https://ironbets.ru/prognozy/mma/ufc/jones-gane/</td>\n      <td>Прогноз на бой Джон Джонс – Сирил Ган</td>\n    </tr>\n    <tr>\n      <th>15</th>\n      <td>https://ironbets.ru/prognozy/football/barcelon...</td>\n      <td>Барселона – Кадис. Продолжат ли каталонцы побе...</td>\n    </tr>\n    <tr>\n      <th>16</th>\n      <td>https://ironbets.ru/prognozy/football/rayo-val...</td>\n      <td>Райо Вальекано – Севилья. Продолжат ли мадридц...</td>\n    </tr>\n    <tr>\n      <th>17</th>\n      <td>https://ironbets.ru/prognozy/football/mallorca...</td>\n      <td>Мальорка – Вильярреал. Прервут ли гости череду...</td>\n    </tr>\n    <tr>\n      <th>18</th>\n      <td>https://ironbets.ru/prognozy/football/brestois...</td>\n      <td>Брест – Монако. Продолжат ли монегаски беспрои...</td>\n    </tr>\n    <tr>\n      <th>19</th>\n      <td>https://ironbets.ru/prognozy/football/toulouse...</td>\n      <td>Тулуза – Марсель. Продолжат ли хозяева серию у...</td>\n    </tr>\n    <tr>\n      <th>20</th>\n      <td>https://ironbets.ru/prognozy/football/atalanta...</td>\n      <td>Аталанта – Лечче. Продолжат ли бергамаски побе...</td>\n    </tr>\n    <tr>\n      <th>21</th>\n      <td>https://ironbets.ru/prognozy/football/chelsea-...</td>\n      <td>Челси – Саутгемтпон. Сумеют ли Синие наконец-т...</td>\n    </tr>\n    <tr>\n      <th>22</th>\n      <td>https://ironbets.ru/prognozy/football/tottenha...</td>\n      <td>Тоттенхэм – Вест Хэм. Какая команда победит в ...</td>\n    </tr>\n    <tr>\n      <th>23</th>\n      <td>https://ironbets.ru/prognozy/football/wolfsbur...</td>\n      <td>Вольфсбург – РБ Лейпциг. Какая команда вернетс...</td>\n    </tr>\n    <tr>\n      <th>24</th>\n      <td>https://ironbets.ru/prognozy/football/borussia...</td>\n      <td>Боруссия М – Бавария. Случится ли сенсация в т...</td>\n    </tr>\n    <tr>\n      <th>25</th>\n      <td>https://ironbets.ru/prognozy/football/sassuolo...</td>\n      <td>Сассуоло – Наполи. Продолжат ли неаполитанцы п...</td>\n    </tr>\n    <tr>\n      <th>26</th>\n      <td>https://ironbets.ru/prognozy/hockey/ska-sibir-...</td>\n      <td>СКА – Сибирь. Каким получится визит сибиряков ...</td>\n    </tr>\n    <tr>\n      <th>27</th>\n      <td>https://ironbets.ru/prognozy/football/borussia...</td>\n      <td>Боруссия Д – Герта. Возьмут ли Шмели очередные...</td>\n    </tr>\n    <tr>\n      <th>28</th>\n      <td>https://ironbets.ru/prognozy/football/aston-vi...</td>\n      <td>Астон Вилла – Арсенал. Смогут ли Канониры прер...</td>\n    </tr>\n    <tr>\n      <th>29</th>\n      <td>https://ironbets.ru/prognozy/basketball/vtb-le...</td>\n      <td>УНИКС – ЦСКА. Репетиция финала?</td>\n    </tr>\n  </tbody>\n</table>\n</div>"
     },
     "execution_count": 10,
     "metadata": {},
     "output_type": "execute_result"
    }
   ],
   "source": [
    "\n",
    "\n",
    "# загружаем необходимые модули и библиотеки\n",
    "import re\n",
    "import requests\n",
    "import pandas as pd\n",
    "from bs4 import BeautifulSoup\n",
    "from urllib.request import Request, urlopen\n",
    "\n",
    "#проверяем доступность сайта\n",
    "req = Request(\n",
    "    url='https://ironbets.ru/prognozy/',\n",
    "    headers={'User-Agent': 'Mozilla/5.0'}\n",
    ")\n",
    "website_url = urlopen(req).read()\n",
    "soup = BeautifulSoup(website_url, 'lxml')\n",
    "\n",
    "links = []\n",
    "news_link = soup.find_all('div', class_='post-card__title')\n",
    "\n",
    "for news in news_link:\n",
    "    links.append(\n",
    "        {\n",
    "            'link': news.find('a').get('href'),\n",
    "            'text': news.find('a').get_text()\n",
    "        })\n",
    "df1 = pd.DataFrame(links)\n",
    "df1"
   ],
   "metadata": {
    "collapsed": false,
    "pycharm": {
     "name": "#%%\n"
    }
   }
  },
  {
   "cell_type": "code",
   "execution_count": 12,
   "outputs": [
    {
     "data": {
      "text/plain": "                                                link  \\\n6  https://ironbets.ru/prognozy/football/rennais-...   \n\n                                                text  \n6  ренн – шахтер донецк. возьмут ли французы реванш?  ",
      "text/html": "<div>\n<style scoped>\n    .dataframe tbody tr th:only-of-type {\n        vertical-align: middle;\n    }\n\n    .dataframe tbody tr th {\n        vertical-align: top;\n    }\n\n    .dataframe thead th {\n        text-align: right;\n    }\n</style>\n<table border=\"1\" class=\"dataframe\">\n  <thead>\n    <tr style=\"text-align: right;\">\n      <th></th>\n      <th>link</th>\n      <th>text</th>\n    </tr>\n  </thead>\n  <tbody>\n    <tr>\n      <th>6</th>\n      <td>https://ironbets.ru/prognozy/football/rennais-...</td>\n      <td>ренн – шахтер донецк. возьмут ли французы реванш?</td>\n    </tr>\n  </tbody>\n</table>\n</div>"
     },
     "execution_count": 12,
     "metadata": {},
     "output_type": "execute_result"
    }
   ],
   "source": [
    "df2 = pd.DataFrame()\n",
    "key_words = ['Ренн', 'Шахтер']\n",
    "key_words = [item.lower() for item in key_words]\n",
    "df1.text = [item.lower() for item in df1.text]\n",
    "for line in df1.text:\n",
    "    if all(word in line for word in key_words):\n",
    "        df0 = df1[df1.text.str.contains(line)]\n",
    "        df2 = pd.concat([df2, df0], axis= 0 ).drop_duplicates ()\n",
    "df2"
   ],
   "metadata": {
    "collapsed": false,
    "pycharm": {
     "name": "#%%\n"
    }
   }
  },
  {
   "cell_type": "code",
   "execution_count": 15,
   "outputs": [
    {
     "name": "stdout",
     "output_type": "stream",
     "text": [
      "23 февраля в 23:00 по мск, в рамках 1/16 финала Лиги Европы, на арене «Роазон Парк» (Ренн), встретятся команды Ренн и Шахтер Донецк. Результат первого матча 1-2.\n",
      " Ренн не в лучшей форме подошел к матчам плей-офф, скопив отрезок из двух поражений в национальной лиге. Провалились французы и в ЛЕ, проиграв на выезде донецкому Шахтеру 1:2. Подопечные Брюно Женезьо неплохо действовали на поле, однако команду катастрофически подводила реализация. В итоге еще в первом тайме «красно-черные» позволили украинцам дважды расписаться в своих воротах. После паузы Ренн предпринял попытку ускориться, Экамби даже смог сократить отставание. А вот в дальнейшем как французы ни старались, спасти хотя бы ничью им не удалось.\n",
      " Ренн проиграл 5 из 6 последних игр сезона.\n",
      " Донецкий Шахтер хорошо вошел в сезон после зимней паузы, в стартовой игре плей-офф Лиги Европы команда на нейтральной арене обыграла Ренн 2:1. Подопечные Игора Йовичевича сделали ставку на первый тайм, все опасные моменты команды пришлись именно на этот отрезок. Стоит отметить, что «оранжево-черные» смогли дважды пробить оборону французов. После перерыва «горняки» начали играть на удержание счета, однако тактика не сработала, «красно-черным» удалось сократить отставание. Голами за Шахтер отличились Крыскив и Бондаренко.\n",
      " Чемпионат Украины на паузе, поэтому дончане неделю будут готовиться к ответной встрече.\n",
      " Букмекеры видят французов фаворитами матча. На успех Ренна котировки составили – 1.71. На ничью можно поставить с коэффициентом – 3.85. На викторию Шахтера котировки остановились, на отметке – 4.70. Букмекеры ждут голов от команд. Букмекерская контора  предлагает поставить на «Тотал меньше 2,5» коэффициент равен – 2.04, «Тотал больше 2,5» с котировками – 1.75.\n",
      " Ренн действует неуверенно, команда потеряла нить игры в последние недели. Шахтер сумел добиться успеха в первой встрече, однако задача выхода в следующий раунд турнира еще не решена. Хозяева сейчас в явном кризисе, гости провели первый официальный матч с ноября 2022 года, то есть тоже далеки от идеальной формы. Поэтому жду активной игры впереди от бретонцев, контратак «горняков», а от встречи в целом забитых мячей: ТБ(2,5) – 1.75.\n",
      " \n",
      " \n",
      "\n"
     ]
    }
   ],
   "source": [
    "news = ''\n",
    "for link in df2.link:\n",
    "    req = Request(\n",
    "        url=link,\n",
    "        headers={'User-Agent': 'Mozilla/5.0'}\n",
    "    )\n",
    "    website_url = urlopen(req).read()\n",
    "    soup = BeautifulSoup(website_url, 'lxml')\n",
    "\n",
    "    article_body = soup.find(\"div\", class_=\"entry-content\")\n",
    "\n",
    "    # # Check the last p tags for the presence of a tags\n",
    "    # for p in article_body.find_all(\"b\")[-1:]:\n",
    "    #     if p.find(\"a\"):\n",
    "    #         p.extract()\n",
    "\n",
    "    for td in article_body.find_all('p'):\n",
    "        news += str(td.text.replace('Winline', '')) + '\\n '\n",
    "    news = news+'\\n'\n",
    "\n",
    "print (news)"
   ],
   "metadata": {
    "collapsed": false,
    "pycharm": {
     "name": "#%%\n"
    }
   }
  },
  {
   "cell_type": "code",
   "execution_count": null,
   "outputs": [],
   "source": [],
   "metadata": {
    "collapsed": false,
    "pycharm": {
     "name": "#%%\n"
    }
   }
  }
 ],
 "metadata": {
  "kernelspec": {
   "display_name": "Python 3",
   "language": "python",
   "name": "python3"
  },
  "language_info": {
   "codemirror_mode": {
    "name": "ipython",
    "version": 2
   },
   "file_extension": ".py",
   "mimetype": "text/x-python",
   "name": "python",
   "nbconvert_exporter": "python",
   "pygments_lexer": "ipython2",
   "version": "2.7.6"
  }
 },
 "nbformat": 4,
 "nbformat_minor": 0
}