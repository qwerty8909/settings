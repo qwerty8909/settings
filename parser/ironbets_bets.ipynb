{
 "cells": [
  {
   "cell_type": "code",
   "execution_count": 1,
   "outputs": [
    {
     "data": {
      "text/plain": "                                                 link  \\\n0   https://ironbets.ru/prognozy/football/dinamo-m...   \n1   https://ironbets.ru/prognozy/football/zenit-ni...   \n2   https://ironbets.ru/prognozy/football/spartak-...   \n3   https://ironbets.ru/prognozy/football/kayrat-a...   \n4   https://ironbets.ru/prognozy/football/astana-s...   \n5   https://ironbets.ru/prognozy/football/sheffiel...   \n6   https://ironbets.ru/prognozy/football/manchest...   \n7   https://ironbets.ru/prognozy/football/bristol-...   \n8   https://ironbets.ru/prognozy/football/real-mad...   \n9   https://ironbets.ru/prognozy/football/manchest...   \n10  https://ironbets.ru/prognozy/hockey/ak-bars-av...   \n11  https://ironbets.ru/prognozy/basketball/vtb-le...   \n12  https://ironbets.ru/prognozy/football/valencia...   \n13  https://ironbets.ru/prognozy/football/sevilla-...   \n14  https://ironbets.ru/prognozy/football/almeria-...   \n15  https://ironbets.ru/prognozy/mma/ufc/brunson-d...   \n16  https://ironbets.ru/prognozy/hockey/ak-bars-me...   \n17  https://ironbets.ru/prognozy/football/monaco-n...   \n18  https://ironbets.ru/prognozy/football/angers-l...   \n19  https://ironbets.ru/prognozy/football/empoli-n...   \n20  https://ironbets.ru/prognozy/football/bologna-...   \n21  https://ironbets.ru/prognozy/football/hoffenhe...   \n22  https://ironbets.ru/prognozy/football/rb-leipz...   \n23  https://ironbets.ru/prognozy/football/tottenha...   \n24  https://ironbets.ru/prognozy/football/crystal-...   \n25  https://ironbets.ru/prognozy/football/bournemo...   \n26  https://ironbets.ru/prognozy/football/bayern-u...   \n27  https://ironbets.ru/prognozy/hockey/avtomobili...   \n28  https://ironbets.ru/prognozy/football/cska-kra...   \n29  https://ironbets.ru/prognozy/football/lokomoti...   \n\n                                                 text  \n0   Динамо Москва – Крылья Советов. Смогут ли обно...  \n1   Зенит – Нижний Новгород. Подтвердят ли подопеч...  \n2   Спартак – Урал. Сумеют ли уральцы отобрать очк...  \n3   Кайрат – Атырау. Кому удастся удачно стартоват...  \n4   Астана – Шахтер Караганда. Кому удачно стартов...  \n5   Шеффилд Юнайтед – Тоттенхэм. Прервут ли «клинк...  \n6   Манчестер Юнайтед – Вест Хэм. Продолжат ли «кр...  \n7   Бристоль Сити – Манчестер Сити. Продлят ли хоз...  \n8   Реал Мадрид – Ливерпуль. Сумеют ли Красные сде...  \n9   Манчестер Сити – РБ Лейпциг. Сумеют ли Горожан...  \n10  Ак Барс – Авангард. Кто окажется сильней в бит...  \n11  УНИКС – Зенит. Репетиция фаворитов перед плей-...  \n12  Валенсия – Реал Сосьедад. Возьмут ли хозяева о...  \n13  Севилья – Осасуна. Прервут ли гости серию неудач?  \n14  Альмерия – Барселона. Продолжат ли каталонцы с...  \n15    Прогноз на бой Дерек Брансон – Дрикус Дю Плесси  \n16  Ак Барс – Металлург. Чем закончится битва гран...  \n17  Монако – Ницца. Продолжат ли «монегаски» серию...  \n18   Анже – Лион. Прервут ли хозяева серию без побед?  \n19  Эмполи – Наполи. Продолжат ли неаполитанцы поб...  \n20  Болонья – Интер. Продолжат ли миланцы беспроиг...  \n21  Хоффенхайм – Боруссия Д. Продолжится ли победн...  \n22  РБ Лейпциг – Айнтрахт. Сколько голов забьют ко...  \n23  Тоттенхэм – Челси. Кто победит в новом лондонс...  \n24  Кристал Пэлас – Ливерпуль. Подтвердят ли Красн...  \n25  Борнмут – Манчестер Сити. Случится ли главная ...  \n26  Бавария – Унион Берлин. Кто победит в матче ли...  \n27  Автомобилист – Салават Юлаев. Кто окажется сил...  \n28  ЦСКА – Краснодар. Продолжат ли москвичи победн...  \n29  Локомотив – Спартак. Кто будет сильнее в столи...  ",
      "text/html": "<div>\n<style scoped>\n    .dataframe tbody tr th:only-of-type {\n        vertical-align: middle;\n    }\n\n    .dataframe tbody tr th {\n        vertical-align: top;\n    }\n\n    .dataframe thead th {\n        text-align: right;\n    }\n</style>\n<table border=\"1\" class=\"dataframe\">\n  <thead>\n    <tr style=\"text-align: right;\">\n      <th></th>\n      <th>link</th>\n      <th>text</th>\n    </tr>\n  </thead>\n  <tbody>\n    <tr>\n      <th>0</th>\n      <td>https://ironbets.ru/prognozy/football/dinamo-m...</td>\n      <td>Динамо Москва – Крылья Советов. Смогут ли обно...</td>\n    </tr>\n    <tr>\n      <th>1</th>\n      <td>https://ironbets.ru/prognozy/football/zenit-ni...</td>\n      <td>Зенит – Нижний Новгород. Подтвердят ли подопеч...</td>\n    </tr>\n    <tr>\n      <th>2</th>\n      <td>https://ironbets.ru/prognozy/football/spartak-...</td>\n      <td>Спартак – Урал. Сумеют ли уральцы отобрать очк...</td>\n    </tr>\n    <tr>\n      <th>3</th>\n      <td>https://ironbets.ru/prognozy/football/kayrat-a...</td>\n      <td>Кайрат – Атырау. Кому удастся удачно стартоват...</td>\n    </tr>\n    <tr>\n      <th>4</th>\n      <td>https://ironbets.ru/prognozy/football/astana-s...</td>\n      <td>Астана – Шахтер Караганда. Кому удачно стартов...</td>\n    </tr>\n    <tr>\n      <th>5</th>\n      <td>https://ironbets.ru/prognozy/football/sheffiel...</td>\n      <td>Шеффилд Юнайтед – Тоттенхэм. Прервут ли «клинк...</td>\n    </tr>\n    <tr>\n      <th>6</th>\n      <td>https://ironbets.ru/prognozy/football/manchest...</td>\n      <td>Манчестер Юнайтед – Вест Хэм. Продолжат ли «кр...</td>\n    </tr>\n    <tr>\n      <th>7</th>\n      <td>https://ironbets.ru/prognozy/football/bristol-...</td>\n      <td>Бристоль Сити – Манчестер Сити. Продлят ли хоз...</td>\n    </tr>\n    <tr>\n      <th>8</th>\n      <td>https://ironbets.ru/prognozy/football/real-mad...</td>\n      <td>Реал Мадрид – Ливерпуль. Сумеют ли Красные сде...</td>\n    </tr>\n    <tr>\n      <th>9</th>\n      <td>https://ironbets.ru/prognozy/football/manchest...</td>\n      <td>Манчестер Сити – РБ Лейпциг. Сумеют ли Горожан...</td>\n    </tr>\n    <tr>\n      <th>10</th>\n      <td>https://ironbets.ru/prognozy/hockey/ak-bars-av...</td>\n      <td>Ак Барс – Авангард. Кто окажется сильней в бит...</td>\n    </tr>\n    <tr>\n      <th>11</th>\n      <td>https://ironbets.ru/prognozy/basketball/vtb-le...</td>\n      <td>УНИКС – Зенит. Репетиция фаворитов перед плей-...</td>\n    </tr>\n    <tr>\n      <th>12</th>\n      <td>https://ironbets.ru/prognozy/football/valencia...</td>\n      <td>Валенсия – Реал Сосьедад. Возьмут ли хозяева о...</td>\n    </tr>\n    <tr>\n      <th>13</th>\n      <td>https://ironbets.ru/prognozy/football/sevilla-...</td>\n      <td>Севилья – Осасуна. Прервут ли гости серию неудач?</td>\n    </tr>\n    <tr>\n      <th>14</th>\n      <td>https://ironbets.ru/prognozy/football/almeria-...</td>\n      <td>Альмерия – Барселона. Продолжат ли каталонцы с...</td>\n    </tr>\n    <tr>\n      <th>15</th>\n      <td>https://ironbets.ru/prognozy/mma/ufc/brunson-d...</td>\n      <td>Прогноз на бой Дерек Брансон – Дрикус Дю Плесси</td>\n    </tr>\n    <tr>\n      <th>16</th>\n      <td>https://ironbets.ru/prognozy/hockey/ak-bars-me...</td>\n      <td>Ак Барс – Металлург. Чем закончится битва гран...</td>\n    </tr>\n    <tr>\n      <th>17</th>\n      <td>https://ironbets.ru/prognozy/football/monaco-n...</td>\n      <td>Монако – Ницца. Продолжат ли «монегаски» серию...</td>\n    </tr>\n    <tr>\n      <th>18</th>\n      <td>https://ironbets.ru/prognozy/football/angers-l...</td>\n      <td>Анже – Лион. Прервут ли хозяева серию без побед?</td>\n    </tr>\n    <tr>\n      <th>19</th>\n      <td>https://ironbets.ru/prognozy/football/empoli-n...</td>\n      <td>Эмполи – Наполи. Продолжат ли неаполитанцы поб...</td>\n    </tr>\n    <tr>\n      <th>20</th>\n      <td>https://ironbets.ru/prognozy/football/bologna-...</td>\n      <td>Болонья – Интер. Продолжат ли миланцы беспроиг...</td>\n    </tr>\n    <tr>\n      <th>21</th>\n      <td>https://ironbets.ru/prognozy/football/hoffenhe...</td>\n      <td>Хоффенхайм – Боруссия Д. Продолжится ли победн...</td>\n    </tr>\n    <tr>\n      <th>22</th>\n      <td>https://ironbets.ru/prognozy/football/rb-leipz...</td>\n      <td>РБ Лейпциг – Айнтрахт. Сколько голов забьют ко...</td>\n    </tr>\n    <tr>\n      <th>23</th>\n      <td>https://ironbets.ru/prognozy/football/tottenha...</td>\n      <td>Тоттенхэм – Челси. Кто победит в новом лондонс...</td>\n    </tr>\n    <tr>\n      <th>24</th>\n      <td>https://ironbets.ru/prognozy/football/crystal-...</td>\n      <td>Кристал Пэлас – Ливерпуль. Подтвердят ли Красн...</td>\n    </tr>\n    <tr>\n      <th>25</th>\n      <td>https://ironbets.ru/prognozy/football/bournemo...</td>\n      <td>Борнмут – Манчестер Сити. Случится ли главная ...</td>\n    </tr>\n    <tr>\n      <th>26</th>\n      <td>https://ironbets.ru/prognozy/football/bayern-u...</td>\n      <td>Бавария – Унион Берлин. Кто победит в матче ли...</td>\n    </tr>\n    <tr>\n      <th>27</th>\n      <td>https://ironbets.ru/prognozy/hockey/avtomobili...</td>\n      <td>Автомобилист – Салават Юлаев. Кто окажется сил...</td>\n    </tr>\n    <tr>\n      <th>28</th>\n      <td>https://ironbets.ru/prognozy/football/cska-kra...</td>\n      <td>ЦСКА – Краснодар. Продолжат ли москвичи победн...</td>\n    </tr>\n    <tr>\n      <th>29</th>\n      <td>https://ironbets.ru/prognozy/football/lokomoti...</td>\n      <td>Локомотив – Спартак. Кто будет сильнее в столи...</td>\n    </tr>\n  </tbody>\n</table>\n</div>"
     },
     "execution_count": 1,
     "metadata": {},
     "output_type": "execute_result"
    }
   ],
   "source": [
    "\n",
    "\n",
    "# загружаем необходимые модули и библиотеки\n",
    "import re\n",
    "import requests\n",
    "import pandas as pd\n",
    "from bs4 import BeautifulSoup\n",
    "from urllib.request import Request, urlopen\n",
    "\n",
    "#проверяем доступность сайта\n",
    "req = Request(\n",
    "    url='https://ironbets.ru/prognozy/',\n",
    "    headers={'User-Agent': 'Mozilla/5.0'}\n",
    ")\n",
    "website_url = urlopen(req).read()\n",
    "soup = BeautifulSoup(website_url, 'lxml')\n",
    "\n",
    "links = []\n",
    "news_link = soup.find_all('div', class_='post-card__title')\n",
    "\n",
    "for news in news_link:\n",
    "    links.append(\n",
    "        {\n",
    "            'link': news.find('a').get('href'),\n",
    "            'text': news.find('a').get_text()\n",
    "        })\n",
    "df1 = pd.DataFrame(links)\n",
    "df1"
   ],
   "metadata": {
    "collapsed": false,
    "pycharm": {
     "name": "#%%\n"
    }
   }
  },
  {
   "cell_type": "code",
   "execution_count": 12,
   "outputs": [
    {
     "data": {
      "text/plain": "                                                link  \\\n6  https://ironbets.ru/prognozy/football/rennais-...   \n\n                                                text  \n6  ренн – шахтер донецк. возьмут ли французы реванш?  ",
      "text/html": "<div>\n<style scoped>\n    .dataframe tbody tr th:only-of-type {\n        vertical-align: middle;\n    }\n\n    .dataframe tbody tr th {\n        vertical-align: top;\n    }\n\n    .dataframe thead th {\n        text-align: right;\n    }\n</style>\n<table border=\"1\" class=\"dataframe\">\n  <thead>\n    <tr style=\"text-align: right;\">\n      <th></th>\n      <th>link</th>\n      <th>text</th>\n    </tr>\n  </thead>\n  <tbody>\n    <tr>\n      <th>6</th>\n      <td>https://ironbets.ru/prognozy/football/rennais-...</td>\n      <td>ренн – шахтер донецк. возьмут ли французы реванш?</td>\n    </tr>\n  </tbody>\n</table>\n</div>"
     },
     "execution_count": 12,
     "metadata": {},
     "output_type": "execute_result"
    }
   ],
   "source": [
    "df2 = pd.DataFrame()\n",
    "key_words = ['Ренн', 'Шахтер']\n",
    "key_words = [item.lower() for item in key_words]\n",
    "df1.text = [item.lower() for item in df1.text]\n",
    "for line in df1.text:\n",
    "    if all(word in line for word in key_words):\n",
    "        df0 = df1[df1.text.str.contains(line)]\n",
    "        df2 = pd.concat([df2, df0], axis= 0 ).drop_duplicates ()\n",
    "df2"
   ],
   "metadata": {
    "collapsed": false,
    "pycharm": {
     "name": "#%%\n"
    }
   }
  },
  {
   "cell_type": "code",
   "execution_count": 15,
   "outputs": [
    {
     "name": "stdout",
     "output_type": "stream",
     "text": [
      "23 февраля в 23:00 по мск, в рамках 1/16 финала Лиги Европы, на арене «Роазон Парк» (Ренн), встретятся команды Ренн и Шахтер Донецк. Результат первого матча 1-2.\n",
      " Ренн не в лучшей форме подошел к матчам плей-офф, скопив отрезок из двух поражений в национальной лиге. Провалились французы и в ЛЕ, проиграв на выезде донецкому Шахтеру 1:2. Подопечные Брюно Женезьо неплохо действовали на поле, однако команду катастрофически подводила реализация. В итоге еще в первом тайме «красно-черные» позволили украинцам дважды расписаться в своих воротах. После паузы Ренн предпринял попытку ускориться, Экамби даже смог сократить отставание. А вот в дальнейшем как французы ни старались, спасти хотя бы ничью им не удалось.\n",
      " Ренн проиграл 5 из 6 последних игр сезона.\n",
      " Донецкий Шахтер хорошо вошел в сезон после зимней паузы, в стартовой игре плей-офф Лиги Европы команда на нейтральной арене обыграла Ренн 2:1. Подопечные Игора Йовичевича сделали ставку на первый тайм, все опасные моменты команды пришлись именно на этот отрезок. Стоит отметить, что «оранжево-черные» смогли дважды пробить оборону французов. После перерыва «горняки» начали играть на удержание счета, однако тактика не сработала, «красно-черным» удалось сократить отставание. Голами за Шахтер отличились Крыскив и Бондаренко.\n",
      " Чемпионат Украины на паузе, поэтому дончане неделю будут готовиться к ответной встрече.\n",
      " Букмекеры видят французов фаворитами матча. На успех Ренна котировки составили – 1.71. На ничью можно поставить с коэффициентом – 3.85. На викторию Шахтера котировки остановились, на отметке – 4.70. Букмекеры ждут голов от команд. Букмекерская контора  предлагает поставить на «Тотал меньше 2,5» коэффициент равен – 2.04, «Тотал больше 2,5» с котировками – 1.75.\n",
      " Ренн действует неуверенно, команда потеряла нить игры в последние недели. Шахтер сумел добиться успеха в первой встрече, однако задача выхода в следующий раунд турнира еще не решена. Хозяева сейчас в явном кризисе, гости провели первый официальный матч с ноября 2022 года, то есть тоже далеки от идеальной формы. Поэтому жду активной игры впереди от бретонцев, контратак «горняков», а от встречи в целом забитых мячей: ТБ(2,5) – 1.75.\n",
      " \n",
      " \n",
      "\n"
     ]
    }
   ],
   "source": [
    "news = ''\n",
    "for link in df2.link:\n",
    "    req = Request(\n",
    "        url=link,\n",
    "        headers={'User-Agent': 'Mozilla/5.0'}\n",
    "    )\n",
    "    website_url = urlopen(req).read()\n",
    "    soup = BeautifulSoup(website_url, 'lxml')\n",
    "\n",
    "    article_body = soup.find(\"div\", class_=\"entry-content\")\n",
    "\n",
    "    # # Check the last p tags for the presence of a tags\n",
    "    # for p in article_body.find_all(\"b\")[-1:]:\n",
    "    #     if p.find(\"a\"):\n",
    "    #         p.extract()\n",
    "\n",
    "    for td in article_body.find_all('p'):\n",
    "        news += str(td.text.replace('Winline', '')) + '\\n '\n",
    "    news = news+'\\n'\n",
    "\n",
    "print (news)"
   ],
   "metadata": {
    "collapsed": false,
    "pycharm": {
     "name": "#%%\n"
    }
   }
  },
  {
   "cell_type": "code",
   "execution_count": null,
   "outputs": [],
   "source": [],
   "metadata": {
    "collapsed": false,
    "pycharm": {
     "name": "#%%\n"
    }
   }
  }
 ],
 "metadata": {
  "kernelspec": {
   "display_name": "Python 3",
   "language": "python",
   "name": "python3"
  },
  "language_info": {
   "codemirror_mode": {
    "name": "ipython",
    "version": 2
   },
   "file_extension": ".py",
   "mimetype": "text/x-python",
   "name": "python",
   "nbconvert_exporter": "python",
   "pygments_lexer": "ipython2",
   "version": "2.7.6"
  }
 },
 "nbformat": 4,
 "nbformat_minor": 0
}