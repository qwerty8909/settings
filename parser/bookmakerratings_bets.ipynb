{
 "cells": [
  {
   "cell_type": "code",
   "execution_count": 1,
   "outputs": [
    {
     "data": {
      "text/plain": "                                                 link  \\\n0   https://bookmaker-ratings.ru/tips/amur-ak-bars...   \n1   https://bookmaker-ratings.ru/tips/admiral-avto...   \n2   https://bookmaker-ratings.ru/tips/amur-ak-bars...   \n3   https://bookmaker-ratings.ru/tips/spartak-seve...   \n4   https://bookmaker-ratings.ru/tips/spartak-seve...   \n5   https://bookmaker-ratings.ru/tips/spartak-seve...   \n6   https://bookmaker-ratings.ru/tips/dinamo-minsk...   \n7   https://bookmaker-ratings.ru/tips/salavat-yula...   \n8   https://bookmaker-ratings.ru/tips/salavat-yula...   \n9   https://bookmaker-ratings.ru/tips/metallurg-mg...   \n10  https://bookmaker-ratings.ru/tips/welsh-open-6...   \n11  https://bookmaker-ratings.ru/tips/aston-villa-...   \n12  https://bookmaker-ratings.ru/tips/e-kspress-na...   \n13  https://bookmaker-ratings.ru/tips/aston-villa-...   \n14  https://bookmaker-ratings.ru/tips/aston-villa-...   \n15  https://bookmaker-ratings.ru/tips/real-sos-eda...   \n16  https://bookmaker-ratings.ru/tips/real-sos-eda...   \n17  https://bookmaker-ratings.ru/tips/sampdoriya-b...   \n18  https://bookmaker-ratings.ru/tips/lokomotiv-ts...   \n19  https://bookmaker-ratings.ru/tips/dinamo-minsk...   \n20  https://bookmaker-ratings.ru/tips/kun-lun-bary...   \n21  https://bookmaker-ratings.ru/tips/daniil-medve...   \n\n                                                 text  \n0   Амур - Ак Барс: прогноз и ставка. Гости опять ...  \n1   Адмирал - Автомобилист: прогноз и ставка Макси...  \n2   Амур - Ак Барс: прогноз и ставка Максима Лебедева  \n3   Спартак - Северсталь: прогноз и ставка. Герась...  \n4   Спартак - Северсталь: прогноз и ставка Максима...  \n5   Спартак - Северсталь: прогноз и ставка Павла Л...  \n6   Динамо Минск — Слуцк: прогноз и ставка Евгения...  \n7   Салават Юлаев - Сибирь: прогноз и ставка Макси...  \n8   Салават Юлаев - Сибирь: прогноз и ставка. Хмел...  \n9   Металлург Мг - Сочи: прогноз и ставка Максима ...  \n10  Welsh Open, 6-й день: прогноз и ставки Владими...  \n11  Астон Вилла – Арсенал: прогноз и ставка. У гос...  \n12      Экспресс на 24-й тур АПЛ с коэффициентом 5,22  \n13  Астон Вилла – Арсенал: прогноз и ставка Артура...  \n14  Астон Вилла - Арсенал: прогноз и ставка Павла ...  \n15  Реал Сосьедад – Сельта: прогноз и ставка. Став...  \n16  Реал Сосьедад – Сельта: прогноз и ставка Конст...  \n17  Сампдория – Болонья: прогноз и ставка. «Дория»...  \n18  Локомотив - ЦСКА: прогноз и ставка Максима Леб...  \n19  Динамо Минск – Торпедо: прогноз и ставка Макси...  \n20  Куньлунь - Барыс: прогноз и ставка Максима Леб...  \n21  Даниил Медведев - Григор Димитров: прогноз и с...  ",
      "text/html": "<div>\n<style scoped>\n    .dataframe tbody tr th:only-of-type {\n        vertical-align: middle;\n    }\n\n    .dataframe tbody tr th {\n        vertical-align: top;\n    }\n\n    .dataframe thead th {\n        text-align: right;\n    }\n</style>\n<table border=\"1\" class=\"dataframe\">\n  <thead>\n    <tr style=\"text-align: right;\">\n      <th></th>\n      <th>link</th>\n      <th>text</th>\n    </tr>\n  </thead>\n  <tbody>\n    <tr>\n      <th>0</th>\n      <td>https://bookmaker-ratings.ru/tips/amur-ak-bars...</td>\n      <td>Амур - Ак Барс: прогноз и ставка. Гости опять ...</td>\n    </tr>\n    <tr>\n      <th>1</th>\n      <td>https://bookmaker-ratings.ru/tips/admiral-avto...</td>\n      <td>Адмирал - Автомобилист: прогноз и ставка Макси...</td>\n    </tr>\n    <tr>\n      <th>2</th>\n      <td>https://bookmaker-ratings.ru/tips/amur-ak-bars...</td>\n      <td>Амур - Ак Барс: прогноз и ставка Максима Лебедева</td>\n    </tr>\n    <tr>\n      <th>3</th>\n      <td>https://bookmaker-ratings.ru/tips/spartak-seve...</td>\n      <td>Спартак - Северсталь: прогноз и ставка. Герась...</td>\n    </tr>\n    <tr>\n      <th>4</th>\n      <td>https://bookmaker-ratings.ru/tips/spartak-seve...</td>\n      <td>Спартак - Северсталь: прогноз и ставка Максима...</td>\n    </tr>\n    <tr>\n      <th>5</th>\n      <td>https://bookmaker-ratings.ru/tips/spartak-seve...</td>\n      <td>Спартак - Северсталь: прогноз и ставка Павла Л...</td>\n    </tr>\n    <tr>\n      <th>6</th>\n      <td>https://bookmaker-ratings.ru/tips/dinamo-minsk...</td>\n      <td>Динамо Минск — Слуцк: прогноз и ставка Евгения...</td>\n    </tr>\n    <tr>\n      <th>7</th>\n      <td>https://bookmaker-ratings.ru/tips/salavat-yula...</td>\n      <td>Салават Юлаев - Сибирь: прогноз и ставка Макси...</td>\n    </tr>\n    <tr>\n      <th>8</th>\n      <td>https://bookmaker-ratings.ru/tips/salavat-yula...</td>\n      <td>Салават Юлаев - Сибирь: прогноз и ставка. Хмел...</td>\n    </tr>\n    <tr>\n      <th>9</th>\n      <td>https://bookmaker-ratings.ru/tips/metallurg-mg...</td>\n      <td>Металлург Мг - Сочи: прогноз и ставка Максима ...</td>\n    </tr>\n    <tr>\n      <th>10</th>\n      <td>https://bookmaker-ratings.ru/tips/welsh-open-6...</td>\n      <td>Welsh Open, 6-й день: прогноз и ставки Владими...</td>\n    </tr>\n    <tr>\n      <th>11</th>\n      <td>https://bookmaker-ratings.ru/tips/aston-villa-...</td>\n      <td>Астон Вилла – Арсенал: прогноз и ставка. У гос...</td>\n    </tr>\n    <tr>\n      <th>12</th>\n      <td>https://bookmaker-ratings.ru/tips/e-kspress-na...</td>\n      <td>Экспресс на 24-й тур АПЛ с коэффициентом 5,22</td>\n    </tr>\n    <tr>\n      <th>13</th>\n      <td>https://bookmaker-ratings.ru/tips/aston-villa-...</td>\n      <td>Астон Вилла – Арсенал: прогноз и ставка Артура...</td>\n    </tr>\n    <tr>\n      <th>14</th>\n      <td>https://bookmaker-ratings.ru/tips/aston-villa-...</td>\n      <td>Астон Вилла - Арсенал: прогноз и ставка Павла ...</td>\n    </tr>\n    <tr>\n      <th>15</th>\n      <td>https://bookmaker-ratings.ru/tips/real-sos-eda...</td>\n      <td>Реал Сосьедад – Сельта: прогноз и ставка. Став...</td>\n    </tr>\n    <tr>\n      <th>16</th>\n      <td>https://bookmaker-ratings.ru/tips/real-sos-eda...</td>\n      <td>Реал Сосьедад – Сельта: прогноз и ставка Конст...</td>\n    </tr>\n    <tr>\n      <th>17</th>\n      <td>https://bookmaker-ratings.ru/tips/sampdoriya-b...</td>\n      <td>Сампдория – Болонья: прогноз и ставка. «Дория»...</td>\n    </tr>\n    <tr>\n      <th>18</th>\n      <td>https://bookmaker-ratings.ru/tips/lokomotiv-ts...</td>\n      <td>Локомотив - ЦСКА: прогноз и ставка Максима Леб...</td>\n    </tr>\n    <tr>\n      <th>19</th>\n      <td>https://bookmaker-ratings.ru/tips/dinamo-minsk...</td>\n      <td>Динамо Минск – Торпедо: прогноз и ставка Макси...</td>\n    </tr>\n    <tr>\n      <th>20</th>\n      <td>https://bookmaker-ratings.ru/tips/kun-lun-bary...</td>\n      <td>Куньлунь - Барыс: прогноз и ставка Максима Леб...</td>\n    </tr>\n    <tr>\n      <th>21</th>\n      <td>https://bookmaker-ratings.ru/tips/daniil-medve...</td>\n      <td>Даниил Медведев - Григор Димитров: прогноз и с...</td>\n    </tr>\n  </tbody>\n</table>\n</div>"
     },
     "execution_count": 1,
     "metadata": {},
     "output_type": "execute_result"
    }
   ],
   "source": [
    "import requests\n",
    "import urllib.parse\n",
    "import pandas as pd\n",
    "from bs4 import BeautifulSoup\n",
    "\n",
    "sa_key = '6d11ce9f8a9a4cbcb977fb37a6518173' # paste here\n",
    "sa_api = 'https://api.scrapingant.com/v2/general'\n",
    "qParams = {'url': 'https://bookmaker-ratings.ru/tips/today/', 'x-api-key': sa_key}\n",
    "req = f'{sa_api}?{urllib.parse.urlencode(qParams)}'\n",
    "\n",
    "response = requests.get(req)\n",
    "soup = BeautifulSoup(response.content, 'html.parser')\n",
    "\n",
    "links = []\n",
    "news_link = soup.find_all('div', class_='sc-d49a17a6-6 qXNPX')\n",
    "for news in news_link:\n",
    "    links.append(\n",
    "        {\n",
    "            'link': 'https://bookmaker-ratings.ru' + news.find('a', class_='sc-8eaa09cb-1 dOUFle sc-d49a17a6-24 jOwOha').get('href'),\n",
    "            'text': news.find('p').get_text()#.lower().replace('«', '').replace('»', '').replace('— ', '')\n",
    "        })\n",
    "df1 = pd.DataFrame(links)\n",
    "df1"
   ],
   "metadata": {
    "collapsed": false,
    "pycharm": {
     "name": "#%%\n"
    }
   }
  },
  {
   "cell_type": "code",
   "execution_count": 24,
   "outputs": [
    {
     "data": {
      "text/plain": "                                                 link  \\\n14  https://bookmaker-ratings.ru/tips/shahter-done...   \n20  https://bookmaker-ratings.ru/tips/shahter-done...   \n\n                                                 text  \n14  шахтер донецк – ренн: прогноз и ставки. так ли...  \n20  шахтер донецк – ренн: прогноз и ставка егора т...  ",
      "text/html": "<div>\n<style scoped>\n    .dataframe tbody tr th:only-of-type {\n        vertical-align: middle;\n    }\n\n    .dataframe tbody tr th {\n        vertical-align: top;\n    }\n\n    .dataframe thead th {\n        text-align: right;\n    }\n</style>\n<table border=\"1\" class=\"dataframe\">\n  <thead>\n    <tr style=\"text-align: right;\">\n      <th></th>\n      <th>link</th>\n      <th>text</th>\n    </tr>\n  </thead>\n  <tbody>\n    <tr>\n      <th>14</th>\n      <td>https://bookmaker-ratings.ru/tips/shahter-done...</td>\n      <td>шахтер донецк – ренн: прогноз и ставки. так ли...</td>\n    </tr>\n    <tr>\n      <th>20</th>\n      <td>https://bookmaker-ratings.ru/tips/shahter-done...</td>\n      <td>шахтер донецк – ренн: прогноз и ставка егора т...</td>\n    </tr>\n  </tbody>\n</table>\n</div>"
     },
     "execution_count": 24,
     "metadata": {},
     "output_type": "execute_result"
    }
   ],
   "source": [
    "df2 = pd.DataFrame()\n",
    "key_words = ['ренн', 'шахт']\n",
    "key_words = [item.lower() for item in key_words]\n",
    "df1.text = [item.lower() for item in df1.text]\n",
    "for line in df1.text:\n",
    "    if all(word in line for word in key_words):\n",
    "        df0 = df1[df1.text.str.contains(line)]\n",
    "        df2 = pd.concat([df2, df0], axis= 0 )\n",
    "df2"
   ],
   "metadata": {
    "collapsed": false,
    "pycharm": {
     "name": "#%%\n"
    }
   }
  },
  {
   "cell_type": "code",
   "execution_count": 36,
   "outputs": [
    {
     "name": "stdout",
     "output_type": "stream",
     "text": [
      "None\n"
     ]
    }
   ],
   "source": [
    "#проверяем доступность сайта\n",
    "news = ''\n",
    "text = ''\n",
    "links = ['https://bookmaker-ratings.ru/tips/shahter-donetsk-renn-prognoz-i-stavki-tak-li-ocheviden-favorit/']\n",
    "for link in links: #df2.link:\n",
    "    sa_key = '6d11ce9f8a9a4cbcb977fb37a6518173' # paste here\n",
    "    sa_api = 'https://api.scrapingant.com/v2/general'\n",
    "    qParams = {'url': 'https://bookmaker-ratings.ru/tips/today/', 'x-api-key': sa_key}\n",
    "    req = f'{sa_api}?{urllib.parse.urlencode(qParams)}'\n",
    "\n",
    "    response = requests.get(req)\n",
    "    soup = BeautifulSoup(response.content, 'html.parser')\n",
    "\n",
    "    # Extract the title of the article\n",
    "    title = soup.find(\"h1\", class_=\"sc-434dc628-0 iMBQk\").text.strip() + \". \"\n",
    "\n",
    "    # Extract the text of the article\n",
    "    article_body = soup.find(\"div\", class_=\"sc-1c701fe1-5 jksxlO\")#.find(class_=\"sc-13b9cc09-2 sc-13b9cc09-3 hZwaAo cnNfjV\")\n",
    "    print (article_body)\n",
    "    # # Check the last p tags for the presence of a tags\n",
    "    # for p in article_body.find_all(\"p\")[-3:]:\n",
    "    #     if p.find(\"i\"):\n",
    "    #         p.extract()\n",
    "    #\n",
    "    #     # Concatenate the text content of the remaining p tags\n",
    "    #     for p in article_body.find_all(\"p\"):\n",
    "    #         article_text += p.text.strip() + \" \"\n",
    "    #         text = title + article_text\n",
    "    #     text += '\\n'\n",
    "    # # for item in text.split('\\n'):\n",
    "    # #     if len(item.split(' ')) > 10:\n",
    "    # #         print (item)\n",
    "    #     print(text)\n",
    "\n",
    "\n",
    "#     for td in article_body.find_all('p', class_=None):\n",
    "#         news += str(td.text) + ' '\n",
    "#     news += '\\n'\n",
    "# for item in news.split('\\n'):\n",
    "#     if len(item.split(' ')) > 10:\n",
    "#         print (item)\n"
   ],
   "metadata": {
    "collapsed": false,
    "pycharm": {
     "name": "#%%\n"
    }
   }
  },
  {
   "cell_type": "code",
   "execution_count": null,
   "outputs": [],
   "source": [],
   "metadata": {
    "collapsed": false,
    "pycharm": {
     "name": "#%%\n"
    }
   }
  }
 ],
 "metadata": {
  "kernelspec": {
   "display_name": "Python 3",
   "language": "python",
   "name": "python3"
  },
  "language_info": {
   "codemirror_mode": {
    "name": "ipython",
    "version": 2
   },
   "file_extension": ".py",
   "mimetype": "text/x-python",
   "name": "python",
   "nbconvert_exporter": "python",
   "pygments_lexer": "ipython2",
   "version": "2.7.6"
  }
 },
 "nbformat": 4,
 "nbformat_minor": 0
}