{
 "cells": [
  {
   "cell_type": "code",
   "execution_count": 1,
   "outputs": [
    {
     "data": {
      "text/plain": "                                                 link  \\\n0   https://bookmaker-ratings.ru/tips/e-kspress-na...   \n1   https://bookmaker-ratings.ru/tips/supere-kspre...   \n2   https://bookmaker-ratings.ru/tips/e-kspress-na...   \n3   https://bookmaker-ratings.ru/tips/amur-ak-bars...   \n4   https://bookmaker-ratings.ru/tips/admiral-avto...   \n5   https://bookmaker-ratings.ru/tips/admiral-avto...   \n6   https://bookmaker-ratings.ru/tips/amur-ak-bars...   \n7   https://bookmaker-ratings.ru/tips/atalanta-lec...   \n8   https://bookmaker-ratings.ru/tips/dolgosrochny...   \n9   https://bookmaker-ratings.ru/tips/pszh-lill-pr...   \n10  https://bookmaker-ratings.ru/tips/aleksej-krut...   \n11  https://bookmaker-ratings.ru/tips/dolgosrochny...   \n12  https://bookmaker-ratings.ru/tips/e-l-che-e-sp...   \n13  https://bookmaker-ratings.ru/tips/e-kspress-na...   \n14  https://bookmaker-ratings.ru/tips/brest-monako...   \n15  https://bookmaker-ratings.ru/tips/manchester-y...   \n16  https://bookmaker-ratings.ru/tips/salernitana-...   \n17  https://bookmaker-ratings.ru/tips/fiorentina-e...   \n18  https://bookmaker-ratings.ru/tips/manchester-y...   \n19  https://bookmaker-ratings.ru/tips/ska-traktor-...   \n20  https://bookmaker-ratings.ru/tips/manchester-y...   \n21  https://bookmaker-ratings.ru/tips/manchester-y...   \n\n                                                 text  \n0       Экспресс на 24-й тур АПЛ с коэффициентом 5,22  \n1              Суперэкспресс: играем коэффициент 6,56  \n2   Экспресс на статистику в Лиге 1. Ставим тройни...  \n3   Амур - Ак Барс: прогноз и ставка Максима Лебедева  \n4   Адмирал - Автомобилист: прогноз и ставка Макси...  \n5   Адмирал - Автомобилист: прогноз и ставка. Хозя...  \n6   Амур - Ак Барс: прогноз и ставка. Воронков опя...  \n7   Аталанта – Лечче: прогноз и ставка. Гасперини ...  \n8   Долгосрочный прогноз на турнир WTA Доха. Удаст...  \n9      ПСЖ – Лилль: прогноз и ставка. Париж в кризисе  \n10  Алексей Крутых - Павел Котов: прогноз и ставка...  \n11  Долгосрочный прогноз на турнир АТР Роттердам. ...  \n12  Эльче – Эспаньол: прогноз и ставка. Хозяева не...  \n13       Экспресс на Примеру: играем коэффициент 2,58  \n14  Брест – Монако: прогноз и ставка. Ставим на го...  \n15  Манчестер Юнайтед – Лестер: прогноз и ставки А...  \n16  Салернитана – Лацио: прогноз и ставка. Гости н...  \n17  Фиорентина – Эмполи: прогноз и ставка. Фаворит...  \n18  Манчестер Юнайтед - Лестер: прогноз и ставка Т...  \n19  СКА - Трактор: прогноз и ставка. Команды прове...  \n20  Манчестер Юнайтед - Лестер: прогноз и ставка Е...  \n21  Манчестер Юнайтед - Лестер: прогноз и ставка А...  ",
      "text/html": "<div>\n<style scoped>\n    .dataframe tbody tr th:only-of-type {\n        vertical-align: middle;\n    }\n\n    .dataframe tbody tr th {\n        vertical-align: top;\n    }\n\n    .dataframe thead th {\n        text-align: right;\n    }\n</style>\n<table border=\"1\" class=\"dataframe\">\n  <thead>\n    <tr style=\"text-align: right;\">\n      <th></th>\n      <th>link</th>\n      <th>text</th>\n    </tr>\n  </thead>\n  <tbody>\n    <tr>\n      <th>0</th>\n      <td>https://bookmaker-ratings.ru/tips/e-kspress-na...</td>\n      <td>Экспресс на 24-й тур АПЛ с коэффициентом 5,22</td>\n    </tr>\n    <tr>\n      <th>1</th>\n      <td>https://bookmaker-ratings.ru/tips/supere-kspre...</td>\n      <td>Суперэкспресс: играем коэффициент 6,56</td>\n    </tr>\n    <tr>\n      <th>2</th>\n      <td>https://bookmaker-ratings.ru/tips/e-kspress-na...</td>\n      <td>Экспресс на статистику в Лиге 1. Ставим тройни...</td>\n    </tr>\n    <tr>\n      <th>3</th>\n      <td>https://bookmaker-ratings.ru/tips/amur-ak-bars...</td>\n      <td>Амур - Ак Барс: прогноз и ставка Максима Лебедева</td>\n    </tr>\n    <tr>\n      <th>4</th>\n      <td>https://bookmaker-ratings.ru/tips/admiral-avto...</td>\n      <td>Адмирал - Автомобилист: прогноз и ставка Макси...</td>\n    </tr>\n    <tr>\n      <th>5</th>\n      <td>https://bookmaker-ratings.ru/tips/admiral-avto...</td>\n      <td>Адмирал - Автомобилист: прогноз и ставка. Хозя...</td>\n    </tr>\n    <tr>\n      <th>6</th>\n      <td>https://bookmaker-ratings.ru/tips/amur-ak-bars...</td>\n      <td>Амур - Ак Барс: прогноз и ставка. Воронков опя...</td>\n    </tr>\n    <tr>\n      <th>7</th>\n      <td>https://bookmaker-ratings.ru/tips/atalanta-lec...</td>\n      <td>Аталанта – Лечче: прогноз и ставка. Гасперини ...</td>\n    </tr>\n    <tr>\n      <th>8</th>\n      <td>https://bookmaker-ratings.ru/tips/dolgosrochny...</td>\n      <td>Долгосрочный прогноз на турнир WTA Доха. Удаст...</td>\n    </tr>\n    <tr>\n      <th>9</th>\n      <td>https://bookmaker-ratings.ru/tips/pszh-lill-pr...</td>\n      <td>ПСЖ – Лилль: прогноз и ставка. Париж в кризисе</td>\n    </tr>\n    <tr>\n      <th>10</th>\n      <td>https://bookmaker-ratings.ru/tips/aleksej-krut...</td>\n      <td>Алексей Крутых - Павел Котов: прогноз и ставка...</td>\n    </tr>\n    <tr>\n      <th>11</th>\n      <td>https://bookmaker-ratings.ru/tips/dolgosrochny...</td>\n      <td>Долгосрочный прогноз на турнир АТР Роттердам. ...</td>\n    </tr>\n    <tr>\n      <th>12</th>\n      <td>https://bookmaker-ratings.ru/tips/e-l-che-e-sp...</td>\n      <td>Эльче – Эспаньол: прогноз и ставка. Хозяева не...</td>\n    </tr>\n    <tr>\n      <th>13</th>\n      <td>https://bookmaker-ratings.ru/tips/e-kspress-na...</td>\n      <td>Экспресс на Примеру: играем коэффициент 2,58</td>\n    </tr>\n    <tr>\n      <th>14</th>\n      <td>https://bookmaker-ratings.ru/tips/brest-monako...</td>\n      <td>Брест – Монако: прогноз и ставка. Ставим на го...</td>\n    </tr>\n    <tr>\n      <th>15</th>\n      <td>https://bookmaker-ratings.ru/tips/manchester-y...</td>\n      <td>Манчестер Юнайтед – Лестер: прогноз и ставки А...</td>\n    </tr>\n    <tr>\n      <th>16</th>\n      <td>https://bookmaker-ratings.ru/tips/salernitana-...</td>\n      <td>Салернитана – Лацио: прогноз и ставка. Гости н...</td>\n    </tr>\n    <tr>\n      <th>17</th>\n      <td>https://bookmaker-ratings.ru/tips/fiorentina-e...</td>\n      <td>Фиорентина – Эмполи: прогноз и ставка. Фаворит...</td>\n    </tr>\n    <tr>\n      <th>18</th>\n      <td>https://bookmaker-ratings.ru/tips/manchester-y...</td>\n      <td>Манчестер Юнайтед - Лестер: прогноз и ставка Т...</td>\n    </tr>\n    <tr>\n      <th>19</th>\n      <td>https://bookmaker-ratings.ru/tips/ska-traktor-...</td>\n      <td>СКА - Трактор: прогноз и ставка. Команды прове...</td>\n    </tr>\n    <tr>\n      <th>20</th>\n      <td>https://bookmaker-ratings.ru/tips/manchester-y...</td>\n      <td>Манчестер Юнайтед - Лестер: прогноз и ставка Е...</td>\n    </tr>\n    <tr>\n      <th>21</th>\n      <td>https://bookmaker-ratings.ru/tips/manchester-y...</td>\n      <td>Манчестер Юнайтед - Лестер: прогноз и ставка А...</td>\n    </tr>\n  </tbody>\n</table>\n</div>"
     },
     "execution_count": 1,
     "metadata": {},
     "output_type": "execute_result"
    }
   ],
   "source": [
    "# платный парсер, доделать парсер каждой статьи и больше событий (находит только 22)\n",
    "\n",
    "import requests\n",
    "import urllib.parse\n",
    "import pandas as pd\n",
    "from bs4 import BeautifulSoup\n",
    "\n",
    "sa_key = '6d11ce9f8a9a4cbcb977fb37a6518173' # paste here\n",
    "sa_api = 'https://api.scrapingant.com/v2/general'\n",
    "qParams = {'url': 'https://bookmaker-ratings.ru/tips/today/', 'x-api-key': sa_key}\n",
    "req = f'{sa_api}?{urllib.parse.urlencode(qParams)}'\n",
    "\n",
    "response = requests.get(req)\n",
    "soup = BeautifulSoup(response.content, 'html.parser')\n",
    "\n",
    "links = []\n",
    "news_link = soup.find_all('div', class_='sc-d49a17a6-6 qXNPX')\n",
    "for news in news_link:\n",
    "    links.append(\n",
    "        {\n",
    "            'link': 'https://bookmaker-ratings.ru' + news.find('a', class_='sc-8eaa09cb-1 dOUFle sc-d49a17a6-24 jOwOha').get('href'),\n",
    "            'text': news.find('p').get_text()#.lower().replace('«', '').replace('»', '').replace('— ', '')\n",
    "        })\n",
    "df1 = pd.DataFrame(links)\n",
    "df1"
   ],
   "metadata": {
    "collapsed": false,
    "pycharm": {
     "name": "#%%\n"
    }
   }
  },
  {
   "cell_type": "code",
   "execution_count": 2,
   "outputs": [
    {
     "data": {
      "text/plain": "Empty DataFrame\nColumns: []\nIndex: []",
      "text/html": "<div>\n<style scoped>\n    .dataframe tbody tr th:only-of-type {\n        vertical-align: middle;\n    }\n\n    .dataframe tbody tr th {\n        vertical-align: top;\n    }\n\n    .dataframe thead th {\n        text-align: right;\n    }\n</style>\n<table border=\"1\" class=\"dataframe\">\n  <thead>\n    <tr style=\"text-align: right;\">\n      <th></th>\n    </tr>\n  </thead>\n  <tbody>\n  </tbody>\n</table>\n</div>"
     },
     "execution_count": 2,
     "metadata": {},
     "output_type": "execute_result"
    }
   ],
   "source": [
    "df2 = pd.DataFrame()\n",
    "key_words = ['барселона', 'кадис']\n",
    "key_words = [item.lower() for item in key_words]\n",
    "df1.text = [item.lower() for item in df1.text]\n",
    "for line in df1.text:\n",
    "    if all(word in line for word in key_words):\n",
    "        df0 = df1[df1.text.str.contains(line)]\n",
    "        df2 = pd.concat([df2, df0], axis= 0 )\n",
    "df2"
   ],
   "metadata": {
    "collapsed": false,
    "pycharm": {
     "name": "#%%\n"
    }
   }
  },
  {
   "cell_type": "code",
   "execution_count": 36,
   "outputs": [
    {
     "name": "stdout",
     "output_type": "stream",
     "text": [
      "None\n"
     ]
    }
   ],
   "source": [
    "#проверяем доступность сайта\n",
    "news = ''\n",
    "text = ''\n",
    "links = ['https://bookmaker-ratings.ru/tips/shahter-donetsk-renn-prognoz-i-stavki-tak-li-ocheviden-favorit/']\n",
    "for link in links: #df2.link:\n",
    "    sa_key = '6d11ce9f8a9a4cbcb977fb37a6518173' # paste here\n",
    "    sa_api = 'https://api.scrapingant.com/v2/general'\n",
    "    qParams = {'url': 'https://bookmaker-ratings.ru/tips/today/', 'x-api-key': sa_key}\n",
    "    req = f'{sa_api}?{urllib.parse.urlencode(qParams)}'\n",
    "\n",
    "    response = requests.get(req)\n",
    "    soup = BeautifulSoup(response.content, 'html.parser')\n",
    "\n",
    "    # Extract the title of the article\n",
    "    title = soup.find(\"h1\", class_=\"sc-434dc628-0 iMBQk\").text.strip() + \". \"\n",
    "\n",
    "    # Extract the text of the article\n",
    "    article_body = soup.find(\"div\", class_=\"sc-1c701fe1-5 jksxlO\")#.find(class_=\"sc-13b9cc09-2 sc-13b9cc09-3 hZwaAo cnNfjV\")\n",
    "    print (article_body)\n",
    "    # # Check the last p tags for the presence of a tags\n",
    "    # for p in article_body.find_all(\"p\")[-3:]:\n",
    "    #     if p.find(\"i\"):\n",
    "    #         p.extract()\n",
    "    #\n",
    "    #     # Concatenate the text content of the remaining p tags\n",
    "    #     for p in article_body.find_all(\"p\"):\n",
    "    #         article_text += p.text.strip() + \" \"\n",
    "    #         text = title + article_text\n",
    "    #     text += '\\n'\n",
    "    # # for item in text.split('\\n'):\n",
    "    # #     if len(item.split(' ')) > 10:\n",
    "    # #         print (item)\n",
    "    #     print(text)\n",
    "\n",
    "\n",
    "#     for td in article_body.find_all('p', class_=None):\n",
    "#         news += str(td.text) + ' '\n",
    "#     news += '\\n'\n",
    "# for item in news.split('\\n'):\n",
    "#     if len(item.split(' ')) > 10:\n",
    "#         print (item)\n"
   ],
   "metadata": {
    "collapsed": false,
    "pycharm": {
     "name": "#%%\n"
    }
   }
  },
  {
   "cell_type": "code",
   "execution_count": null,
   "outputs": [],
   "source": [],
   "metadata": {
    "collapsed": false,
    "pycharm": {
     "name": "#%%\n"
    }
   }
  }
 ],
 "metadata": {
  "kernelspec": {
   "display_name": "Python 3",
   "language": "python",
   "name": "python3"
  },
  "language_info": {
   "codemirror_mode": {
    "name": "ipython",
    "version": 2
   },
   "file_extension": ".py",
   "mimetype": "text/x-python",
   "name": "python",
   "nbconvert_exporter": "python",
   "pygments_lexer": "ipython2",
   "version": "2.7.6"
  }
 },
 "nbformat": 4,
 "nbformat_minor": 0
}