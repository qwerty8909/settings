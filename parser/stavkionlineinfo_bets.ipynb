{
 "cells": [
  {
   "cell_type": "code",
   "execution_count": 1,
   "outputs": [
    {
     "data": {
      "text/plain": "                                                 link  \\\n0   https://stavki-online.info/bavariya-union-berl...   \n1   https://stavki-online.info/tottenhem-chelsi-26...   \n2   https://stavki-online.info/real-madrid-atletik...   \n3   https://stavki-online.info/lester-arsenal-25-2...   \n4   https://stavki-online.info/psv-sevilya-23-2-2023/   \n5   https://stavki-online.info/monako-bajer-23-2-2...   \n6   https://stavki-online.info/manchester-yunajted...   \n7   https://stavki-online.info/union-berlin-ayaks-...   \n8     https://stavki-online.info/ufa-ahmat-26-2-2023/   \n9   https://stavki-online.info/zvezda-nizhnij-novg...   \n10  https://stavki-online.info/tsska-krasnodar-23-...   \n11  https://stavki-online.info/akron-torpedo-26-2-...   \n12  https://stavki-online.info/volga-ulyanovsk-zen...   \n13  https://stavki-online.info/krylya-sovetov-dina...   \n14  https://stavki-online.info/lokomotiv-spartak-2...   \n\n                                                 text  \n0   Бавария – Унион Берлин ⚽ прогноз на 26 февраля...  \n1   Тоттенхэм – Челси ⚽ прогноз и ставки на 26 фев...  \n2   Реал Мадрид – Атлетико ⚽ прогноз на 25 февраля...  \n3   Лестер – Арсенал ⚽ прогноз и ставки на 25 февр...  \n4   ПСВ – Севилья ⚽ прогноз и ставки на 23 февраля...  \n5   Монако – Байер ⚽ прогноз и ставки на 23 феврал...  \n6   Манчестер Юнайтед – Барселона ⚽ прогноз на 23 ...  \n7   Унион Берлин – Аякс ⚽ прогноз и ставки на 23 ф...  \n8            Уфа – Ахмат ⚽ прогноз на 26 февраля 2023  \n9   Звезда – Нижний Новгород ⚽ прогноз на 27 февра...  \n10  ЦСКА – Краснодар ⚽ прогноз и ставки на 23 февр...  \n11  Акрон – Торпедо ⚽ прогноз и ставки на 26 февра...  \n12  Волга Ульяновск – Зенит ⚽ прогноз на 25 феврал...  \n13  Крылья Советов – Динамо ⚽ прогноз на 23 феврал...  \n14  Локомотив – Спартак ⚽ прогноз и ставки на 22 ф...  ",
      "text/html": "<div>\n<style scoped>\n    .dataframe tbody tr th:only-of-type {\n        vertical-align: middle;\n    }\n\n    .dataframe tbody tr th {\n        vertical-align: top;\n    }\n\n    .dataframe thead th {\n        text-align: right;\n    }\n</style>\n<table border=\"1\" class=\"dataframe\">\n  <thead>\n    <tr style=\"text-align: right;\">\n      <th></th>\n      <th>link</th>\n      <th>text</th>\n    </tr>\n  </thead>\n  <tbody>\n    <tr>\n      <th>0</th>\n      <td>https://stavki-online.info/bavariya-union-berl...</td>\n      <td>Бавария – Унион Берлин ⚽ прогноз на 26 февраля...</td>\n    </tr>\n    <tr>\n      <th>1</th>\n      <td>https://stavki-online.info/tottenhem-chelsi-26...</td>\n      <td>Тоттенхэм – Челси ⚽ прогноз и ставки на 26 фев...</td>\n    </tr>\n    <tr>\n      <th>2</th>\n      <td>https://stavki-online.info/real-madrid-atletik...</td>\n      <td>Реал Мадрид – Атлетико ⚽ прогноз на 25 февраля...</td>\n    </tr>\n    <tr>\n      <th>3</th>\n      <td>https://stavki-online.info/lester-arsenal-25-2...</td>\n      <td>Лестер – Арсенал ⚽ прогноз и ставки на 25 февр...</td>\n    </tr>\n    <tr>\n      <th>4</th>\n      <td>https://stavki-online.info/psv-sevilya-23-2-2023/</td>\n      <td>ПСВ – Севилья ⚽ прогноз и ставки на 23 февраля...</td>\n    </tr>\n    <tr>\n      <th>5</th>\n      <td>https://stavki-online.info/monako-bajer-23-2-2...</td>\n      <td>Монако – Байер ⚽ прогноз и ставки на 23 феврал...</td>\n    </tr>\n    <tr>\n      <th>6</th>\n      <td>https://stavki-online.info/manchester-yunajted...</td>\n      <td>Манчестер Юнайтед – Барселона ⚽ прогноз на 23 ...</td>\n    </tr>\n    <tr>\n      <th>7</th>\n      <td>https://stavki-online.info/union-berlin-ayaks-...</td>\n      <td>Унион Берлин – Аякс ⚽ прогноз и ставки на 23 ф...</td>\n    </tr>\n    <tr>\n      <th>8</th>\n      <td>https://stavki-online.info/ufa-ahmat-26-2-2023/</td>\n      <td>Уфа – Ахмат ⚽ прогноз на 26 февраля 2023</td>\n    </tr>\n    <tr>\n      <th>9</th>\n      <td>https://stavki-online.info/zvezda-nizhnij-novg...</td>\n      <td>Звезда – Нижний Новгород ⚽ прогноз на 27 февра...</td>\n    </tr>\n    <tr>\n      <th>10</th>\n      <td>https://stavki-online.info/tsska-krasnodar-23-...</td>\n      <td>ЦСКА – Краснодар ⚽ прогноз и ставки на 23 февр...</td>\n    </tr>\n    <tr>\n      <th>11</th>\n      <td>https://stavki-online.info/akron-torpedo-26-2-...</td>\n      <td>Акрон – Торпедо ⚽ прогноз и ставки на 26 февра...</td>\n    </tr>\n    <tr>\n      <th>12</th>\n      <td>https://stavki-online.info/volga-ulyanovsk-zen...</td>\n      <td>Волга Ульяновск – Зенит ⚽ прогноз на 25 феврал...</td>\n    </tr>\n    <tr>\n      <th>13</th>\n      <td>https://stavki-online.info/krylya-sovetov-dina...</td>\n      <td>Крылья Советов – Динамо ⚽ прогноз на 23 феврал...</td>\n    </tr>\n    <tr>\n      <th>14</th>\n      <td>https://stavki-online.info/lokomotiv-spartak-2...</td>\n      <td>Локомотив – Спартак ⚽ прогноз и ставки на 22 ф...</td>\n    </tr>\n  </tbody>\n</table>\n</div>"
     },
     "execution_count": 1,
     "metadata": {},
     "output_type": "execute_result"
    }
   ],
   "source": [
    "# загружаем необходимые модули и библиотеки\n",
    "import re\n",
    "import requests\n",
    "import pandas as pd\n",
    "from bs4 import BeautifulSoup\n",
    "from urllib.request import Request, urlopen\n",
    "\n",
    "#проверяем доступность сайта\n",
    "req = Request(\n",
    "    url='https://stavki-online.info/prognozy-na-matchi/',\n",
    "    headers={'User-Agent': 'Mozilla/5.0'}\n",
    ")\n",
    "website_url = urlopen(req).read()\n",
    "soup = BeautifulSoup(website_url, 'lxml')\n",
    "\n",
    "links = []\n",
    "news_link = soup.find_all('h4')[:15]#('div', class_='recent-posts-content')\n",
    "\n",
    "for news in news_link:\n",
    "    links.append(\n",
    "        {\n",
    "            'link': news.find('a').get('href'),\n",
    "            'text': news.find('a').get_text()\n",
    "        })\n",
    "df1 = pd.DataFrame(links)\n",
    "df1"
   ],
   "metadata": {
    "collapsed": false,
    "pycharm": {
     "name": "#%%\n"
    }
   }
  },
  {
   "cell_type": "code",
   "execution_count": 2,
   "outputs": [
    {
     "data": {
      "text/plain": "                                                link  \\\n4  https://stavki-online.info/psv-sevilya-23-2-2023/   \n\n                                                text  \n4  псв – севилья ⚽ прогноз и ставки на 23 февраля...  ",
      "text/html": "<div>\n<style scoped>\n    .dataframe tbody tr th:only-of-type {\n        vertical-align: middle;\n    }\n\n    .dataframe tbody tr th {\n        vertical-align: top;\n    }\n\n    .dataframe thead th {\n        text-align: right;\n    }\n</style>\n<table border=\"1\" class=\"dataframe\">\n  <thead>\n    <tr style=\"text-align: right;\">\n      <th></th>\n      <th>link</th>\n      <th>text</th>\n    </tr>\n  </thead>\n  <tbody>\n    <tr>\n      <th>4</th>\n      <td>https://stavki-online.info/psv-sevilya-23-2-2023/</td>\n      <td>псв – севилья ⚽ прогноз и ставки на 23 февраля...</td>\n    </tr>\n  </tbody>\n</table>\n</div>"
     },
     "execution_count": 2,
     "metadata": {},
     "output_type": "execute_result"
    }
   ],
   "source": [
    "df1\n",
    "df2 = pd.DataFrame()\n",
    "key_words = ['ПСВ', 'Севилья']\n",
    "key_words = [item.lower() for item in key_words]\n",
    "df1.text = [item.lower() for item in df1.text]\n",
    "for line in df1.text:\n",
    "    if all(word in line for word in key_words):\n",
    "        df0 = df1[df1.text.str.contains(line)]\n",
    "        df2 = pd.concat([df2, df0], axis=0).drop_duplicates()\n",
    "df2"
   ],
   "metadata": {
    "collapsed": false,
    "pycharm": {
     "name": "#%%\n"
    }
   }
  },
  {
   "cell_type": "code",
   "execution_count": 3,
   "outputs": [
    {
     "name": "stdout",
     "output_type": "stream",
     "text": [
      "Дата: 23 февраля 2023 в 20:45 (МСК) Место игры: Эйндховен (Нидерланды), стадион «Филипс» Турнир: Лига Европы. Плей-офф. 1/16 финала. 2 матч. Удивительный разгром ПСВ в Севилье практически лишил вице- чемпиона Нидерландов шансов на выход в 1/8 ЛЕ. Коллектив Сампаоли извлек ошибки из осеннего вылета из Лиги чемпионов, где испанцам противостояли Манчестер Сити и Боруссия из Дортмунда – за неудачи в главном еврокубки последовала отставка Лопетеги. Ван Нистелрой, который возглавляет ПСВ, вряд ли переживает за свою позицию в клубе. Легенда команды из Эйндховена неплохо начал тренерскую карьеру, делая ставку на молодых исполнителей. После продажи Гакпо следующим «на выход» в ПСВ стоит Симонс, которому удалось перезагрузить карьеру на родине. Капитан нидерландцев Де Йонг «растворился» в поединке против Севильи – своего бывшего клуба. После мышечной травмы Эль-Гази в лазарет ПСВ попал звездный новичок ПСВ Азар – у младшего брата хавбека Реала аналогичное повреждение. Испанцам, кстати, тоже можно пожаловаться на нехватку основных футболистов. Севилья в первой игре выступала без Гуйе, Короны, Маркана, Гомеса и Рекика – на каждого из них Сампаоли рассчитывает и дает много игрового времени. Закрытая тактика с опускающимся вниз к защитникам Гуделем помогла испанцам на контратаках обыграть ПСВ. Классная игра на ЧМ-2022 помогла Эн-Несири обрести уверенность – теперь марокканец забирает у Ракитича лавры лидера Севильи. Не забываем и про возвращение Окампоса в команду Сампаоли, которому не удалось проявить себя в Аяксе. Зато в матче против ПСВ аргентинец отметился дебютным голом в сезоне за Севилью – есть шанс на исправление кампании. Коллективы наиграли на идентичные показатели хG, но Севилью, в отличие от ПСВ, не подвела реализация. Скорее всего, в Эйндховене подопечные ван Нистелроя создадут больше моментов, но точно не отыграют разницу в три гола. На ответную битву ПСВ и Севильи заиграем «двойной шанс» испанцев. Из ставок с высоким коэффициентом замечаем ТМ 2.5 – команде Сампаоли нужно экономить силы для Ла Лиги. \n",
      "\n"
     ]
    }
   ],
   "source": [
    "news = ''\n",
    "for link in df2.link:\n",
    "    req = Request(\n",
    "        url=link,\n",
    "        headers={'User-Agent': 'Mozilla/5.0'}\n",
    "    )\n",
    "    website_url = urlopen(req).read()\n",
    "    soup = BeautifulSoup(website_url, 'lxml')\n",
    "\n",
    "    article_body = soup.find(\"div\", class_=\"fusion-column-wrapper fusion-column-has-shadow fusion-flex-column-wrapper-legacy\")\n",
    "\n",
    "    # Check the last p tags for the presence of a tags\n",
    "    for p in article_body.find_all(\"div\", class_=\"reading-box\")[-3:]:\n",
    "        if p.find('a'):\n",
    "            p.extract()\n",
    "\n",
    "    for td in article_body.find_all('p')[:-1]:\n",
    "        news += str(td.text.replace('\\xa0', '').replace('\\n', ' ')) + ' '\n",
    "    news = news+'\\n'\n",
    "\n",
    "print (news)"
   ],
   "metadata": {
    "collapsed": false,
    "pycharm": {
     "name": "#%%\n"
    }
   }
  },
  {
   "cell_type": "code",
   "execution_count": null,
   "outputs": [],
   "source": [],
   "metadata": {
    "collapsed": false,
    "pycharm": {
     "name": "#%%\n"
    }
   }
  }
 ],
 "metadata": {
  "kernelspec": {
   "display_name": "Python 3",
   "language": "python",
   "name": "python3"
  },
  "language_info": {
   "codemirror_mode": {
    "name": "ipython",
    "version": 2
   },
   "file_extension": ".py",
   "mimetype": "text/x-python",
   "name": "python",
   "nbconvert_exporter": "python",
   "pygments_lexer": "ipython2",
   "version": "2.7.6"
  }
 },
 "nbformat": 4,
 "nbformat_minor": 0
}