{
 "cells": [
  {
   "cell_type": "code",
   "execution_count": 5,
   "outputs": [
    {
     "data": {
      "text/plain": "                                                 link  \\\n0   https://metaratings.ru/prognozy/futbol/aston-v...   \n1   https://metaratings.ru/prognozy/futbol/real-so...   \n2   https://metaratings.ru/prognozy/futbol/sampdor...   \n3   https://metaratings.ru/prognozy/futbol/borussi...   \n4   https://metaratings.ru/prognozy/futbol/volfsbu...   \n5   https://metaratings.ru/prognozy/futbol/shtutga...   \n6   https://metaratings.ru/prognozy/express/ekspre...   \n7   https://metaratings.ru/prognozy/futbol/bokhum-...   \n8   https://metaratings.ru/prognozy/futbol/chelsi-...   \n9   https://metaratings.ru/prognozy/futbol/notting...   \n10  https://metaratings.ru/prognozy/futbol/brajton...   \n11  https://metaratings.ru/prognozy/futbol/brentfo...   \n12  https://metaratings.ru/prognozy/futbol/ehverto...   \n13  https://metaratings.ru/prognozy/futbol/betis-v...   \n14  https://metaratings.ru/prognozy/futbol/monca-m...   \n15  https://metaratings.ru/prognozy/futbol/nyukasl...   \n16  https://metaratings.ru/prognozy/futbol/aintrak...   \n17  https://metaratings.ru/prognozy/futbol/malorka...   \n18  https://metaratings.ru/prognozy/futbol/inter-u...   \n19  https://metaratings.ru/prognozy/futbol/osasuna...   \n20  https://metaratings.ru/prognozy/futbol/atalant...   \n21  https://metaratings.ru/prognozy/futbol/elche-e...   \n22  https://metaratings.ru/prognozy/futbol/salerni...   \n23  https://metaratings.ru/prognozy/futbol/fiorent...   \n24  https://metaratings.ru/prognozy/futbol/manches...   \n25  https://metaratings.ru/prognozy/futbol/tottenh...   \n26  https://metaratings.ru/prognozy/futbol/speciya...   \n27  https://metaratings.ru/prognozy/futbol/roma-ve...   \n28  https://metaratings.ru/prognozy/futbol/oser-li...   \n29  https://metaratings.ru/prognozy/futbol/sassuol...   \n30  https://metaratings.ru/prognozy/futbol/augsbur...   \n31  https://metaratings.ru/prognozy/futbol/zhirona...   \n32  https://metaratings.ru/prognozy/futbol/sepakha...   \n33  https://metaratings.ru/prognozy/futbol/lacio-c...   \n34  https://metaratings.ru/prognozy/futbol/aek-dne...   \n35  https://metaratings.ru/prognozy/futbol/yuventu...   \n36  https://metaratings.ru/prognozy/futbol/sherif-...   \n37  https://metaratings.ru/prognozy/futbol/ludogor...   \n38  https://metaratings.ru/prognozy/futbol/sportin...   \n39  https://metaratings.ru/prognozy/futbol/baier-m...   \n40  https://metaratings.ru/prognozy/futbol/sevilya...   \n41  https://metaratings.ru/prognozy/futbol/barselo...   \n\n                                                 text  \n0   Прогноз на матч Астон Вилла – Арсенал: лондонц...  \n1   Прогноз на матч Реал Сосьедад – Сельта: баски ...  \n2   Прогноз на матч Сампдория – Болонья. «Красно-с...  \n3   Прогноз на матч Боруссия М – Бавария: лидер вы...  \n4   Прогноз на матч Вольфсбург – Лейпциг: команды ...  \n5   Прогноз на матч Штутгарт – Кёльн: ставим на го...  \n6   В АПЛ и Ла Лиге ставим на фаворита, а в Бундес...  \n7   Прогноз на матч Бохум – Фрайбург: «Бохум» набе...  \n8   Прогноз на матч Челси – Саутгемптон: аутсайдер...  \n9   Прогноз на матч Ноттингем Форест – Манчестер С...  \n10  Прогноз на матч Брайтон – Фулхэм: «дачники» не...  \n11  Прогноз на матч Брентфорд – Кристал Пэлас: ста...  \n12  Прогноз на матч Эвертон – Лидс Юнайтед: аутсай...  \n13  Прогноз на матч Бетис – Вальядолид: севильцы п...  \n14  Прогноз на матч Монца – Милан. Действующий чем...  \n15  Прогноз на матч Ньюкасл Юнайтед – Ливерпуль: в...  \n16  Прогноз на матч Айнтрахт – Вердер: «Орлы» улуч...  \n17  Прогноз на матч Мальорка – Вильярреал: очередн...  \n18  Прогноз на матч Интер – Удинезе. «Нерадзурри» ...  \n19  Прогноз на матч Осасуна – Реал Мадрид: «Сливоч...  \n20  Прогноз на матч Аталанта – Лечче. Бергамаски о...  \n21  Прогноз на матч Эльче – Эспаньол: ставим на об...  \n22  Прогноз на матч Салернитана – Лацио. В первой ...  \n23  Прогноз на матч Фиорентина – Эмполи. «Синие» с...  \n24  Прогноз на матч Манчестер Юнайтед – Лестер Сит...  \n25  Прогноз на матч Тоттенхэм – Вест Хэм: сложный ...  \n26  Прогноз на матч Специя – Ювентус. «Орлята» и с...  \n27  Прогноз на матч Рома – Верона. Очередной «низо...  \n28  Прогноз на матч Осер – Лион. Гости заработают ...  \n29  Прогноз на матч Сассуоло – Наполи: очередная п...  \n30  Прогноз на матч Аугсбург – Хоффенхайм: очередн...  \n31  Прогноз на матч Жирона – Альмерия: каталонцы н...  \n32  Прогноз на матч Сепахан – Зенит. Ждём голы в з...  \n33  Прогноз на матч Лацио – ЧФР Клуж: римляне выиг...  \n34  Прогноз на матч АЕК – Днепр-1: ждём голы в обе...  \n35  Прогноз на матч Ювентус – Нант: клуб Лиги 1 да...  \n36  Прогноз на матч Шериф – Партизан: ставим на ничью  \n37  Прогноз на матч Лудогорец – Андерлехт: бельгий...  \n38  Прогноз на матч Спортинг – Мидтьюлланн. Лиссаб...  \n39  Прогноз на матч Байер – Монако. Зря букмекеры ...  \n40  Прогноз на матч Севилья – ПСВ. «Крестьяне» без...  \n41  Прогноз на матч Барселона – Манчестер Юнайтед:...  ",
      "text/html": "<div>\n<style scoped>\n    .dataframe tbody tr th:only-of-type {\n        vertical-align: middle;\n    }\n\n    .dataframe tbody tr th {\n        vertical-align: top;\n    }\n\n    .dataframe thead th {\n        text-align: right;\n    }\n</style>\n<table border=\"1\" class=\"dataframe\">\n  <thead>\n    <tr style=\"text-align: right;\">\n      <th></th>\n      <th>link</th>\n      <th>text</th>\n    </tr>\n  </thead>\n  <tbody>\n    <tr>\n      <th>0</th>\n      <td>https://metaratings.ru/prognozy/futbol/aston-v...</td>\n      <td>Прогноз на матч Астон Вилла – Арсенал: лондонц...</td>\n    </tr>\n    <tr>\n      <th>1</th>\n      <td>https://metaratings.ru/prognozy/futbol/real-so...</td>\n      <td>Прогноз на матч Реал Сосьедад – Сельта: баски ...</td>\n    </tr>\n    <tr>\n      <th>2</th>\n      <td>https://metaratings.ru/prognozy/futbol/sampdor...</td>\n      <td>Прогноз на матч Сампдория – Болонья. «Красно-с...</td>\n    </tr>\n    <tr>\n      <th>3</th>\n      <td>https://metaratings.ru/prognozy/futbol/borussi...</td>\n      <td>Прогноз на матч Боруссия М – Бавария: лидер вы...</td>\n    </tr>\n    <tr>\n      <th>4</th>\n      <td>https://metaratings.ru/prognozy/futbol/volfsbu...</td>\n      <td>Прогноз на матч Вольфсбург – Лейпциг: команды ...</td>\n    </tr>\n    <tr>\n      <th>5</th>\n      <td>https://metaratings.ru/prognozy/futbol/shtutga...</td>\n      <td>Прогноз на матч Штутгарт – Кёльн: ставим на го...</td>\n    </tr>\n    <tr>\n      <th>6</th>\n      <td>https://metaratings.ru/prognozy/express/ekspre...</td>\n      <td>В АПЛ и Ла Лиге ставим на фаворита, а в Бундес...</td>\n    </tr>\n    <tr>\n      <th>7</th>\n      <td>https://metaratings.ru/prognozy/futbol/bokhum-...</td>\n      <td>Прогноз на матч Бохум – Фрайбург: «Бохум» набе...</td>\n    </tr>\n    <tr>\n      <th>8</th>\n      <td>https://metaratings.ru/prognozy/futbol/chelsi-...</td>\n      <td>Прогноз на матч Челси – Саутгемптон: аутсайдер...</td>\n    </tr>\n    <tr>\n      <th>9</th>\n      <td>https://metaratings.ru/prognozy/futbol/notting...</td>\n      <td>Прогноз на матч Ноттингем Форест – Манчестер С...</td>\n    </tr>\n    <tr>\n      <th>10</th>\n      <td>https://metaratings.ru/prognozy/futbol/brajton...</td>\n      <td>Прогноз на матч Брайтон – Фулхэм: «дачники» не...</td>\n    </tr>\n    <tr>\n      <th>11</th>\n      <td>https://metaratings.ru/prognozy/futbol/brentfo...</td>\n      <td>Прогноз на матч Брентфорд – Кристал Пэлас: ста...</td>\n    </tr>\n    <tr>\n      <th>12</th>\n      <td>https://metaratings.ru/prognozy/futbol/ehverto...</td>\n      <td>Прогноз на матч Эвертон – Лидс Юнайтед: аутсай...</td>\n    </tr>\n    <tr>\n      <th>13</th>\n      <td>https://metaratings.ru/prognozy/futbol/betis-v...</td>\n      <td>Прогноз на матч Бетис – Вальядолид: севильцы п...</td>\n    </tr>\n    <tr>\n      <th>14</th>\n      <td>https://metaratings.ru/prognozy/futbol/monca-m...</td>\n      <td>Прогноз на матч Монца – Милан. Действующий чем...</td>\n    </tr>\n    <tr>\n      <th>15</th>\n      <td>https://metaratings.ru/prognozy/futbol/nyukasl...</td>\n      <td>Прогноз на матч Ньюкасл Юнайтед – Ливерпуль: в...</td>\n    </tr>\n    <tr>\n      <th>16</th>\n      <td>https://metaratings.ru/prognozy/futbol/aintrak...</td>\n      <td>Прогноз на матч Айнтрахт – Вердер: «Орлы» улуч...</td>\n    </tr>\n    <tr>\n      <th>17</th>\n      <td>https://metaratings.ru/prognozy/futbol/malorka...</td>\n      <td>Прогноз на матч Мальорка – Вильярреал: очередн...</td>\n    </tr>\n    <tr>\n      <th>18</th>\n      <td>https://metaratings.ru/prognozy/futbol/inter-u...</td>\n      <td>Прогноз на матч Интер – Удинезе. «Нерадзурри» ...</td>\n    </tr>\n    <tr>\n      <th>19</th>\n      <td>https://metaratings.ru/prognozy/futbol/osasuna...</td>\n      <td>Прогноз на матч Осасуна – Реал Мадрид: «Сливоч...</td>\n    </tr>\n    <tr>\n      <th>20</th>\n      <td>https://metaratings.ru/prognozy/futbol/atalant...</td>\n      <td>Прогноз на матч Аталанта – Лечче. Бергамаски о...</td>\n    </tr>\n    <tr>\n      <th>21</th>\n      <td>https://metaratings.ru/prognozy/futbol/elche-e...</td>\n      <td>Прогноз на матч Эльче – Эспаньол: ставим на об...</td>\n    </tr>\n    <tr>\n      <th>22</th>\n      <td>https://metaratings.ru/prognozy/futbol/salerni...</td>\n      <td>Прогноз на матч Салернитана – Лацио. В первой ...</td>\n    </tr>\n    <tr>\n      <th>23</th>\n      <td>https://metaratings.ru/prognozy/futbol/fiorent...</td>\n      <td>Прогноз на матч Фиорентина – Эмполи. «Синие» с...</td>\n    </tr>\n    <tr>\n      <th>24</th>\n      <td>https://metaratings.ru/prognozy/futbol/manches...</td>\n      <td>Прогноз на матч Манчестер Юнайтед – Лестер Сит...</td>\n    </tr>\n    <tr>\n      <th>25</th>\n      <td>https://metaratings.ru/prognozy/futbol/tottenh...</td>\n      <td>Прогноз на матч Тоттенхэм – Вест Хэм: сложный ...</td>\n    </tr>\n    <tr>\n      <th>26</th>\n      <td>https://metaratings.ru/prognozy/futbol/speciya...</td>\n      <td>Прогноз на матч Специя – Ювентус. «Орлята» и с...</td>\n    </tr>\n    <tr>\n      <th>27</th>\n      <td>https://metaratings.ru/prognozy/futbol/roma-ve...</td>\n      <td>Прогноз на матч Рома – Верона. Очередной «низо...</td>\n    </tr>\n    <tr>\n      <th>28</th>\n      <td>https://metaratings.ru/prognozy/futbol/oser-li...</td>\n      <td>Прогноз на матч Осер – Лион. Гости заработают ...</td>\n    </tr>\n    <tr>\n      <th>29</th>\n      <td>https://metaratings.ru/prognozy/futbol/sassuol...</td>\n      <td>Прогноз на матч Сассуоло – Наполи: очередная п...</td>\n    </tr>\n    <tr>\n      <th>30</th>\n      <td>https://metaratings.ru/prognozy/futbol/augsbur...</td>\n      <td>Прогноз на матч Аугсбург – Хоффенхайм: очередн...</td>\n    </tr>\n    <tr>\n      <th>31</th>\n      <td>https://metaratings.ru/prognozy/futbol/zhirona...</td>\n      <td>Прогноз на матч Жирона – Альмерия: каталонцы н...</td>\n    </tr>\n    <tr>\n      <th>32</th>\n      <td>https://metaratings.ru/prognozy/futbol/sepakha...</td>\n      <td>Прогноз на матч Сепахан – Зенит. Ждём голы в з...</td>\n    </tr>\n    <tr>\n      <th>33</th>\n      <td>https://metaratings.ru/prognozy/futbol/lacio-c...</td>\n      <td>Прогноз на матч Лацио – ЧФР Клуж: римляне выиг...</td>\n    </tr>\n    <tr>\n      <th>34</th>\n      <td>https://metaratings.ru/prognozy/futbol/aek-dne...</td>\n      <td>Прогноз на матч АЕК – Днепр-1: ждём голы в обе...</td>\n    </tr>\n    <tr>\n      <th>35</th>\n      <td>https://metaratings.ru/prognozy/futbol/yuventu...</td>\n      <td>Прогноз на матч Ювентус – Нант: клуб Лиги 1 да...</td>\n    </tr>\n    <tr>\n      <th>36</th>\n      <td>https://metaratings.ru/prognozy/futbol/sherif-...</td>\n      <td>Прогноз на матч Шериф – Партизан: ставим на ничью</td>\n    </tr>\n    <tr>\n      <th>37</th>\n      <td>https://metaratings.ru/prognozy/futbol/ludogor...</td>\n      <td>Прогноз на матч Лудогорец – Андерлехт: бельгий...</td>\n    </tr>\n    <tr>\n      <th>38</th>\n      <td>https://metaratings.ru/prognozy/futbol/sportin...</td>\n      <td>Прогноз на матч Спортинг – Мидтьюлланн. Лиссаб...</td>\n    </tr>\n    <tr>\n      <th>39</th>\n      <td>https://metaratings.ru/prognozy/futbol/baier-m...</td>\n      <td>Прогноз на матч Байер – Монако. Зря букмекеры ...</td>\n    </tr>\n    <tr>\n      <th>40</th>\n      <td>https://metaratings.ru/prognozy/futbol/sevilya...</td>\n      <td>Прогноз на матч Севилья – ПСВ. «Крестьяне» без...</td>\n    </tr>\n    <tr>\n      <th>41</th>\n      <td>https://metaratings.ru/prognozy/futbol/barselo...</td>\n      <td>Прогноз на матч Барселона – Манчестер Юнайтед:...</td>\n    </tr>\n  </tbody>\n</table>\n</div>"
     },
     "execution_count": 5,
     "metadata": {},
     "output_type": "execute_result"
    }
   ],
   "source": [
    "# загружаем необходимые модули и библиотеки\n",
    "import re\n",
    "import requests\n",
    "import pandas as pd\n",
    "from bs4 import BeautifulSoup\n",
    "from urllib.request import Request, urlopen\n",
    "from deep_translator import GoogleTranslator\n",
    "\n",
    "#проверяем доступность сайта\n",
    "req = Request(\n",
    "    url='https://metaratings.ru/prognozy/futbol/',\n",
    "    headers={'User-Agent': 'Mozilla/5.0'}\n",
    ")\n",
    "website_url = urlopen(req).read()\n",
    "soup = BeautifulSoup(website_url, 'lxml')\n",
    "\n",
    "links = []\n",
    "soup = soup.find('div', class_='TipsList_TipsList__dDOki')\n",
    "news_link = soup.find_all('div', class_='TipsList_TipsBoxTitle__sCRne')\n",
    "for news in news_link:\n",
    "    links.append(\n",
    "        {\n",
    "            'link': 'https://metaratings.ru' + news.find('a').get('href'),\n",
    "            'text': news.find('a').get_text()#.lower().replace('«', '').replace('»', '').replace('— ', '')\n",
    "        })\n",
    "df1 = pd.DataFrame(links)\n",
    "df1"
   ],
   "metadata": {
    "collapsed": false,
    "pycharm": {
     "name": "#%%\n"
    }
   }
  },
  {
   "cell_type": "code",
   "execution_count": 2,
   "outputs": [
    {
     "data": {
      "text/plain": "                                                link  \\\n3  https://metaratings.ru/prognozy/futbol/borussi...   \n\n                                                text  \n3  прогноз на матч боруссия м – бавария: лидер вы...  ",
      "text/html": "<div>\n<style scoped>\n    .dataframe tbody tr th:only-of-type {\n        vertical-align: middle;\n    }\n\n    .dataframe tbody tr th {\n        vertical-align: top;\n    }\n\n    .dataframe thead th {\n        text-align: right;\n    }\n</style>\n<table border=\"1\" class=\"dataframe\">\n  <thead>\n    <tr style=\"text-align: right;\">\n      <th></th>\n      <th>link</th>\n      <th>text</th>\n    </tr>\n  </thead>\n  <tbody>\n    <tr>\n      <th>3</th>\n      <td>https://metaratings.ru/prognozy/futbol/borussi...</td>\n      <td>прогноз на матч боруссия м – бавария: лидер вы...</td>\n    </tr>\n  </tbody>\n</table>\n</div>"
     },
     "execution_count": 2,
     "metadata": {},
     "output_type": "execute_result"
    }
   ],
   "source": [
    "df2 = pd.DataFrame()\n",
    "key_words = ['Боруссия', 'Бавария']\n",
    "key_words = [item.lower() for item in key_words]\n",
    "df1.text = [item.lower() for item in df1.text]\n",
    "for line in df1.text:\n",
    "    if all(word in line for word in key_words):\n",
    "        df0 = df1[df1.text.str.contains(line)]\n",
    "        df2 = pd.concat([df2, df0], axis= 0 )\n",
    "df2"
   ],
   "metadata": {
    "collapsed": false,
    "pycharm": {
     "name": "#%%\n"
    }
   }
  },
  {
   "cell_type": "code",
   "execution_count": 6,
   "outputs": [],
   "source": [
    "#проверяем доступность сайта\n",
    "news = ''\n",
    "text = ''\n",
    "for link in df2.link:\n",
    "    req = Request(\n",
    "        url=link,\n",
    "        headers={'User-Agent': 'Mozilla/5.0'}\n",
    "    )\n",
    "    website_url = urlopen(req).read()\n",
    "    soup = BeautifulSoup(website_url, 'lxml')\n",
    "\n",
    "    # Extract the title of the article\n",
    "    title = soup.find(\"div\", class_=\"workarea-title\").text.strip() + \". \"\n",
    "\n",
    "    # Extract the text of the article\n",
    "    article_body = soup.find(\"article\", class_=None)\n",
    "\n",
    "    # Check the last p tags for the presence of a tags\n",
    "    for p in article_body.find_all(\"p\")[-3:]:\n",
    "        if p.find(\"b\"):\n",
    "            p.extract()\n",
    "    #\n",
    "    #     # Concatenate the text content of the remaining p tags\n",
    "    #     for p in article_body.find_all(\"p\"):\n",
    "    #         article_text += p.text.strip() + \" \"\n",
    "    #         text = title + article_text\n",
    "    #     text += '\\n'\n",
    "    # # for item in text.split('\\n'):\n",
    "    # #     if len(item.split(' ')) > 10:\n",
    "    # #         print (item)\n",
    "    #     print(text)\n",
    "\n",
    "\n",
    "    for td in article_body.find_all('p', class_=None):\n",
    "        news += str(td.text) + ' '\n",
    "    news += '\\n'\n",
    "for item in news.split('\\n'):\n",
    "    if len(item.split(' ')) > 100:\n",
    "        translated = GoogleTranslator(source='ru', target='en').translate(item)"
   ],
   "metadata": {
    "collapsed": false,
    "pycharm": {
     "name": "#%%\n"
    }
   }
  },
  {
   "cell_type": "code",
   "execution_count": 7,
   "outputs": [
    {
     "name": "stdout",
     "output_type": "stream",
     "text": [
      "Bundesliga - Tour 21 Stadium: Borussia Park (Monchengladbach) Referee: Tobias Welz One of the matches of the 21st round of the German Bundesliga will be the duel between Gladbach and Bayern, one of the central matches of the reporting game day. Borussia Dortmund had a week to prepare for the game, while the Munich side had a difficult Champions League match against PSG in the mid-week. Despite the workload of the Bavarians, the bookmakers consider the guests to be the big favorites of the match. In the last five games in the Bundesliga, Borussia scored only four points, losing three times: Bayer, Augsburg and Hertha. Naturally, such results could not have a positive impact on the standings of the Stallions. By the reporting game, Borussia slipped to 10th place, inferior to Eintracht, located in the European Cup zone, by 9 points and is unlikely to be able to compete with the strongest teams for a place in the top 6. At the same time, the departure from the German elite does not threaten the Stallions. Borussia's home statistics are seventh in the division, +6=1-3, 22:13 goal difference. On Valentine's Day, Bayern defeated Paris Saint-Germain 1-0, taking a huge step towards the quarter-finals of the Champions League. In general, the Reds have a 4-match winning streak, apart from the victory in Paris in the Bundesliga over Bochum and Wolfsburg, as well as the defeat of Mainz in the German Cup. In the standings of the German championship, \"Bavaria\" is in the lead, but \"on the tail\" of the southerners hangs the capital \"Union\", which is only one point behind the champion. So there is no time for Bayern to relax, they need to win, otherwise the leadership may be lost. Bayern's away statistics are the best in the division, +6=3-1, 28:10 goal difference and 21 points scored. Borussia: Omlin - Scully, Itakura, Elvedi, Bensebini - Stindl, Kone, Kramer, Weigl, Hofmann - Thuram. Bavaria: Sommer - Pawar, Ligt, Upamecano, Canselo - Kimmich - Coman, Musiala, Müller, Sane - Chupo-Motin. Borussia Dortmund have not lost to Bayern in their last five personal meetings. Bet 1X for 3.10. Bayern have won their last four matches. Win2 bet for 1.41. Bayern have not conceded in the last two games. HTM1 rate (0.5) for 2.80. Borussia has recently become an uncomfortable opponent for Bayern, for example, the match of the first round of the BL between the teams ended in a 1-1 draw. However, this fact will only further motivate the Reds to win over the Stallions. If in the last round the Berlin Hertha, one of the main outsiders of the tournament, was able to score against Borussia four times, then it’s scary to imagine how much Bayern could potentially score against Gladbach. We have no doubts about the victory of Bayern in the match of the 21st round and we hope that the upcoming game will turn out to be rich in goals. We offer the following betting options for the match Borussia M - Bayern:\n"
     ]
    }
   ],
   "source": [
    "\n",
    "print (translated)"
   ],
   "metadata": {
    "collapsed": false,
    "pycharm": {
     "name": "#%%\n"
    }
   }
  },
  {
   "cell_type": "code",
   "execution_count": null,
   "outputs": [],
   "source": [],
   "metadata": {
    "collapsed": false,
    "pycharm": {
     "name": "#%%\n"
    }
   }
  }
 ],
 "metadata": {
  "kernelspec": {
   "display_name": "Python 3",
   "language": "python",
   "name": "python3"
  },
  "language_info": {
   "codemirror_mode": {
    "name": "ipython",
    "version": 2
   },
   "file_extension": ".py",
   "mimetype": "text/x-python",
   "name": "python",
   "nbconvert_exporter": "python",
   "pygments_lexer": "ipython2",
   "version": "2.7.6"
  }
 },
 "nbformat": 4,
 "nbformat_minor": 0
}