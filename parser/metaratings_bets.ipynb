{
 "cells": [
  {
   "cell_type": "code",
   "execution_count": 3,
   "outputs": [
    {
     "data": {
      "text/plain": "                                                  link  \\\n0    https://metaratings.ru/prognozy/futbol/atalant...   \n1    https://metaratings.ru/prognozy/futbol/pszh-li...   \n2    https://metaratings.ru/prognozy/futbol/elche-e...   \n3    https://metaratings.ru/prognozy/futbol/rubin-c...   \n4    https://metaratings.ru/prognozy/futbol/salerni...   \n..                                                 ...   \n121  https://metaratings.ru/prognozy/basketbol/nyu-...   \n122  https://metaratings.ru/prognozy/basketbol/atla...   \n123  https://metaratings.ru/prognozy/basketbol/vash...   \n124  https://metaratings.ru/prognozy/basketbol/orla...   \n125  https://metaratings.ru/prognozy/basketbol/shar...   \n\n                                                  text  \n0    Прогноз на матч Аталанта – Лечче. Бергамаски о...  \n1    Прогноз на матч ПСЖ – Лилль. Парижане не смогу...  \n2    Прогноз на матч Эльче – Эспаньол: ставим на об...  \n3      Прогноз на матч Рубин – ЦСКА. Ждём забитые мячи  \n4    Прогноз на матч Салернитана – Лацио. В первой ...  \n..                                                 ...  \n121  Прогноз на матч «Нью-Йорк» – «Юта». Вторая вст...  \n122  Прогноз на матч «Атланта» – «Сан-Антонио». «Хо...  \n123  Прогноз на матч «Вашингтон» – «Индиана». «Уиза...  \n124  Прогноз на матч «Орландо» – «Майами». Ждём упо...  \n125  Прогноз на матч «Шарлотт» – «Денвер». «Наггетс...  \n\n[126 rows x 2 columns]",
      "text/html": "<div>\n<style scoped>\n    .dataframe tbody tr th:only-of-type {\n        vertical-align: middle;\n    }\n\n    .dataframe tbody tr th {\n        vertical-align: top;\n    }\n\n    .dataframe thead th {\n        text-align: right;\n    }\n</style>\n<table border=\"1\" class=\"dataframe\">\n  <thead>\n    <tr style=\"text-align: right;\">\n      <th></th>\n      <th>link</th>\n      <th>text</th>\n    </tr>\n  </thead>\n  <tbody>\n    <tr>\n      <th>0</th>\n      <td>https://metaratings.ru/prognozy/futbol/atalant...</td>\n      <td>Прогноз на матч Аталанта – Лечче. Бергамаски о...</td>\n    </tr>\n    <tr>\n      <th>1</th>\n      <td>https://metaratings.ru/prognozy/futbol/pszh-li...</td>\n      <td>Прогноз на матч ПСЖ – Лилль. Парижане не смогу...</td>\n    </tr>\n    <tr>\n      <th>2</th>\n      <td>https://metaratings.ru/prognozy/futbol/elche-e...</td>\n      <td>Прогноз на матч Эльче – Эспаньол: ставим на об...</td>\n    </tr>\n    <tr>\n      <th>3</th>\n      <td>https://metaratings.ru/prognozy/futbol/rubin-c...</td>\n      <td>Прогноз на матч Рубин – ЦСКА. Ждём забитые мячи</td>\n    </tr>\n    <tr>\n      <th>4</th>\n      <td>https://metaratings.ru/prognozy/futbol/salerni...</td>\n      <td>Прогноз на матч Салернитана – Лацио. В первой ...</td>\n    </tr>\n    <tr>\n      <th>...</th>\n      <td>...</td>\n      <td>...</td>\n    </tr>\n    <tr>\n      <th>121</th>\n      <td>https://metaratings.ru/prognozy/basketbol/nyu-...</td>\n      <td>Прогноз на матч «Нью-Йорк» – «Юта». Вторая вст...</td>\n    </tr>\n    <tr>\n      <th>122</th>\n      <td>https://metaratings.ru/prognozy/basketbol/atla...</td>\n      <td>Прогноз на матч «Атланта» – «Сан-Антонио». «Хо...</td>\n    </tr>\n    <tr>\n      <th>123</th>\n      <td>https://metaratings.ru/prognozy/basketbol/vash...</td>\n      <td>Прогноз на матч «Вашингтон» – «Индиана». «Уиза...</td>\n    </tr>\n    <tr>\n      <th>124</th>\n      <td>https://metaratings.ru/prognozy/basketbol/orla...</td>\n      <td>Прогноз на матч «Орландо» – «Майами». Ждём упо...</td>\n    </tr>\n    <tr>\n      <th>125</th>\n      <td>https://metaratings.ru/prognozy/basketbol/shar...</td>\n      <td>Прогноз на матч «Шарлотт» – «Денвер». «Наггетс...</td>\n    </tr>\n  </tbody>\n</table>\n<p>126 rows × 2 columns</p>\n</div>"
     },
     "execution_count": 3,
     "metadata": {},
     "output_type": "execute_result"
    }
   ],
   "source": [
    "# работает: переводит и пишет в файл. но нужно доделать не только футбол\n",
    "\n",
    "# загружаем необходимые модули и библиотеки\n",
    "import re\n",
    "import requests\n",
    "import pandas as pd\n",
    "from bs4 import BeautifulSoup\n",
    "from urllib.request import Request, urlopen\n",
    "from deep_translator import GoogleTranslator\n",
    "\n",
    "#проверяем доступность сайта\n",
    "games = ['futbol', 'hokkey', 'basketbol']\n",
    "links = []\n",
    "\n",
    "for game in games:\n",
    "    req = Request(\n",
    "        url='https://metaratings.ru/prognozy/' + game,\n",
    "        headers={'User-Agent': 'Mozilla/5.0'}\n",
    "    )\n",
    "    website_url = urlopen(req).read()\n",
    "    soup = BeautifulSoup(website_url, 'lxml')\n",
    "    soup = soup.find('div', class_='TipsList_TipsList__dDOki')\n",
    "    news_link = soup.find_all('div', class_='TipsList_TipsBoxTitle__sCRne')\n",
    "    for news in news_link:\n",
    "        links.append(\n",
    "            {\n",
    "                'link': 'https://metaratings.ru' + news.find('a').get('href'),\n",
    "                'text': news.find('a').get_text()#.lower().replace('«', '').replace('»', '').replace('— ', '')\n",
    "            })\n",
    "df1 = pd.DataFrame(links)\n",
    "df1"
   ],
   "metadata": {
    "collapsed": false,
    "pycharm": {
     "name": "#%%\n"
    }
   }
  },
  {
   "cell_type": "code",
   "execution_count": 4,
   "outputs": [
    {
     "data": {
      "text/plain": "                                                 link  \\\n16  https://metaratings.ru/prognozy/futbol/barselo...   \n\n                                                 text  \n16  прогноз на матч барселона – кадис: ставим на о...  ",
      "text/html": "<div>\n<style scoped>\n    .dataframe tbody tr th:only-of-type {\n        vertical-align: middle;\n    }\n\n    .dataframe tbody tr th {\n        vertical-align: top;\n    }\n\n    .dataframe thead th {\n        text-align: right;\n    }\n</style>\n<table border=\"1\" class=\"dataframe\">\n  <thead>\n    <tr style=\"text-align: right;\">\n      <th></th>\n      <th>link</th>\n      <th>text</th>\n    </tr>\n  </thead>\n  <tbody>\n    <tr>\n      <th>16</th>\n      <td>https://metaratings.ru/prognozy/futbol/barselo...</td>\n      <td>прогноз на матч барселона – кадис: ставим на о...</td>\n    </tr>\n  </tbody>\n</table>\n</div>"
     },
     "execution_count": 4,
     "metadata": {},
     "output_type": "execute_result"
    }
   ],
   "source": [
    "df2 = pd.DataFrame()\n",
    "key_words = ['барселона', 'кадис']\n",
    "key_words = [item.lower() for item in key_words]\n",
    "df1.text = [item.lower() for item in df1.text]\n",
    "for line in df1.text:\n",
    "    if all(word in line for word in key_words):\n",
    "        df0 = df1[df1.text.str.contains(line)]\n",
    "        df2 = pd.concat([df2, df0], axis= 0 )\n",
    "df2"
   ],
   "metadata": {
    "collapsed": false,
    "pycharm": {
     "name": "#%%\n"
    }
   }
  },
  {
   "cell_type": "code",
   "execution_count": 6,
   "outputs": [],
   "source": [
    "#проверяем доступность сайта\n",
    "news = ''\n",
    "text = ''\n",
    "for link in df2.link:\n",
    "    req = Request(\n",
    "        url=link,\n",
    "        headers={'User-Agent': 'Mozilla/5.0'}\n",
    "    )\n",
    "    website_url = urlopen(req).read()\n",
    "    soup = BeautifulSoup(website_url, 'lxml')\n",
    "\n",
    "    # Extract the title of the article\n",
    "    title = soup.find(\"div\", class_=\"workarea-title\").text.strip() + \". \"\n",
    "\n",
    "    # Extract the text of the article\n",
    "    article_body = soup.find(\"article\", class_=None)\n",
    "\n",
    "    # Check the last p tags for the presence of a tags\n",
    "    for p in article_body.find_all(\"p\")[-3:]:\n",
    "        if p.find(\"b\"):\n",
    "            p.extract()\n",
    "    #\n",
    "    #     # Concatenate the text content of the remaining p tags\n",
    "    #     for p in article_body.find_all(\"p\"):\n",
    "    #         article_text += p.text.strip() + \" \"\n",
    "    #         text = title + article_text\n",
    "    #     text += '\\n'\n",
    "    # # for item in text.split('\\n'):\n",
    "    # #     if len(item.split(' ')) > 10:\n",
    "    # #         print (item)\n",
    "    #     print(text)\n",
    "\n",
    "\n",
    "    for td in article_body.find_all('p', class_=None):\n",
    "        news += str(td.text) + ' '\n",
    "    news += '\\n'\n",
    "# print (news)\n",
    "with open('C:/Users/vitalii/IdeaProjects/settings/vilomov/gpt_rewrite_in.txt', 'w') as file:\n",
    "    for item in news.split('\\n'):\n",
    "        translated = GoogleTranslator(source='ru', target='en').translate(item)\n",
    "        file.write(translated + '\\n')\n",
    "\n",
    "# for item in news.split('\\n'):\n",
    "#     if len(item.split(' ')) > 100:\n",
    "#         print(item)"
   ],
   "metadata": {
    "collapsed": false,
    "pycharm": {
     "name": "#%%\n"
    }
   }
  }
 ],
 "metadata": {
  "kernelspec": {
   "display_name": "Python 3",
   "language": "python",
   "name": "python3"
  },
  "language_info": {
   "codemirror_mode": {
    "name": "ipython",
    "version": 2
   },
   "file_extension": ".py",
   "mimetype": "text/x-python",
   "name": "python",
   "nbconvert_exporter": "python",
   "pygments_lexer": "ipython2",
   "version": "2.7.6"
  }
 },
 "nbformat": 4,
 "nbformat_minor": 0
}