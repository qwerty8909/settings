{
 "cells": [
  {
   "cell_type": "code",
   "execution_count": 5,
   "outputs": [
    {
     "data": {
      "text/plain": "                                                 link  \\\n0   https://www.liveresult.ru/tips/tennis/United-A...   \n1   https://www.liveresult.ru/tips/hockey/Russia/t...   \n2   https://www.liveresult.ru/tips/tennis/United-A...   \n3   https://www.liveresult.ru/tips/tennis/United-A...   \n4   https://www.liveresult.ru/tips/tennis/United-A...   \n..                                                ...   \n70  https://www.liveresult.ru/tips/hockey/USA/tip8...   \n71  https://www.liveresult.ru/tips/football/Spain/...   \n72  https://www.liveresult.ru/tips/football/Argent...   \n73  https://www.liveresult.ru/tips/hockey/USA/tip8...   \n74  https://www.liveresult.ru/tips/football/Spain/...   \n\n                                          text  \n0     Кудерметова Вероника - Калинина Ангелина  \n1                                Тайфун - Локо  \n2           Тайхманн Джил - Потапова Анастасия  \n3        Саснович Александра - Масарова Ребека  \n4   Павлюченкова Анастасия - Азаренко Виктория  \n..                                         ...  \n70          Колорадо Эвеланш - Эдмонтон Ойлерз  \n71                           Барселона - Кадис  \n72                      Унион Санта-Фе - Колон  \n73          Колорадо Эвеланш - Эдмонтон Ойлерз  \n74                           Барселона - Кадис  \n\n[75 rows x 2 columns]",
      "text/html": "<div>\n<style scoped>\n    .dataframe tbody tr th:only-of-type {\n        vertical-align: middle;\n    }\n\n    .dataframe tbody tr th {\n        vertical-align: top;\n    }\n\n    .dataframe thead th {\n        text-align: right;\n    }\n</style>\n<table border=\"1\" class=\"dataframe\">\n  <thead>\n    <tr style=\"text-align: right;\">\n      <th></th>\n      <th>link</th>\n      <th>text</th>\n    </tr>\n  </thead>\n  <tbody>\n    <tr>\n      <th>0</th>\n      <td>https://www.liveresult.ru/tips/tennis/United-A...</td>\n      <td>Кудерметова Вероника - Калинина Ангелина</td>\n    </tr>\n    <tr>\n      <th>1</th>\n      <td>https://www.liveresult.ru/tips/hockey/Russia/t...</td>\n      <td>Тайфун - Локо</td>\n    </tr>\n    <tr>\n      <th>2</th>\n      <td>https://www.liveresult.ru/tips/tennis/United-A...</td>\n      <td>Тайхманн Джил - Потапова Анастасия</td>\n    </tr>\n    <tr>\n      <th>3</th>\n      <td>https://www.liveresult.ru/tips/tennis/United-A...</td>\n      <td>Саснович Александра - Масарова Ребека</td>\n    </tr>\n    <tr>\n      <th>4</th>\n      <td>https://www.liveresult.ru/tips/tennis/United-A...</td>\n      <td>Павлюченкова Анастасия - Азаренко Виктория</td>\n    </tr>\n    <tr>\n      <th>...</th>\n      <td>...</td>\n      <td>...</td>\n    </tr>\n    <tr>\n      <th>70</th>\n      <td>https://www.liveresult.ru/tips/hockey/USA/tip8...</td>\n      <td>Колорадо Эвеланш - Эдмонтон Ойлерз</td>\n    </tr>\n    <tr>\n      <th>71</th>\n      <td>https://www.liveresult.ru/tips/football/Spain/...</td>\n      <td>Барселона - Кадис</td>\n    </tr>\n    <tr>\n      <th>72</th>\n      <td>https://www.liveresult.ru/tips/football/Argent...</td>\n      <td>Унион Санта-Фе - Колон</td>\n    </tr>\n    <tr>\n      <th>73</th>\n      <td>https://www.liveresult.ru/tips/hockey/USA/tip8...</td>\n      <td>Колорадо Эвеланш - Эдмонтон Ойлерз</td>\n    </tr>\n    <tr>\n      <th>74</th>\n      <td>https://www.liveresult.ru/tips/football/Spain/...</td>\n      <td>Барселона - Кадис</td>\n    </tr>\n  </tbody>\n</table>\n<p>75 rows × 2 columns</p>\n</div>"
     },
     "execution_count": 5,
     "metadata": {},
     "output_type": "execute_result"
    }
   ],
   "source": [
    "\n",
    "\n",
    "# загружаем необходимые модули и библиотеки\n",
    "import re\n",
    "import requests\n",
    "import pandas as pd\n",
    "from bs4 import BeautifulSoup\n",
    "from urllib.request import Request, urlopen\n",
    "\n",
    "#проверяем доступность сайта\n",
    "req = Request(\n",
    "    url='https://www.liveresult.ru/tips',\n",
    "    headers={'User-Agent': 'Mozilla/5.0'}\n",
    ")\n",
    "website_url = urlopen(req).read()\n",
    "soup = BeautifulSoup(website_url, 'lxml')\n",
    "\n",
    "links = []\n",
    "news_link = soup.find_all('div', class_='tips-list-tip')\n",
    "\n",
    "for news in news_link:\n",
    "    links.append(\n",
    "        {\n",
    "            'link': 'https://www.liveresult.ru' + news.find('a').get('href'),\n",
    "            'text': news.find('a').get_text().strip().replace('\\n', ' - ')\n",
    "        })\n",
    "df1 = pd.DataFrame(links)\n",
    "df1"
   ],
   "metadata": {
    "collapsed": false,
    "pycharm": {
     "name": "#%%\n"
    }
   }
  },
  {
   "cell_type": "code",
   "execution_count": 15,
   "outputs": [
    {
     "data": {
      "text/plain": "                                                 link  \\\n26  https://www.liveresult.ru/tips/hockey/tip81170...   \n28  https://www.liveresult.ru/tips/hockey/tip81136...   \n29  https://www.liveresult.ru/tips/hockey/tip81132...   \n\n                             text  \n26  спартак москва - металлург мг  \n28  спартак москва - металлург мг  \n29  спартак москва - металлург мг  ",
      "text/html": "<div>\n<style scoped>\n    .dataframe tbody tr th:only-of-type {\n        vertical-align: middle;\n    }\n\n    .dataframe tbody tr th {\n        vertical-align: top;\n    }\n\n    .dataframe thead th {\n        text-align: right;\n    }\n</style>\n<table border=\"1\" class=\"dataframe\">\n  <thead>\n    <tr style=\"text-align: right;\">\n      <th></th>\n      <th>link</th>\n      <th>text</th>\n    </tr>\n  </thead>\n  <tbody>\n    <tr>\n      <th>26</th>\n      <td>https://www.liveresult.ru/tips/hockey/tip81170...</td>\n      <td>спартак москва - металлург мг</td>\n    </tr>\n    <tr>\n      <th>28</th>\n      <td>https://www.liveresult.ru/tips/hockey/tip81136...</td>\n      <td>спартак москва - металлург мг</td>\n    </tr>\n    <tr>\n      <th>29</th>\n      <td>https://www.liveresult.ru/tips/hockey/tip81132...</td>\n      <td>спартак москва - металлург мг</td>\n    </tr>\n  </tbody>\n</table>\n</div>"
     },
     "execution_count": 15,
     "metadata": {},
     "output_type": "execute_result"
    }
   ],
   "source": [
    "df2 = pd.DataFrame()\n",
    "key_words = ['Спартак', 'Металлург']\n",
    "key_words = [item.lower() for item in key_words]\n",
    "df1.text = [item.lower() for item in df1.text]\n",
    "for line in df1.text:\n",
    "    if all(word in line for word in key_words):\n",
    "        df0 = df1[df1.text.str.contains(line)]\n",
    "        df2 = pd.concat([df2, df0], axis= 0 ).drop_duplicates ()\n",
    "df2"
   ],
   "metadata": {
    "collapsed": false,
    "pycharm": {
     "name": "#%%\n"
    }
   }
  },
  {
   "cell_type": "code",
   "execution_count": 26,
   "outputs": [
    {
     "name": "stdout",
     "output_type": "stream",
     "text": [
      "В понедельник вечером в одном из последних матчей игрового дня Фонбет Чемпионата Континентальной хоккейной лиги московский «Спартак» сыграет дома с магнитогорским «Металлургом». Вашему вниманию предлагается прогноз на этот поединок. Спартаковцы продолжают оставаться только на 9-м месте в турнирной таблице Западной конференции, отставая от минского «Динамо» на 3 очка, имея один матч в запасе. Всего «красно-белым» до конца чемпионата осталось сыграть 3 поединка. В середине февраля они на своём льду обменялись победами в московском дерби с «Динамо» (2:3, 2:1), а в минувшую субботу потерпели домашнее поражение от «Северстали» (1:3). В Восточной конференции идёт невероятно упорная борьба за второе место в турнирной таблице. «Металлург» пока что занимает 5-е место, но отстаёт от второй строчки на 2 очка, имея при этом матч в запасе. В последние полторы недели «лисы» чередуют победы с поражениями. В позапрошлое воскресенье они уверенно обыграли на выезде «Сибирь» (4:1). Но после этого дома они проиграли «Нефтехимику» (2:4) и не без труда победили «Сочи» (4:2). «Спартак» не так уж плохо играл с «Северсталью», но реализация подвела. То, что не залетело там, может быть компенсировано в этом матче. Тем более «Металлург» под занавес чемпионата не отличается особо надёжной игрой в защите. \n",
      "«Спартак» встретится на своем льду с «Металлургом» в очередном матче регулярного чемпионата Континентальной хоккейной лиги. Наш спортивный портал дает прогноз на игру. Столичный клуб располагается на девятой строчке в таблице Западной конференции. В этом сезоне красно-белые провели 65 матчей в регулярном чемпионате и набрали 62 очка. Они отстают от восьмого места на три балла, но при этом у них есть игра в запасе. Предыдущая игра с участием «Спартака» состоялась 18 февраля — в этот день он уступил на своем льду «Северстали» со счетом 1:3. В последних 10 матчах регулярного чемпионата столичная команда потерпела восемь поражений. Уральский клуб находится на пятом место в таблице Восточной конференции. В этом сезоне команда Ильи Воробьёва приняла участие в 64 матчах регулярного чемпионата и набрала 79 очков. В последних шести встречах «Магнитка» одержала четыре победы. 18 февраля она встретилась на своем льду с ХК «Сочи» (4:2). Ближайший три игры уральский клуб проведет на выезде со «Спартаком», «Нефтехимиком» и «Ак Барсом». Сделаю ставку на победу «Металлурга» со счетом 3:1. На мой взгляд, встреча получится «низовой», а победу одержат гости. \n",
      "Продолжит программу игрового дня регулярного сезона КХЛ противостояние между «Спартаком» и «Металлургом». Игра пройдет 20 февраля в 19:30 по московскому времени на «Мегаспорт Арене». Свой вариант прогноза на эту игру предлагает для Вас также наш портал. В новом сезоне выглядят москвичи не всегда уверенно, не хватает стабильности и надежности у своих ворот, потому «Спартак» идет лишь на шестой строчке западной конференции. Москвичи в последних поединках снова стали проваливаться, имея проблемы в обороне, пошли снова поражения, что ухудшает шансы на попадание в плей-офф. Так в прошлом поединке москвичи дома уступили «Северстали» со счетом 1:3. Не смотря на удачную селекцию и грамотные трансферы, которые заметно усилили коллектив, старт чемпионата провалил «Металлург», но после этого лидеры начали набирать форму, что позволило регулярно добывать очки «лисам». С нового года команда погрузилась в кризис, редко побеждает, но все же гарантировала себе место в плей-офф. В прошлом поединке дома «лисы» обыграли «Сочи» со счетом 4:2. Небольшим фаворитом в этом противостоянии выглядит «Металлург», команда обладает более сильным составом и в этом сезоне показывает неплохой хоккей. У хозяев сейчас неплохой отрезок, но все же не хватает надежности в обороне. Думаю, нас ждет здесь ничья в основное время. \n",
      "\n"
     ]
    }
   ],
   "source": [
    "news = ''\n",
    "for link in df2.link:\n",
    "    req = Request(\n",
    "        url=link,\n",
    "        headers={'User-Agent': 'Mozilla/5.0'}\n",
    "    )\n",
    "    website_url = urlopen(req).read()\n",
    "    soup = BeautifulSoup(website_url, 'lxml')\n",
    "\n",
    "    article_body = soup.find(\"div\", class_=\"tip-page-tex article-text mb-3\")\n",
    "\n",
    "    # # Check the last p tags for the presence of a tags\n",
    "    # for p in article_body.find_all(\"b\")[-1:]:\n",
    "    #     if p.find(\"a\"):\n",
    "    #         p.extract()\n",
    "\n",
    "    for td in article_body.find_all('p'):\n",
    "        news += str(td.text.replace('\\xa0', '').replace('\\n', ' ')) + ' '\n",
    "    news = news+'\\n'\n",
    "\n",
    "print (news)"
   ],
   "metadata": {
    "collapsed": false,
    "pycharm": {
     "name": "#%%\n"
    }
   }
  },
  {
   "cell_type": "code",
   "execution_count": null,
   "outputs": [],
   "source": [],
   "metadata": {
    "collapsed": false,
    "pycharm": {
     "name": "#%%\n"
    }
   }
  }
 ],
 "metadata": {
  "kernelspec": {
   "display_name": "Python 3",
   "language": "python",
   "name": "python3"
  },
  "language_info": {
   "codemirror_mode": {
    "name": "ipython",
    "version": 2
   },
   "file_extension": ".py",
   "mimetype": "text/x-python",
   "name": "python",
   "nbconvert_exporter": "python",
   "pygments_lexer": "ipython2",
   "version": "2.7.6"
  }
 },
 "nbformat": 4,
 "nbformat_minor": 0
}