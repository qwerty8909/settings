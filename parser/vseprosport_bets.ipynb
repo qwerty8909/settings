{
 "cells": [
  {
   "cell_type": "code",
   "execution_count": 26,
   "outputs": [
    {
     "data": {
      "text/plain": "                                                 link  \\\n0   https://www.vseprosport.ru/news/2023/02/19/ben...   \n1   https://www.vseprosport.ru/news/2023/02/19/het...   \n2   https://www.vseprosport.ru/news/2023/02/19/mal...   \n3   https://www.vseprosport.ru/news/2023/02/19/tor...   \n4   https://www.vseprosport.ru/news/2023/02/19/nim...   \n5   https://www.vseprosport.ru/news/2023/02/19/sha...   \n6   https://www.vseprosport.ru/news/2023/02/19/jon...   \n7   https://www.vseprosport.ru/news/2023/02/19/jon...   \n8   https://www.vseprosport.ru/news/2023/02/19/old...   \n9   https://www.vseprosport.ru/news/2023/02/19/uni...   \n10  https://www.vseprosport.ru/news/2023/02/19/rad...   \n11  https://www.vseprosport.ru/news/2023/02/19/vib...   \n12  https://www.vseprosport.ru/news/2023/02/20/pit...   \n13  https://www.vseprosport.ru/news/2023/02/20/rej...   \n14  https://www.vseprosport.ru/news/2023/02/20/kal...   \n15  https://www.vseprosport.ru/news/2023/02/20/san...   \n16  https://www.vseprosport.ru/news/2023/02/19/bos...   \n17  https://www.vseprosport.ru/news/2023/02/19/flo...   \n18  https://www.vseprosport.ru/news/2023/02/19/spa...   \n19  https://www.vseprosport.ru/news/2023/02/19/csk...   \n20  https://www.vseprosport.ru/news/2023/02/19/vit...   \n21  https://www.vseprosport.ru/news/2023/02/19/nef...   \n22  https://www.vseprosport.ru/news/2023/02/19/ava...   \n23  https://www.vseprosport.ru/news/2023/02/19/avt...   \n24  https://www.vseprosport.ru/news/2023/02/19/fil...   \n25  https://www.vseprosport.ru/news/2023/02/19/ime...   \n26  https://www.vseprosport.ru/news/2023/02/20/bel...   \n27  https://www.vseprosport.ru/news/2023/02/20/maj...   \n28  https://www.vseprosport.ru/news/2023/02/20/sti...   \n29  https://www.vseprosport.ru/news/2023/02/20/dom...   \n30  https://www.vseprosport.ru/news/2023/02/20/las...   \n31  https://www.vseprosport.ru/news/2023/02/20/ped...   \n32  https://www.vseprosport.ru/news/2023/02/20/sou...   \n33  https://www.vseprosport.ru/news/2023/02/19/ber...   \n34  https://www.vseprosport.ru/news/2023/02/19/ben...   \n35  https://www.vseprosport.ru/news/2023/02/20/ele...   \n36  https://www.vseprosport.ru/news/2023/02/18/kom...   \n37  https://www.vseprosport.ru/news/2023/02/17/bav...   \n38  https://www.vseprosport.ru/news/2023/02/16/fin...   \n39  https://www.vseprosport.ru/news/2023/02/16/min...   \n40  https://www.vseprosport.ru/news/2023/02/16/chi...   \n41  https://www.vseprosport.ru/news/2023/02/15/lej...   \n42  https://www.vseprosport.ru/news/2023/02/15/den...   \n43  https://www.vseprosport.ru/news/2023/02/15/okl...   \n44  https://www.vseprosport.ru/news/2023/02/15/mem...   \n45  https://www.vseprosport.ru/news/2023/02/15/fil...   \n46  https://www.vseprosport.ru/news/2023/02/15/atl...   \n47  https://www.vseprosport.ru/news/2023/02/15/sha...   \n\n                                                 text  \n0   «Бенфика» — «Боавишта»: прогноз на матч чемпио...  \n1   «Хетафе» — «Валенсия»: прогноз и ставки с коэф...  \n2      «Малага» — «Сарагоса»: прогноз на матч Сегунды  \n3   «Торино» — «Кремонезе»: прогноз и ставки с коэ...  \n4        «Ним» — «Сент-Этьен»: прогноз на матч Лиги 2  \n5   «Шавиш» — «Спортинг»: прогноз на матч чемпиона...  \n6   «Йонг Утрехт» — «Бреда»: прогноз на матч Перво...  \n7   «Йонг Аякс» — «Маастрихт»: прогноз на матч Пер...  \n8   «Ольденбург» — «Халлешер»: прогноз на матч Тре...  \n9   «Университатя Крайова 1948» — «Волунтари»: про...  \n10  «Радомяк» — «Ягеллония»: прогноз на матч чемпи...  \n11  «Виборг» — «Мидтьюлланн»: прогноз на матч чемп...  \n12     «Питтсбург» — «Айлендерс»: прогноз на матч НХЛ  \n13      «Рейнджерс» — «Виннипег»: прогноз на матч НХЛ  \n14     «Калгари» — «Филадельфия»: прогноз на матч НХЛ  \n15          «Сан-Хосе» — «Сиэтл»: прогноз на матч НХЛ  \n16           «Бостон» — «Оттава»: прогноз на матч НХЛ  \n17         «Флорида» — «Анахайм»: прогноз на матч НХЛ  \n18  «Спартак» — «Металлург» Магнитогорск: прогноз ...  \n19              ЦСКА — «Торпедо»: прогноз на матч КХЛ  \n20       «Витязь» — «Северсталь»: прогноз на матч КХЛ  \n21         «Нефтехимик» — «Сочи»: прогноз на матч КХЛ  \n22          «Авангард» — «Барыс»: прогноз на матч КХЛ  \n23            «Авто» – «Сарматы»: прогноз на матч МХЛ  \n24       Филс — Сафиулин. Прогноз на матч ATP Марсель  \n25          Имер — Албот. Прогноз на матч ATP Марсель  \n26         Бенчич – Костюк: прогноз на матч WTA Дубай  \n27        Шериф – Джорджи: прогноз на матч WTA Мерида  \n28   Джонсон — Даниэль. Прогноз на матч ATP Монтеррей  \n29  Тим — Монтейро. Прогноз на матч ATP Рио-де-Жан...  \n30  Дьере — Багнис. Прогноз на матч ATP Рио-де-Жан...  \n31  Мартинес — Гарин. Прогноз на матч ATP Рио-де-Ж...  \n32  Соуза — Дельен. Прогноз на матч ATP Рио-де-Жан...  \n33      Бергс — Вавринка. Прогноз на матч ATP Марсель  \n34        Бонзи — Ван Аш. Прогноз на матч ATP Марсель  \n35    Рыбакина – Андрееску: прогноз на матч WTA Дубай  \n36  Команда Леброна — Команда Янниса. Прогноз на М...  \n37  «Бавария» — «Альба». Прогноз на матч Кубка Гер...  \n38         «Финикс» — «Клипперс» Прогноз на матч НБА   \n39    «Миннесота» — «Вашингтон». Прогноз на матч НБА   \n40          «Чикаго» — «Милуоки». Прогноз на матч НБА  \n41      «Лейкерс» — «Нью-Орлеан». Прогноз на матч НБА  \n42           «Денвер» — «Даллас». Прогноз на матч НБА  \n43        «Оклахома» — «Хьюстон» Прогноз на матч НБА   \n44              «Мемфис» — «Юта» Прогноз на матч НБА   \n45    «Филадельфия» — «Кливленд». Прогноз на матч НБА  \n46        «Атланта» — «Нью-Йорк». Прогноз на матч НБА  \n47     «Шарлотт» — «Сан-Антонио». Прогноз на матч НБА  ",
      "text/html": "<div>\n<style scoped>\n    .dataframe tbody tr th:only-of-type {\n        vertical-align: middle;\n    }\n\n    .dataframe tbody tr th {\n        vertical-align: top;\n    }\n\n    .dataframe thead th {\n        text-align: right;\n    }\n</style>\n<table border=\"1\" class=\"dataframe\">\n  <thead>\n    <tr style=\"text-align: right;\">\n      <th></th>\n      <th>link</th>\n      <th>text</th>\n    </tr>\n  </thead>\n  <tbody>\n    <tr>\n      <th>0</th>\n      <td>https://www.vseprosport.ru/news/2023/02/19/ben...</td>\n      <td>«Бенфика» — «Боавишта»: прогноз на матч чемпио...</td>\n    </tr>\n    <tr>\n      <th>1</th>\n      <td>https://www.vseprosport.ru/news/2023/02/19/het...</td>\n      <td>«Хетафе» — «Валенсия»: прогноз и ставки с коэф...</td>\n    </tr>\n    <tr>\n      <th>2</th>\n      <td>https://www.vseprosport.ru/news/2023/02/19/mal...</td>\n      <td>«Малага» — «Сарагоса»: прогноз на матч Сегунды</td>\n    </tr>\n    <tr>\n      <th>3</th>\n      <td>https://www.vseprosport.ru/news/2023/02/19/tor...</td>\n      <td>«Торино» — «Кремонезе»: прогноз и ставки с коэ...</td>\n    </tr>\n    <tr>\n      <th>4</th>\n      <td>https://www.vseprosport.ru/news/2023/02/19/nim...</td>\n      <td>«Ним» — «Сент-Этьен»: прогноз на матч Лиги 2</td>\n    </tr>\n    <tr>\n      <th>5</th>\n      <td>https://www.vseprosport.ru/news/2023/02/19/sha...</td>\n      <td>«Шавиш» — «Спортинг»: прогноз на матч чемпиона...</td>\n    </tr>\n    <tr>\n      <th>6</th>\n      <td>https://www.vseprosport.ru/news/2023/02/19/jon...</td>\n      <td>«Йонг Утрехт» — «Бреда»: прогноз на матч Перво...</td>\n    </tr>\n    <tr>\n      <th>7</th>\n      <td>https://www.vseprosport.ru/news/2023/02/19/jon...</td>\n      <td>«Йонг Аякс» — «Маастрихт»: прогноз на матч Пер...</td>\n    </tr>\n    <tr>\n      <th>8</th>\n      <td>https://www.vseprosport.ru/news/2023/02/19/old...</td>\n      <td>«Ольденбург» — «Халлешер»: прогноз на матч Тре...</td>\n    </tr>\n    <tr>\n      <th>9</th>\n      <td>https://www.vseprosport.ru/news/2023/02/19/uni...</td>\n      <td>«Университатя Крайова 1948» — «Волунтари»: про...</td>\n    </tr>\n    <tr>\n      <th>10</th>\n      <td>https://www.vseprosport.ru/news/2023/02/19/rad...</td>\n      <td>«Радомяк» — «Ягеллония»: прогноз на матч чемпи...</td>\n    </tr>\n    <tr>\n      <th>11</th>\n      <td>https://www.vseprosport.ru/news/2023/02/19/vib...</td>\n      <td>«Виборг» — «Мидтьюлланн»: прогноз на матч чемп...</td>\n    </tr>\n    <tr>\n      <th>12</th>\n      <td>https://www.vseprosport.ru/news/2023/02/20/pit...</td>\n      <td>«Питтсбург» — «Айлендерс»: прогноз на матч НХЛ</td>\n    </tr>\n    <tr>\n      <th>13</th>\n      <td>https://www.vseprosport.ru/news/2023/02/20/rej...</td>\n      <td>«Рейнджерс» — «Виннипег»: прогноз на матч НХЛ</td>\n    </tr>\n    <tr>\n      <th>14</th>\n      <td>https://www.vseprosport.ru/news/2023/02/20/kal...</td>\n      <td>«Калгари» — «Филадельфия»: прогноз на матч НХЛ</td>\n    </tr>\n    <tr>\n      <th>15</th>\n      <td>https://www.vseprosport.ru/news/2023/02/20/san...</td>\n      <td>«Сан-Хосе» — «Сиэтл»: прогноз на матч НХЛ</td>\n    </tr>\n    <tr>\n      <th>16</th>\n      <td>https://www.vseprosport.ru/news/2023/02/19/bos...</td>\n      <td>«Бостон» — «Оттава»: прогноз на матч НХЛ</td>\n    </tr>\n    <tr>\n      <th>17</th>\n      <td>https://www.vseprosport.ru/news/2023/02/19/flo...</td>\n      <td>«Флорида» — «Анахайм»: прогноз на матч НХЛ</td>\n    </tr>\n    <tr>\n      <th>18</th>\n      <td>https://www.vseprosport.ru/news/2023/02/19/spa...</td>\n      <td>«Спартак» — «Металлург» Магнитогорск: прогноз ...</td>\n    </tr>\n    <tr>\n      <th>19</th>\n      <td>https://www.vseprosport.ru/news/2023/02/19/csk...</td>\n      <td>ЦСКА — «Торпедо»: прогноз на матч КХЛ</td>\n    </tr>\n    <tr>\n      <th>20</th>\n      <td>https://www.vseprosport.ru/news/2023/02/19/vit...</td>\n      <td>«Витязь» — «Северсталь»: прогноз на матч КХЛ</td>\n    </tr>\n    <tr>\n      <th>21</th>\n      <td>https://www.vseprosport.ru/news/2023/02/19/nef...</td>\n      <td>«Нефтехимик» — «Сочи»: прогноз на матч КХЛ</td>\n    </tr>\n    <tr>\n      <th>22</th>\n      <td>https://www.vseprosport.ru/news/2023/02/19/ava...</td>\n      <td>«Авангард» — «Барыс»: прогноз на матч КХЛ</td>\n    </tr>\n    <tr>\n      <th>23</th>\n      <td>https://www.vseprosport.ru/news/2023/02/19/avt...</td>\n      <td>«Авто» – «Сарматы»: прогноз на матч МХЛ</td>\n    </tr>\n    <tr>\n      <th>24</th>\n      <td>https://www.vseprosport.ru/news/2023/02/19/fil...</td>\n      <td>Филс — Сафиулин. Прогноз на матч ATP Марсель</td>\n    </tr>\n    <tr>\n      <th>25</th>\n      <td>https://www.vseprosport.ru/news/2023/02/19/ime...</td>\n      <td>Имер — Албот. Прогноз на матч ATP Марсель</td>\n    </tr>\n    <tr>\n      <th>26</th>\n      <td>https://www.vseprosport.ru/news/2023/02/20/bel...</td>\n      <td>Бенчич – Костюк: прогноз на матч WTA Дубай</td>\n    </tr>\n    <tr>\n      <th>27</th>\n      <td>https://www.vseprosport.ru/news/2023/02/20/maj...</td>\n      <td>Шериф – Джорджи: прогноз на матч WTA Мерида</td>\n    </tr>\n    <tr>\n      <th>28</th>\n      <td>https://www.vseprosport.ru/news/2023/02/20/sti...</td>\n      <td>Джонсон — Даниэль. Прогноз на матч ATP Монтеррей</td>\n    </tr>\n    <tr>\n      <th>29</th>\n      <td>https://www.vseprosport.ru/news/2023/02/20/dom...</td>\n      <td>Тим — Монтейро. Прогноз на матч ATP Рио-де-Жан...</td>\n    </tr>\n    <tr>\n      <th>30</th>\n      <td>https://www.vseprosport.ru/news/2023/02/20/las...</td>\n      <td>Дьере — Багнис. Прогноз на матч ATP Рио-де-Жан...</td>\n    </tr>\n    <tr>\n      <th>31</th>\n      <td>https://www.vseprosport.ru/news/2023/02/20/ped...</td>\n      <td>Мартинес — Гарин. Прогноз на матч ATP Рио-де-Ж...</td>\n    </tr>\n    <tr>\n      <th>32</th>\n      <td>https://www.vseprosport.ru/news/2023/02/20/sou...</td>\n      <td>Соуза — Дельен. Прогноз на матч ATP Рио-де-Жан...</td>\n    </tr>\n    <tr>\n      <th>33</th>\n      <td>https://www.vseprosport.ru/news/2023/02/19/ber...</td>\n      <td>Бергс — Вавринка. Прогноз на матч ATP Марсель</td>\n    </tr>\n    <tr>\n      <th>34</th>\n      <td>https://www.vseprosport.ru/news/2023/02/19/ben...</td>\n      <td>Бонзи — Ван Аш. Прогноз на матч ATP Марсель</td>\n    </tr>\n    <tr>\n      <th>35</th>\n      <td>https://www.vseprosport.ru/news/2023/02/20/ele...</td>\n      <td>Рыбакина – Андрееску: прогноз на матч WTA Дубай</td>\n    </tr>\n    <tr>\n      <th>36</th>\n      <td>https://www.vseprosport.ru/news/2023/02/18/kom...</td>\n      <td>Команда Леброна — Команда Янниса. Прогноз на М...</td>\n    </tr>\n    <tr>\n      <th>37</th>\n      <td>https://www.vseprosport.ru/news/2023/02/17/bav...</td>\n      <td>«Бавария» — «Альба». Прогноз на матч Кубка Гер...</td>\n    </tr>\n    <tr>\n      <th>38</th>\n      <td>https://www.vseprosport.ru/news/2023/02/16/fin...</td>\n      <td>«Финикс» — «Клипперс» Прогноз на матч НБА</td>\n    </tr>\n    <tr>\n      <th>39</th>\n      <td>https://www.vseprosport.ru/news/2023/02/16/min...</td>\n      <td>«Миннесота» — «Вашингтон». Прогноз на матч НБА</td>\n    </tr>\n    <tr>\n      <th>40</th>\n      <td>https://www.vseprosport.ru/news/2023/02/16/chi...</td>\n      <td>«Чикаго» — «Милуоки». Прогноз на матч НБА</td>\n    </tr>\n    <tr>\n      <th>41</th>\n      <td>https://www.vseprosport.ru/news/2023/02/15/lej...</td>\n      <td>«Лейкерс» — «Нью-Орлеан». Прогноз на матч НБА</td>\n    </tr>\n    <tr>\n      <th>42</th>\n      <td>https://www.vseprosport.ru/news/2023/02/15/den...</td>\n      <td>«Денвер» — «Даллас». Прогноз на матч НБА</td>\n    </tr>\n    <tr>\n      <th>43</th>\n      <td>https://www.vseprosport.ru/news/2023/02/15/okl...</td>\n      <td>«Оклахома» — «Хьюстон» Прогноз на матч НБА</td>\n    </tr>\n    <tr>\n      <th>44</th>\n      <td>https://www.vseprosport.ru/news/2023/02/15/mem...</td>\n      <td>«Мемфис» — «Юта» Прогноз на матч НБА</td>\n    </tr>\n    <tr>\n      <th>45</th>\n      <td>https://www.vseprosport.ru/news/2023/02/15/fil...</td>\n      <td>«Филадельфия» — «Кливленд». Прогноз на матч НБА</td>\n    </tr>\n    <tr>\n      <th>46</th>\n      <td>https://www.vseprosport.ru/news/2023/02/15/atl...</td>\n      <td>«Атланта» — «Нью-Йорк». Прогноз на матч НБА</td>\n    </tr>\n    <tr>\n      <th>47</th>\n      <td>https://www.vseprosport.ru/news/2023/02/15/sha...</td>\n      <td>«Шарлотт» — «Сан-Антонио». Прогноз на матч НБА</td>\n    </tr>\n  </tbody>\n</table>\n</div>"
     },
     "execution_count": 26,
     "metadata": {},
     "output_type": "execute_result"
    }
   ],
   "source": [
    "# не парсится сама статья нужно доделать\n",
    "\n",
    "# загружаем необходимые модули и библиотеки\n",
    "import re\n",
    "import requests\n",
    "import pandas as pd\n",
    "from bs4 import BeautifulSoup\n",
    "from urllib.request import Request, urlopen\n",
    "\n",
    "games_vsep = ['football', 'hockey', 'tennis', 'basketball']\n",
    "#проверяем доступность сайта\n",
    "links = []\n",
    "for game in games_vsep:\n",
    "    req = Request(\n",
    "        url='https://www.vseprosport.ru/news/' + game,\n",
    "        headers={'User-Agent': 'Mozilla/5.0'}\n",
    "    )\n",
    "    website_url = urlopen(req).read()\n",
    "    soup = BeautifulSoup(website_url, 'lxml')\n",
    "\n",
    "\n",
    "    news_link = soup.find_all('a', class_='forecast no-link-text small-text p-10')[:12]\n",
    "\n",
    "    for news in news_link:\n",
    "        links.append(\n",
    "            {\n",
    "                'link': 'https://www.vseprosport.ru' + news.get('href'),\n",
    "                'text': news.find('div', class_='forecast__text').get_text()\n",
    "            })\n",
    "df1 = pd.DataFrame(links)\n",
    "df1"
   ],
   "metadata": {
    "collapsed": false,
    "pycharm": {
     "name": "#%%\n"
    }
   }
  },
  {
   "cell_type": "code",
   "execution_count": 33,
   "outputs": [
    {
     "data": {
      "text/plain": "                                                 link  \\\n29  https://www.vseprosport.ru/news/2023/02/20/dom...   \n\n                                                 text  \n29  тим — монтейро. прогноз на матч atp рио-де-жан...  ",
      "text/html": "<div>\n<style scoped>\n    .dataframe tbody tr th:only-of-type {\n        vertical-align: middle;\n    }\n\n    .dataframe tbody tr th {\n        vertical-align: top;\n    }\n\n    .dataframe thead th {\n        text-align: right;\n    }\n</style>\n<table border=\"1\" class=\"dataframe\">\n  <thead>\n    <tr style=\"text-align: right;\">\n      <th></th>\n      <th>link</th>\n      <th>text</th>\n    </tr>\n  </thead>\n  <tbody>\n    <tr>\n      <th>29</th>\n      <td>https://www.vseprosport.ru/news/2023/02/20/dom...</td>\n      <td>тим — монтейро. прогноз на матч atp рио-де-жан...</td>\n    </tr>\n  </tbody>\n</table>\n</div>"
     },
     "execution_count": 33,
     "metadata": {},
     "output_type": "execute_result"
    }
   ],
   "source": [
    "df2 = pd.DataFrame()\n",
    "key_words = ['тим', 'монт']\n",
    "key_words = [item.lower() for item in key_words]\n",
    "df1.text = [item.lower() for item in df1.text]\n",
    "for line in df1.text:\n",
    "    if all(word in line for word in key_words):\n",
    "        df0 = df1[df1.text.str.contains(line)]\n",
    "        df2 = pd.concat([df2, df0], axis= 0 ).drop_duplicates ()\n",
    "df2"
   ],
   "metadata": {
    "collapsed": false,
    "pycharm": {
     "name": "#%%\n"
    }
   }
  },
  {
   "cell_type": "code",
   "execution_count": 34,
   "outputs": [
    {
     "name": "stdout",
     "output_type": "stream",
     "text": [
      "Тим все еще находится на пути к возвращению к своим былым игровым кондициям, которые позволили ему выиграть ЮС Оупен в 2020 году. Напомним, что около года Доминик восстанавливался после травмы запястья.\n",
      " В этом сезоне австрийский теннисист одержал всего две победы в восьми матчах. На минувшей неделе в Буэнос-Айресе Тим в первом круге переиграл Алекса Молчана, но затем уступил Хуану Пабло Варильясу. Лучший результат Доминика в Рио-де-Жанейро - это четвертьфинал.\n",
      " Монтейро без особых успехов выступает в этом сезоне. Ни на одном турнире в этом году бразильский теннисист дальше второго круга не доходил.\n",
      " Недавние грунтовые соревнования в Кордове и Буэнос-Айресе Тиаго покинул по итогам стартовых поединков. В Рио-де-Жанейро в прошлом году Монтейро сумел одержать победу над Себастьяном Баесом, но затем уступил итальянцу Маттео Берреттини.\n",
      " \n",
      "\n"
     ]
    }
   ],
   "source": [
    "news = ''\n",
    "for link in df2.link:\n",
    "    req = Request(\n",
    "        url=link,\n",
    "        headers={'User-Agent': 'Mozilla/5.0'}\n",
    "    )\n",
    "    website_url = urlopen(req).read()\n",
    "    soup = BeautifulSoup(website_url, 'lxml')\n",
    "\n",
    "    article_body = soup.find(\"div\", class_=\"white-radius mb-4\")\n",
    "\n",
    "    # # Check the last p tags for the presence of a tags\n",
    "    # for p in article_body.find_all(\"b\")[-1:]:\n",
    "    #     if p.find(\"a\"):\n",
    "    #         p.extract()\n",
    "\n",
    "    for td in article_body.find_all('p'):\n",
    "        news += str(td.text) + '\\n '\n",
    "    news = news+'\\n'\n",
    "\n",
    "print (news)"
   ],
   "metadata": {
    "collapsed": false,
    "pycharm": {
     "name": "#%%\n"
    }
   }
  },
  {
   "cell_type": "code",
   "execution_count": null,
   "outputs": [],
   "source": [],
   "metadata": {
    "collapsed": false,
    "pycharm": {
     "name": "#%%\n"
    }
   }
  }
 ],
 "metadata": {
  "kernelspec": {
   "display_name": "Python 3",
   "language": "python",
   "name": "python3"
  },
  "language_info": {
   "codemirror_mode": {
    "name": "ipython",
    "version": 2
   },
   "file_extension": ".py",
   "mimetype": "text/x-python",
   "name": "python",
   "nbconvert_exporter": "python",
   "pygments_lexer": "ipython2",
   "version": "2.7.6"
  }
 },
 "nbformat": 4,
 "nbformat_minor": 0
}