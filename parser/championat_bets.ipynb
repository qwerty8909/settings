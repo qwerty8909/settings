{
 "cells": [
  {
   "cell_type": "code",
   "execution_count": 1,
   "outputs": [
    {
     "data": {
      "text/plain": "                                                 link  \\\n0   https://www.championat.com/bets/news-5001373-p...   \n1   https://www.championat.com/bets/news-5001377-p...   \n2   https://www.championat.com/bets/news-5001375-s...   \n3   https://www.championat.com/bets/news-5001369-a...   \n4   https://www.championat.com/bets/news-5001305-m...   \n5   https://www.championat.com/bets/news-5001301-n...   \n6   https://www.championat.com/bets/news-5001309-a...   \n7   https://www.championat.com/bets/news-5001303-s...   \n8   https://www.championat.com/bets/news-5001287-b...   \n9   https://www.championat.com/bets/news-5001281-s...   \n10  https://www.championat.com/bets/news-5001265-a...   \n11  https://www.championat.com/bets/news-5001259-o...   \n12  https://www.championat.com/bets/news-5001255-b...   \n13  https://www.championat.com/bets/news-5001243-a...   \n14  https://www.championat.com/bets/news-5001215-a...   \n15  https://www.championat.com/bets/news-5001211-s...   \n16  https://www.championat.com/bets/news-5000303-s...   \n17  https://www.championat.com/bets/news-5000655-e...   \n18  https://www.championat.com/bets/news-5000629-s...   \n19  https://www.championat.com/bets/news-5000289-p...   \n20  https://www.championat.com/bets/news-5000271-p...   \n21  https://www.championat.com/bets/news-5000149-e...   \n22  https://www.championat.com/bets/news-5000261-a...   \n23  https://www.championat.com/bets/news-5000249-a...   \n24  https://www.championat.com/bets/news-5000225-a...   \n25  https://www.championat.com/bets/news-5000237-p...   \n26  https://www.championat.com/bets/news-5000215-d...   \n27  https://www.championat.com/bets/news-5000205-s...   \n28  https://www.championat.com/bets/news-5000169-s...   \n29  https://www.championat.com/bets/news-5000115-a...   \n30  https://www.championat.com/bets/news-5000065-h...   \n31  https://www.championat.com/bets/news-4999975-b...   \n32  https://www.championat.com/bets/news-4999973-y...   \n33  https://www.championat.com/bets/news-4999971-b...   \n34  https://www.championat.com/bets/news-4999969-s...   \n35  https://www.championat.com/bets/news-4999977-s...   \n36  https://www.championat.com/bets/news-4999251-b...   \n37  https://www.championat.com/bets/news-4999213-p...   \n38  https://www.championat.com/bets/news-4999211-b...   \n39  https://www.championat.com/bets/news-4999209-y...   \n40  https://www.championat.com/bets/news-4999215-b...   \n41  https://www.championat.com/bets/news-4999191-b...   \n42  https://www.championat.com/bets/news-4999189-s...   \n43  https://www.championat.com/bets/news-4999193-b...   \n44  https://www.championat.com/bets/news-4999183-s...   \n45  https://www.championat.com/bets/news-4999145-s...   \n46  https://www.championat.com/bets/news-4999143-p...   \n47  https://www.championat.com/bets/news-4999141-y...   \n48  https://www.championat.com/bets/news-4999147-v...   \n49  https://www.championat.com/bets/news-4999001-t...   \n\n                                                 text  \n0   Павел Погребняк сделал прогноз на матч «Астон ...  \n1   Прогноз на матч Бундеслиги «Боруссия» М — «Бав...  \n2   «Спартак» — «Северсталь»: прогноз Максима Лебе...  \n3   «Астон Вилла» — «Арсенал»: фрибет 2000 рублей ...  \n4   «Мальорка» — «Вильярреал»: прогноз Константина...  \n5   «Ньюкасл» — «Ливерпуль»: прогноз Романа Павлюч...  \n6   «Астон Вилла» — «Арсенал»: во сколько начало, ...  \n7   «Спартак» — «Северсталь»: прогноз Владимира Пл...  \n8   Букмекеры назвали количество ставок на победу ...  \n9   «Спартак» — «Северсталь»: прогноз Павла Лысенк...  \n10  «Амур» — «Ак Барс»: прямая трансляция матча, п...  \n11  «Осасуна» — «Реал» Мадрид: ставка Александра М...  \n12  «Бетис» — «Вальядолид»: прогноз Константина Ге...  \n13  «Амур» — «Ак Барс»: прогноз Максима Лебедева н...  \n14  «Авангард» — «Нефтехимик»: как сыграли, кто по...  \n15  «Сассуоло» — «Наполи»: результат матча, как сы...  \n16  «Сассуоло» — «Наполи»: где смотреть онлайн бес...  \n17  «Эдмонтон» — «Рейнджерс»: прогноз Виталия Слав...  \n18  «Сассуоло» — «Наполи»: прогноз Эдуарда Мора на...  \n19  Прогноз на матч 24-го тура Лиги 1 «Осер» — «Лион»  \n20  Прогноз на матч «Сассуоло» — «Наполи» с коэффи...  \n21  Эксперты оценили шансы «Барселоны» выиграть Ли...  \n22  «Аугсбург» — «Хоффенхайм»: прогноз на матч 21-...  \n23  «Авангард» — «Нефтехимик»: прямая трансляция, ...  \n24  «Аугсбург» — «Хоффенхайм»: прогноз Алексея Гас...  \n25      Прогноз на матч КХЛ «Авангард» — «Нефтехимик»  \n26  Даниил Медведев — Феликс Оже-Альяссим: во скол...  \n27  «Сассуоло» — «Наполи»: прогноз Александра Мост...  \n28  «Сепахан» — «Зенит»: где смотреть онлайн беспл...  \n29  «Авангард» — «Нефтехимик»: прогноз Максима Леб...  \n30  «Химки» — «Кайсар»: во сколько начало, кто фав...  \n31  «Байер» — «Монако»: результат матча Лиги Европ...  \n32  «Ювентус» — «Нант»: результат матча Лиги Европ...  \n33  «Барселона» — «МЮ»: результат матча Лиги Европ...  \n34  «Шахтёр» — «Ренн»: результат матча Лиги Европы...  \n35  «Севилья» — ПСВ: результат матча Лиги Европы, ...  \n36  «Байер» — «Монако»: где смотреть онлайн беспла...  \n37  Прогноз на матч 1/16 финала Лиги Европы «Севил...  \n38  «Байер» — «Монако»: прогноз Александра Мостово...  \n39  «Ювентус» — «Нант»: прогноз Эдуарда Мора на ма...  \n40  «Байер» – «Монако»: прогноз Егора Титова на ма...  \n41  «Барселона» — «МЮ»: по какому каналу покажут, ...  \n42  «Шахтёр» – «Ренн»: прогноз Егора Титова на мат...  \n43  «Барселона» — «МЮ»: ставка Эдуарда Мора на мат...  \n44  «Спартак» — «Динамо»: трансляция, где смотреть...  \n45  «Севилья» — ПСВ: ставка Эдуарда Мора на матч 1...  \n46  Прогноз Павла Лысенкова на московское дерби в ...  \n47  «Ювентус» — «Нант»: прогноз Егора Титова на ма...  \n48  Василий Уткин сделал прогноз на матч «Барселон...  \n49  «Трактор» — «Сочи»: по какому каналу покажут, ...  ",
      "text/html": "<div>\n<style scoped>\n    .dataframe tbody tr th:only-of-type {\n        vertical-align: middle;\n    }\n\n    .dataframe tbody tr th {\n        vertical-align: top;\n    }\n\n    .dataframe thead th {\n        text-align: right;\n    }\n</style>\n<table border=\"1\" class=\"dataframe\">\n  <thead>\n    <tr style=\"text-align: right;\">\n      <th></th>\n      <th>link</th>\n      <th>text</th>\n    </tr>\n  </thead>\n  <tbody>\n    <tr>\n      <th>0</th>\n      <td>https://www.championat.com/bets/news-5001373-p...</td>\n      <td>Павел Погребняк сделал прогноз на матч «Астон ...</td>\n    </tr>\n    <tr>\n      <th>1</th>\n      <td>https://www.championat.com/bets/news-5001377-p...</td>\n      <td>Прогноз на матч Бундеслиги «Боруссия» М — «Бав...</td>\n    </tr>\n    <tr>\n      <th>2</th>\n      <td>https://www.championat.com/bets/news-5001375-s...</td>\n      <td>«Спартак» — «Северсталь»: прогноз Максима Лебе...</td>\n    </tr>\n    <tr>\n      <th>3</th>\n      <td>https://www.championat.com/bets/news-5001369-a...</td>\n      <td>«Астон Вилла» — «Арсенал»: фрибет 2000 рублей ...</td>\n    </tr>\n    <tr>\n      <th>4</th>\n      <td>https://www.championat.com/bets/news-5001305-m...</td>\n      <td>«Мальорка» — «Вильярреал»: прогноз Константина...</td>\n    </tr>\n    <tr>\n      <th>5</th>\n      <td>https://www.championat.com/bets/news-5001301-n...</td>\n      <td>«Ньюкасл» — «Ливерпуль»: прогноз Романа Павлюч...</td>\n    </tr>\n    <tr>\n      <th>6</th>\n      <td>https://www.championat.com/bets/news-5001309-a...</td>\n      <td>«Астон Вилла» — «Арсенал»: во сколько начало, ...</td>\n    </tr>\n    <tr>\n      <th>7</th>\n      <td>https://www.championat.com/bets/news-5001303-s...</td>\n      <td>«Спартак» — «Северсталь»: прогноз Владимира Пл...</td>\n    </tr>\n    <tr>\n      <th>8</th>\n      <td>https://www.championat.com/bets/news-5001287-b...</td>\n      <td>Букмекеры назвали количество ставок на победу ...</td>\n    </tr>\n    <tr>\n      <th>9</th>\n      <td>https://www.championat.com/bets/news-5001281-s...</td>\n      <td>«Спартак» — «Северсталь»: прогноз Павла Лысенк...</td>\n    </tr>\n    <tr>\n      <th>10</th>\n      <td>https://www.championat.com/bets/news-5001265-a...</td>\n      <td>«Амур» — «Ак Барс»: прямая трансляция матча, п...</td>\n    </tr>\n    <tr>\n      <th>11</th>\n      <td>https://www.championat.com/bets/news-5001259-o...</td>\n      <td>«Осасуна» — «Реал» Мадрид: ставка Александра М...</td>\n    </tr>\n    <tr>\n      <th>12</th>\n      <td>https://www.championat.com/bets/news-5001255-b...</td>\n      <td>«Бетис» — «Вальядолид»: прогноз Константина Ге...</td>\n    </tr>\n    <tr>\n      <th>13</th>\n      <td>https://www.championat.com/bets/news-5001243-a...</td>\n      <td>«Амур» — «Ак Барс»: прогноз Максима Лебедева н...</td>\n    </tr>\n    <tr>\n      <th>14</th>\n      <td>https://www.championat.com/bets/news-5001215-a...</td>\n      <td>«Авангард» — «Нефтехимик»: как сыграли, кто по...</td>\n    </tr>\n    <tr>\n      <th>15</th>\n      <td>https://www.championat.com/bets/news-5001211-s...</td>\n      <td>«Сассуоло» — «Наполи»: результат матча, как сы...</td>\n    </tr>\n    <tr>\n      <th>16</th>\n      <td>https://www.championat.com/bets/news-5000303-s...</td>\n      <td>«Сассуоло» — «Наполи»: где смотреть онлайн бес...</td>\n    </tr>\n    <tr>\n      <th>17</th>\n      <td>https://www.championat.com/bets/news-5000655-e...</td>\n      <td>«Эдмонтон» — «Рейнджерс»: прогноз Виталия Слав...</td>\n    </tr>\n    <tr>\n      <th>18</th>\n      <td>https://www.championat.com/bets/news-5000629-s...</td>\n      <td>«Сассуоло» — «Наполи»: прогноз Эдуарда Мора на...</td>\n    </tr>\n    <tr>\n      <th>19</th>\n      <td>https://www.championat.com/bets/news-5000289-p...</td>\n      <td>Прогноз на матч 24-го тура Лиги 1 «Осер» — «Лион»</td>\n    </tr>\n    <tr>\n      <th>20</th>\n      <td>https://www.championat.com/bets/news-5000271-p...</td>\n      <td>Прогноз на матч «Сассуоло» — «Наполи» с коэффи...</td>\n    </tr>\n    <tr>\n      <th>21</th>\n      <td>https://www.championat.com/bets/news-5000149-e...</td>\n      <td>Эксперты оценили шансы «Барселоны» выиграть Ли...</td>\n    </tr>\n    <tr>\n      <th>22</th>\n      <td>https://www.championat.com/bets/news-5000261-a...</td>\n      <td>«Аугсбург» — «Хоффенхайм»: прогноз на матч 21-...</td>\n    </tr>\n    <tr>\n      <th>23</th>\n      <td>https://www.championat.com/bets/news-5000249-a...</td>\n      <td>«Авангард» — «Нефтехимик»: прямая трансляция, ...</td>\n    </tr>\n    <tr>\n      <th>24</th>\n      <td>https://www.championat.com/bets/news-5000225-a...</td>\n      <td>«Аугсбург» — «Хоффенхайм»: прогноз Алексея Гас...</td>\n    </tr>\n    <tr>\n      <th>25</th>\n      <td>https://www.championat.com/bets/news-5000237-p...</td>\n      <td>Прогноз на матч КХЛ «Авангард» — «Нефтехимик»</td>\n    </tr>\n    <tr>\n      <th>26</th>\n      <td>https://www.championat.com/bets/news-5000215-d...</td>\n      <td>Даниил Медведев — Феликс Оже-Альяссим: во скол...</td>\n    </tr>\n    <tr>\n      <th>27</th>\n      <td>https://www.championat.com/bets/news-5000205-s...</td>\n      <td>«Сассуоло» — «Наполи»: прогноз Александра Мост...</td>\n    </tr>\n    <tr>\n      <th>28</th>\n      <td>https://www.championat.com/bets/news-5000169-s...</td>\n      <td>«Сепахан» — «Зенит»: где смотреть онлайн беспл...</td>\n    </tr>\n    <tr>\n      <th>29</th>\n      <td>https://www.championat.com/bets/news-5000115-a...</td>\n      <td>«Авангард» — «Нефтехимик»: прогноз Максима Леб...</td>\n    </tr>\n    <tr>\n      <th>30</th>\n      <td>https://www.championat.com/bets/news-5000065-h...</td>\n      <td>«Химки» — «Кайсар»: во сколько начало, кто фав...</td>\n    </tr>\n    <tr>\n      <th>31</th>\n      <td>https://www.championat.com/bets/news-4999975-b...</td>\n      <td>«Байер» — «Монако»: результат матча Лиги Европ...</td>\n    </tr>\n    <tr>\n      <th>32</th>\n      <td>https://www.championat.com/bets/news-4999973-y...</td>\n      <td>«Ювентус» — «Нант»: результат матча Лиги Европ...</td>\n    </tr>\n    <tr>\n      <th>33</th>\n      <td>https://www.championat.com/bets/news-4999971-b...</td>\n      <td>«Барселона» — «МЮ»: результат матча Лиги Европ...</td>\n    </tr>\n    <tr>\n      <th>34</th>\n      <td>https://www.championat.com/bets/news-4999969-s...</td>\n      <td>«Шахтёр» — «Ренн»: результат матча Лиги Европы...</td>\n    </tr>\n    <tr>\n      <th>35</th>\n      <td>https://www.championat.com/bets/news-4999977-s...</td>\n      <td>«Севилья» — ПСВ: результат матча Лиги Европы, ...</td>\n    </tr>\n    <tr>\n      <th>36</th>\n      <td>https://www.championat.com/bets/news-4999251-b...</td>\n      <td>«Байер» — «Монако»: где смотреть онлайн беспла...</td>\n    </tr>\n    <tr>\n      <th>37</th>\n      <td>https://www.championat.com/bets/news-4999213-p...</td>\n      <td>Прогноз на матч 1/16 финала Лиги Европы «Севил...</td>\n    </tr>\n    <tr>\n      <th>38</th>\n      <td>https://www.championat.com/bets/news-4999211-b...</td>\n      <td>«Байер» — «Монако»: прогноз Александра Мостово...</td>\n    </tr>\n    <tr>\n      <th>39</th>\n      <td>https://www.championat.com/bets/news-4999209-y...</td>\n      <td>«Ювентус» — «Нант»: прогноз Эдуарда Мора на ма...</td>\n    </tr>\n    <tr>\n      <th>40</th>\n      <td>https://www.championat.com/bets/news-4999215-b...</td>\n      <td>«Байер» – «Монако»: прогноз Егора Титова на ма...</td>\n    </tr>\n    <tr>\n      <th>41</th>\n      <td>https://www.championat.com/bets/news-4999191-b...</td>\n      <td>«Барселона» — «МЮ»: по какому каналу покажут, ...</td>\n    </tr>\n    <tr>\n      <th>42</th>\n      <td>https://www.championat.com/bets/news-4999189-s...</td>\n      <td>«Шахтёр» – «Ренн»: прогноз Егора Титова на мат...</td>\n    </tr>\n    <tr>\n      <th>43</th>\n      <td>https://www.championat.com/bets/news-4999193-b...</td>\n      <td>«Барселона» — «МЮ»: ставка Эдуарда Мора на мат...</td>\n    </tr>\n    <tr>\n      <th>44</th>\n      <td>https://www.championat.com/bets/news-4999183-s...</td>\n      <td>«Спартак» — «Динамо»: трансляция, где смотреть...</td>\n    </tr>\n    <tr>\n      <th>45</th>\n      <td>https://www.championat.com/bets/news-4999145-s...</td>\n      <td>«Севилья» — ПСВ: ставка Эдуарда Мора на матч 1...</td>\n    </tr>\n    <tr>\n      <th>46</th>\n      <td>https://www.championat.com/bets/news-4999143-p...</td>\n      <td>Прогноз Павла Лысенкова на московское дерби в ...</td>\n    </tr>\n    <tr>\n      <th>47</th>\n      <td>https://www.championat.com/bets/news-4999141-y...</td>\n      <td>«Ювентус» — «Нант»: прогноз Егора Титова на ма...</td>\n    </tr>\n    <tr>\n      <th>48</th>\n      <td>https://www.championat.com/bets/news-4999147-v...</td>\n      <td>Василий Уткин сделал прогноз на матч «Барселон...</td>\n    </tr>\n    <tr>\n      <th>49</th>\n      <td>https://www.championat.com/bets/news-4999001-t...</td>\n      <td>«Трактор» — «Сочи»: по какому каналу покажут, ...</td>\n    </tr>\n  </tbody>\n</table>\n</div>"
     },
     "execution_count": 1,
     "metadata": {},
     "output_type": "execute_result"
    }
   ],
   "source": [
    "# загружаем необходимые модули и библиотеки\n",
    "import re\n",
    "import requests\n",
    "import pandas as pd\n",
    "from bs4 import BeautifulSoup\n",
    "from urllib.request import Request, urlopen\n",
    "\n",
    "#проверяем доступность сайта\n",
    "req = Request(\n",
    "    url='https://www.championat.com/news/bets/1.html',\n",
    "    headers={'User-Agent': 'Mozilla/5.0'}\n",
    ")\n",
    "website_url = urlopen(req).read()\n",
    "soup = BeautifulSoup(website_url, 'lxml')\n",
    "\n",
    "links = []\n",
    "news_link = soup.find_all('div', class_='news-item')\n",
    "for news in news_link:\n",
    "    links.append(\n",
    "        {\n",
    "            'link': 'https://www.championat.com' + news.find('a').get('href'),\n",
    "            'text': news.find('a').get_text()#.lower().replace('«', '').replace('»', '').replace('— ', '')\n",
    "        })\n",
    "df1 = pd.DataFrame(links)\n",
    "df1"
   ],
   "metadata": {
    "collapsed": false,
    "pycharm": {
     "name": "#%%\n"
    }
   }
  },
  {
   "cell_type": "code",
   "execution_count": 6,
   "outputs": [
    {
     "data": {
      "text/plain": "                                                 link  \\\n22  https://www.championat.com/bets/news-4997635-a...   \n37  https://www.championat.com/bets/news-4997555-a...   \n40  https://www.championat.com/bets/news-4997157-a...   \n\n                                                 text  \n22  «арсенал» — «манчестер сити»: прогноз павла по...  \n37  «арсенал» — «манчестер сити»: прогноз дениса к...  \n40  «арсенал» — «манчестер сити»: прогноз егора ти...  ",
      "text/html": "<div>\n<style scoped>\n    .dataframe tbody tr th:only-of-type {\n        vertical-align: middle;\n    }\n\n    .dataframe tbody tr th {\n        vertical-align: top;\n    }\n\n    .dataframe thead th {\n        text-align: right;\n    }\n</style>\n<table border=\"1\" class=\"dataframe\">\n  <thead>\n    <tr style=\"text-align: right;\">\n      <th></th>\n      <th>link</th>\n      <th>text</th>\n    </tr>\n  </thead>\n  <tbody>\n    <tr>\n      <th>22</th>\n      <td>https://www.championat.com/bets/news-4997635-a...</td>\n      <td>«арсенал» — «манчестер сити»: прогноз павла по...</td>\n    </tr>\n    <tr>\n      <th>37</th>\n      <td>https://www.championat.com/bets/news-4997555-a...</td>\n      <td>«арсенал» — «манчестер сити»: прогноз дениса к...</td>\n    </tr>\n    <tr>\n      <th>40</th>\n      <td>https://www.championat.com/bets/news-4997157-a...</td>\n      <td>«арсенал» — «манчестер сити»: прогноз егора ти...</td>\n    </tr>\n  </tbody>\n</table>\n</div>"
     },
     "execution_count": 6,
     "metadata": {},
     "output_type": "execute_result"
    }
   ],
   "source": [
    "df2 = pd.DataFrame()\n",
    "key_words = ['манчестер', 'арсенал', 'прогноз']\n",
    "key_words = [item.lower() for item in key_words]\n",
    "df1.text = [item.lower() for item in df1.text]\n",
    "for line in df1.text:\n",
    "    if all(word in line for word in key_words):\n",
    "        df0 = df1[df1.text.str.contains(line)]\n",
    "        df2 = pd.concat([df2, df0], axis= 0 )\n",
    "df2"
   ],
   "metadata": {
    "collapsed": false,
    "pycharm": {
     "name": "#%%\n"
    }
   }
  },
  {
   "cell_type": "code",
   "execution_count": 15,
   "outputs": [
    {
     "name": "stdout",
     "output_type": "stream",
     "text": [
      "Экс-футболист сборной России, чемпион России, обладатель Кубка УЕФА и Суперкубка Европы Павел Погребняк дал прогноз на матч 12-го тура АПЛ «Арсенал» — «Манчестер Сити».Ставка: победа «Арсенала» за 2.91.«Нас ждёт большая игра. Встречаются два лидера АПЛ как по игре, так и по количеству набранных очков. Все мы помним недавнее противостояние команд в Кубке Англии, где Артета не смог превзойти Гвардиолу. «Арсенал» не выигрывает три матча подряд, но команда Артеты поддерживает высокий темп и привычно доминирует на поле. «Сити» обладает сильнейшим составом в АПЛ, но на данном этапе играет не идеально. Рискну поставить на победу «Арсенала». Также рассмотрел бы ставку тотал больше 2.5», — сказал Погребняк. \n",
      "Известный комментатор Денис Казанский сделал прогноз на матч «Арсенал» — «Манчестер Сити».Ставка: гол Мареза за 4.20.«Первая серия двухматчевого противостояния «Арсенала» и «Манчестер Сити». Шансы равны. Интересно посмотреть, каким будет характер этой встречи. «Арсенал» любит держать мяч, а у «Сити» это в крови. Поэтому будет достаточно упорная игра.Немного настораживает и даёт больше шансов «Сити» тот факт, что «Арсенал» провёл два плохих матча: ничья с «Брентфордом» и поражение от «Эвертона». А «Сити» набирает и понимает, что это ключевой момент в чемпионской гонке. Пока под большим вопросом участие в игре Эрлинга Холанда. Если он не выйдет, то на поле появится Марез. Рияд очень здорово играет против «Арсенала» и сочиняет голы. Не думаю, что голов будет много, но они будут. Поставлю на гол Рияда Мареза, он в ударе», — сказал Казанский. \n",
      "Экс-капитан «Спартака» и сборной России по футболу Егор Титов сделал прогноз на матч «Арсенал» — «Манчестер Сити» в 12-м туре АПЛ сезона-2022/2023.Ставка: «Манчестер Сити» не проиграет и ТБ 1.5 за 1.70.«Эту встречу, конечно, все давно ждали. Первый круг уже прошёл, а «Арсенал» и «Манчестер Сити», два главных претендента на чемпионство, так и не встретились. Да, команды играли в Кубке Англии, и там «горожане» победили с минимальным счётом – 1:0, но это всё-таки не то. Там и составы не были до конца оптимальными. Сейчас будет настоящая битва. Интереса противостоянию добавили результаты последнего тура: «Арсенал» потерял очки, а «Сити» дома победил «Астон Виллу». Лондонцы в двух турах подряд не сумели победить. Возможно, как раз сейчас у них начался небольшой спад, которого многие скептики ждали. Но именно встреча с командой Гвардиолы даст ответ, так ли это на самом деле. Сейчас не будет никаких проблем с мотивацией, все понимают важность матча. В кубковой игре по содержанию «Арсенал» не был хуже, просто немного не сложилось. Думаю, и сейчас будет равное противостояние, ни у кого не будет большого преимущества по владению. Но, на мой взгляд, у «Сити» шансов больше. Команда опытнее, исполнители в целом мастеровитее. Это должно сказаться в таком лобовом столкновении. Проиграть «Манчестер» не должен, как мне кажется. Но выберу осторожный вариант – «Сити» не проиграет и тотал больше 1,5 мяча. Допускаю ничью 1:1. Но команда Гвардиолы вполне может реализовать своё преимущество в классе и выиграть – 2:0, 2:1, тем более что «Арсенал» не очень убедительно провёл последние туры», — сказал Титов. \n"
     ]
    }
   ],
   "source": [
    "#проверяем доступность сайта\n",
    "news = ''\n",
    "text = ''\n",
    "for link in df2.link:\n",
    "    req = Request(\n",
    "        url=link,\n",
    "        headers={'User-Agent': 'Mozilla/5.0'}\n",
    "    )\n",
    "    website_url = urlopen(req).read()\n",
    "    soup = BeautifulSoup(website_url, 'lxml')\n",
    "\n",
    "    # Extract the title of the article\n",
    "    title = soup.find(\"div\", class_=\"article-head__title\").text.strip() + \". \"\n",
    "\n",
    "    # Extract the text of the article\n",
    "    article_body = soup.find(\"div\", class_=\"article-content js-content-banners-wrapper js-copyright-content js-loyalty-article-content\")\n",
    "\n",
    "    # Check the last p tags for the presence of a tags\n",
    "    for p in article_body.find_all(\"b\")[-5:]:\n",
    "        if p.find(\"a\"):\n",
    "            p.extract()\n",
    "    #\n",
    "    #     # Concatenate the text content of the remaining p tags\n",
    "    #     for p in article_body.find_all(\"p\"):\n",
    "    #         article_text += p.text.strip() + \" \"\n",
    "    #         text = title + article_text\n",
    "    #     text += '\\n'\n",
    "    # # for item in text.split('\\n'):\n",
    "    # #     if len(item.split(' ')) > 10:\n",
    "    # #         print (item)\n",
    "    #     print(text)\n",
    "\n",
    "\n",
    "    for td in article_body.find_all('p', class_=None):\n",
    "        news += str(td.text) + ' '\n",
    "    news += '\\n'\n",
    "for item in news.split('\\n'):\n",
    "    if len(item.split(' ')) > 50:\n",
    "        print (item)"
   ],
   "metadata": {
    "collapsed": false,
    "pycharm": {
     "name": "#%%\n"
    }
   }
  },
  {
   "cell_type": "code",
   "execution_count": null,
   "outputs": [],
   "source": [],
   "metadata": {
    "collapsed": false,
    "pycharm": {
     "name": "#%%\n"
    }
   }
  }
 ],
 "metadata": {
  "kernelspec": {
   "display_name": "Python 3",
   "language": "python",
   "name": "python3"
  },
  "language_info": {
   "codemirror_mode": {
    "name": "ipython",
    "version": 2
   },
   "file_extension": ".py",
   "mimetype": "text/x-python",
   "name": "python",
   "nbconvert_exporter": "python",
   "pygments_lexer": "ipython2",
   "version": "2.7.6"
  }
 },
 "nbformat": 4,
 "nbformat_minor": 0
}