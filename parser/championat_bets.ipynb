{
 "cells": [
  {
   "cell_type": "code",
   "execution_count": 1,
   "outputs": [
    {
     "data": {
      "text/plain": "                                                 link  \\\n0   https://www.championat.com/bets/news-5002411-b...   \n1   https://www.championat.com/bets/news-5002409-m...   \n2   https://www.championat.com/bets/news-5002405-r...   \n3   https://www.championat.com/bets/news-5002385-a...   \n4   https://www.championat.com/bets/news-5002379-a...   \n5   https://www.championat.com/bets/news-5002373-a...   \n6   https://www.championat.com/bets/news-5002329-n...   \n7   https://www.championat.com/bets/news-5002327-n...   \n8   https://www.championat.com/bets/news-5002325-o...   \n9   https://www.championat.com/bets/news-5002323-d...   \n10  https://www.championat.com/bets/news-5002331-l...   \n11  https://www.championat.com/bets/news-5001611-o...   \n12  https://www.championat.com/bets/news-5001599-p...   \n13  https://www.championat.com/bets/news-5001597-o...   \n14  https://www.championat.com/bets/news-5001593-n...   \n15  https://www.championat.com/bets/news-5001591-i...   \n16  https://www.championat.com/bets/news-5001589-s...   \n17  https://www.championat.com/bets/news-5001595-n...   \n18  https://www.championat.com/bets/news-5001393-p...   \n19  https://www.championat.com/bets/news-5001533-n...   \n20  https://www.championat.com/bets/news-5001531-p...   \n21  https://www.championat.com/bets/news-5001537-c...   \n22  https://www.championat.com/bets/news-5001439-l...   \n23  https://www.championat.com/bets/news-5001437-b...   \n24  https://www.championat.com/bets/news-5001457-p...   \n25  https://www.championat.com/bets/news-5001435-r...   \n26  https://www.championat.com/bets/news-5001385-p...   \n27  https://www.championat.com/bets/news-5001433-a...   \n28  https://www.championat.com/bets/news-5001441-m...   \n29  https://www.championat.com/bets/news-5001413-c...   \n30  https://www.championat.com/bets/news-5001411-o...   \n31  https://www.championat.com/bets/news-5001415-s...   \n32  https://www.championat.com/bets/news-5001379-s...   \n33  https://www.championat.com/bets/news-5001373-p...   \n34  https://www.championat.com/bets/news-5001377-p...   \n35  https://www.championat.com/bets/news-5001375-s...   \n36  https://www.championat.com/bets/news-5001369-a...   \n37  https://www.championat.com/bets/news-5001305-m...   \n38  https://www.championat.com/bets/news-5001301-n...   \n39  https://www.championat.com/bets/news-5001309-a...   \n40  https://www.championat.com/bets/news-5001303-s...   \n41  https://www.championat.com/bets/news-5001287-b...   \n42  https://www.championat.com/bets/news-5001281-s...   \n43  https://www.championat.com/bets/news-5001265-a...   \n44  https://www.championat.com/bets/news-5001259-o...   \n45  https://www.championat.com/bets/news-5001255-b...   \n46  https://www.championat.com/bets/news-5001243-a...   \n47  https://www.championat.com/bets/news-5001215-a...   \n48  https://www.championat.com/bets/news-5001211-s...   \n49  https://www.championat.com/bets/news-5000303-s...   \n\n                                                 text  \n0   «Барселона» — «Кадис»: ставка Александра Мосто...  \n1   «МЮ» — «Лестер»: прогноз Егора Титова на матч АПЛ  \n2   «Райо Вальекано» – «Севилья»: прогноз Констант...  \n3   «Амур» — «Ак Барс»: где смотреть онлайн беспла...  \n4   «Атлетико» – «Атлетик»: прогноз Константина Ге...  \n5   «Амур» — «Ак Барс»: прогноз Максима Лебедева н...  \n6   «Ньюкасл» — «Ливерпуль»: результат матча, как ...  \n7   «Ноттингем Форест» — «Ман Сити»: результат мат...  \n8   «Осасуна» — «Реал»: результат матча, как сыгра...  \n9   «Динамо» Минск — «Торпедо»: результат матча, к...  \n10  «Локомотив» — ЦСКА: результат матча, как сыгра...  \n11  «Осасуна» — «Реал»: трансляция матча, где смот...  \n12  «Питтсбург» — «Нью-Джерси»: прогноз Павла Лысе...  \n13  «Осасуна» — «Реал»: ставка Егора Титова на мат...  \n14  «Ньюкасл» — «Ливерпуль»: где смотреть онлайн б...  \n15  «Интер» — «Удинезе»: прогноз Алексея Гасилина ...  \n16  «Сент-Луис» — «Колорадо»: прогноз Виталия Слав...  \n17  «Ньюкасл» — «Ливерпуль»: прогноз Егора Титова ...  \n18          Прогноз на матч Серии А «Монца» — «Милан»  \n19  «Ноттингем Форест» — «Ман Сити»: во сколько на...  \n20  Прогноз Александра Елагина на матч «Ньюкасл» —...  \n21  «Челси» — «Саутгемптон»: прогноз Егора Титова ...  \n22  «Локомотив» — ЦСКА: где смотреть онлайн беспла...  \n23  «Боруссия» М — «Бавария»: прогноз Егора Титова...  \n24  Прогноз Анатолия Емелина на матч КХЛ «Локомоти...  \n25  «Реал Сосьедад» — «Сельта»: прогноз Константин...  \n26  Прогноз на матч АПЛ «Ноттингем» — «Манчестер С...  \n27  «Астон Вилла» — «Арсенал»: ставка Романа Павлю...  \n28  «Металлург» — «Сочи»: трансляция матча, где см...  \n29  «Челси» — «Саутгемптон»: прогноз Тимура Жураве...  \n30  «Осасуна» — «Реал»: прогноз Константина Генича...  \n31  «Салават Юлаев» — «Сибирь»: прогноз Владимира ...  \n32  «Спартак» — «Северсталь»: по какому каналу пок...  \n33  Павел Погребняк сделал прогноз на матч «Астон ...  \n34  Прогноз на матч Бундеслиги «Боруссия» М — «Бав...  \n35  «Спартак» — «Северсталь»: прогноз Максима Лебе...  \n36  «Астон Вилла» — «Арсенал»: фрибет 2000 рублей ...  \n37  «Мальорка» — «Вильярреал»: прогноз Константина...  \n38  «Ньюкасл» — «Ливерпуль»: прогноз Романа Павлюч...  \n39  «Астон Вилла» — «Арсенал»: во сколько начало, ...  \n40  «Спартак» — «Северсталь»: прогноз Владимира Пл...  \n41  Букмекеры назвали количество ставок на победу ...  \n42  «Спартак» — «Северсталь»: прогноз Павла Лысенк...  \n43  «Амур» — «Ак Барс»: прямая трансляция матча, п...  \n44  «Осасуна» — «Реал» Мадрид: ставка Александра М...  \n45  «Бетис» — «Вальядолид»: прогноз Константина Ге...  \n46  «Амур» — «Ак Барс»: прогноз Максима Лебедева н...  \n47  «Авангард» — «Нефтехимик»: как сыграли, кто по...  \n48  «Сассуоло» — «Наполи»: результат матча, как сы...  \n49  «Сассуоло» — «Наполи»: где смотреть онлайн бес...  ",
      "text/html": "<div>\n<style scoped>\n    .dataframe tbody tr th:only-of-type {\n        vertical-align: middle;\n    }\n\n    .dataframe tbody tr th {\n        vertical-align: top;\n    }\n\n    .dataframe thead th {\n        text-align: right;\n    }\n</style>\n<table border=\"1\" class=\"dataframe\">\n  <thead>\n    <tr style=\"text-align: right;\">\n      <th></th>\n      <th>link</th>\n      <th>text</th>\n    </tr>\n  </thead>\n  <tbody>\n    <tr>\n      <th>0</th>\n      <td>https://www.championat.com/bets/news-5002411-b...</td>\n      <td>«Барселона» — «Кадис»: ставка Александра Мосто...</td>\n    </tr>\n    <tr>\n      <th>1</th>\n      <td>https://www.championat.com/bets/news-5002409-m...</td>\n      <td>«МЮ» — «Лестер»: прогноз Егора Титова на матч АПЛ</td>\n    </tr>\n    <tr>\n      <th>2</th>\n      <td>https://www.championat.com/bets/news-5002405-r...</td>\n      <td>«Райо Вальекано» – «Севилья»: прогноз Констант...</td>\n    </tr>\n    <tr>\n      <th>3</th>\n      <td>https://www.championat.com/bets/news-5002385-a...</td>\n      <td>«Амур» — «Ак Барс»: где смотреть онлайн беспла...</td>\n    </tr>\n    <tr>\n      <th>4</th>\n      <td>https://www.championat.com/bets/news-5002379-a...</td>\n      <td>«Атлетико» – «Атлетик»: прогноз Константина Ге...</td>\n    </tr>\n    <tr>\n      <th>5</th>\n      <td>https://www.championat.com/bets/news-5002373-a...</td>\n      <td>«Амур» — «Ак Барс»: прогноз Максима Лебедева н...</td>\n    </tr>\n    <tr>\n      <th>6</th>\n      <td>https://www.championat.com/bets/news-5002329-n...</td>\n      <td>«Ньюкасл» — «Ливерпуль»: результат матча, как ...</td>\n    </tr>\n    <tr>\n      <th>7</th>\n      <td>https://www.championat.com/bets/news-5002327-n...</td>\n      <td>«Ноттингем Форест» — «Ман Сити»: результат мат...</td>\n    </tr>\n    <tr>\n      <th>8</th>\n      <td>https://www.championat.com/bets/news-5002325-o...</td>\n      <td>«Осасуна» — «Реал»: результат матча, как сыгра...</td>\n    </tr>\n    <tr>\n      <th>9</th>\n      <td>https://www.championat.com/bets/news-5002323-d...</td>\n      <td>«Динамо» Минск — «Торпедо»: результат матча, к...</td>\n    </tr>\n    <tr>\n      <th>10</th>\n      <td>https://www.championat.com/bets/news-5002331-l...</td>\n      <td>«Локомотив» — ЦСКА: результат матча, как сыгра...</td>\n    </tr>\n    <tr>\n      <th>11</th>\n      <td>https://www.championat.com/bets/news-5001611-o...</td>\n      <td>«Осасуна» — «Реал»: трансляция матча, где смот...</td>\n    </tr>\n    <tr>\n      <th>12</th>\n      <td>https://www.championat.com/bets/news-5001599-p...</td>\n      <td>«Питтсбург» — «Нью-Джерси»: прогноз Павла Лысе...</td>\n    </tr>\n    <tr>\n      <th>13</th>\n      <td>https://www.championat.com/bets/news-5001597-o...</td>\n      <td>«Осасуна» — «Реал»: ставка Егора Титова на мат...</td>\n    </tr>\n    <tr>\n      <th>14</th>\n      <td>https://www.championat.com/bets/news-5001593-n...</td>\n      <td>«Ньюкасл» — «Ливерпуль»: где смотреть онлайн б...</td>\n    </tr>\n    <tr>\n      <th>15</th>\n      <td>https://www.championat.com/bets/news-5001591-i...</td>\n      <td>«Интер» — «Удинезе»: прогноз Алексея Гасилина ...</td>\n    </tr>\n    <tr>\n      <th>16</th>\n      <td>https://www.championat.com/bets/news-5001589-s...</td>\n      <td>«Сент-Луис» — «Колорадо»: прогноз Виталия Слав...</td>\n    </tr>\n    <tr>\n      <th>17</th>\n      <td>https://www.championat.com/bets/news-5001595-n...</td>\n      <td>«Ньюкасл» — «Ливерпуль»: прогноз Егора Титова ...</td>\n    </tr>\n    <tr>\n      <th>18</th>\n      <td>https://www.championat.com/bets/news-5001393-p...</td>\n      <td>Прогноз на матч Серии А «Монца» — «Милан»</td>\n    </tr>\n    <tr>\n      <th>19</th>\n      <td>https://www.championat.com/bets/news-5001533-n...</td>\n      <td>«Ноттингем Форест» — «Ман Сити»: во сколько на...</td>\n    </tr>\n    <tr>\n      <th>20</th>\n      <td>https://www.championat.com/bets/news-5001531-p...</td>\n      <td>Прогноз Александра Елагина на матч «Ньюкасл» —...</td>\n    </tr>\n    <tr>\n      <th>21</th>\n      <td>https://www.championat.com/bets/news-5001537-c...</td>\n      <td>«Челси» — «Саутгемптон»: прогноз Егора Титова ...</td>\n    </tr>\n    <tr>\n      <th>22</th>\n      <td>https://www.championat.com/bets/news-5001439-l...</td>\n      <td>«Локомотив» — ЦСКА: где смотреть онлайн беспла...</td>\n    </tr>\n    <tr>\n      <th>23</th>\n      <td>https://www.championat.com/bets/news-5001437-b...</td>\n      <td>«Боруссия» М — «Бавария»: прогноз Егора Титова...</td>\n    </tr>\n    <tr>\n      <th>24</th>\n      <td>https://www.championat.com/bets/news-5001457-p...</td>\n      <td>Прогноз Анатолия Емелина на матч КХЛ «Локомоти...</td>\n    </tr>\n    <tr>\n      <th>25</th>\n      <td>https://www.championat.com/bets/news-5001435-r...</td>\n      <td>«Реал Сосьедад» — «Сельта»: прогноз Константин...</td>\n    </tr>\n    <tr>\n      <th>26</th>\n      <td>https://www.championat.com/bets/news-5001385-p...</td>\n      <td>Прогноз на матч АПЛ «Ноттингем» — «Манчестер С...</td>\n    </tr>\n    <tr>\n      <th>27</th>\n      <td>https://www.championat.com/bets/news-5001433-a...</td>\n      <td>«Астон Вилла» — «Арсенал»: ставка Романа Павлю...</td>\n    </tr>\n    <tr>\n      <th>28</th>\n      <td>https://www.championat.com/bets/news-5001441-m...</td>\n      <td>«Металлург» — «Сочи»: трансляция матча, где см...</td>\n    </tr>\n    <tr>\n      <th>29</th>\n      <td>https://www.championat.com/bets/news-5001413-c...</td>\n      <td>«Челси» — «Саутгемптон»: прогноз Тимура Жураве...</td>\n    </tr>\n    <tr>\n      <th>30</th>\n      <td>https://www.championat.com/bets/news-5001411-o...</td>\n      <td>«Осасуна» — «Реал»: прогноз Константина Генича...</td>\n    </tr>\n    <tr>\n      <th>31</th>\n      <td>https://www.championat.com/bets/news-5001415-s...</td>\n      <td>«Салават Юлаев» — «Сибирь»: прогноз Владимира ...</td>\n    </tr>\n    <tr>\n      <th>32</th>\n      <td>https://www.championat.com/bets/news-5001379-s...</td>\n      <td>«Спартак» — «Северсталь»: по какому каналу пок...</td>\n    </tr>\n    <tr>\n      <th>33</th>\n      <td>https://www.championat.com/bets/news-5001373-p...</td>\n      <td>Павел Погребняк сделал прогноз на матч «Астон ...</td>\n    </tr>\n    <tr>\n      <th>34</th>\n      <td>https://www.championat.com/bets/news-5001377-p...</td>\n      <td>Прогноз на матч Бундеслиги «Боруссия» М — «Бав...</td>\n    </tr>\n    <tr>\n      <th>35</th>\n      <td>https://www.championat.com/bets/news-5001375-s...</td>\n      <td>«Спартак» — «Северсталь»: прогноз Максима Лебе...</td>\n    </tr>\n    <tr>\n      <th>36</th>\n      <td>https://www.championat.com/bets/news-5001369-a...</td>\n      <td>«Астон Вилла» — «Арсенал»: фрибет 2000 рублей ...</td>\n    </tr>\n    <tr>\n      <th>37</th>\n      <td>https://www.championat.com/bets/news-5001305-m...</td>\n      <td>«Мальорка» — «Вильярреал»: прогноз Константина...</td>\n    </tr>\n    <tr>\n      <th>38</th>\n      <td>https://www.championat.com/bets/news-5001301-n...</td>\n      <td>«Ньюкасл» — «Ливерпуль»: прогноз Романа Павлюч...</td>\n    </tr>\n    <tr>\n      <th>39</th>\n      <td>https://www.championat.com/bets/news-5001309-a...</td>\n      <td>«Астон Вилла» — «Арсенал»: во сколько начало, ...</td>\n    </tr>\n    <tr>\n      <th>40</th>\n      <td>https://www.championat.com/bets/news-5001303-s...</td>\n      <td>«Спартак» — «Северсталь»: прогноз Владимира Пл...</td>\n    </tr>\n    <tr>\n      <th>41</th>\n      <td>https://www.championat.com/bets/news-5001287-b...</td>\n      <td>Букмекеры назвали количество ставок на победу ...</td>\n    </tr>\n    <tr>\n      <th>42</th>\n      <td>https://www.championat.com/bets/news-5001281-s...</td>\n      <td>«Спартак» — «Северсталь»: прогноз Павла Лысенк...</td>\n    </tr>\n    <tr>\n      <th>43</th>\n      <td>https://www.championat.com/bets/news-5001265-a...</td>\n      <td>«Амур» — «Ак Барс»: прямая трансляция матча, п...</td>\n    </tr>\n    <tr>\n      <th>44</th>\n      <td>https://www.championat.com/bets/news-5001259-o...</td>\n      <td>«Осасуна» — «Реал» Мадрид: ставка Александра М...</td>\n    </tr>\n    <tr>\n      <th>45</th>\n      <td>https://www.championat.com/bets/news-5001255-b...</td>\n      <td>«Бетис» — «Вальядолид»: прогноз Константина Ге...</td>\n    </tr>\n    <tr>\n      <th>46</th>\n      <td>https://www.championat.com/bets/news-5001243-a...</td>\n      <td>«Амур» — «Ак Барс»: прогноз Максима Лебедева н...</td>\n    </tr>\n    <tr>\n      <th>47</th>\n      <td>https://www.championat.com/bets/news-5001215-a...</td>\n      <td>«Авангард» — «Нефтехимик»: как сыграли, кто по...</td>\n    </tr>\n    <tr>\n      <th>48</th>\n      <td>https://www.championat.com/bets/news-5001211-s...</td>\n      <td>«Сассуоло» — «Наполи»: результат матча, как сы...</td>\n    </tr>\n    <tr>\n      <th>49</th>\n      <td>https://www.championat.com/bets/news-5000303-s...</td>\n      <td>«Сассуоло» — «Наполи»: где смотреть онлайн бес...</td>\n    </tr>\n  </tbody>\n</table>\n</div>"
     },
     "execution_count": 1,
     "metadata": {},
     "output_type": "execute_result"
    }
   ],
   "source": [
    "# работает: переводит и пишет в файл\n",
    "\n",
    "# загружаем необходимые модули и библиотеки\n",
    "import re\n",
    "import requests\n",
    "import random\n",
    "import pandas as pd\n",
    "from bs4 import BeautifulSoup\n",
    "from urllib.request import Request, urlopen\n",
    "from deep_translator import GoogleTranslator\n",
    "\n",
    "#проверяем доступность сайта\n",
    "req = Request(\n",
    "    url='https://www.championat.com/news/bets/1.html',\n",
    "    headers={'User-Agent': 'Mozilla/5.0'}\n",
    ")\n",
    "website_url = urlopen(req).read()\n",
    "soup = BeautifulSoup(website_url, 'lxml')\n",
    "\n",
    "links = []\n",
    "news_link = soup.find_all('div', class_='news-item')\n",
    "for news in news_link:\n",
    "    links.append(\n",
    "        {\n",
    "            'link': 'https://www.championat.com' + news.find('a').get('href'),\n",
    "            'text': news.find('a').get_text()#.lower().replace('«', '').replace('»', '').replace('— ', '')\n",
    "        })\n",
    "df1 = pd.DataFrame(links)\n",
    "df1"
   ],
   "metadata": {
    "collapsed": false,
    "pycharm": {
     "name": "#%%\n"
    }
   }
  },
  {
   "cell_type": "code",
   "execution_count": 4,
   "outputs": [
    {
     "data": {
      "text/plain": "                                                link  \\\n0  https://www.championat.com/bets/news-5002411-b...   \n\n                                                text  \n0  «барселона» — «кадис»: ставка александра мосто...  ",
      "text/html": "<div>\n<style scoped>\n    .dataframe tbody tr th:only-of-type {\n        vertical-align: middle;\n    }\n\n    .dataframe tbody tr th {\n        vertical-align: top;\n    }\n\n    .dataframe thead th {\n        text-align: right;\n    }\n</style>\n<table border=\"1\" class=\"dataframe\">\n  <thead>\n    <tr style=\"text-align: right;\">\n      <th></th>\n      <th>link</th>\n      <th>text</th>\n    </tr>\n  </thead>\n  <tbody>\n    <tr>\n      <th>0</th>\n      <td>https://www.championat.com/bets/news-5002411-b...</td>\n      <td>«барселона» — «кадис»: ставка александра мосто...</td>\n    </tr>\n  </tbody>\n</table>\n</div>"
     },
     "execution_count": 4,
     "metadata": {},
     "output_type": "execute_result"
    }
   ],
   "source": [
    "df2 = pd.DataFrame()\n",
    "key_words = ['барселона', 'кадис']\n",
    "key_words = [item.lower() for item in key_words]\n",
    "df1.text = [item.lower() for item in df1.text]\n",
    "for line in df1.text:\n",
    "    if all(word in line for word in key_words):\n",
    "        df0 = df1[df1.text.str.contains(line)]\n",
    "        df2 = pd.concat([df2, df0], axis= 0 )\n",
    "df2"
   ],
   "metadata": {
    "collapsed": false,
    "pycharm": {
     "name": "#%%\n"
    }
   }
  },
  {
   "cell_type": "code",
   "execution_count": 47,
   "outputs": [],
   "source": [
    "#проверяем доступность сайта\n",
    "news = ''\n",
    "text = ''\n",
    "for link in sorted(df2.link,key=lambda _: random.random()):\n",
    "    if len(news) < 4000:\n",
    "        req = Request(\n",
    "            url=link,\n",
    "            headers={'User-Agent': 'Mozilla/5.0'}\n",
    "        )\n",
    "        website_url = urlopen(req).read()\n",
    "        soup = BeautifulSoup(website_url, 'lxml')\n",
    "\n",
    "        # Extract the title of the article\n",
    "        title = soup.find(\"div\", class_=\"article-head__title\").text.strip() + \". \"\n",
    "\n",
    "        # Extract the text of the article\n",
    "        article_body = soup.find(\"div\", class_=\"article-content js-content-banners-wrapper js-copyright-content js-loyalty-article-content\")\n",
    "\n",
    "        # Check the last p tags for the presence of a tags\n",
    "        for p in article_body.find_all(\"b\")[-5:]:\n",
    "            if p.find(\"a\"):\n",
    "                p.extract()\n",
    "        #\n",
    "        #     # Concatenate the text content of the remaining p tags\n",
    "        #     for p in article_body.find_all(\"p\"):\n",
    "        #         article_text += p.text.strip() + \" \"\n",
    "        #         text = title + article_text\n",
    "        #     text += '\\n'\n",
    "        # # for item in text.split('\\n'):\n",
    "        # #     if len(item.split(' ')) > 10:\n",
    "        # #         print (item)\n",
    "        #     print(text)\n",
    "\n",
    "\n",
    "        for td in article_body.find_all('p', class_=None):\n",
    "            news += str(td.text) + ' '\n",
    "        news += '\\n'\n",
    "# print (news)\n",
    "with open('C:/Users/vitalii/IdeaProjects/settings/vilomov/gpt_rewrite_in.txt', 'w') as file:\n",
    "    for item in news.split('\\n'):\n",
    "        translated = GoogleTranslator(source='ru', target='en').translate(item)\n",
    "        file.write(translated + '\\n')"
   ],
   "metadata": {
    "collapsed": false,
    "pycharm": {
     "name": "#%%\n"
    }
   }
  },
  {
   "cell_type": "code",
   "execution_count": null,
   "outputs": [],
   "source": [],
   "metadata": {
    "collapsed": false,
    "pycharm": {
     "name": "#%%\n"
    }
   }
  }
 ],
 "metadata": {
  "kernelspec": {
   "display_name": "Python 3",
   "language": "python",
   "name": "python3"
  },
  "language_info": {
   "codemirror_mode": {
    "name": "ipython",
    "version": 2
   },
   "file_extension": ".py",
   "mimetype": "text/x-python",
   "name": "python",
   "nbconvert_exporter": "python",
   "pygments_lexer": "ipython2",
   "version": "2.7.6"
  }
 },
 "nbformat": 4,
 "nbformat_minor": 0
}