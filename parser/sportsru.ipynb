{
 "cells": [
  {
   "cell_type": "code",
   "execution_count": 9,
   "outputs": [
    {
     "data": {
      "text/plain": "                                                 link  \\\n0   https://www.sports.ru/hockey/1114903407-makkin...   \n1   https://www.sports.ru/basketball/1114903448-mi...   \n2   https://www.sports.ru/football/1114903251-arsh...   \n3   https://www.sports.ru/football/1114903436-bars...   \n4   https://www.sports.ru/football/1114903235-agen...   \n..                                                ...   \n95  https://www.sports.ru/automoto/1114902777-mari...   \n96  https://www.sports.ruhttps://redirect.appmetri...   \n97  https://www.sports.ru/hockey/1114902749-tarase...   \n98  https://www.sports.ru/tennis/1114902785-sobole...   \n99  https://www.sports.ru/biathlon/1114902771-svet...   \n\n                                                 text  \n0   Маккиннон забил 48-й победный гол в карьере и ...  \n1   «Милан» вылетел из Кубка Италии, проиграв в 1/...  \n2   Аршавин о матче с «Волгой» в Ульяновске: «Поня...  \n3   «Барса» заплатила вице-президенту испанского с...  \n4   Агент Атсу сообщил, что удалось найти обувь иг...  \n..                                                ...  \n95  Марио Андретти ответил Доменикали: «Если други...  \n96  «Барса» против «МЮ» – вывеска, достойная финал...  \n97  Тарасенко против «Ванкувера»: передача, «плюс ...  \n98  Соболенко и Фриц, Швентек и Хуркач, Саккари и ...  \n99  Светлана Миронова: «Первая гонка почти за год ...  \n\n[100 rows x 2 columns]",
      "text/html": "<div>\n<style scoped>\n    .dataframe tbody tr th:only-of-type {\n        vertical-align: middle;\n    }\n\n    .dataframe tbody tr th {\n        vertical-align: top;\n    }\n\n    .dataframe thead th {\n        text-align: right;\n    }\n</style>\n<table border=\"1\" class=\"dataframe\">\n  <thead>\n    <tr style=\"text-align: right;\">\n      <th></th>\n      <th>link</th>\n      <th>text</th>\n    </tr>\n  </thead>\n  <tbody>\n    <tr>\n      <th>0</th>\n      <td>https://www.sports.ru/hockey/1114903407-makkin...</td>\n      <td>Маккиннон забил 48-й победный гол в карьере и ...</td>\n    </tr>\n    <tr>\n      <th>1</th>\n      <td>https://www.sports.ru/basketball/1114903448-mi...</td>\n      <td>«Милан» вылетел из Кубка Италии, проиграв в 1/...</td>\n    </tr>\n    <tr>\n      <th>2</th>\n      <td>https://www.sports.ru/football/1114903251-arsh...</td>\n      <td>Аршавин о матче с «Волгой» в Ульяновске: «Поня...</td>\n    </tr>\n    <tr>\n      <th>3</th>\n      <td>https://www.sports.ru/football/1114903436-bars...</td>\n      <td>«Барса» заплатила вице-президенту испанского с...</td>\n    </tr>\n    <tr>\n      <th>4</th>\n      <td>https://www.sports.ru/football/1114903235-agen...</td>\n      <td>Агент Атсу сообщил, что удалось найти обувь иг...</td>\n    </tr>\n    <tr>\n      <th>...</th>\n      <td>...</td>\n      <td>...</td>\n    </tr>\n    <tr>\n      <th>95</th>\n      <td>https://www.sports.ru/automoto/1114902777-mari...</td>\n      <td>Марио Андретти ответил Доменикали: «Если други...</td>\n    </tr>\n    <tr>\n      <th>96</th>\n      <td>https://www.sports.ruhttps://redirect.appmetri...</td>\n      <td>«Барса» против «МЮ» – вывеска, достойная финал...</td>\n    </tr>\n    <tr>\n      <th>97</th>\n      <td>https://www.sports.ru/hockey/1114902749-tarase...</td>\n      <td>Тарасенко против «Ванкувера»: передача, «плюс ...</td>\n    </tr>\n    <tr>\n      <th>98</th>\n      <td>https://www.sports.ru/tennis/1114902785-sobole...</td>\n      <td>Соболенко и Фриц, Швентек и Хуркач, Саккари и ...</td>\n    </tr>\n    <tr>\n      <th>99</th>\n      <td>https://www.sports.ru/biathlon/1114902771-svet...</td>\n      <td>Светлана Миронова: «Первая гонка почти за год ...</td>\n    </tr>\n  </tbody>\n</table>\n<p>100 rows × 2 columns</p>\n</div>"
     },
     "execution_count": 9,
     "metadata": {},
     "output_type": "execute_result"
    }
   ],
   "source": [
    "# загружаем необходимые модули и библиотеки\n",
    "import re\n",
    "import requests\n",
    "import pandas as pd\n",
    "from bs4 import BeautifulSoup\n",
    "from urllib.request import Request, urlopen\n",
    "\n",
    "#проверяем доступность сайта\n",
    "req = Request(\n",
    "    url='https://www.sports.ru/news/',\n",
    "    headers={'User-Agent': 'Mozilla/5.0'}\n",
    ")\n",
    "website_url = urlopen(req).read()\n",
    "soup = BeautifulSoup(website_url, 'lxml')\n",
    "\n",
    "links = []\n",
    "news_link = soup.find_all('a', class_='short-text')\n",
    "\n",
    "for news in news_link[:100]:\n",
    "    links.append(\n",
    "        {\n",
    "            'link': 'https://www.sports.ru' + news.get('href'),\n",
    "            'text': news.get_text()#.lower().replace('«', '').replace('»', '').replace('— ', '')\n",
    "        })\n",
    "df1 = pd.DataFrame(links)\n",
    "df1"
   ],
   "metadata": {
    "collapsed": false,
    "pycharm": {
     "name": "#%%\n"
    }
   }
  },
  {
   "cell_type": "code",
   "execution_count": 19,
   "outputs": [
    {
     "data": {
      "text/plain": "                                                 link  \\\n15  https://www.sports.ru/basketball/1114903341-ni...   \n52  https://www.sports.ru/basketball/1114903084-un...   \n\n                                                 text  \n15  никола йокич оформил трипл-дабл в победном мат...  \n52  уникс набрал 112 очков в победном матче с цска...  ",
      "text/html": "<div>\n<style scoped>\n    .dataframe tbody tr th:only-of-type {\n        vertical-align: middle;\n    }\n\n    .dataframe tbody tr th {\n        vertical-align: top;\n    }\n\n    .dataframe thead th {\n        text-align: right;\n    }\n</style>\n<table border=\"1\" class=\"dataframe\">\n  <thead>\n    <tr style=\"text-align: right;\">\n      <th></th>\n      <th>link</th>\n      <th>text</th>\n    </tr>\n  </thead>\n  <tbody>\n    <tr>\n      <th>15</th>\n      <td>https://www.sports.ru/basketball/1114903341-ni...</td>\n      <td>никола йокич оформил трипл-дабл в победном мат...</td>\n    </tr>\n    <tr>\n      <th>52</th>\n      <td>https://www.sports.ru/basketball/1114903084-un...</td>\n      <td>уникс набрал 112 очков в победном матче с цска...</td>\n    </tr>\n  </tbody>\n</table>\n</div>"
     },
     "execution_count": 19,
     "metadata": {},
     "output_type": "execute_result"
    }
   ],
   "source": [
    "df2 = pd.DataFrame()\n",
    "key_words = ['побед', 'матч']\n",
    "key_words = [item.lower() for item in key_words]\n",
    "df1.text = [item.lower() for item in df1.text]\n",
    "for line in df1.text:\n",
    "    if all(word in line for word in key_words):\n",
    "        df0 = df1[df1.text.str.contains(line)]\n",
    "        df2 = pd.concat([df2, df0], axis= 0 )\n",
    "df2"
   ],
   "metadata": {
    "collapsed": false,
    "pycharm": {
     "name": "#%%\n"
    }
   }
  },
  {
   "cell_type": "code",
   "execution_count": null,
   "outputs": [],
   "source": [
    "#проверяем доступность сайта\n",
    "news = ''\n",
    "text = ''\n",
    "for link in df2.link:\n",
    "    req = Request(\n",
    "        url=link,\n",
    "        headers={'User-Agent': 'Mozilla/5.0'}\n",
    "    )\n",
    "    website_url = urlopen(req).read()\n",
    "    soup = BeautifulSoup(website_url, 'lxml')\n",
    "\n",
    "    # Extract the title of the article\n",
    "    title = soup.find(\"h1\", itemprop=\"headline name\").text.strip() + \". \"\n",
    "\n",
    "    # Extract the text of the article\n",
    "    article_body = soup.find(\"div\", class_=\"article__content js-mediator-article\")\n",
    "\n",
    "    # Check the last p tags for the presence of a tags\n",
    "    for p in article_body.find_all(\"p\")[-3:]:\n",
    "        if p.find(\"i\"):\n",
    "            p.extract()\n",
    "    #\n",
    "    #     # Concatenate the text content of the remaining p tags\n",
    "    #     for p in article_body.find_all(\"p\"):\n",
    "    #         article_text += p.text.strip() + \" \"\n",
    "    #         text = title + article_text\n",
    "    #     text += '\\n'\n",
    "    # # for item in text.split('\\n'):\n",
    "    # #     if len(item.split(' ')) > 10:\n",
    "    # #         print (item)\n",
    "    #     print(text)\n",
    "\n",
    "\n",
    "    for td in article_body.find_all('p', class_=None):\n",
    "        news += str(td.text) + ' '\n",
    "    news += '\\n'\n",
    "for item in news.split('\\n'):\n",
    "    if len(item.split(' ')) > 100:\n",
    "        print (item)"
   ],
   "metadata": {
    "collapsed": false,
    "pycharm": {
     "name": "#%%\n"
    }
   }
  }
 ],
 "metadata": {
  "kernelspec": {
   "display_name": "Python 3",
   "language": "python",
   "name": "python3"
  },
  "language_info": {
   "codemirror_mode": {
    "name": "ipython",
    "version": 2
   },
   "file_extension": ".py",
   "mimetype": "text/x-python",
   "name": "python",
   "nbconvert_exporter": "python",
   "pygments_lexer": "ipython2",
   "version": "2.7.6"
  }
 },
 "nbformat": 4,
 "nbformat_minor": 0
}