{
 "cells": [
  {
   "cell_type": "code",
   "execution_count": 8,
   "outputs": [
    {
     "data": {
      "text/plain": "                                                 link  \\\n0   https://www.sports.ru/basketball/1114911255-lu...   \n1   https://www.sports.ru/football/1114911254-idi-...   \n2   https://www.sports.ru/boxing/1114911053-vicze-...   \n3   https://www.sports.ru/hockey/1114911244-czska-...   \n4   https://www.sports.ru/automoto/1114911226-maks...   \n..                                                ...   \n95  https://www.sports.ru/volleyball/1114907825-ch...   \n96  https://www.sports.ru/volleyball/1114907848-ch...   \n97  https://www.sports.ru/figure-skating/110926391...   \n98  https://www.sports.ru/figure-skating/111052761...   \n99  https://www.sports.ru/hockey/1114910701-andrej...   \n\n                                                 text  \n0   Лука Дончич – о звании величайшего среди европ...  \n1   «Иди и трахни себя, сукин сын». Винисиус – суд...  \n2   Вице-президент UFC – про ситуацию с Махачевым:...  \n3   ЦСКА опроверг интерес к Аликину: «Переговоры н...  \n4   Макс Ферстаппен: «Не особо задумываюсь о своем...  \n..                                                ...  \n95  Чемпионат России. 24-й тур. «Нефтяник» уступил...  \n96  Чемпионат России (жен). 20-й тур. Московское «...  \n97  Календарь российских турниров по фигурному кат...  \n98  Календарь соревнований по фигурному катанию се...  \n99  Андрей Свечников не забил в 19-м матче подряд....  \n\n[100 rows x 2 columns]",
      "text/html": "<div>\n<style scoped>\n    .dataframe tbody tr th:only-of-type {\n        vertical-align: middle;\n    }\n\n    .dataframe tbody tr th {\n        vertical-align: top;\n    }\n\n    .dataframe thead th {\n        text-align: right;\n    }\n</style>\n<table border=\"1\" class=\"dataframe\">\n  <thead>\n    <tr style=\"text-align: right;\">\n      <th></th>\n      <th>link</th>\n      <th>text</th>\n    </tr>\n  </thead>\n  <tbody>\n    <tr>\n      <th>0</th>\n      <td>https://www.sports.ru/basketball/1114911255-lu...</td>\n      <td>Лука Дончич – о звании величайшего среди европ...</td>\n    </tr>\n    <tr>\n      <th>1</th>\n      <td>https://www.sports.ru/football/1114911254-idi-...</td>\n      <td>«Иди и трахни себя, сукин сын». Винисиус – суд...</td>\n    </tr>\n    <tr>\n      <th>2</th>\n      <td>https://www.sports.ru/boxing/1114911053-vicze-...</td>\n      <td>Вице-президент UFC – про ситуацию с Махачевым:...</td>\n    </tr>\n    <tr>\n      <th>3</th>\n      <td>https://www.sports.ru/hockey/1114911244-czska-...</td>\n      <td>ЦСКА опроверг интерес к Аликину: «Переговоры н...</td>\n    </tr>\n    <tr>\n      <th>4</th>\n      <td>https://www.sports.ru/automoto/1114911226-maks...</td>\n      <td>Макс Ферстаппен: «Не особо задумываюсь о своем...</td>\n    </tr>\n    <tr>\n      <th>...</th>\n      <td>...</td>\n      <td>...</td>\n    </tr>\n    <tr>\n      <th>95</th>\n      <td>https://www.sports.ru/volleyball/1114907825-ch...</td>\n      <td>Чемпионат России. 24-й тур. «Нефтяник» уступил...</td>\n    </tr>\n    <tr>\n      <th>96</th>\n      <td>https://www.sports.ru/volleyball/1114907848-ch...</td>\n      <td>Чемпионат России (жен). 20-й тур. Московское «...</td>\n    </tr>\n    <tr>\n      <th>97</th>\n      <td>https://www.sports.ru/figure-skating/110926391...</td>\n      <td>Календарь российских турниров по фигурному кат...</td>\n    </tr>\n    <tr>\n      <th>98</th>\n      <td>https://www.sports.ru/figure-skating/111052761...</td>\n      <td>Календарь соревнований по фигурному катанию се...</td>\n    </tr>\n    <tr>\n      <th>99</th>\n      <td>https://www.sports.ru/hockey/1114910701-andrej...</td>\n      <td>Андрей Свечников не забил в 19-м матче подряд....</td>\n    </tr>\n  </tbody>\n</table>\n<p>100 rows × 2 columns</p>\n</div>"
     },
     "execution_count": 8,
     "metadata": {},
     "output_type": "execute_result"
    }
   ],
   "source": [
    "# загружаем необходимые модули и библиотеки\n",
    "import re\n",
    "import requests\n",
    "import pandas as pd\n",
    "from bs4 import BeautifulSoup\n",
    "from urllib.request import Request, urlopen\n",
    "\n",
    "#проверяем доступность сайта\n",
    "req = Request(\n",
    "    url='https://www.sports.ru/news/',\n",
    "    headers={'User-Agent': 'Mozilla/5.0'}\n",
    ")\n",
    "website_url = urlopen(req).read()\n",
    "soup = BeautifulSoup(website_url, 'lxml')\n",
    "\n",
    "links = []\n",
    "news_link = soup.find_all('a', class_='short-text')\n",
    "\n",
    "for news in news_link[:100]:\n",
    "    links.append(\n",
    "        {\n",
    "            'link': 'https://www.sports.ru' + news.get('href'),\n",
    "            'text': news.get_text()#.lower().replace('«', '').replace('»', '').replace('— ', '')\n",
    "        })\n",
    "df1 = pd.DataFrame(links)\n",
    "df1"
   ],
   "metadata": {
    "collapsed": false,
    "pycharm": {
     "name": "#%%\n"
    }
   }
  },
  {
   "cell_type": "code",
   "execution_count": 10,
   "outputs": [
    {
     "data": {
      "text/plain": "                                                 link  \\\n44  https://www.sports.ru/football/1114910774-manc...   \n52  https://www.sports.ru/football/1114908122-chem...   \n\n                                                 text  \n44  «манчестер юнайтед» – «лестер». онлайн-трансля...  \n52  чемпионат англии. «манчестер юнайтед» примет «...  ",
      "text/html": "<div>\n<style scoped>\n    .dataframe tbody tr th:only-of-type {\n        vertical-align: middle;\n    }\n\n    .dataframe tbody tr th {\n        vertical-align: top;\n    }\n\n    .dataframe thead th {\n        text-align: right;\n    }\n</style>\n<table border=\"1\" class=\"dataframe\">\n  <thead>\n    <tr style=\"text-align: right;\">\n      <th></th>\n      <th>link</th>\n      <th>text</th>\n    </tr>\n  </thead>\n  <tbody>\n    <tr>\n      <th>44</th>\n      <td>https://www.sports.ru/football/1114910774-manc...</td>\n      <td>«манчестер юнайтед» – «лестер». онлайн-трансля...</td>\n    </tr>\n    <tr>\n      <th>52</th>\n      <td>https://www.sports.ru/football/1114908122-chem...</td>\n      <td>чемпионат англии. «манчестер юнайтед» примет «...</td>\n    </tr>\n  </tbody>\n</table>\n</div>"
     },
     "execution_count": 10,
     "metadata": {},
     "output_type": "execute_result"
    }
   ],
   "source": [
    "df2 = pd.DataFrame()\n",
    "key_words = ['Манчестер', 'Лестер']\n",
    "key_words = [item.lower() for item in key_words]\n",
    "df1.text = [item.lower() for item in df1.text]\n",
    "for line in df1.text:\n",
    "    if all(word in line for word in key_words):\n",
    "        df0 = df1[df1.text.str.contains(line)]\n",
    "        df2 = pd.concat([df2, df0], axis= 0 )\n",
    "df2"
   ],
   "metadata": {
    "collapsed": false,
    "pycharm": {
     "name": "#%%\n"
    }
   }
  },
  {
   "cell_type": "code",
   "execution_count": 11,
   "outputs": [
    {
     "ename": "AttributeError",
     "evalue": "'NoneType' object has no attribute 'find_all'",
     "output_type": "error",
     "traceback": [
      "\u001B[1;31m---------------------------------------------------------------------------\u001B[0m",
      "\u001B[1;31mAttributeError\u001B[0m                            Traceback (most recent call last)",
      "Input \u001B[1;32mIn [11]\u001B[0m, in \u001B[0;36m<cell line: 4>\u001B[1;34m()\u001B[0m\n\u001B[0;32m     16\u001B[0m article_body \u001B[38;5;241m=\u001B[39m soup\u001B[38;5;241m.\u001B[39mfind(\u001B[38;5;124m\"\u001B[39m\u001B[38;5;124mdiv\u001B[39m\u001B[38;5;124m\"\u001B[39m, class_\u001B[38;5;241m=\u001B[39m\u001B[38;5;124m\"\u001B[39m\u001B[38;5;124marticle__content js-mediator-article\u001B[39m\u001B[38;5;124m\"\u001B[39m)\n\u001B[0;32m     18\u001B[0m \u001B[38;5;66;03m# Check the last p tags for the presence of a tags\u001B[39;00m\n\u001B[1;32m---> 19\u001B[0m \u001B[38;5;28;01mfor\u001B[39;00m p \u001B[38;5;129;01min\u001B[39;00m \u001B[43marticle_body\u001B[49m\u001B[38;5;241;43m.\u001B[39;49m\u001B[43mfind_all\u001B[49m(\u001B[38;5;124m\"\u001B[39m\u001B[38;5;124mp\u001B[39m\u001B[38;5;124m\"\u001B[39m)[\u001B[38;5;241m-\u001B[39m\u001B[38;5;241m3\u001B[39m:]:\n\u001B[0;32m     20\u001B[0m     \u001B[38;5;28;01mif\u001B[39;00m p\u001B[38;5;241m.\u001B[39mfind(\u001B[38;5;124m\"\u001B[39m\u001B[38;5;124mi\u001B[39m\u001B[38;5;124m\"\u001B[39m):\n\u001B[0;32m     21\u001B[0m         p\u001B[38;5;241m.\u001B[39mextract()\n",
      "\u001B[1;31mAttributeError\u001B[0m: 'NoneType' object has no attribute 'find_all'"
     ]
    }
   ],
   "source": [
    "#проверяем доступность сайта\n",
    "news = ''\n",
    "text = ''\n",
    "for link in df2.link:\n",
    "    req = Request(\n",
    "        url=link,\n",
    "        headers={'User-Agent': 'Mozilla/5.0'}\n",
    "    )\n",
    "    website_url = urlopen(req).read()\n",
    "    soup = BeautifulSoup(website_url, 'lxml')\n",
    "\n",
    "    # Extract the title of the article\n",
    "    # title = soup.find(\"h1\", itemprop=\"headline name\").text.strip() + \". \"\n",
    "\n",
    "    # Extract the text of the article\n",
    "    article_body = soup.find(\"div\", class_=\"article__content js-mediator-article\")\n",
    "\n",
    "    # Check the last p tags for the presence of a tags\n",
    "    for p in article_body.find_all(\"p\")[-3:]:\n",
    "        if p.find(\"i\"):\n",
    "            p.extract()\n",
    "    #\n",
    "    #     # Concatenate the text content of the remaining p tags\n",
    "    #     for p in article_body.find_all(\"p\"):\n",
    "    #         article_text += p.text.strip() + \" \"\n",
    "    #         text = title + article_text\n",
    "    #     text += '\\n'\n",
    "    # # for item in text.split('\\n'):\n",
    "    # #     if len(item.split(' ')) > 10:\n",
    "    # #         print (item)\n",
    "    #     print(text)\n",
    "\n",
    "\n",
    "    for td in article_body.find_all('p', class_=None):\n",
    "        news += str(td.text) + ' '\n",
    "    news += '\\n'\n",
    "for item in news.split('\\n'):\n",
    "    if len(item.split(' ')) > 100:\n",
    "        print (item)"
   ],
   "metadata": {
    "collapsed": false,
    "pycharm": {
     "name": "#%%\n"
    }
   }
  },
  {
   "cell_type": "code",
   "execution_count": null,
   "outputs": [],
   "source": [],
   "metadata": {
    "collapsed": false,
    "pycharm": {
     "name": "#%%\n"
    }
   }
  }
 ],
 "metadata": {
  "kernelspec": {
   "display_name": "Python 3",
   "language": "python",
   "name": "python3"
  },
  "language_info": {
   "codemirror_mode": {
    "name": "ipython",
    "version": 2
   },
   "file_extension": ".py",
   "mimetype": "text/x-python",
   "name": "python",
   "nbconvert_exporter": "python",
   "pygments_lexer": "ipython2",
   "version": "2.7.6"
  }
 },
 "nbformat": 4,
 "nbformat_minor": 0
}