{
 "cells": [
  {
   "cell_type": "code",
   "execution_count": 1,
   "outputs": [
    {
     "data": {
      "text/plain": "                                                 link  \\\n0   https://stavkiprognozy.ru/prognozy/tennis/turn...   \n1   https://stavkiprognozy.ru/prognozy/tennis/turn...   \n2   https://stavkiprognozy.ru/prognozy/tennis/turn...   \n3   https://stavkiprognozy.ru/prognozy/tennis/turn...   \n4   https://stavkiprognozy.ru/prognozy/tennis/turn...   \n..                                                ...   \n75  https://stavkiprognozy.ru/prognozy/tennis/turn...   \n76  https://stavkiprognozy.ru/prognozy/tennis/turn...   \n77  https://stavkiprognozy.ru/prognozy/tennis/turn...   \n78  https://stavkiprognozy.ru/prognozy/tennis/turn...   \n79  https://stavkiprognozy.ru/prognozy/tennis/turn...   \n\n                                text  \n0                   Бергс - Вавринка  \n1                     Дьере - Баньис  \n2                    Тим - Монтейро   \n3                    Мусетти - Харри  \n4           Баутиста-Агут  - Фучович  \n..                               ...  \n75                 Фокина - Лестьенн  \n76  Бенджамин Бонци - Лука Ван Ассше  \n77               Бублик - Крайинович  \n78                   Сонего - Маррей  \n79     Вердаско - Кристофер О'Коннел  \n\n[80 rows x 2 columns]",
      "text/html": "<div>\n<style scoped>\n    .dataframe tbody tr th:only-of-type {\n        vertical-align: middle;\n    }\n\n    .dataframe tbody tr th {\n        vertical-align: top;\n    }\n\n    .dataframe thead th {\n        text-align: right;\n    }\n</style>\n<table border=\"1\" class=\"dataframe\">\n  <thead>\n    <tr style=\"text-align: right;\">\n      <th></th>\n      <th>link</th>\n      <th>text</th>\n    </tr>\n  </thead>\n  <tbody>\n    <tr>\n      <th>0</th>\n      <td>https://stavkiprognozy.ru/prognozy/tennis/turn...</td>\n      <td>Бергс - Вавринка</td>\n    </tr>\n    <tr>\n      <th>1</th>\n      <td>https://stavkiprognozy.ru/prognozy/tennis/turn...</td>\n      <td>Дьере - Баньис</td>\n    </tr>\n    <tr>\n      <th>2</th>\n      <td>https://stavkiprognozy.ru/prognozy/tennis/turn...</td>\n      <td>Тим - Монтейро</td>\n    </tr>\n    <tr>\n      <th>3</th>\n      <td>https://stavkiprognozy.ru/prognozy/tennis/turn...</td>\n      <td>Мусетти - Харри</td>\n    </tr>\n    <tr>\n      <th>4</th>\n      <td>https://stavkiprognozy.ru/prognozy/tennis/turn...</td>\n      <td>Баутиста-Агут  - Фучович</td>\n    </tr>\n    <tr>\n      <th>...</th>\n      <td>...</td>\n      <td>...</td>\n    </tr>\n    <tr>\n      <th>75</th>\n      <td>https://stavkiprognozy.ru/prognozy/tennis/turn...</td>\n      <td>Фокина - Лестьенн</td>\n    </tr>\n    <tr>\n      <th>76</th>\n      <td>https://stavkiprognozy.ru/prognozy/tennis/turn...</td>\n      <td>Бенджамин Бонци - Лука Ван Ассше</td>\n    </tr>\n    <tr>\n      <th>77</th>\n      <td>https://stavkiprognozy.ru/prognozy/tennis/turn...</td>\n      <td>Бублик - Крайинович</td>\n    </tr>\n    <tr>\n      <th>78</th>\n      <td>https://stavkiprognozy.ru/prognozy/tennis/turn...</td>\n      <td>Сонего - Маррей</td>\n    </tr>\n    <tr>\n      <th>79</th>\n      <td>https://stavkiprognozy.ru/prognozy/tennis/turn...</td>\n      <td>Вердаско - Кристофер О'Коннел</td>\n    </tr>\n  </tbody>\n</table>\n<p>80 rows × 2 columns</p>\n</div>"
     },
     "execution_count": 1,
     "metadata": {},
     "output_type": "execute_result"
    }
   ],
   "source": [
    "\n",
    "\n",
    "# загружаем необходимые модули и библиотеки\n",
    "import re\n",
    "import requests\n",
    "import pandas as pd\n",
    "from bs4 import BeautifulSoup\n",
    "from urllib.request import Request, urlopen\n",
    "\n",
    "#проверяем доступность сайта\n",
    "games_stav = ['football', 'hockey', 'tennis', 'basketball']\n",
    "links = []\n",
    "for game in games_stav:\n",
    "    req = Request(\n",
    "        url='https://stavkiprognozy.ru/prognozy/tennis/',\n",
    "        headers={'User-Agent': 'Mozilla/5.0'}\n",
    "    )\n",
    "    website_url = urlopen(req).read()\n",
    "    soup = BeautifulSoup(website_url, 'lxml')\n",
    "    news_link = soup.find_all('div', class_='box-item-body announce-item-body')\n",
    "    for news in news_link:\n",
    "        links.append(\n",
    "            {\n",
    "                'link': 'https://stavkiprognozy.ru' + news.find('a').get('href'),\n",
    "                'text': news.find_next('div', class_='single-announce-team-title').get_text()\n",
    "            })\n",
    "df1 = pd.DataFrame(links)\n",
    "df1"
   ],
   "metadata": {
    "collapsed": false,
    "pycharm": {
     "name": "#%%\n"
    }
   }
  },
  {
   "cell_type": "code",
   "execution_count": 19,
   "outputs": [
    {
     "data": {
      "text/plain": "                                                link                 text\n5  https://stavkiprognozy.ru/prognozy/tennis/turn...  бублик - крайинович",
      "text/html": "<div>\n<style scoped>\n    .dataframe tbody tr th:only-of-type {\n        vertical-align: middle;\n    }\n\n    .dataframe tbody tr th {\n        vertical-align: top;\n    }\n\n    .dataframe thead th {\n        text-align: right;\n    }\n</style>\n<table border=\"1\" class=\"dataframe\">\n  <thead>\n    <tr style=\"text-align: right;\">\n      <th></th>\n      <th>link</th>\n      <th>text</th>\n    </tr>\n  </thead>\n  <tbody>\n    <tr>\n      <th>5</th>\n      <td>https://stavkiprognozy.ru/prognozy/tennis/turn...</td>\n      <td>бублик - крайинович</td>\n    </tr>\n  </tbody>\n</table>\n</div>"
     },
     "execution_count": 19,
     "metadata": {},
     "output_type": "execute_result"
    }
   ],
   "source": [
    "df2 = pd.DataFrame()\n",
    "key_words = ['буб', 'Кра']\n",
    "key_words = [item.lower() for item in key_words]\n",
    "df1.text = [item.lower() for item in df1.text]\n",
    "for line in df1.text:\n",
    "    if all(word in line for word in key_words):\n",
    "        df0 = df1[df1.text.str.contains(line)]\n",
    "        df2 = pd.concat([df2, df0], axis= 0 ).drop_duplicates ()\n",
    "df2"
   ],
   "metadata": {
    "collapsed": false,
    "pycharm": {
     "name": "#%%\n"
    }
   }
  },
  {
   "cell_type": "code",
   "execution_count": 21,
   "outputs": [
    {
     "name": "stdout",
     "output_type": "stream",
     "text": [
      "Александр Бублик опустился на 50 строчку в рейтинговой таблице по версии ATP. Казахстанский спортсмен не может выиграть на протяжении длительного отрезка времени. У него в активе 0 побед в рамках данного игрового сезона. Казахстанец ничего не смог противопоставить Станиславу Вавринке в прошлом поединке.\n",
      " Филип Крайинович является 69 ракеткой мира. Сербский спортсмен проявил себя с лучшей стороны в Пуне, там он вышел в четвертьфинальную стадию, где его остановил Бенджамин Бонци. Мы видим, что серб слабо отыгрывает против профессиональных хардовиков, однако он способен конкурировать с равными по силе оппонентами.\n",
      " Первый и последний раз эти соперники пересекались в прошлом году в рамках Монпелье на харде, тогда уроженец Казахстана вышел победителем в двух сетах. Сейчас же сербский спортсмен способен поквитаться со своим визави. Александр Бублик раньше специализировался на харде, а потом перестал уделять должное внимание тренировкам.\n",
      " Я предлагаю рискнуть и поставить на победу теннисиста из Сербии. Он показывает более качественный и уверенный теннис на харде в последнее время, чем его противник. Казахстанский спортсмен совсем уже расслабился. Он совершенно не умеет держать свою подачу, при этом допускает немалое количество ошибок на приеме. Именно поэтому Бублик проиграл 10 поединков кряду.\n",
      " \n",
      "\n"
     ]
    }
   ],
   "source": [
    "news = ''\n",
    "for link in df2.link:\n",
    "    req = Request(\n",
    "        url=link,\n",
    "        headers={'User-Agent': 'Mozilla/5.0'}\n",
    "    )\n",
    "    website_url = urlopen(req).read()\n",
    "    soup = BeautifulSoup(website_url, 'lxml')\n",
    "\n",
    "    article_body = soup.find(\"div\", itemtype=\"http://schema.org/SportsEvent\")\n",
    "    for td in article_body.find_all('p'):\n",
    "        news += str(td.text) + '\\n '\n",
    "    news = news+'\\n'\n",
    "\n",
    "print (news)"
   ],
   "metadata": {
    "collapsed": false,
    "pycharm": {
     "name": "#%%\n"
    }
   }
  },
  {
   "cell_type": "code",
   "execution_count": null,
   "outputs": [],
   "source": [],
   "metadata": {
    "collapsed": false,
    "pycharm": {
     "name": "#%%\n"
    }
   }
  }
 ],
 "metadata": {
  "kernelspec": {
   "display_name": "Python 3",
   "language": "python",
   "name": "python3"
  },
  "language_info": {
   "codemirror_mode": {
    "name": "ipython",
    "version": 2
   },
   "file_extension": ".py",
   "mimetype": "text/x-python",
   "name": "python",
   "nbconvert_exporter": "python",
   "pygments_lexer": "ipython2",
   "version": "2.7.6"
  }
 },
 "nbformat": 4,
 "nbformat_minor": 0
}