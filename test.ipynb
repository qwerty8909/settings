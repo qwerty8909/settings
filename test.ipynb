{
 "cells": [
  {
   "cell_type": "code",
   "execution_count": 150,
   "outputs": [],
   "source": [
    "import pandas as pd\n",
    "import sqlite3\n",
    "\n",
    "con = sqlite3.connect(\"test.db\")\n",
    "file_location = r'C:\\Users\\vitalii\\IdeaProjects\\settings\\bagration\\lk.xlsx'"
   ],
   "metadata": {
    "collapsed": false,
    "pycharm": {
     "name": "#%%\n"
    }
   }
  },
  {
   "cell_type": "code",
   "execution_count": 133,
   "outputs": [],
   "source": [
    "df = pd.read_excel(file_location, header=2,  dtype={ 1 : str})\n",
    "df = df[['Unnamed: 0',\n",
    "       'Unnamed: 1',\n",
    "       'Предыдущее показание',\n",
    "       'Текущее показание',\n",
    "       'Дата следующей поверки',\n",
    "       'Предыдущее показание.1',\n",
    "       'Текущее показание.1',\n",
    "       'Дата следующей поверки.1',\n",
    "       'Предыдущее показание.2',\n",
    "       'Текущее показание.2',\n",
    "       'Дата следующей поверки.2',\n",
    "       'Предыдущее показание.3',\n",
    "       'Текущее показание.3',\n",
    "       'Дата следующей поверки.3',\n",
    "       'Предыдущее показание.4',\n",
    "       'Текущее показание.4',\n",
    "       'Дата следующей поверки.4',\n",
    "       'Предыдущее показание.5',\n",
    "       'Текущее показание.5',\n",
    "       'Дата следующей поверки.5',\n",
    "]]\n",
    "df.columns = ['address',\n",
    "              'account',\n",
    "              'heat_last',\n",
    "              'heat_now',\n",
    "              'heat_date',\n",
    "              'cold_1_last',\n",
    "              'cold_1_now',\n",
    "              'cold_1_date',\n",
    "              'cold_2_last',\n",
    "              'cold_2_now',\n",
    "              'cold_2_date',\n",
    "              'hot_1_last',\n",
    "              'hot_1_now',\n",
    "              'hot_1_date',\n",
    "              'hot_2_last',\n",
    "              'hot_2_now',\n",
    "              'hot_2_date',\n",
    "              'power_last',\n",
    "              'power_now',\n",
    "              'power_date',\n",
    "              ]\n",
    "df.insert(2, \"id\", None)"
   ],
   "metadata": {
    "collapsed": false,
    "pycharm": {
     "name": "#%%\n"
    }
   }
  },
  {
   "cell_type": "code",
   "execution_count": 60,
   "outputs": [
    {
     "name": "stdout",
     "output_type": "stream",
     "text": [
      "2    Квартира 3\n",
      "Name: address, dtype: object\n"
     ]
    }
   ],
   "source": [
    "print(df['address'].loc[df['account'] == '30000552900'])"
   ],
   "metadata": {
    "collapsed": false,
    "pycharm": {
     "name": "#%%\n"
    }
   }
  },
  {
   "cell_type": "code",
   "execution_count": 107,
   "outputs": [
    {
     "data": {
      "text/plain": "          address      account    id  heat_last  heat_now  heat_date  \\\n0      Квартира 1  30000552700  None     10.033       NaN 2023-04-30   \n1      Квартира 2  30000552800  None     12.260       NaN 2023-04-30   \n2      Квартира 3  30000552900  None      6.311       NaN 2023-04-30   \n3      Квартира 4  30000553000  None      7.439       NaN 2023-04-30   \n4      Квартира 5  30000553100  None      0.127       NaN 2023-04-30   \n..            ...          ...   ...        ...       ...        ...   \n481  Кладовка 101  30000600600  None        NaN       NaN        NaT   \n482  Кладовка 102  30000600700  None        NaN       NaN        NaT   \n483  Кладовка 103  30000600800  None        NaN       NaN        NaT   \n484  Кладовка 104  30000600900  None        NaN       NaN        NaT   \n485         Итого          NaN  None        NaN       NaN        NaT   \n\n     cold_1_last  cold_1_now cold_1_date  cold_2_last  ...  cold_2_date  \\\n0         81.000         NaN  2026-04-19       16.000  ...   2028-07-12   \n1         16.360         NaN  2026-04-19       22.000  ...   2026-04-19   \n2          0.186         NaN  2026-04-19        4.182  ...   2026-04-19   \n3         87.431         NaN  2027-10-04          NaN  ...          NaT   \n4          0.000         NaN  2026-04-19          NaN  ...          NaT   \n..           ...         ...         ...          ...  ...          ...   \n481          NaN         NaN         NaT          NaN  ...          NaT   \n482          NaN         NaN         NaT          NaN  ...          NaT   \n483          NaN         NaN         NaT          NaN  ...          NaT   \n484          NaN         NaN         NaT          NaN  ...          NaT   \n485          NaN         NaN         NaT          NaN  ...          NaT   \n\n    hot_1_last  hot_1_now  hot_1_date hot_2_last  hot_2_now  hot_2_date  \\\n0       28.000        NaN  2026-04-19      9.000        NaN  2028-07-12   \n1       10.600        NaN  2026-04-19      8.350        NaN  2026-04-19   \n2        1.120        NaN  2026-04-19      2.885        NaN  2026-04-19   \n3       38.778        NaN  2026-04-19        NaN        NaN         NaT   \n4        0.000        NaN  2026-04-19        NaN        NaN         NaT   \n..         ...        ...         ...        ...        ...         ...   \n481        NaN        NaN         NaT        NaN        NaN         NaT   \n482        NaN        NaN         NaT        NaN        NaN         NaT   \n483        NaN        NaN         NaT        NaN        NaN         NaT   \n484        NaN        NaN         NaT        NaN        NaN         NaT   \n485        NaN        NaN         NaT        NaN        NaN         NaT   \n\n    power_last  power_now  power_date  \n0      3194.00        NaN  2036-05-24  \n1      1441.00        NaN  2036-05-24  \n2       167.00        NaN  2036-05-24  \n3      2686.00        NaN  2036-05-24  \n4         0.00        NaN  2036-05-24  \n..         ...        ...         ...  \n481      17.53        NaN         NaT  \n482      20.49        NaN         NaT  \n483      12.51        NaN         NaT  \n484      22.01        NaN         NaT  \n485        NaN        NaN         NaT  \n\n[486 rows x 21 columns]",
      "text/html": "<div>\n<style scoped>\n    .dataframe tbody tr th:only-of-type {\n        vertical-align: middle;\n    }\n\n    .dataframe tbody tr th {\n        vertical-align: top;\n    }\n\n    .dataframe thead th {\n        text-align: right;\n    }\n</style>\n<table border=\"1\" class=\"dataframe\">\n  <thead>\n    <tr style=\"text-align: right;\">\n      <th></th>\n      <th>address</th>\n      <th>account</th>\n      <th>id</th>\n      <th>heat_last</th>\n      <th>heat_now</th>\n      <th>heat_date</th>\n      <th>cold_1_last</th>\n      <th>cold_1_now</th>\n      <th>cold_1_date</th>\n      <th>cold_2_last</th>\n      <th>...</th>\n      <th>cold_2_date</th>\n      <th>hot_1_last</th>\n      <th>hot_1_now</th>\n      <th>hot_1_date</th>\n      <th>hot_2_last</th>\n      <th>hot_2_now</th>\n      <th>hot_2_date</th>\n      <th>power_last</th>\n      <th>power_now</th>\n      <th>power_date</th>\n    </tr>\n  </thead>\n  <tbody>\n    <tr>\n      <th>0</th>\n      <td>Квартира 1</td>\n      <td>30000552700</td>\n      <td>None</td>\n      <td>10.033</td>\n      <td>NaN</td>\n      <td>2023-04-30</td>\n      <td>81.000</td>\n      <td>NaN</td>\n      <td>2026-04-19</td>\n      <td>16.000</td>\n      <td>...</td>\n      <td>2028-07-12</td>\n      <td>28.000</td>\n      <td>NaN</td>\n      <td>2026-04-19</td>\n      <td>9.000</td>\n      <td>NaN</td>\n      <td>2028-07-12</td>\n      <td>3194.00</td>\n      <td>NaN</td>\n      <td>2036-05-24</td>\n    </tr>\n    <tr>\n      <th>1</th>\n      <td>Квартира 2</td>\n      <td>30000552800</td>\n      <td>None</td>\n      <td>12.260</td>\n      <td>NaN</td>\n      <td>2023-04-30</td>\n      <td>16.360</td>\n      <td>NaN</td>\n      <td>2026-04-19</td>\n      <td>22.000</td>\n      <td>...</td>\n      <td>2026-04-19</td>\n      <td>10.600</td>\n      <td>NaN</td>\n      <td>2026-04-19</td>\n      <td>8.350</td>\n      <td>NaN</td>\n      <td>2026-04-19</td>\n      <td>1441.00</td>\n      <td>NaN</td>\n      <td>2036-05-24</td>\n    </tr>\n    <tr>\n      <th>2</th>\n      <td>Квартира 3</td>\n      <td>30000552900</td>\n      <td>None</td>\n      <td>6.311</td>\n      <td>NaN</td>\n      <td>2023-04-30</td>\n      <td>0.186</td>\n      <td>NaN</td>\n      <td>2026-04-19</td>\n      <td>4.182</td>\n      <td>...</td>\n      <td>2026-04-19</td>\n      <td>1.120</td>\n      <td>NaN</td>\n      <td>2026-04-19</td>\n      <td>2.885</td>\n      <td>NaN</td>\n      <td>2026-04-19</td>\n      <td>167.00</td>\n      <td>NaN</td>\n      <td>2036-05-24</td>\n    </tr>\n    <tr>\n      <th>3</th>\n      <td>Квартира 4</td>\n      <td>30000553000</td>\n      <td>None</td>\n      <td>7.439</td>\n      <td>NaN</td>\n      <td>2023-04-30</td>\n      <td>87.431</td>\n      <td>NaN</td>\n      <td>2027-10-04</td>\n      <td>NaN</td>\n      <td>...</td>\n      <td>NaT</td>\n      <td>38.778</td>\n      <td>NaN</td>\n      <td>2026-04-19</td>\n      <td>NaN</td>\n      <td>NaN</td>\n      <td>NaT</td>\n      <td>2686.00</td>\n      <td>NaN</td>\n      <td>2036-05-24</td>\n    </tr>\n    <tr>\n      <th>4</th>\n      <td>Квартира 5</td>\n      <td>30000553100</td>\n      <td>None</td>\n      <td>0.127</td>\n      <td>NaN</td>\n      <td>2023-04-30</td>\n      <td>0.000</td>\n      <td>NaN</td>\n      <td>2026-04-19</td>\n      <td>NaN</td>\n      <td>...</td>\n      <td>NaT</td>\n      <td>0.000</td>\n      <td>NaN</td>\n      <td>2026-04-19</td>\n      <td>NaN</td>\n      <td>NaN</td>\n      <td>NaT</td>\n      <td>0.00</td>\n      <td>NaN</td>\n      <td>2036-05-24</td>\n    </tr>\n    <tr>\n      <th>...</th>\n      <td>...</td>\n      <td>...</td>\n      <td>...</td>\n      <td>...</td>\n      <td>...</td>\n      <td>...</td>\n      <td>...</td>\n      <td>...</td>\n      <td>...</td>\n      <td>...</td>\n      <td>...</td>\n      <td>...</td>\n      <td>...</td>\n      <td>...</td>\n      <td>...</td>\n      <td>...</td>\n      <td>...</td>\n      <td>...</td>\n      <td>...</td>\n      <td>...</td>\n      <td>...</td>\n    </tr>\n    <tr>\n      <th>481</th>\n      <td>Кладовка 101</td>\n      <td>30000600600</td>\n      <td>None</td>\n      <td>NaN</td>\n      <td>NaN</td>\n      <td>NaT</td>\n      <td>NaN</td>\n      <td>NaN</td>\n      <td>NaT</td>\n      <td>NaN</td>\n      <td>...</td>\n      <td>NaT</td>\n      <td>NaN</td>\n      <td>NaN</td>\n      <td>NaT</td>\n      <td>NaN</td>\n      <td>NaN</td>\n      <td>NaT</td>\n      <td>17.53</td>\n      <td>NaN</td>\n      <td>NaT</td>\n    </tr>\n    <tr>\n      <th>482</th>\n      <td>Кладовка 102</td>\n      <td>30000600700</td>\n      <td>None</td>\n      <td>NaN</td>\n      <td>NaN</td>\n      <td>NaT</td>\n      <td>NaN</td>\n      <td>NaN</td>\n      <td>NaT</td>\n      <td>NaN</td>\n      <td>...</td>\n      <td>NaT</td>\n      <td>NaN</td>\n      <td>NaN</td>\n      <td>NaT</td>\n      <td>NaN</td>\n      <td>NaN</td>\n      <td>NaT</td>\n      <td>20.49</td>\n      <td>NaN</td>\n      <td>NaT</td>\n    </tr>\n    <tr>\n      <th>483</th>\n      <td>Кладовка 103</td>\n      <td>30000600800</td>\n      <td>None</td>\n      <td>NaN</td>\n      <td>NaN</td>\n      <td>NaT</td>\n      <td>NaN</td>\n      <td>NaN</td>\n      <td>NaT</td>\n      <td>NaN</td>\n      <td>...</td>\n      <td>NaT</td>\n      <td>NaN</td>\n      <td>NaN</td>\n      <td>NaT</td>\n      <td>NaN</td>\n      <td>NaN</td>\n      <td>NaT</td>\n      <td>12.51</td>\n      <td>NaN</td>\n      <td>NaT</td>\n    </tr>\n    <tr>\n      <th>484</th>\n      <td>Кладовка 104</td>\n      <td>30000600900</td>\n      <td>None</td>\n      <td>NaN</td>\n      <td>NaN</td>\n      <td>NaT</td>\n      <td>NaN</td>\n      <td>NaN</td>\n      <td>NaT</td>\n      <td>NaN</td>\n      <td>...</td>\n      <td>NaT</td>\n      <td>NaN</td>\n      <td>NaN</td>\n      <td>NaT</td>\n      <td>NaN</td>\n      <td>NaN</td>\n      <td>NaT</td>\n      <td>22.01</td>\n      <td>NaN</td>\n      <td>NaT</td>\n    </tr>\n    <tr>\n      <th>485</th>\n      <td>Итого</td>\n      <td>NaN</td>\n      <td>None</td>\n      <td>NaN</td>\n      <td>NaN</td>\n      <td>NaT</td>\n      <td>NaN</td>\n      <td>NaN</td>\n      <td>NaT</td>\n      <td>NaN</td>\n      <td>...</td>\n      <td>NaT</td>\n      <td>NaN</td>\n      <td>NaN</td>\n      <td>NaT</td>\n      <td>NaN</td>\n      <td>NaN</td>\n      <td>NaT</td>\n      <td>NaN</td>\n      <td>NaN</td>\n      <td>NaT</td>\n    </tr>\n  </tbody>\n</table>\n<p>486 rows × 21 columns</p>\n</div>"
     },
     "execution_count": 107,
     "metadata": {},
     "output_type": "execute_result"
    }
   ],
   "source": [
    "df"
   ],
   "metadata": {
    "collapsed": false,
    "pycharm": {
     "name": "#%%\n"
    }
   }
  },
  {
   "cell_type": "code",
   "execution_count": 108,
   "outputs": [
    {
     "data": {
      "text/plain": "486"
     },
     "execution_count": 108,
     "metadata": {},
     "output_type": "execute_result"
    }
   ],
   "source": [
    "df.to_sql('bagration', con, if_exists='replace')"
   ],
   "metadata": {
    "collapsed": false,
    "pycharm": {
     "name": "#%%\n"
    }
   }
  },
  {
   "cell_type": "code",
   "execution_count": 152,
   "outputs": [
    {
     "data": {
      "text/plain": "[(None,),\n (None,),\n (None,),\n (None,),\n (None,),\n (None,),\n (None,),\n (None,),\n (None,),\n (None,),\n (None,),\n (None,),\n (None,),\n (None,),\n (None,),\n (None,),\n (None,),\n (None,),\n (None,),\n (None,),\n (None,),\n (None,),\n (None,),\n (None,),\n (None,),\n (None,),\n (None,),\n (None,),\n (None,),\n (None,),\n (None,),\n (None,),\n (None,),\n (None,),\n (None,),\n (None,),\n (None,),\n (None,),\n (None,),\n (None,),\n (None,),\n (None,),\n (None,),\n (None,),\n (None,),\n (None,),\n (None,),\n (None,),\n (None,),\n (None,),\n (None,),\n (None,),\n (None,),\n (None,),\n (None,),\n (None,),\n (None,),\n (None,),\n (None,),\n (None,),\n (None,),\n (None,),\n (None,),\n (None,),\n (None,),\n (None,),\n (None,),\n (None,),\n (None,),\n (None,),\n (None,),\n (None,),\n (None,),\n (None,),\n (None,),\n (None,),\n (None,),\n (None,),\n (None,),\n (None,),\n (None,),\n (None,),\n (None,),\n (None,),\n (None,),\n (None,),\n (None,),\n (None,),\n (None,),\n (None,),\n (None,),\n (None,),\n (None,),\n (None,),\n (None,),\n (None,),\n (None,),\n ('328854598',),\n (None,),\n (None,),\n (None,),\n (None,),\n (None,),\n (None,),\n (None,),\n (None,),\n (None,),\n (None,),\n (None,),\n (None,),\n (None,),\n (None,),\n (None,),\n (None,),\n (None,),\n (None,),\n (None,),\n (None,),\n (None,),\n (None,),\n (None,),\n (None,),\n (None,),\n (None,),\n (None,),\n (None,),\n (None,),\n (None,),\n (None,),\n (None,),\n (None,),\n (None,),\n (None,),\n (None,),\n (None,),\n (None,),\n (None,),\n (None,),\n (None,),\n (None,),\n (None,),\n (None,),\n (None,),\n (None,),\n (None,),\n (None,),\n (None,),\n (None,),\n (None,),\n (None,),\n (None,),\n (None,),\n (None,),\n (None,),\n (None,),\n (None,),\n (None,),\n (None,),\n (None,),\n (None,),\n (None,),\n (None,),\n (None,),\n (None,),\n (None,),\n (None,),\n (None,),\n (None,),\n (None,),\n (None,),\n (None,),\n (None,),\n (None,),\n (None,),\n (None,),\n (None,),\n (None,),\n (None,),\n (None,),\n (None,),\n (None,),\n (None,),\n (None,),\n (None,),\n (None,),\n (None,),\n (None,),\n (None,),\n (None,),\n (None,),\n (None,),\n (None,),\n (None,),\n (None,),\n (None,),\n (None,),\n (None,),\n (None,),\n (None,),\n (None,),\n (None,),\n (None,),\n (None,),\n (None,),\n (None,),\n (None,),\n (None,),\n (None,),\n (None,),\n (None,),\n (None,),\n (None,),\n (None,),\n (None,),\n (None,),\n (None,),\n (None,),\n (None,),\n (None,),\n (None,),\n (None,),\n (None,),\n (None,),\n (None,),\n (None,),\n (None,),\n (None,),\n (None,),\n (None,),\n (None,),\n (None,),\n (None,),\n (None,),\n (None,),\n (None,),\n (None,),\n (None,),\n (None,),\n (None,),\n (None,),\n (None,),\n (None,),\n (None,),\n (None,),\n (None,),\n (None,),\n (None,),\n (None,),\n (None,),\n (None,),\n (None,),\n (None,),\n (None,),\n (None,),\n (None,),\n (None,),\n (None,),\n (None,),\n (None,),\n (None,),\n (None,),\n (None,),\n (None,),\n (None,),\n (None,),\n (None,),\n (None,),\n (None,),\n (None,),\n (None,),\n (None,),\n (None,),\n (None,),\n (None,),\n (None,),\n (None,),\n (None,),\n (None,),\n (None,),\n (None,),\n (None,),\n (None,),\n (None,),\n (None,),\n (None,),\n (None,),\n (None,),\n (None,),\n (None,),\n (None,),\n (None,),\n (None,),\n (None,),\n (None,),\n (None,),\n (None,),\n (None,),\n (None,),\n (None,),\n (None,),\n (None,),\n (None,),\n (None,),\n (None,),\n (None,),\n (None,),\n (None,),\n (None,),\n (None,),\n (None,),\n (None,),\n (None,),\n (None,),\n (None,),\n (None,),\n (None,),\n (None,),\n (None,),\n (None,),\n (None,),\n (None,),\n (None,),\n (None,),\n (None,),\n (None,),\n (None,),\n (None,),\n (None,),\n (None,),\n (None,),\n (None,),\n (None,),\n (None,),\n (None,),\n (None,),\n (None,),\n (None,),\n (None,),\n (None,),\n (None,),\n (None,),\n (None,),\n (None,),\n (None,),\n (None,),\n (None,),\n (None,),\n (None,),\n (None,),\n (None,),\n (None,),\n (None,),\n (None,),\n (None,),\n (None,),\n (None,),\n (None,),\n (None,),\n (None,),\n (None,),\n (None,),\n (None,),\n (None,),\n (None,),\n (None,),\n (None,),\n (None,),\n (None,),\n (None,),\n (None,),\n (None,),\n (None,),\n (None,),\n (None,),\n (None,),\n (None,),\n (None,),\n (None,),\n (None,),\n (None,),\n (None,),\n (None,),\n (None,),\n (None,),\n (None,),\n (None,),\n (None,),\n (None,),\n (None,),\n (None,),\n (None,),\n (None,),\n (None,),\n (None,),\n (None,),\n (None,),\n (None,),\n (None,),\n (None,),\n (None,),\n (None,),\n (None,),\n (None,),\n (None,),\n (None,),\n (None,),\n (None,),\n (None,),\n (None,),\n (None,),\n (None,),\n (None,),\n (None,),\n (None,),\n (None,),\n (None,),\n (None,),\n (None,),\n (None,),\n (None,),\n (None,),\n (None,),\n (None,),\n (None,),\n (None,),\n (None,),\n (None,),\n (None,),\n (None,),\n (None,),\n (None,),\n (None,),\n (None,),\n (None,),\n (None,),\n (None,),\n (None,),\n (None,),\n (None,),\n (None,),\n (None,),\n (None,),\n (None,),\n (None,),\n (None,),\n (None,),\n (None,),\n (None,),\n (None,),\n (None,),\n (None,),\n (None,),\n (None,),\n (None,),\n (None,),\n (None,),\n (None,),\n (None,),\n (None,),\n (None,),\n (None,),\n (None,),\n (None,),\n (None,),\n (None,),\n (None,),\n (None,),\n (None,),\n (None,),\n (None,),\n (None,),\n (None,),\n (None,),\n (None,),\n (None,),\n (None,),\n (None,),\n (None,),\n (None,),\n (None,),\n (None,),\n (None,),\n (None,),\n (None,),\n (None,),\n (None,)]"
     },
     "execution_count": 152,
     "metadata": {},
     "output_type": "execute_result"
    }
   ],
   "source": [
    "# Создаем курсор\n",
    "cur = con.cursor()\n",
    "\n",
    "# Создаем таблицу с именем transcript\n",
    "list(cur.execute(\"SELECT id FROM bagration;\"))"
   ],
   "metadata": {
    "collapsed": false,
    "pycharm": {
     "name": "#%%\n"
    }
   }
  },
  {
   "cell_type": "code",
   "execution_count": 155,
   "outputs": [
    {
     "name": "stdout",
     "output_type": "stream",
     "text": [
      "True\n"
     ]
    }
   ],
   "source": [
    "if ('328854598',) in cur.execute(\"SELECT id FROM bagration;\"):\n",
    "    print(True)\n",
    "else:\n",
    "    print(False)"
   ],
   "metadata": {
    "collapsed": false,
    "pycharm": {
     "name": "#%%\n"
    }
   }
  },
  {
   "cell_type": "code",
   "execution_count": 156,
   "outputs": [],
   "source": [
    "con.commit()\n",
    "con.close()"
   ],
   "metadata": {
    "collapsed": false,
    "pycharm": {
     "name": "#%%\n"
    }
   }
  },
  {
   "cell_type": "code",
   "execution_count": 141,
   "outputs": [
    {
     "ename": "ProgrammingError",
     "evalue": "Cannot operate on a closed database.",
     "output_type": "error",
     "traceback": [
      "\u001B[1;31m---------------------------------------------------------------------------\u001B[0m",
      "\u001B[1;31mProgrammingError\u001B[0m                          Traceback (most recent call last)",
      "Input \u001B[1;32mIn [141]\u001B[0m, in \u001B[0;36m<cell line: 1>\u001B[1;34m()\u001B[0m\n\u001B[1;32m----> 1\u001B[0m \u001B[38;5;28;43mlist\u001B[39;49m\u001B[43m(\u001B[49m\u001B[43mcur\u001B[49m\u001B[43m)\u001B[49m[\u001B[38;5;241m0\u001B[39m][\u001B[38;5;241m0\u001B[39m]\n",
      "\u001B[1;31mProgrammingError\u001B[0m: Cannot operate on a closed database."
     ]
    }
   ],
   "source": [
    "list(cur)[0][0]"
   ],
   "metadata": {
    "collapsed": false,
    "pycharm": {
     "name": "#%%\n"
    }
   }
  },
  {
   "cell_type": "code",
   "execution_count": 112,
   "outputs": [
    {
     "data": {
      "text/plain": "address                object\naccount                object\nid                     object\nheat_last             float64\nheat_now              float64\nheat_date      datetime64[ns]\ncold_1_last           float64\ncold_1_now            float64\ncold_1_date    datetime64[ns]\ncold_2_last           float64\ncold_2_now            float64\ncold_2_date    datetime64[ns]\nhot_1_last            float64\nhot_1_now             float64\nhot_1_date     datetime64[ns]\nhot_2_last            float64\nhot_2_now             float64\nhot_2_date     datetime64[ns]\npower_last            float64\npower_now             float64\npower_date     datetime64[ns]\ndtype: object"
     },
     "execution_count": 112,
     "metadata": {},
     "output_type": "execute_result"
    }
   ],
   "source": [
    "df.dtypes"
   ],
   "metadata": {
    "collapsed": false,
    "pycharm": {
     "name": "#%%\n"
    }
   }
  },
  {
   "cell_type": "code",
   "execution_count": null,
   "outputs": [],
   "source": [
    "\"UPDATE bagration SET id = 18 WHERE account = 17\""
   ],
   "metadata": {
    "collapsed": false,
    "pycharm": {
     "name": "#%%\n"
    }
   }
  },
  {
   "cell_type": "code",
   "execution_count": null,
   "outputs": [],
   "source": [],
   "metadata": {
    "collapsed": false,
    "pycharm": {
     "name": "#%%\n"
    }
   }
  },
  {
   "cell_type": "code",
   "execution_count": 142,
   "outputs": [],
   "source": [
    "def sqlite_request(request):\n",
    "    con = sqlite3.connect(\"test.db\")\n",
    "    cur = con.cursor()\n",
    "    cur.execute(request)\n",
    "    result = cur.fetchall()\n",
    "    con.commit()\n",
    "    con.close()\n",
    "    return result"
   ],
   "metadata": {
    "collapsed": false,
    "pycharm": {
     "name": "#%%\n"
    }
   }
  },
  {
   "cell_type": "code",
   "execution_count": 148,
   "outputs": [
    {
     "name": "stdout",
     "output_type": "stream",
     "text": [
      "False\n"
     ]
    }
   ],
   "source": [
    "if ((\"30000559400\"),) not in sqlite_request(\"SELECT account FROM bagration;\"):\n",
    "    print(True)\n",
    "else:\n",
    "    print(False)"
   ],
   "metadata": {
    "collapsed": false,
    "pycharm": {
     "name": "#%%\n"
    }
   }
  },
  {
   "cell_type": "code",
   "execution_count": null,
   "outputs": [],
   "source": [],
   "metadata": {
    "collapsed": false,
    "pycharm": {
     "name": "#%%\n"
    }
   }
  },
  {
   "cell_type": "code",
   "execution_count": null,
   "outputs": [],
   "source": [],
   "metadata": {
    "collapsed": false,
    "pycharm": {
     "name": "#%%\n"
    }
   }
  },
  {
   "cell_type": "code",
   "execution_count": null,
   "outputs": [],
   "source": [],
   "metadata": {
    "collapsed": false,
    "pycharm": {
     "name": "#%%\n"
    }
   }
  },
  {
   "cell_type": "code",
   "execution_count": null,
   "outputs": [],
   "source": [],
   "metadata": {
    "collapsed": false,
    "pycharm": {
     "name": "#%%\n"
    }
   }
  },
  {
   "cell_type": "code",
   "execution_count": null,
   "outputs": [],
   "source": [
    "from aiogram import Bot, Dispatcher, types\n",
    "from aiogram.dispatcher import FSMContext\n",
    "from aiogram.dispatcher.filters.state import State, StatesGroup\n",
    "from aiogram.contrib.fsm_storage.memory import MemoryStorage\n",
    "\n",
    "bot = Bot(telegram_token)\n",
    "storage = MemoryStorage()\n",
    "dp = Dispatcher(bot, storage=storage)\n",
    "\n",
    "class PromptState(StatesGroup):\n",
    "    prompt_cold = State()\n",
    "    prompt_hot = State()\n",
    "\n",
    "@dp.message_handler(lambda message: message.text == '0')\n",
    "async def counters_button(message: types.Message):\n",
    "    await message.answer(\"hello\")\n",
    "\n",
    "\n",
    "async def handle_indication_button(message: types.Message, state: State):\n",
    "    num_a = 4\n",
    "    num_b = 6\n",
    "    await message.answer(num_b-num_a)\n",
    "    await state.set()\n",
    "\n",
    "\n",
    "async def handle_counter_check(message: types.Message, state: FSMContext):\n",
    "    await state.finish()\n",
    "    await message.answer(num_b+num_a)\n",
    "\n",
    "\n",
    "@dp.message_handler(lambda message: message.text in ['1', '2'], state='*')\n",
    "async def indication_button_handler(message: types.Message, state: FSMContext):\n",
    "    if message.text == '1':\n",
    "        await handle_indication_button(message, PromptState.prompt_cold)\n",
    "    elif message.text == '2':\n",
    "        await handle_indication_button(message, PromptState.prompt_hot)\n",
    "\n",
    "\n",
    "\n",
    "@dp.message_handler(state=PromptState, content_types=types.ContentTypes.TEXT)\n",
    "async def counter_check_handler(message: types.Message, state: FSMContext):\n",
    "    await handle_counter_check(message, state)"
   ],
   "metadata": {
    "collapsed": false,
    "pycharm": {
     "name": "#%%\n"
    }
   }
  }
 ],
 "metadata": {
  "kernelspec": {
   "display_name": "Python 3",
   "language": "python",
   "name": "python3"
  },
  "language_info": {
   "codemirror_mode": {
    "name": "ipython",
    "version": 2
   },
   "file_extension": ".py",
   "mimetype": "text/x-python",
   "name": "python",
   "nbconvert_exporter": "python",
   "pygments_lexer": "ipython2",
   "version": "2.7.6"
  }
 },
 "nbformat": 4,
 "nbformat_minor": 0
}